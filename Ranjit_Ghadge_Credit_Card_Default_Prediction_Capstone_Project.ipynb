{
  "cells": [
    {
      "cell_type": "markdown",
      "metadata": {
        "id": "view-in-github",
        "colab_type": "text"
      },
      "source": [
        "<a href=\"https://colab.research.google.com/github/Ranjitghadge/Credit-Card-Default-Prediction-/blob/main/Ranjit_Ghadge_Credit_Card_Default_Prediction_Capstone_Project.ipynb\" target=\"_parent\"><img src=\"https://colab.research.google.com/assets/colab-badge.svg\" alt=\"Open In Colab\"/></a>"
      ]
    },
    {
      "cell_type": "markdown",
      "metadata": {
        "id": "tOGC-qoyhJeX"
      },
      "source": [
        "# <b><u> Project Title : Predicting whether a customer will default on his/her credit card </u></b>"
      ]
    },
    {
      "cell_type": "markdown",
      "metadata": {
        "id": "Y06xIdG26kRF"
      },
      "source": [
        "## <b> Problem Description </b>\n",
        "\n",
        "This project is aimed at predicting the case of customers default payments in Taiwan. From the perspective of risk management, the result of predictive accuracy of the estimated probability of default will be more valuable than the binary result of classification - credible or not credible clients. We can use the [K-S chart](https://www.listendata.com/2019/07/KS-Statistics-Python.html) to evaluate which customers will default on their credit card payments\n"
      ]
    },
    {
      "cell_type": "markdown",
      "metadata": {
        "id": "AlLxAtlziMbP"
      },
      "source": [
        "## <b> Data Description </b>\n",
        "\n",
        "### <b>Attribute Information: </b>\n",
        "\n",
        "### This research employed a binary variable, default payment (Yes = 1, No = 0), as the response variable. This study reviewed the literature and used the following 23 variables as explanatory variables:\n",
        "* ### X1: Amount of the given credit (NT dollar): it includes both the individual consumer credit and his/her family (supplementary) credit.\n",
        "* ### X2: Gender (1 = male; 2 = female).\n",
        "* ### X3: Education (1 = graduate school; 2 = university; 3 = high school; 4 = others).\n",
        "* ### X4: Marital status (1 = married; 2 = single; 3 = others).\n",
        "* ### X5: Age (year).\n",
        "* ### X6 - X11: History of past payment. We tracked the past monthly payment records (from April to September, 2005) as follows: X6 = the repayment status in September, 2005; X7 = the repayment status in August, 2005; . . .;X11 = the repayment status in April, 2005. The measurement scale for the repayment status is: -1 = pay duly; 1 = payment delay for one month; 2 = payment delay for two months; . . .; 8 = payment delay for eight months; 9 = payment delay for nine months and above.\n",
        "* ### X12-X17: Amount of bill statement (NT dollar). X12 = amount of bill statement in September, 2005; X13 = amount of bill statement in August, 2005; . . .; X17 = amount of bill statement in April, 2005.\n",
        "* ### X18-X23: Amount of previous payment (NT dollar). X18 = amount paid in September, 2005; X19 = amount paid in August, 2005; . . .;X23 = amount paid in April, 2005."
      ]
    },
    {
      "cell_type": "markdown",
      "metadata": {
        "id": "kad5N9fE8L9e"
      },
      "source": [
        "## Import Libraries"
      ]
    },
    {
      "cell_type": "code",
      "execution_count": null,
      "metadata": {
        "id": "dByMsuzT8Tnw"
      },
      "outputs": [],
      "source": [
        "# Import all necessary libraries. \n",
        "import pandas as pd\n",
        "import numpy as np\n",
        "import seaborn as sns\n",
        "from numpy import math\n",
        "import matplotlib.pyplot as plt \n",
        "\n",
        "import warnings\n",
        "warnings.filterwarnings('ignore')"
      ]
    },
    {
      "cell_type": "markdown",
      "metadata": {
        "id": "SbPop0ay8WyC"
      },
      "source": [
        "## Dataset Loading"
      ]
    },
    {
      "cell_type": "code",
      "execution_count": null,
      "metadata": {
        "id": "EoyK3R5rSOi2"
      },
      "outputs": [],
      "source": [
        "# Connect Google collab with drive\n",
        "from google.colab import drive\n",
        "df1= drive.mount('/content/drive')"
      ]
    },
    {
      "cell_type": "code",
      "execution_count": null,
      "metadata": {
        "id": "FdFytIyGSd9E"
      },
      "outputs": [],
      "source": [
        "#Import data frame from drive as Df\n",
        "df=pd.read_csv('/content/drive/MyDrive/Data Science/Almabetter/Colab Notebooks/Projects/Classification Project/default of credit card clients.xls - Data.csv',header=1)"
      ]
    },
    {
      "cell_type": "markdown",
      "metadata": {
        "id": "kMdWZrya8gx9"
      },
      "source": [
        "## Dataset First View"
      ]
    },
    {
      "cell_type": "code",
      "execution_count": null,
      "metadata": {
        "id": "LOusJcdOSd6C"
      },
      "outputs": [],
      "source": [
        "#viewing dataset\n",
        "df.head()"
      ]
    },
    {
      "cell_type": "markdown",
      "metadata": {
        "id": "tK-HiF2F46H7"
      },
      "source": [
        "## Data Desciption: \n"
      ]
    },
    {
      "cell_type": "markdown",
      "metadata": {
        "id": "uB5gZk4WZVKL"
      },
      "source": [
        "What we know about dataset :\n",
        "\n",
        "We have records of 30000 customers. Below are the description of all features we have.\n",
        "\n",
        "* ID: ID of each client\n",
        "\n",
        "* LIMIT_BAL: Amount of given credit in NT dollars (includes individual and family/supplementary credit)\n",
        "\n",
        "* SEX: Gender (1 = male, 2 = female)\n",
        "\n",
        "* EDUCATION: (1 = graduate school, 2 = university, 3 = high school, 0,4,5,6 = others)\n",
        "\n",
        "* MARRIAGE: Marital status (0 = others, 1 = married, 2 = single, 3 = others)\n",
        "\n",
        "* AGE: Age in years\n",
        "\n",
        "**Scale for PAY_0 to PAY_6** : (-2 = No consumption, -1 = paid in full, 0 = use of revolving credit (paid minimum only), 1 = payment delay for one month, 2 = payment delay for two months, ... 8 = payment delay for eight months, 9 = payment delay for nine months and above)\n",
        "\n",
        "* PAY_0: Repayment status in September, 2005 (scale same as above)\n",
        "\n",
        "* PAY_2: Repayment status in August, 2005 (scale same as above)\n",
        "\n",
        "* PAY_3: Repayment status in July, 2005 (scale same as above)\n",
        "\n",
        "* PAY_4: Repayment status in June, 2005 (scale same as above)\n",
        "\n",
        "* PAY_5: Repayment status in May, 2005 (scale same as above)\n",
        "\n",
        "* PAY_6: Repayment status in April, 2005 (scale same as above)\n",
        "\n",
        "* BILL_AMT1: Amount of bill statement in September, 2005 (NT dollar)\n",
        "\n",
        "* BILL_AMT2: Amount of bill statement in August, 2005 (NT dollar)\n",
        "\n",
        "* BILL_AMT3: Amount of bill statement in July, 2005 (NT dollar)\n",
        "\n",
        "* BILL_AMT4: Amount of bill statement in June, 2005 (NT dollar)\n",
        "\n",
        "* BILL_AMT5: Amount of bill statement in May, 2005 (NT dollar)\n",
        "\n",
        "* BILL_AMT6: Amount of bill statement in April, 2005 (NT dollar)\n",
        "\n",
        "* PAY_AMT1: Amount of previous payment in September, 2005 (NT dollar)\n",
        "\n",
        "* PAY_AMT2: Amount of previous payment in August, 2005 (NT dollar)\n",
        "\n",
        "* PAY_AMT3: Amount of previous payment in July, 2005 (NT dollar)\n",
        "\n",
        "* PAY_AMT4: Amount of previous payment in June, 2005 (NT dollar)\n",
        "\n",
        "* PAY_AMT5: Amount of previous payment in May, 2005 (NT dollar)\n",
        "\n",
        "* PAY_AMT6: Amount of previous payment in April, 2005 (NT dollar)\n",
        "\n",
        "* default.payment.next.month: Default payment (1=yes, 0=no)"
      ]
    },
    {
      "cell_type": "markdown",
      "metadata": {
        "id": "lBE8a-Og8xKJ"
      },
      "source": [
        "## Dataset Rows & Columns Count"
      ]
    },
    {
      "cell_type": "code",
      "execution_count": null,
      "metadata": {
        "id": "iJuFGk6CSd1t"
      },
      "outputs": [],
      "source": [
        "# Check data shape\n",
        "df.shape"
      ]
    },
    {
      "cell_type": "markdown",
      "metadata": {
        "id": "fFn-NeJO85Fx"
      },
      "source": [
        "## Dataset Information"
      ]
    },
    {
      "cell_type": "code",
      "execution_count": null,
      "metadata": {
        "id": "q9TNbROTSdyt"
      },
      "outputs": [],
      "source": [
        "# Check data info\n",
        "df.info()"
      ]
    },
    {
      "cell_type": "code",
      "execution_count": null,
      "metadata": {
        "id": "RiPNefeJSdvu"
      },
      "outputs": [],
      "source": [
        "#Data Description\n",
        "df.describe().T\n"
      ]
    },
    {
      "cell_type": "code",
      "execution_count": null,
      "metadata": {
        "id": "sLceMwJMSdsl"
      },
      "outputs": [],
      "source": [
        "#check for any duplicates\n",
        "len(df[df.duplicated()])"
      ]
    },
    {
      "cell_type": "markdown",
      "metadata": {
        "id": "CZ4zJ6j-58wt"
      },
      "source": [
        "Hence no duplicates are present in the data."
      ]
    },
    {
      "cell_type": "code",
      "execution_count": null,
      "metadata": {
        "id": "2uo1eXCxSdpd"
      },
      "outputs": [],
      "source": [
        "#columns of dataset\n",
        "df.columns"
      ]
    },
    {
      "cell_type": "code",
      "execution_count": null,
      "metadata": {
        "id": "vniotlpldkJK"
      },
      "outputs": [],
      "source": [
        "# Taking the sum of null values in columns from a dataset\n",
        "df.isnull().sum()\n"
      ]
    },
    {
      "cell_type": "code",
      "execution_count": null,
      "metadata": {
        "id": "9oaZft5-dkGQ"
      },
      "outputs": [],
      "source": [
        "#Plot to check null values\n",
        "plt.figure(figsize=(14,5))\n",
        "sns.heatmap(df.isnull(), cbar=True, yticklabels=False )\n",
        "plt.title(\"Missing Values Percentage\")"
      ]
    },
    {
      "cell_type": "markdown",
      "metadata": {
        "id": "2ad0m64ofoWk"
      },
      "source": [
        "**Hence no Missing values, No null values, No Duplicates in dataset**"
      ]
    },
    {
      "cell_type": "markdown",
      "metadata": {
        "id": "ijS9V8B1H4EY"
      },
      "source": [
        "##**Data Processing**"
      ]
    },
    {
      "cell_type": "code",
      "execution_count": null,
      "metadata": {
        "id": "Uw0yJhv_dkDk"
      },
      "outputs": [],
      "source": [
        "#renaming of columns\n",
        "df.rename(columns={'default payment next month' : 'IsDefaulter'}, inplace=True)\n",
        "df.rename(columns={'PAY_0':'PAY_SEPT','PAY_2':'PAY_AUG','PAY_3':'PAY_JUL','PAY_4':'PAY_JUN','PAY_5':'PAY_MAY','PAY_6':'PAY_APR'},inplace=True)\n",
        "df.rename(columns={'BILL_AMT1':'BILL_AMT_SEPT','BILL_AMT2':'BILL_AMT_AUG','BILL_AMT3':'BILL_AMT_JUL','BILL_AMT4':'BILL_AMT_JUN','BILL_AMT5':'BILL_AMT_MAY','BILL_AMT6':'BILL_AMT_APR'}, inplace = True)\n",
        "df.rename(columns={'PAY_AMT1':'PAY_AMT_SEPT','PAY_AMT2':'PAY_AMT_AUG','PAY_AMT3':'PAY_AMT_JUL','PAY_AMT4':'PAY_AMT_JUN','PAY_AMT5':'PAY_AMT_MAY','PAY_AMT6':'PAY_AMT_APR'},inplace=True)\n"
      ]
    },
    {
      "cell_type": "code",
      "execution_count": null,
      "metadata": {
        "id": "99xAOczJJoXd"
      },
      "outputs": [],
      "source": [
        "#check for rename\n",
        "pd.set_option('display.max_columns', None)\n",
        "df.head()"
      ]
    },
    {
      "cell_type": "code",
      "execution_count": null,
      "metadata": {
        "id": "SLVo2IXgdkAs"
      },
      "outputs": [],
      "source": [
        "#replacing values with labels\n",
        "#replacing values with there labels\n",
        "df.replace({'SEX': {1 : 'Male', 2 : 'Female'}}, inplace=True)\n",
        "df.replace({'EDUCATION' : {1 : 'Graduate School', 2 : 'University', 3 : 'High School', 4 : 'Others'}}, inplace=True)\n",
        "df.replace({'MARRIAGE' : {1 : 'Married', 2 : 'Single', 3 : 'Others'}}, inplace = True)\n",
        "df.replace({'IsDefaulter' : {1 : 'Yes', 0 : 'No'}}, inplace = True)"
      ]
    },
    {
      "cell_type": "code",
      "execution_count": null,
      "metadata": {
        "id": "YorkEN0cdj9P"
      },
      "outputs": [],
      "source": [
        "#checking for replaced labels\n",
        "df.head()"
      ]
    },
    {
      "cell_type": "markdown",
      "metadata": {
        "id": "UHjSs2UZbHXS"
      },
      "source": [
        "## EDA (Exploratory Data Analysis)"
      ]
    },
    {
      "cell_type": "markdown",
      "metadata": {
        "id": "FgQqTHJGJLfJ"
      },
      "source": [
        "## Dependent Variable:"
      ]
    },
    {
      "cell_type": "code",
      "execution_count": null,
      "metadata": {
        "id": "l5jZo72dbr6H"
      },
      "outputs": [],
      "source": [
        "#Value counts of Isdefaulter\n",
        "df['IsDefaulter'].value_counts()"
      ]
    },
    {
      "cell_type": "code",
      "execution_count": null,
      "metadata": {
        "id": "FWB6ykB6HkHT"
      },
      "outputs": [],
      "source": [
        "#value count plot for IsDefaulter\n",
        "plt.figure(figsize=(6,5))\n",
        "sns.countplot(x = 'IsDefaulter', data = df)"
      ]
    },
    {
      "cell_type": "markdown",
      "metadata": {
        "id": "O3bGS9g3cHu5"
      },
      "source": [
        "Here we can see defaulters are less as compare to Non defaulter in the given dataset, So we can say that we have imbalanced dataset"
      ]
    },
    {
      "cell_type": "markdown",
      "metadata": {
        "id": "zM572apUQpst"
      },
      "source": [
        "##Independent Variable"
      ]
    },
    {
      "cell_type": "markdown",
      "metadata": {
        "id": "LDHUcIGjQ9NA"
      },
      "source": [
        "## Categorical Features"
      ]
    },
    {
      "cell_type": "markdown",
      "metadata": {
        "id": "5LdXOQXwRUaF"
      },
      "source": [
        "**SEX**"
      ]
    },
    {
      "cell_type": "code",
      "execution_count": null,
      "metadata": {
        "id": "oRfYKckwHkDf"
      },
      "outputs": [],
      "source": [
        "#Value counts for sex category\n",
        "df['SEX'].value_counts()"
      ]
    },
    {
      "cell_type": "markdown",
      "metadata": {
        "id": "pce7H_DTRQ0w"
      },
      "source": [
        "**Education**"
      ]
    },
    {
      "cell_type": "markdown",
      "metadata": {
        "id": "u--3_5MWS9wt"
      },
      "source": [
        "As we can see in dataset we have values like 5,6,0 as well for which we are not having description so we can add up them in 4, which is Others."
      ]
    },
    {
      "cell_type": "code",
      "execution_count": null,
      "metadata": {
        "id": "w6-PM-Ago3Gr"
      },
      "outputs": [],
      "source": [
        "fil = (df['EDUCATION'] == 0) | (df['EDUCATION'] == 5) | (df['EDUCATION'] == 6) | (df['EDUCATION'] == 4)\n",
        "df.loc[fil, 'EDUCATION'] = 'Others'"
      ]
    },
    {
      "cell_type": "code",
      "execution_count": null,
      "metadata": {
        "id": "2wXnOxDicd1l"
      },
      "outputs": [],
      "source": [
        "#Value counts for education category\n",
        "df['EDUCATION'].value_counts()"
      ]
    },
    {
      "cell_type": "markdown",
      "metadata": {
        "id": "oScNhZZ4TDH_"
      },
      "source": [
        "**Marriage**"
      ]
    },
    {
      "cell_type": "code",
      "execution_count": null,
      "metadata": {
        "id": "fcK6MHwHomEg"
      },
      "outputs": [],
      "source": [
        "#Value counts for marriage category\n",
        "fil = df['MARRIAGE']==0\n",
        "df.loc[fil,'MARRIAGE'] = 'Others'\n",
        "df['MARRIAGE'].value_counts()\n"
      ]
    },
    {
      "cell_type": "markdown",
      "metadata": {
        "id": "PFGqyKldq1kq"
      },
      "source": [
        "## Now plotting a categorical features"
      ]
    },
    {
      "cell_type": "code",
      "execution_count": null,
      "metadata": {
        "id": "iyUdUIGdoIaq"
      },
      "outputs": [],
      "source": [
        "categorical_features = ['SEX', 'EDUCATION', 'MARRIAGE']"
      ]
    },
    {
      "cell_type": "code",
      "execution_count": null,
      "metadata": {
        "id": "BC9KDrshxKeD"
      },
      "outputs": [],
      "source": [
        "# count plot on two categorical variable\n",
        "sns.countplot(x ='MARRIAGE', hue = 'IsDefaulter', data = df)\n",
        " \n",
        "# Show the plot\n",
        "plt.show()\n",
        " "
      ]
    },
    {
      "cell_type": "code",
      "execution_count": null,
      "metadata": {
        "id": "GpoRTRHzgNmb"
      },
      "outputs": [],
      "source": [
        "# count plot on two categorical variable\n",
        "sns.countplot(x ='SEX', hue = 'IsDefaulter', data = df)\n",
        " \n",
        "# Show the plot\n",
        "plt.show()\n",
        " "
      ]
    },
    {
      "cell_type": "code",
      "execution_count": null,
      "metadata": {
        "id": "UkfUP7fLv2j7"
      },
      "outputs": [],
      "source": [
        "# count plot on two categorical variable\n",
        "sns.countplot(x ='EDUCATION', hue = 'IsDefaulter', data = df)\n",
        " \n",
        "# Show the plot\n",
        "plt.show()\n",
        " "
      ]
    },
    {
      "cell_type": "code",
      "execution_count": null,
      "metadata": {
        "id": "txzlzCDqgNjL"
      },
      "outputs": [],
      "source": [
        "# count plot on two categorical variable\n",
        "plt.figure(figsize=(30,10))\n",
        "sns.countplot(x ='AGE', hue = 'IsDefaulter', data = df)\n",
        "\n",
        "# Show the plot\n",
        "plt.show()"
      ]
    },
    {
      "cell_type": "markdown",
      "metadata": {
        "id": "A6bCdDp9bsCt"
      },
      "source": [
        "Below are few observations for categorical features:\n",
        "\n",
        "\n",
        "\n",
        "\n",
        "*   There are more females credit card holder,so no. of defaulter have high proportion of females.\n",
        "*   No. of defaulters have a higher proportion of educated people  (graduate school and university)\n",
        "*  No. of defaulters have a higher proportion of Singles.\n",
        "*  No. of defaulters are high proportion from age 25 to 35. "
      ]
    },
    {
      "cell_type": "markdown",
      "metadata": {
        "id": "G9HNqmMPHDVz"
      },
      "source": [
        "## Checking Correlation"
      ]
    },
    {
      "cell_type": "code",
      "execution_count": null,
      "metadata": {
        "id": "4kQbpxmwGy7G"
      },
      "outputs": [],
      "source": [
        "plt.figure(figsize=(20,18))\n",
        "sns.heatmap(df.corr(),annot=True,cmap=\"coolwarm\")\n",
        "plt.show()"
      ]
    },
    {
      "cell_type": "code",
      "execution_count": null,
      "metadata": {
        "id": "3uygNRS-mSDo"
      },
      "outputs": [],
      "source": [
        "df.shape"
      ]
    },
    {
      "cell_type": "markdown",
      "metadata": {
        "id": "nWQ09VcwHCZ3"
      },
      "source": [
        "## One Hot Encoding"
      ]
    },
    {
      "cell_type": "code",
      "execution_count": null,
      "metadata": {
        "id": "eEuSIC0MHCID"
      },
      "outputs": [],
      "source": [
        "#Label encoding \n",
        "encode_num = {\"SEX\":{\"Female\":0,\"Male\":1}, \"IsDefaulter\":{\"Yes\":1,\"No\":0}}\n",
        "df=df.replace(encode_num)"
      ]
    },
    {
      "cell_type": "code",
      "execution_count": null,
      "metadata": {
        "id": "eGjO4kYiHCFG"
      },
      "outputs": [],
      "source": [
        "#check for changed labels\n",
        "df.head()"
      ]
    },
    {
      "cell_type": "code",
      "execution_count": null,
      "metadata": {
        "id": "QmaDrXaZaEUl"
      },
      "outputs": [],
      "source": [
        "df.shape"
      ]
    },
    {
      "cell_type": "code",
      "execution_count": null,
      "metadata": {
        "id": "C5-h_o4OX3AG"
      },
      "outputs": [],
      "source": [
        "#creating dummy variables\n",
        "df = pd.get_dummies(df, columns=['EDUCATION','MARRIAGE']) "
      ]
    },
    {
      "cell_type": "code",
      "execution_count": null,
      "metadata": {
        "id": "VBMP0N05lHig"
      },
      "outputs": [],
      "source": [
        "df.shape"
      ]
    },
    {
      "cell_type": "code",
      "execution_count": null,
      "metadata": {
        "id": "UqBbaYvckidw"
      },
      "outputs": [],
      "source": [
        "df.drop(['EDUCATION_Others', 'MARRIAGE_Others'], axis=1, inplace=True)"
      ]
    },
    {
      "cell_type": "code",
      "execution_count": null,
      "metadata": {
        "id": "LZdp3kMHHB_F"
      },
      "outputs": [],
      "source": [
        "df.shape "
      ]
    },
    {
      "cell_type": "code",
      "execution_count": null,
      "metadata": {
        "id": "74K6pSTAq4lm"
      },
      "outputs": [],
      "source": [
        "#creating dummy variables by droping first variable\n",
        "df = pd.get_dummies(df, columns=['PAY_SEPT', 'PAY_AUG', 'PAY_JUL', 'PAY_JUN', 'PAY_MAY', 'PAY_APR'], drop_first = True )"
      ]
    },
    {
      "cell_type": "code",
      "execution_count": null,
      "metadata": {
        "id": "kiHyV0g7rHak"
      },
      "outputs": [],
      "source": [
        "df.shape"
      ]
    },
    {
      "cell_type": "code",
      "execution_count": null,
      "metadata": {
        "id": "inSNCU_0cip5"
      },
      "outputs": [],
      "source": [
        "df.head()"
      ]
    },
    {
      "cell_type": "code",
      "execution_count": null,
      "metadata": {
        "id": "J9TLfbUVrqZo"
      },
      "outputs": [],
      "source": [
        "df.shape"
      ]
    },
    {
      "cell_type": "code",
      "execution_count": null,
      "metadata": {
        "id": "VCltj1pXHB3f"
      },
      "outputs": [],
      "source": [
        "#checking all variables\n",
        "df.head()"
      ]
    },
    {
      "cell_type": "markdown",
      "metadata": {
        "id": "I64ROmrIj9zS"
      },
      "source": [
        "## Handling Class Imbalance"
      ]
    },
    {
      "cell_type": "markdown",
      "metadata": {
        "id": "F_-dAM4Hj0mj"
      },
      "source": [
        "### **SMOTE** ***- Synthetic Minority Oversampling Technique***"
      ]
    },
    {
      "cell_type": "code",
      "execution_count": null,
      "metadata": {
        "id": "DzvMKVZnHB2P"
      },
      "outputs": [],
      "source": [
        "#importing SMOTE to handle class imbalance\n",
        "from imblearn.over_sampling import SMOTE\n",
        "\n",
        "smote = SMOTE()\n",
        "\n",
        "# fit predictor and target variable\n",
        "x_smote, y_smote = smote.fit_resample(df[(i for i in list(df.describe(include='all').columns) if i != 'IsDefaulter')], df['IsDefaulter'])\n",
        "\n",
        "print('Original unbalanced dataset shape', len(df))\n",
        "print('Resampled balanced dataset shape', len(y_smote))"
      ]
    },
    {
      "cell_type": "code",
      "execution_count": null,
      "metadata": {
        "id": "vmXziCqfHBx3"
      },
      "outputs": [],
      "source": [
        "#creating new dataframe from balanced dataset after SMOTE\n",
        "balanced_df = pd.DataFrame(x_smote, columns=list(i for i in list(df.describe(include='all').columns) if i != 'IsDefaulter'))"
      ]
    },
    {
      "cell_type": "code",
      "execution_count": null,
      "metadata": {
        "id": "fc2q3bAggNYZ"
      },
      "outputs": [],
      "source": [
        "#adding target variable to new created dataframe\n",
        "balanced_df['IsDefaulter'] = y_smote"
      ]
    },
    {
      "cell_type": "code",
      "execution_count": null,
      "metadata": {
        "id": "8aLkaEJFgNGE"
      },
      "outputs": [],
      "source": [
        "#checking for class imbalance\n",
        "plt.figure(figsize=(5,5))\n",
        "sns.countplot('IsDefaulter', data = balanced_df, palette = \"Set1\" )"
      ]
    },
    {
      "cell_type": "code",
      "execution_count": null,
      "metadata": {
        "id": "LQyp_c67HkAM"
      },
      "outputs": [],
      "source": [
        "#shape of balanced dataframe\n",
        "balanced_df.shape"
      ]
    },
    {
      "cell_type": "code",
      "execution_count": null,
      "metadata": {
        "id": "u2Z8pU1mHj8f"
      },
      "outputs": [],
      "source": [
        "#removing feature ID from dataset\n",
        "balanced_df.drop('ID',axis = 1, inplace = True)"
      ]
    },
    {
      "cell_type": "code",
      "execution_count": null,
      "metadata": {
        "id": "4Wdfzm3HHj5N"
      },
      "outputs": [],
      "source": [
        "#final dataset\n",
        "balanced_df.head()"
      ]
    },
    {
      "cell_type": "code",
      "execution_count": null,
      "metadata": {
        "id": "wi-NVFcPHj25"
      },
      "outputs": [],
      "source": [
        "#seperating dependant and independant variabales\n",
        "X = balanced_df[(list(i for i in list(balanced_df.describe(include='all').columns) if i != 'IsDefaulter'))]\n",
        "y = balanced_df['IsDefaulter']"
      ]
    },
    {
      "cell_type": "code",
      "execution_count": null,
      "metadata": {
        "id": "zJL98l5sHjxR"
      },
      "outputs": [],
      "source": [
        "X.shape"
      ]
    },
    {
      "cell_type": "code",
      "execution_count": null,
      "metadata": {
        "id": "x_-SPZR7HjtS"
      },
      "outputs": [],
      "source": [
        "y.shape"
      ]
    },
    {
      "cell_type": "markdown",
      "metadata": {
        "id": "uIgCZzACRcu0"
      },
      "source": [
        "## Data Transformation"
      ]
    },
    {
      "cell_type": "code",
      "execution_count": null,
      "metadata": {
        "id": "kVd2a4dRRfZq"
      },
      "outputs": [],
      "source": [
        "#importing libraries for data transformation\n",
        "from sklearn.preprocessing import StandardScaler\n",
        "scaler = StandardScaler()\n",
        "X = scaler.fit_transform(X)"
      ]
    },
    {
      "cell_type": "markdown",
      "metadata": {
        "id": "1KpfgKTCRooE"
      },
      "source": [
        "## Train Test Splitting"
      ]
    },
    {
      "cell_type": "code",
      "execution_count": null,
      "metadata": {
        "id": "O6bRbVZlRrHW"
      },
      "outputs": [],
      "source": [
        "#importing libraries for splitting data into training and testing dataset\n",
        "from sklearn.model_selection import train_test_split\n",
        "X_train, X_test, y_train, y_test = train_test_split(X, y, test_size=0.2,random_state=42, stratify=y)"
      ]
    },
    {
      "cell_type": "code",
      "execution_count": null,
      "metadata": {
        "id": "nuWqNQ1PRzsz"
      },
      "outputs": [],
      "source": [
        "X_train.shape"
      ]
    },
    {
      "cell_type": "code",
      "execution_count": null,
      "metadata": {
        "id": "xs2Pq9uER3L8"
      },
      "outputs": [],
      "source": [
        "X_test.shape"
      ]
    },
    {
      "cell_type": "markdown",
      "metadata": {
        "id": "V6IJlknDHVJF"
      },
      "source": [
        "## Model Implementation"
      ]
    },
    {
      "cell_type": "markdown",
      "metadata": {
        "id": "Tm47hBpLP6ls"
      },
      "source": [
        "## Logistic regression model\n"
      ]
    },
    {
      "cell_type": "code",
      "execution_count": null,
      "metadata": {
        "id": "qZpgkmuMHjp6"
      },
      "outputs": [],
      "source": [
        "#importing logistic regression and evaluation metrics\n",
        "from sklearn.linear_model import LogisticRegression\n",
        "from sklearn.metrics import accuracy_score, recall_score, precision_score, f1_score, roc_auc_score, confusion_matrix, roc_curve, auc"
      ]
    },
    {
      "cell_type": "code",
      "execution_count": null,
      "metadata": {
        "id": "hDGKOoDPHjmW"
      },
      "outputs": [],
      "source": [
        "#fitting data into Logistic Regression\n",
        "logi = LogisticRegression(fit_intercept=True, max_iter=10000)\n",
        "logi.fit(X_train, y_train)"
      ]
    },
    {
      "cell_type": "code",
      "execution_count": null,
      "metadata": {
        "id": "oVrSDzNYHjiz"
      },
      "outputs": [],
      "source": [
        "#class prediction of y\n",
        "y_pred_logi = logi.predict(X_test)\n",
        "y_train_pred_logi=logi.predict(X_train)"
      ]
    },
    {
      "cell_type": "code",
      "execution_count": null,
      "metadata": {
        "id": "WQZPtKneHjfe"
      },
      "outputs": [],
      "source": [
        "#getting all score for logistic regression\n",
        "train_accuracy_logi = round(accuracy_score(y_train_pred_logi,y_train), 3)\n",
        "accuracy_logi = round(accuracy_score(y_pred_logi,y_test), 3)\n",
        "precision_score_logi = round(precision_score(y_pred_logi,y_test), 3)\n",
        "recall_score_logi = round(recall_score(y_pred_logi,y_test), 3)\n",
        "f1_score_logi = round(f1_score(y_pred_logi,y_test), 3)\n",
        "roc_score_logi = round(roc_auc_score(y_pred_logi,y_test), 3)\n",
        "\n",
        "print(\"The accuracy on train data is \", train_accuracy_logi)\n",
        "print(\"The accuracy on test data is \", accuracy_logi)\n",
        "print(\"The precision on test data is \", precision_score_logi)\n",
        "print(\"The recall on test data is \", recall_score_logi)\n",
        "print(\"The f1 on test data is \", f1_score_logi)\n",
        "print(\"The roc_score on test data is \", roc_score_logi)"
      ]
    },
    {
      "cell_type": "code",
      "execution_count": null,
      "metadata": {
        "id": "TdE5S1bmHjcL"
      },
      "outputs": [],
      "source": [
        "#Confusion matrix\n",
        "labels = ['Not Defaulter', 'Defaulter']\n",
        "cm_logi = confusion_matrix(y_test, y_pred_logi )\n",
        "print(cm_logi)\n",
        "\n",
        "#plot confusion matrix\n",
        "ax= plt.subplot()\n",
        "sns.heatmap(cm_logi, annot=True, ax = ax)\n",
        "\n",
        "# labels, title and ticks\n",
        "ax.set_xlabel('Predicted labels')\n",
        "ax.set_ylabel('True labels')\n",
        "ax.set_title('Confusion Matrix - Logistic Regression')\n",
        "ax.xaxis.set_ticklabels(labels)\n",
        "ax.yaxis.set_ticklabels(labels)"
      ]
    },
    {
      "cell_type": "markdown",
      "metadata": {
        "id": "09NocwvfTCeq"
      },
      "source": [
        "## Decision tree classification"
      ]
    },
    {
      "cell_type": "code",
      "execution_count": null,
      "metadata": {
        "id": "johaG-LQHjYz"
      },
      "outputs": [],
      "source": [
        "#importing Decision Tree Classifier\n",
        "from sklearn.tree import DecisionTreeClassifier"
      ]
    },
    {
      "cell_type": "code",
      "execution_count": null,
      "metadata": {
        "id": "GmW2i4KGHjVY"
      },
      "outputs": [],
      "source": [
        "#fitting data into Decision Tree Classifier\n",
        "dtc = DecisionTreeClassifier()\n",
        "dtc.fit(X_train, y_train)"
      ]
    },
    {
      "cell_type": "code",
      "execution_count": null,
      "metadata": {
        "id": "xJmxejolHjSB"
      },
      "outputs": [],
      "source": [
        "#class prediction of y\n",
        "y_pred_dtc = dtc.predict(X_test)\n",
        "y_train_pred_dtc=dtc.predict(X_train)"
      ]
    },
    {
      "cell_type": "code",
      "execution_count": null,
      "metadata": {
        "id": "Itjb1sqiHjO1"
      },
      "outputs": [],
      "source": [
        "#getting all scores for Decision Tree Classifier\n",
        "train_accuracy_dtc = round(accuracy_score(y_train_pred_dtc,y_train), 3)\n",
        "accuracy_dtc = round(accuracy_score(y_pred_dtc,y_test), 3)\n",
        "precision_score_dtc = round(precision_score(y_pred_dtc,y_test), 3)\n",
        "recall_score_dtc = round(recall_score(y_pred_dtc,y_test), 3)\n",
        "f1_score_dtc = round(f1_score(y_pred_dtc,y_test), 3)\n",
        "roc_score_dtc = round(roc_auc_score(y_pred_dtc,y_test), 3)\n",
        "\n",
        "print(\"The accuracy on train data is \", train_accuracy_dtc)\n",
        "print(\"The accuracy on test data is \", accuracy_dtc)\n",
        "print(\"The precision on test data is \", precision_score_dtc)\n",
        "print(\"The recall on test data is \", recall_score_dtc)\n",
        "print(\"The f1 on test data is \", f1_score_dtc)\n",
        "print(\"The roc_score on test data is \", roc_score_dtc)"
      ]
    },
    {
      "cell_type": "code",
      "execution_count": null,
      "metadata": {
        "id": "Wl-54Z7oHjLq"
      },
      "outputs": [],
      "source": [
        "# Get the confusion matrix for desicion tree\n",
        "labels = ['Not Defaulter', 'Defaulter']\n",
        "cm_dt = confusion_matrix(y_test, y_pred_dtc )\n",
        "print(cm_dt)\n",
        "\n",
        "#plot confusion matrix\n",
        "ax= plt.subplot()\n",
        "sns.heatmap(cm_dt, annot=True, ax = ax)\n",
        "\n",
        "# labels, title and ticks\n",
        "ax.set_xlabel('Predicted labels')\n",
        "ax.set_ylabel('True labels')\n",
        "ax.set_title('Confusion Matrix - Decision Tree')\n",
        "ax.xaxis.set_ticklabels(labels)\n",
        "ax.yaxis.set_ticklabels(labels)"
      ]
    },
    {
      "cell_type": "markdown",
      "metadata": {
        "id": "iiybEynlT6Le"
      },
      "source": [
        "## Random Forest Classification"
      ]
    },
    {
      "cell_type": "code",
      "execution_count": null,
      "metadata": {
        "id": "hIEwl7dFHjIY"
      },
      "outputs": [],
      "source": [
        "#importing Random Forest Classifier\n",
        "from sklearn.ensemble import RandomForestClassifier"
      ]
    },
    {
      "cell_type": "code",
      "execution_count": null,
      "metadata": {
        "id": "CZt_PHShHjE5"
      },
      "outputs": [],
      "source": [
        "#fitting data into Random Forest Classifier\n",
        "rfc=RandomForestClassifier(n_estimators=50)\n",
        "rfc.fit(X_train, y_train)"
      ]
    },
    {
      "cell_type": "code",
      "execution_count": null,
      "metadata": {
        "id": "ZjUHDUGOHjBj"
      },
      "outputs": [],
      "source": [
        "#class prediction of y\n",
        "y_pred_rfc=rfc.predict(X_test)\n",
        "y_train_pred_rfc=rfc.predict(X_train)"
      ]
    },
    {
      "cell_type": "code",
      "execution_count": null,
      "metadata": {
        "id": "hsj6rVvUHi-B"
      },
      "outputs": [],
      "source": [
        "#getting all scores for Random Forest Classifier\n",
        "train_accuracy_rfc = round(accuracy_score(y_train_pred_rfc,y_train), 3)\n",
        "accuracy_rfc = round(accuracy_score(y_pred_rfc,y_test), 3)\n",
        "precision_score_rfc = round(precision_score(y_pred_rfc,y_test), 3)\n",
        "recall_score_rfc = round(recall_score(y_pred_rfc,y_test), 3)\n",
        "f1_score_rfc = round(f1_score(y_pred_rfc,y_test), 3)\n",
        "roc_score_rfc = round(roc_auc_score(y_pred_rfc,y_test), 3)\n",
        "\n",
        "print(\"The accuracy on train data is \", train_accuracy_rfc)\n",
        "print(\"The accuracy on test data is \", accuracy_rfc)\n",
        "print(\"The precision on test data is \", precision_score_rfc)\n",
        "print(\"The recall on test data is \", recall_score_rfc)\n",
        "print(\"The f1 on test data is \", f1_score_rfc)\n",
        "print(\"The roc_score on test data is \", roc_score_rfc)"
      ]
    },
    {
      "cell_type": "code",
      "execution_count": null,
      "metadata": {
        "id": "zBpluEdWHi6k"
      },
      "outputs": [],
      "source": [
        "# Get the confusion matrix for Random Forest Classifier\n",
        "labels = ['Not Defaulter', 'Defaulter']\n",
        "cm_rfc = confusion_matrix(y_test, y_pred_rfc )\n",
        "print(cm_rfc)\n",
        "\n",
        "#plot confusion matrix\n",
        "ax= plt.subplot()\n",
        "sns.heatmap(cm_rfc, annot=True, ax = ax)\n",
        "\n",
        "# labels, title and ticks\n",
        "ax.set_xlabel('Predicted labels')\n",
        "ax.set_ylabel('True labels')\n",
        "ax.set_title('Confusion Matrix - Random Forest Classifier')\n",
        "ax.xaxis.set_ticklabels(labels)\n",
        "ax.yaxis.set_ticklabels(labels)"
      ]
    },
    {
      "cell_type": "markdown",
      "metadata": {
        "id": "AlhCIQE_WQWi"
      },
      "source": [
        "## Support Vector Machine"
      ]
    },
    {
      "cell_type": "code",
      "execution_count": null,
      "metadata": {
        "id": "VprCpY9XWoJ0"
      },
      "outputs": [],
      "source": [
        "#importing Support vector Classifier\n",
        "from sklearn.svm import SVC"
      ]
    },
    {
      "cell_type": "code",
      "execution_count": null,
      "metadata": {
        "id": "eu-tDRzcWoJ1"
      },
      "outputs": [],
      "source": [
        "#fitting data into Support Vector Classifier\n",
        "svm=SVC(probability=True)\n",
        "svm.fit(X_train,y_train)"
      ]
    },
    {
      "cell_type": "code",
      "execution_count": null,
      "metadata": {
        "id": "8eAiekQGWoJ2"
      },
      "outputs": [],
      "source": [
        "#class prediction of y\n",
        "y_pred_svm=svm.predict(X_test)\n",
        "y_train_pred_svm=svm.predict(X_train)"
      ]
    },
    {
      "cell_type": "code",
      "execution_count": null,
      "metadata": {
        "id": "d9Xm-1CUWoJ3"
      },
      "outputs": [],
      "source": [
        "#getting all scores for Support Vector Classifier\n",
        "train_accuracy_svm = round(accuracy_score(y_train_pred_svm,y_train), 3)\n",
        "accuracy_svm = round(accuracy_score(y_pred_svm,y_test), 3)\n",
        "precision_score_svm = round(precision_score(y_pred_svm,y_test), 3)\n",
        "recall_score_svm = round(recall_score(y_pred_svm,y_test), 3)\n",
        "f1_score_svm = round(f1_score(y_pred_svm,y_test), 3)\n",
        "roc_score_svm = round(roc_auc_score(y_pred_svm,y_test), 3)\n",
        "\n",
        "print(\"The accuracy on train data is \", train_accuracy_svm)\n",
        "print(\"The accuracy on test data is \", accuracy_svm)\n",
        "print(\"The precision on test data is \", precision_score_svm)\n",
        "print(\"The recall on test data is \", recall_score_svm)\n",
        "print(\"The f1 on test data is \", f1_score_svm)\n",
        "print(\"The roc_score on test data is \", roc_score_svm)"
      ]
    },
    {
      "cell_type": "code",
      "execution_count": null,
      "metadata": {
        "id": "BMLQBP3sWoJ4"
      },
      "outputs": [],
      "source": [
        "# Get the confusion matrix for Support Vector Classifier\n",
        "labels = ['Not Defaulter', 'Defaulter']\n",
        "cm_svm = confusion_matrix(y_test, y_pred_svm )\n",
        "print(cm_svm)\n",
        "\n",
        "#plot confusion matrix\n",
        "ax= plt.subplot()\n",
        "sns.heatmap(cm_svm, annot=True, ax = ax)\n",
        "\n",
        "# labels, title and ticks\n",
        "ax.set_xlabel('Predicted labels')\n",
        "ax.set_ylabel('True labels')\n",
        "ax.set_title('Confusion Matrix - SVM')\n",
        "ax.xaxis.set_ticklabels(labels)\n",
        "ax.yaxis.set_ticklabels(labels)"
      ]
    },
    {
      "cell_type": "markdown",
      "metadata": {
        "id": "rdclvwJCYWPG"
      },
      "source": [
        "## Gradient Boosting"
      ]
    },
    {
      "cell_type": "code",
      "execution_count": null,
      "metadata": {
        "id": "yoXsPW6oHi0R"
      },
      "outputs": [],
      "source": [
        "#importing Gradient Boosting Classifier\n",
        "from sklearn.ensemble import GradientBoostingClassifier"
      ]
    },
    {
      "cell_type": "code",
      "execution_count": null,
      "metadata": {
        "id": "80NokemsHiwl"
      },
      "outputs": [],
      "source": [
        "#fitting data into Gradient Boosting Classifier\n",
        "gbc = GradientBoostingClassifier(random_state=42)\n",
        "gbc.fit(X_train, y_train)"
      ]
    },
    {
      "cell_type": "code",
      "execution_count": null,
      "metadata": {
        "id": "Uf8qOCHWHitQ"
      },
      "outputs": [],
      "source": [
        "#class prediction of y\n",
        "y_pred_gbc=gbc.predict(X_test)\n",
        "y_train_pred_gbc=gbc.predict(X_train)"
      ]
    },
    {
      "cell_type": "code",
      "execution_count": null,
      "metadata": {
        "id": "DYFXiK-6Hip8"
      },
      "outputs": [],
      "source": [
        "#getting all scores for Gradient Boosting Classifier\n",
        "train_accuracy_gbc = round(accuracy_score(y_train_pred_gbc,y_train), 3)\n",
        "accuracy_gbc = round(accuracy_score(y_pred_gbc,y_test), 3)\n",
        "precision_score_gbc = round(precision_score(y_pred_gbc,y_test), 3)\n",
        "recall_score_gbc = round(recall_score(y_pred_gbc,y_test), 3)\n",
        "f1_score_gbc = round(f1_score(y_pred_gbc,y_test), 3)\n",
        "roc_score_gbc = round(roc_auc_score(y_pred_gbc,y_test), 3)\n",
        "\n",
        "print(\"The accuracy on train data is \", train_accuracy_gbc)\n",
        "print(\"The accuracy on test data is \", accuracy_gbc)\n",
        "print(\"The precision on test data is \", precision_score_gbc)\n",
        "print(\"The recall on test data is \", recall_score_gbc)\n",
        "print(\"The f1 on test data is \", f1_score_gbc)\n",
        "print(\"The roc_score on test data is \", roc_score_gbc)"
      ]
    },
    {
      "cell_type": "code",
      "execution_count": null,
      "metadata": {
        "id": "AgqYxXEOHims"
      },
      "outputs": [],
      "source": [
        "# Get the confusion matrix for Gradient Boosting Classifier\n",
        "labels = ['Not Defaulter', 'Defaulter']\n",
        "cm_gbc = confusion_matrix(y_test, y_pred_gbc )\n",
        "print(cm_gbc)\n",
        "\n",
        "#plot confusion matrix\n",
        "ax= plt.subplot()\n",
        "sns.heatmap(cm_gbc, annot=True, ax = ax)\n",
        "\n",
        "# labels, title and ticks\n",
        "ax.set_xlabel('Predicted labels')\n",
        "ax.set_ylabel('True labels')\n",
        "ax.set_title('Confusion Matrix - Gradient Boosting Classifier')\n",
        "ax.xaxis.set_ticklabels(labels)\n",
        "ax.yaxis.set_ticklabels(labels)"
      ]
    },
    {
      "cell_type": "markdown",
      "metadata": {
        "id": "aTBKNbciYl0z"
      },
      "source": [
        "## XG Boosting"
      ]
    },
    {
      "cell_type": "code",
      "execution_count": null,
      "metadata": {
        "id": "6dDDEZyqHijg"
      },
      "outputs": [],
      "source": [
        "#importing XG Boosting Classifier\n",
        "from xgboost import XGBClassifier"
      ]
    },
    {
      "cell_type": "code",
      "execution_count": null,
      "metadata": {
        "id": "_vaShen0HigT"
      },
      "outputs": [],
      "source": [
        "#fitting data into XG Boosting Classifier\n",
        "xgb = XGBClassifier()\n",
        "xgb.fit(X_train,y_train)"
      ]
    },
    {
      "cell_type": "code",
      "execution_count": null,
      "metadata": {
        "id": "eYYSkNC-HidC"
      },
      "outputs": [],
      "source": [
        "#class prediction of y\n",
        "y_pred_xgb=xgb.predict(X_test)\n",
        "y_train_pred_xgb=xgb.predict(X_train)"
      ]
    },
    {
      "cell_type": "code",
      "execution_count": null,
      "metadata": {
        "id": "Eftfwi2THiaF"
      },
      "outputs": [],
      "source": [
        "#getting all scores for XG Boosting Classifier\n",
        "train_accuracy_xgb = round(accuracy_score(y_train_pred_xgb,y_train), 3)\n",
        "accuracy_xgb = round(accuracy_score(y_pred_xgb,y_test), 3)\n",
        "precision_score_xgb = round(precision_score(y_pred_xgb,y_test), 3)\n",
        "recall_score_xgb = round(recall_score(y_pred_xgb,y_test), 3)\n",
        "f1_score_xgb = round(f1_score(y_pred_xgb,y_test), 3)\n",
        "roc_score_xgb = round(roc_auc_score(y_pred_xgb,y_test), 3)\n",
        "\n",
        "print(\"The accuracy on train data is \", train_accuracy_xgb)\n",
        "print(\"The accuracy on test data is \", accuracy_xgb)\n",
        "print(\"The precision on test data is \", precision_score_xgb)\n",
        "print(\"The recall on test data is \", recall_score_xgb)\n",
        "print(\"The f1 on test data is \", f1_score_xgb)\n",
        "print(\"The roc_score on test data is \", roc_score_xgb)"
      ]
    },
    {
      "cell_type": "code",
      "execution_count": null,
      "metadata": {
        "id": "buTimikBHiWc"
      },
      "outputs": [],
      "source": [
        "# Get the confusion matrix for XG Boosting Classifier\n",
        "labels = ['Not Defaulter', 'Defaulter']\n",
        "cm_xgb = confusion_matrix(y_test, y_pred_xgb )\n",
        "print(cm_xgb)\n",
        "\n",
        "#plot confusion matrix\n",
        "ax= plt.subplot()\n",
        "sns.heatmap(cm_xgb, annot=True, ax = ax)\n",
        "\n",
        "# labels, title and ticks\n",
        "ax.set_xlabel('Predicted labels')\n",
        "ax.set_ylabel('True labels')\n",
        "ax.set_title('Confusion Matrix - XG Boosting Classifier')\n",
        "ax.xaxis.set_ticklabels(labels)\n",
        "ax.yaxis.set_ticklabels(labels)"
      ]
    },
    {
      "cell_type": "markdown",
      "metadata": {
        "id": "PmLI08fbZW23"
      },
      "source": [
        "## Model Comparison"
      ]
    },
    {
      "cell_type": "code",
      "execution_count": null,
      "metadata": {
        "id": "U1gxjJEnHiTN"
      },
      "outputs": [],
      "source": [
        "all_lassifiers = ['Logistic Regression', 'Decision Tree', 'Random Forest', 'SVM', 'Gradient Boosting', 'XG Boosting']\n",
        "all_train_accuracy = [train_accuracy_logi, train_accuracy_dtc, train_accuracy_rfc, train_accuracy_svm, train_accuracy_gbc, train_accuracy_xgb]\n",
        "all_test_accuracy = [accuracy_logi, accuracy_dtc, accuracy_rfc, accuracy_svm, accuracy_gbc, accuracy_xgb]\n",
        "all_precision_score = [precision_score_logi, precision_score_dtc, precision_score_rfc, precision_score_svm, precision_score_gbc, precision_score_xgb]\n",
        "all_recall_score = [recall_score_logi, recall_score_dtc, recall_score_rfc, recall_score_svm, recall_score_gbc, recall_score_xgb]\n",
        "all_f1_score = [f1_score_logi, f1_score_dtc, f1_score_rfc, f1_score_svm, f1_score_gbc, f1_score_xgb]\n",
        "all_auc_score = [roc_score_logi, roc_score_dtc, roc_score_rfc, roc_score_svm, roc_score_gbc, roc_score_xgb]"
      ]
    },
    {
      "cell_type": "code",
      "execution_count": null,
      "metadata": {
        "id": "BQf698DnZdQv"
      },
      "outputs": [],
      "source": [
        "compare_df = pd.DataFrame({'Classifier':all_lassifiers, 'Train Accuracy': all_train_accuracy, 'Test Accuracy': all_test_accuracy, 'Precision': all_precision_score, 'Recall': all_recall_score, 'F1 Score': all_f1_score , 'AUC': all_auc_score})"
      ]
    },
    {
      "cell_type": "code",
      "execution_count": null,
      "metadata": {
        "id": "5bKqRPaOZeGL"
      },
      "outputs": [],
      "source": [
        "compare_df"
      ]
    },
    {
      "cell_type": "markdown",
      "metadata": {
        "id": "RscYPtEnuF0h"
      },
      "source": [
        "Model Comparison In Ascending Manner:"
      ]
    },
    {
      "cell_type": "code",
      "execution_count": null,
      "metadata": {
        "id": "undNoGzLZhOw"
      },
      "outputs": [],
      "source": [
        "compare_df.sort_values(by=['Test Accuracy'], ascending=False)"
      ]
    },
    {
      "cell_type": "markdown",
      "metadata": {
        "id": "5tW11_L1fiYf"
      },
      "source": [
        "## Combined ROC Curve For All Models"
      ]
    },
    {
      "cell_type": "code",
      "execution_count": null,
      "metadata": {
        "id": "YjhiKdx0fsYY"
      },
      "outputs": [],
      "source": [
        "#importing roc curve\n",
        "from sklearn.metrics import roc_curve"
      ]
    },
    {
      "cell_type": "code",
      "execution_count": null,
      "metadata": {
        "id": "fHIhAMVYfsV3"
      },
      "outputs": [],
      "source": [
        "#probabilty prediction of y for all model\n",
        "y_pred_proba_logi = logi.predict_proba(X_test)[:,1]\n",
        "y_pred_proba_dtc = dtc.predict_proba(X_test)[:,1]\n",
        "y_pred_proba_rfc = rfc.predict_proba(X_test)[:,1]\n",
        "y_pred_proba_svm = svm.predict_proba(X_test)[:,1]\n",
        "y_pred_proba_gbc = gbc.predict_proba(X_test)[:,1]\n",
        "y_pred_proba_xgb = xgb.predict_proba(X_test)[:,1]"
      ]
    },
    {
      "cell_type": "code",
      "execution_count": null,
      "metadata": {
        "id": "xohkfgrBfsRp"
      },
      "outputs": [],
      "source": [
        "fig = plt.figure(figsize=(10,8)) \n",
        "\n",
        "fpr_logi, tpr_logi, _logi = roc_curve(y_test,  y_pred_proba_logi)\n",
        "fpr_dtc, tpr_dtc, _dtc = roc_curve(y_test,  y_pred_proba_dtc)\n",
        "fpr_rfc, tpr_rfc, _rfc = roc_curve(y_test,  y_pred_proba_rfc)\n",
        "fpr_svm, tpr_svm, _svm = roc_curve(y_test,  y_pred_proba_svm)\n",
        "fpr_gbc, tpr_gbc, _gbc = roc_curve(y_test,  y_pred_proba_gbc)\n",
        "fpr_xgb, tpr_xgb, _xgb = roc_curve(y_test,  y_pred_proba_xgb)\n",
        "\n",
        "plt.plot(fpr_logi, tpr_logi)\n",
        "plt.plot(fpr_dtc, tpr_dtc)\n",
        "plt.plot(fpr_rfc, tpr_rfc)\n",
        "plt.plot(fpr_svm, tpr_svm)\n",
        "plt.plot(fpr_gbc, tpr_gbc)\n",
        "plt.plot(fpr_xgb, tpr_xgb)\n",
        "\n",
        "plt.plot([0,1], [0,1], color='black', linestyle='--')\n",
        "\n",
        "plt.xlabel(\"Flase Positive Rate\", fontsize=12)\n",
        "plt.ylabel(\"True Positive Rate\", fontsize=12)\n",
        "plt.title('Combined ROC Curve', fontsize=15)\n",
        "\n",
        "plt.legend([\"Logistic\", \"Decision Tree\", \"Random Forest\", \"SVM\", \"GB Boost\" \"XG Boost\"], prop={'size':13}, loc='lower right' )"
      ]
    },
    {
      "cell_type": "markdown",
      "metadata": {
        "id": "B11OEmQZf6h3"
      },
      "source": [
        "# Cross Validation & Hyperparameter Tuning"
      ]
    },
    {
      "cell_type": "code",
      "execution_count": null,
      "metadata": {
        "id": "CgdNOkfNX2wC"
      },
      "outputs": [],
      "source": [
        "from sklearn.model_selection import GridSearchCV"
      ]
    },
    {
      "cell_type": "markdown",
      "metadata": {
        "id": "93y49U1mNisy"
      },
      "source": [
        "##**Logistic Regression Model**"
      ]
    },
    {
      "cell_type": "code",
      "execution_count": null,
      "metadata": {
        "id": "zP2dZF0ONqAs"
      },
      "outputs": [],
      "source": [
        "# penalty in Logistic Regression Classifier\n",
        "penalties = ['l1','l2', 'elasticnet', 'none']\n",
        "\n",
        "# hyperparameter C\n",
        "C= [0.0001, 0.001, 0.1, 0.5, 0.75, 1, 1.25, 1.5, 5, 10]\n",
        "\n",
        "# Hyperparameter Grid\n",
        "param_dict = {'penalty':penalties,\n",
        "              'max_iter' : [100, 1000,2500, 5000],\n",
        "              'C' : C }"
      ]
    },
    {
      "cell_type": "code",
      "execution_count": null,
      "metadata": {
        "id": "6doUX0kVNrSy"
      },
      "outputs": [],
      "source": [
        "# Create an instance of the Logistic Regression\n",
        "logi = LogisticRegression()\n",
        "\n",
        "# Grid search\n",
        "logi_grid = GridSearchCV(estimator=logi,\n",
        "                       param_grid = param_dict,\n",
        "                       cv = 5, verbose=3, n_jobs = -1, scoring='roc_auc')\n",
        "# fitting model\n",
        "logi_grid.fit(X_train,y_train)"
      ]
    },
    {
      "cell_type": "code",
      "execution_count": null,
      "metadata": {
        "id": "Gc0cG4phRLlj"
      },
      "outputs": [],
      "source": [
        "logi_grid.best_estimator_"
      ]
    },
    {
      "cell_type": "code",
      "execution_count": null,
      "metadata": {
        "id": "mTrUOdImRLlq"
      },
      "outputs": [],
      "source": [
        "logi_grid.best_params_"
      ]
    },
    {
      "cell_type": "code",
      "execution_count": null,
      "metadata": {
        "id": "rwTQrv9qRLlq"
      },
      "outputs": [],
      "source": [
        "logi_optimal_model = logi_grid.best_estimator_"
      ]
    },
    {
      "cell_type": "code",
      "execution_count": null,
      "metadata": {
        "id": "gw1z__KlRLlr"
      },
      "outputs": [],
      "source": [
        "#class prediction of y on train and test\n",
        "y_pred_logi_grid = logi_optimal_model.predict(X_test)\n",
        "y_train_pred_logi_grid = logi_optimal_model.predict(X_train)\n",
        "\n",
        "# Get the probabilities on train and test\n",
        "y_pred_prob_logi_grid = logi_optimal_model.predict_proba(X_train)[:,1]\n",
        "y_train_pred_prob_logi_grid = logi_optimal_model.predict_proba(X_test)[:,1]"
      ]
    },
    {
      "cell_type": "code",
      "execution_count": null,
      "metadata": {
        "id": "Zk_nJEJkRLlr"
      },
      "outputs": [],
      "source": [
        "#getting all scores for Logistic Regression after CV and Hyperparameter Tunning\n",
        "train_accuracy_logi_grid = round(accuracy_score(y_train_pred_logi_grid,y_train), 3)\n",
        "accuracy_logi_grid = round(accuracy_score(y_pred_logi_grid,y_test), 3)\n",
        "precision_score_logi_grid = round(precision_score(y_pred_logi_grid, y_test), 3)\n",
        "recall_score_logi_grid = round(recall_score(y_pred_logi_grid,y_test), 3)\n",
        "f1_score_logi_grid = round(f1_score(y_pred_logi_grid,y_test), 3)\n",
        "auc_logi_grid = round(roc_auc_score(y_pred_logi_grid,y_test), 3)\n",
        "\n",
        "print(\"The accuracy on train data is \", train_accuracy_logi_grid)\n",
        "print(\"The accuracy on test data is \", accuracy_logi_grid)\n",
        "print(\"The precision on test data is \", precision_score_logi_grid)\n",
        "print(\"The recall on test data is \", recall_score_logi_grid)\n",
        "print(\"The f1 on test data is \", f1_score_logi_grid)\n",
        "print(\"The auc on test data is \", auc_logi_grid)"
      ]
    },
    {
      "cell_type": "code",
      "execution_count": null,
      "metadata": {
        "id": "aK8SpyreNrMc"
      },
      "outputs": [],
      "source": [
        "# Get the confusion matrices for train and test\n",
        "train_cm_logi_grid = confusion_matrix(y_train,y_train_pred_logi_grid)\n",
        "test_cm_logi_grid = confusion_matrix(y_test,y_pred_logi_grid )"
      ]
    },
    {
      "cell_type": "code",
      "execution_count": null,
      "metadata": {
        "id": "dSkMmBj9oH83"
      },
      "outputs": [],
      "source": [
        "train_cm_logi_grid"
      ]
    },
    {
      "cell_type": "code",
      "execution_count": null,
      "metadata": {
        "id": "ycJ9Q_bqoKuk"
      },
      "outputs": [],
      "source": [
        "test_cm_logi_grid"
      ]
    },
    {
      "cell_type": "markdown",
      "source": [
        "## Decision Tree Classification"
      ],
      "metadata": {
        "id": "4Hw7PEcSzDxw"
      }
    },
    {
      "cell_type": "code",
      "execution_count": null,
      "metadata": {
        "id": "usq4TOmoT534"
      },
      "outputs": [],
      "source": [
        "# The maximum depth of the tree\n",
        "depth_of_tree = [20,25,30,35]\n",
        "\n",
        "# The minimum number of samples required to split an internal node\n",
        "min_samples_split = [0.001,0.01,0.05]\n",
        "\n",
        "# Minimum number of samples required at each leaf node\n",
        "min_samples_leaf = [40,50,60]\n",
        "\n",
        "# Hyperparameter Grid\n",
        "param_dict = {'max_depth': depth_of_tree,\n",
        "              'min_samples_split':min_samples_split,\n",
        "              'min_samples_leaf': min_samples_leaf}"
      ]
    },
    {
      "cell_type": "code",
      "execution_count": null,
      "metadata": {
        "id": "Di1axB0nT538"
      },
      "outputs": [],
      "source": [
        "# Create an instance of the decision tree\n",
        "dtc = DecisionTreeClassifier()\n",
        "\n",
        "# Grid search\n",
        "dtc_grid = GridSearchCV(estimator=dtc,\n",
        "                       param_grid = param_dict,\n",
        "                       cv = 5, verbose=3, n_jobs = -1, scoring='roc_auc')\n",
        "# fitting model\n",
        "dtc_grid.fit(X_train, y_train)"
      ]
    },
    {
      "cell_type": "code",
      "execution_count": null,
      "metadata": {
        "id": "E7_AeaxtT539"
      },
      "outputs": [],
      "source": [
        "dtc_grid.best_estimator_"
      ]
    },
    {
      "cell_type": "code",
      "execution_count": null,
      "metadata": {
        "id": "u1alKarGT539"
      },
      "outputs": [],
      "source": [
        "dtc_grid.best_params_"
      ]
    },
    {
      "cell_type": "code",
      "execution_count": null,
      "metadata": {
        "id": "ZcjDMtTMT539"
      },
      "outputs": [],
      "source": [
        "dtc_optimal_model = dtc_grid.best_estimator_"
      ]
    },
    {
      "cell_type": "code",
      "execution_count": null,
      "metadata": {
        "id": "hkREOs4-T539"
      },
      "outputs": [],
      "source": [
        "#class prediction of y on train and test\n",
        "y_pred_dtc_grid=dtc_optimal_model.predict(X_test)\n",
        "y_train_pred_dtc_grid=dtc_optimal_model.predict(X_train)\n",
        "\n",
        "# Get the probabilities on train and test\n",
        "y_pred_prob_dtc_grid = dtc_optimal_model.predict_proba(X_train)[:,1]\n",
        "y_train_pred_prob_dtc_grid = dtc_optimal_model.predict_proba(X_test)[:,1]"
      ]
    },
    {
      "cell_type": "code",
      "execution_count": null,
      "metadata": {
        "id": "Cr2rxcIFT539"
      },
      "outputs": [],
      "source": [
        "#getting all scores for decision tree after CV and Hyperparameter Tunning\n",
        "train_accuracy_dtc_grid = round(accuracy_score(y_train_pred_dtc_grid,y_train), 3)\n",
        "accuracy_dtc_grid = round(accuracy_score(y_pred_dtc_grid,y_test), 3)\n",
        "precision_score_dtc_grid = round(precision_score(y_pred_dtc_grid,y_test), 3)\n",
        "recall_score_dtc_grid = round(recall_score(y_pred_dtc_grid,y_test), 3)\n",
        "f1_score_dtc_grid = round(f1_score(y_pred_dtc_grid,y_test), 3)\n",
        "auc_dtc_grid = round(roc_auc_score(y_pred_dtc_grid,y_test), 3)\n",
        "\n",
        "print(\"The accuracy on train data is \", train_accuracy_dtc_grid)\n",
        "print(\"The accuracy on test data is \", accuracy_dtc_grid)\n",
        "print(\"The precision on test data is \", precision_score_dtc_grid)\n",
        "print(\"The recall on test data is \", recall_score_dtc_grid)\n",
        "print(\"The f1 on test data is \", f1_score_dtc_grid)\n",
        "print(\"The auc on test data is \", auc_dtc_grid)"
      ]
    },
    {
      "cell_type": "code",
      "execution_count": null,
      "metadata": {
        "id": "hlOmd91jT53-"
      },
      "outputs": [],
      "source": [
        "# Get the confusion matrices for train and test\n",
        "train_cm_dtc_grid = confusion_matrix(y_train,y_train_pred_dtc_grid)\n",
        "test_cm_dtc_grid = confusion_matrix(y_test,y_pred_dtc_grid )"
      ]
    },
    {
      "cell_type": "code",
      "execution_count": null,
      "metadata": {
        "id": "C_X0gBgoofNj"
      },
      "outputs": [],
      "source": [
        "train_cm_dtc_grid"
      ]
    },
    {
      "cell_type": "code",
      "execution_count": null,
      "metadata": {
        "id": "vbCgSb8nofKy"
      },
      "outputs": [],
      "source": [
        "test_cm_dtc_grid"
      ]
    },
    {
      "cell_type": "markdown",
      "metadata": {
        "id": "5nI6dccfZB2p"
      },
      "source": [
        "## **Support Vector Machine**"
      ]
    },
    {
      "cell_type": "code",
      "execution_count": null,
      "metadata": {
        "id": "6xpR1UZm-TWc"
      },
      "outputs": [],
      "source": [
        "from sklearn.model_selection import RandomizedSearchCV"
      ]
    },
    {
      "cell_type": "code",
      "execution_count": null,
      "metadata": {
        "id": "NdYV19QiZT5h"
      },
      "outputs": [],
      "source": [
        "# Hyperparameter Grid\n",
        "param_dict = {'C':[1, 10] ,\n",
        "              'kernel': ['rbf']}"
      ]
    },
    {
      "cell_type": "code",
      "execution_count": null,
      "metadata": {
        "id": "vLGZl6aTZT5m"
      },
      "outputs": [],
      "source": [
        "# Create an instance of the support vector classifier\n",
        "svm=SVC(probability=True)\n",
        "\n",
        "# Grid search\n",
        "svm_grid = RandomizedSearchCV(estimator = svm, param_distributions = param_dict,\n",
        "                       cv = 2, verbose=2, n_jobs = -1, scoring= 'roc_auc')\n",
        "# fitting model\n",
        "svm_grid.fit(X_train, y_train)"
      ]
    },
    {
      "cell_type": "code",
      "execution_count": null,
      "metadata": {
        "id": "4fXzE1jqZT5n"
      },
      "outputs": [],
      "source": [
        "svm_grid.best_estimator_"
      ]
    },
    {
      "cell_type": "code",
      "execution_count": null,
      "metadata": {
        "id": "xN3lCCyYZT5n"
      },
      "outputs": [],
      "source": [
        "svm_grid.best_params_"
      ]
    },
    {
      "cell_type": "code",
      "execution_count": null,
      "metadata": {
        "id": "Bs0xWqoLZT5n"
      },
      "outputs": [],
      "source": [
        "svm_optimal_model = svm_grid.best_estimator_"
      ]
    },
    {
      "cell_type": "code",
      "execution_count": null,
      "metadata": {
        "id": "7BAu0wsWZT5n"
      },
      "outputs": [],
      "source": [
        "#class prediction of y on train and test\n",
        "y_pred_svm_grid=svm_optimal_model.predict(X_test)\n",
        "y_train_pred_svm_grid=svm_optimal_model.predict(X_train)\n",
        "\n",
        "# Get the probabilities on train and test\n",
        "y_pred_prob_svm_grid = svm_optimal_model.predict_proba(X_train)[:,1]\n",
        "y_train_pred_prob_svm_grid = svm_optimal_model.predict_proba(X_test)[:,1]"
      ]
    },
    {
      "cell_type": "code",
      "execution_count": null,
      "metadata": {
        "id": "UKTY5DGoZT5o"
      },
      "outputs": [],
      "source": [
        "#getting all scores for Support Vector Classifier after CV and Hyperparameter Tunning\n",
        "train_accuracy_svm_grid = round(accuracy_score(y_train_pred_svm_grid,y_train), 3)\n",
        "accuracy_svm_grid = round(accuracy_score(y_pred_svm_grid,y_test), 3)\n",
        "precision_score_svm_grid = round(precision_score(y_pred_svm_grid,y_test), 3)\n",
        "recall_score_svm_grid = round(recall_score(y_pred_svm_grid,y_test), 3)\n",
        "f1_score_svm_grid = round(f1_score(y_pred_svm_grid,y_test), 3)\n",
        "auc_svm_grid = round(roc_auc_score(y_pred_svm_grid,y_test), 3)\n",
        "\n",
        "print(\"The accuracy on train data is \", train_accuracy_svm_grid)\n",
        "print(\"The accuracy on test data is \", accuracy_svm_grid)\n",
        "print(\"The precision on test data is \", precision_score_svm_grid)\n",
        "print(\"The recall on test data is \", recall_score_svm_grid)\n",
        "print(\"The f1 on test data is \", f1_score_svm_grid)\n",
        "print(\"The auc on test data is \", auc_svm_grid)"
      ]
    },
    {
      "cell_type": "code",
      "execution_count": null,
      "metadata": {
        "id": "WXjPUQAdZT5o"
      },
      "outputs": [],
      "source": [
        "# Get the confusion matrices for train and test\n",
        "train_cm_svm_grid = confusion_matrix(y_train,y_train_pred_svm_grid)\n",
        "test_cm_svm_grid = confusion_matrix(y_test,y_pred_svm_grid )"
      ]
    },
    {
      "cell_type": "code",
      "execution_count": null,
      "metadata": {
        "id": "mHDxrX5fTm0n"
      },
      "outputs": [],
      "source": [
        "train_cm_svm_grid"
      ]
    },
    {
      "cell_type": "code",
      "execution_count": null,
      "metadata": {
        "id": "Q76hFgK-heP2"
      },
      "outputs": [],
      "source": []
    },
    {
      "cell_type": "markdown",
      "metadata": {
        "id": "TGJ-gRiYVMCx"
      },
      "source": [
        "## **Random Forest Classifer**"
      ]
    },
    {
      "cell_type": "code",
      "execution_count": null,
      "metadata": {
        "id": "R-vfSURrIqpl"
      },
      "outputs": [],
      "source": [
        "# Number of trees\n",
        "n_estimators = [100,150,200]\n",
        "\n",
        "# Maximum depth of trees\n",
        "max_depth = [10,20,30]\n",
        "\n",
        "# Minimum number of samples required to split a node\n",
        "min_samples_split = [50,100,150]\n",
        "\n",
        "# Minimum number of samples required at each leaf node\n",
        "min_samples_leaf = [40,50]\n",
        "\n",
        "# Hyperparameter Grid\n",
        "param_dict = {'n_estimators' : n_estimators,\n",
        "              'max_depth' : max_depth,\n",
        "              'min_samples_split' : min_samples_split,\n",
        "              'min_samples_leaf' : min_samples_leaf}"
      ]
    },
    {
      "cell_type": "code",
      "execution_count": null,
      "metadata": {
        "id": "-Bg4U0X3Iz9O"
      },
      "outputs": [],
      "source": [
        "# Create an instance of the RandomForestClassifier\n",
        "rfc = RandomForestClassifier()\n",
        "\n",
        "# Grid search\n",
        "rfc_grid = GridSearchCV(estimator=rfc,\n",
        "                       param_grid = param_dict,\n",
        "                       cv = 5, verbose=2, scoring='roc_auc')\n",
        "# fitting model\n",
        "rfc_grid.fit(X_train,y_train)"
      ]
    },
    {
      "cell_type": "code",
      "execution_count": null,
      "metadata": {
        "id": "tfcQ7wTpJf1t"
      },
      "outputs": [],
      "source": [
        "rfc_grid.best_estimator_"
      ]
    },
    {
      "cell_type": "code",
      "execution_count": null,
      "metadata": {
        "id": "DYOUV0r_Jlo3"
      },
      "outputs": [],
      "source": [
        "rfc_grid.best_params_"
      ]
    },
    {
      "cell_type": "code",
      "execution_count": null,
      "metadata": {
        "id": "fEz3MdncJfyw"
      },
      "outputs": [],
      "source": [
        "rfc_optimal_model = rfc_grid.best_estimator_"
      ]
    },
    {
      "cell_type": "code",
      "execution_count": null,
      "metadata": {
        "id": "cF2r3W_zJfvr"
      },
      "outputs": [],
      "source": [
        "#class prediction of y on train and test\n",
        "y_pred_rfc_grid=rfc_optimal_model.predict(X_test)\n",
        "y_train_pred_rfc_grid=rfc_optimal_model.predict(X_train)\n",
        "\n",
        "# Get the probabilities on train and test\n",
        "y_pred_prob_rfc_grid = rfc_optimal_model.predict_proba(X_train)[:,1]\n",
        "y_train_pred_prob_rfc_grid = rfc_optimal_model.predict_proba(X_test)[:,1]"
      ]
    },
    {
      "cell_type": "code",
      "execution_count": null,
      "metadata": {
        "id": "pAoDDAhyJfsw"
      },
      "outputs": [],
      "source": [
        "#getting all scores for Random Forest Classifier after CV and Hyperparameter Tunning\n",
        "train_accuracy_rfc_grid = round(accuracy_score(y_train_pred_rfc_grid,y_train), 3)\n",
        "accuracy_rfc_grid = round(accuracy_score(y_pred_rfc_grid,y_test), 3)\n",
        "precision_score_rfc_grid = round(precision_score(y_pred_rfc_grid,y_test), 3)\n",
        "recall_score_rfc_grid = round(recall_score(y_pred_rfc_grid,y_test), 3)\n",
        "f1_score_rfc_grid = round(f1_score(y_pred_rfc_grid,y_test), 3)\n",
        "auc_rfc_grid = round(roc_auc_score(y_pred_rfc_grid,y_test), 3)\n",
        "\n",
        "print(\"The accuracy on train data is \", train_accuracy_rfc_grid)\n",
        "print(\"The accuracy on test data is \", accuracy_rfc_grid)\n",
        "print(\"The precision on test data is \", precision_score_rfc_grid)\n",
        "print(\"The recall on test data is \", recall_score_rfc_grid)\n",
        "print(\"The f1 on test data is \", f1_score_rfc_grid)\n",
        "print(\"The auc on test data is \", auc_rfc_grid)"
      ]
    },
    {
      "cell_type": "code",
      "execution_count": null,
      "metadata": {
        "id": "tlQ3NPZ0Jfpu"
      },
      "outputs": [],
      "source": [
        "# Get the confusion matrices for train and test\n",
        "train_cm_rfc_grid = confusion_matrix(y_train,y_train_pred_rfc_grid)\n",
        "test_cm_rfc_grid = confusion_matrix(y_test,y_pred_rfc_grid )"
      ]
    },
    {
      "cell_type": "code",
      "execution_count": null,
      "metadata": {
        "id": "8j5zEzqb6E0c"
      },
      "outputs": [],
      "source": [
        "train_cm_rfc_grid"
      ]
    },
    {
      "cell_type": "code",
      "execution_count": null,
      "metadata": {
        "id": "WIiDJagg6F7V"
      },
      "outputs": [],
      "source": [
        "test_cm_rfc_grid"
      ]
    },
    {
      "cell_type": "markdown",
      "metadata": {
        "id": "WYFTO_WbNhKg"
      },
      "source": [
        "## **Gradient Boosting**"
      ]
    },
    {
      "cell_type": "code",
      "execution_count": null,
      "metadata": {
        "id": "fTt0ddvDeHe2"
      },
      "outputs": [],
      "source": [
        "# to shrinks the contribution of each tree by learning_rate\n",
        "learning_rates = [1, 0.5, 0.25, 0.1, 0.05, 0.01]\n",
        "\n",
        "# Number of trees\n",
        "n_estimators = [100,150,200]\n",
        "\n",
        "# Maximum depth of trees\n",
        "max_depth = [10,20,30]\n",
        "\n",
        "# Minimum number of samples required to split a node\n",
        "min_samples_split = [50,100,150]\n",
        "\n",
        "# Minimum number of samples required at each leaf node\n",
        "min_samples_leaf = [40,50]\n",
        "\n",
        "# Hyperparameter Grid\n",
        "param_dict = {'learning_rate': learning_rates,\n",
        "              'n_estimators' : n_estimators,\n",
        "              'max_depth' : max_depth,\n",
        "              'min_samples_split' : min_samples_split,\n",
        "              'min_samples_leaf' : min_samples_leaf}"
      ]
    },
    {
      "cell_type": "code",
      "execution_count": 266,
      "metadata": {
        "colab": {
          "base_uri": "https://localhost:8080/"
        },
        "id": "U8MSlw_0eHe3",
        "outputId": "287277a9-1c0c-4066-9f82-e17103aed845"
      },
      "outputs": [
        {
          "output_type": "stream",
          "name": "stdout",
          "text": [
            "Fitting 2 folds for each of 10 candidates, totalling 20 fits\n",
            "[CV] END learning_rate=0.01, max_depth=20, min_samples_leaf=40, min_samples_split=50, n_estimators=200; total time= 1.1min\n",
            "[CV] END learning_rate=0.01, max_depth=20, min_samples_leaf=40, min_samples_split=50, n_estimators=200; total time= 1.1min\n",
            "[CV] END learning_rate=0.5, max_depth=30, min_samples_leaf=50, min_samples_split=50, n_estimators=200; total time= 2.2min\n",
            "[CV] END learning_rate=0.5, max_depth=30, min_samples_leaf=50, min_samples_split=50, n_estimators=200; total time= 2.1min\n",
            "[CV] END learning_rate=1, max_depth=30, min_samples_leaf=50, min_samples_split=50, n_estimators=150; total time= 1.6min\n",
            "[CV] END learning_rate=1, max_depth=30, min_samples_leaf=50, min_samples_split=50, n_estimators=150; total time= 1.6min\n",
            "[CV] END learning_rate=0.5, max_depth=10, min_samples_leaf=40, min_samples_split=100, n_estimators=100; total time=  31.1s\n",
            "[CV] END learning_rate=0.5, max_depth=10, min_samples_leaf=40, min_samples_split=100, n_estimators=100; total time=  30.8s\n",
            "[CV] END learning_rate=0.5, max_depth=10, min_samples_leaf=50, min_samples_split=100, n_estimators=100; total time=  30.7s\n",
            "[CV] END learning_rate=0.5, max_depth=10, min_samples_leaf=50, min_samples_split=100, n_estimators=100; total time=  30.7s\n",
            "[CV] END learning_rate=0.01, max_depth=20, min_samples_leaf=50, min_samples_split=100, n_estimators=200; total time= 1.1min\n",
            "[CV] END learning_rate=0.01, max_depth=20, min_samples_leaf=50, min_samples_split=100, n_estimators=200; total time= 1.1min\n",
            "[CV] END learning_rate=1, max_depth=20, min_samples_leaf=40, min_samples_split=50, n_estimators=150; total time= 1.3min\n",
            "[CV] END learning_rate=1, max_depth=20, min_samples_leaf=40, min_samples_split=50, n_estimators=150; total time= 1.3min\n",
            "[CV] END learning_rate=0.05, max_depth=30, min_samples_leaf=50, min_samples_split=50, n_estimators=150; total time= 1.1min\n",
            "[CV] END learning_rate=0.05, max_depth=30, min_samples_leaf=50, min_samples_split=50, n_estimators=150; total time= 1.1min\n",
            "[CV] END learning_rate=0.01, max_depth=10, min_samples_leaf=50, min_samples_split=150, n_estimators=150; total time=  38.5s\n",
            "[CV] END learning_rate=0.01, max_depth=10, min_samples_leaf=50, min_samples_split=150, n_estimators=150; total time=  39.8s\n",
            "[CV] END learning_rate=0.25, max_depth=20, min_samples_leaf=40, min_samples_split=100, n_estimators=100; total time=  46.9s\n",
            "[CV] END learning_rate=0.25, max_depth=20, min_samples_leaf=40, min_samples_split=100, n_estimators=100; total time=  45.3s\n"
          ]
        },
        {
          "output_type": "execute_result",
          "data": {
            "text/plain": [
              "RandomizedSearchCV(cv=2, estimator=GradientBoostingClassifier(random_state=42),\n",
              "                   param_distributions={'learning_rate': [1, 0.5, 0.25, 0.1,\n",
              "                                                          0.05, 0.01],\n",
              "                                        'max_depth': [10, 20, 30],\n",
              "                                        'min_samples_leaf': [40, 50],\n",
              "                                        'min_samples_split': [50, 100, 150],\n",
              "                                        'n_estimators': [100, 150, 200]},\n",
              "                   scoring='roc_auc', verbose=2)"
            ]
          },
          "metadata": {},
          "execution_count": 266
        }
      ],
      "source": [
        "# Create an instance of the RandomForestClassifier\n",
        "gbc = GradientBoostingClassifier(random_state=42)\n",
        "\n",
        "# Grid search\n",
        "gbc_grid = RandomizedSearchCV(estimator=gbc,\n",
        "                       param_distributions = param_dict,\n",
        "                       cv = 2, verbose=2, scoring='roc_auc')\n",
        "# fitting model\n",
        "gbc_grid.fit(X_train,y_train)"
      ]
    },
    {
      "cell_type": "code",
      "execution_count": 267,
      "metadata": {
        "colab": {
          "base_uri": "https://localhost:8080/"
        },
        "id": "DVRxGR_-eHe4",
        "outputId": "5065bde1-5870-4540-ff33-e66362bcb557"
      },
      "outputs": [
        {
          "data": {
            "text/plain": [
              "GradientBoostingClassifier(learning_rate=0.05, max_depth=30,\n",
              "                           min_samples_leaf=50, min_samples_split=50,\n",
              "                           n_estimators=150, random_state=42)"
            ]
          },
          "execution_count": 267,
          "metadata": {},
          "output_type": "execute_result"
        }
      ],
      "source": [
        "gbc_grid.best_estimator_"
      ]
    },
    {
      "cell_type": "code",
      "execution_count": 268,
      "metadata": {
        "colab": {
          "base_uri": "https://localhost:8080/"
        },
        "id": "JRSOAKnheHe4",
        "outputId": "d2922f3e-55b7-4514-bb82-d2514055a181"
      },
      "outputs": [
        {
          "data": {
            "text/plain": [
              "{'n_estimators': 150,\n",
              " 'min_samples_split': 50,\n",
              " 'min_samples_leaf': 50,\n",
              " 'max_depth': 30,\n",
              " 'learning_rate': 0.05}"
            ]
          },
          "execution_count": 268,
          "metadata": {},
          "output_type": "execute_result"
        }
      ],
      "source": [
        "gbc_grid.best_params_"
      ]
    },
    {
      "cell_type": "code",
      "execution_count": 269,
      "metadata": {
        "id": "NYUZ8Ot5eHe5"
      },
      "outputs": [],
      "source": [
        "gbc_optimal_model = gbc_grid.best_estimator_"
      ]
    },
    {
      "cell_type": "code",
      "execution_count": 270,
      "metadata": {
        "id": "OQohji0ceHe6"
      },
      "outputs": [],
      "source": [
        "#class prediction of y on train and test\n",
        "y_pred_gbc_grid=gbc_optimal_model.predict(X_test)\n",
        "y_train_pred_gbc_grid=gbc_optimal_model.predict(X_train)\n",
        "\n",
        "# Get the probabilities on train and test\n",
        "y_pred_prob_gbc_grid = gbc_optimal_model.predict_proba(X_train)[:,1]\n",
        "y_train_pred_prob_gbc_grid = gbc_optimal_model.predict_proba(X_test)[:,1]"
      ]
    },
    {
      "cell_type": "code",
      "execution_count": 271,
      "metadata": {
        "colab": {
          "base_uri": "https://localhost:8080/"
        },
        "id": "iWzKxUCJeHe6",
        "outputId": "f6f0b831-847c-46a5-d70f-3dd5f1ee5b13"
      },
      "outputs": [
        {
          "output_type": "stream",
          "name": "stdout",
          "text": [
            "The accuracy on train data is  0.979\n",
            "The accuracy on test data is  0.867\n",
            "The precision on test data is  0.829\n",
            "The recall on test data is  0.898\n",
            "The f1 on test data is  0.862\n",
            "The auc on test data is  0.87\n"
          ]
        }
      ],
      "source": [
        "#getting all scores for Gradient Boosting after CV and Hyperparameter Tunning\n",
        "train_accuracy_gbc_grid = round(accuracy_score(y_train_pred_gbc_grid,y_train), 3)\n",
        "accuracy_gbc_grid = round(accuracy_score(y_pred_gbc_grid,y_test), 3)\n",
        "precision_score_gbc_grid = round(precision_score(y_pred_gbc_grid,y_test), 3)\n",
        "recall_score_gbc_grid = round(recall_score(y_pred_gbc_grid,y_test), 3)\n",
        "f1_score_gbc_grid = round(f1_score(y_pred_gbc_grid,y_test), 3)\n",
        "auc_gbc_grid = round(roc_auc_score(y_pred_gbc_grid,y_test), 3)\n",
        "\n",
        "print(\"The accuracy on train data is \", train_accuracy_gbc_grid)\n",
        "print(\"The accuracy on test data is \", accuracy_gbc_grid)\n",
        "print(\"The precision on test data is \", precision_score_gbc_grid)\n",
        "print(\"The recall on test data is \", recall_score_gbc_grid)\n",
        "print(\"The f1 on test data is \", f1_score_gbc_grid)\n",
        "print(\"The auc on test data is \", auc_gbc_grid)"
      ]
    },
    {
      "cell_type": "code",
      "execution_count": 272,
      "metadata": {
        "id": "pjI7KDr-eHe7"
      },
      "outputs": [],
      "source": [
        "# Get the confusion matrices for train and test\n",
        "train_cm_gbc_grid = confusion_matrix(y_train,y_train_pred_gbc_grid)\n",
        "test_cm_gbc_grid = confusion_matrix(y_test,y_pred_gbc_grid )"
      ]
    },
    {
      "cell_type": "code",
      "execution_count": 273,
      "metadata": {
        "colab": {
          "base_uri": "https://localhost:8080/"
        },
        "id": "dOUbawG_6Kzs",
        "outputId": "7b30d3a8-3268-41f8-813c-ee21969e89af"
      },
      "outputs": [
        {
          "output_type": "execute_result",
          "data": {
            "text/plain": [
              "array([[18527,   164],\n",
              "       [  634, 18057]])"
            ]
          },
          "metadata": {},
          "execution_count": 273
        }
      ],
      "source": [
        "train_cm_gbc_grid"
      ]
    },
    {
      "cell_type": "code",
      "execution_count": 274,
      "metadata": {
        "colab": {
          "base_uri": "https://localhost:8080/"
        },
        "id": "gkdjMqri6KxT",
        "outputId": "722de976-e516-42db-eb67-9e56104486e6"
      },
      "outputs": [
        {
          "output_type": "execute_result",
          "data": {
            "text/plain": [
              "array([[4234,  439],\n",
              "       [ 801, 3872]])"
            ]
          },
          "metadata": {},
          "execution_count": 274
        }
      ],
      "source": [
        "test_cm_gbc_grid"
      ]
    },
    {
      "cell_type": "markdown",
      "metadata": {
        "id": "HhvEJF0frRc1"
      },
      "source": [
        "## **XG Boosting**"
      ]
    },
    {
      "cell_type": "code",
      "execution_count": 275,
      "metadata": {
        "id": "gB3Bm6eE6UfG"
      },
      "outputs": [],
      "source": [
        "from sklearn.model_selection import RandomizedSearchCV"
      ]
    },
    {
      "cell_type": "code",
      "execution_count": 276,
      "metadata": {
        "id": "3tRn39OpvrgZ"
      },
      "outputs": [],
      "source": [
        "# Hyperparameter Grid\n",
        "param_dict = {'learning_rate': [0.15, 0.1, 0.05],\n",
        "              'n_estimators' : [200, 250],\n",
        "              'max_depth' : [15,20,25],\n",
        "              'min_child_weight' : [1,3],\n",
        "              'gamma': [0.3, 0.2, 0.1],\n",
        "              'min_samples_leaf' : [40, 50]}"
      ]
    },
    {
      "cell_type": "code",
      "execution_count": null,
      "metadata": {
        "colab": {
          "base_uri": "https://localhost:8080/"
        },
        "id": "-ioVWpsUvrge",
        "outputId": "64c20a5d-84bf-489b-cf77-13c1fcc88fb6"
      },
      "outputs": [
        {
          "output_type": "stream",
          "name": "stdout",
          "text": [
            "Fitting 3 folds for each of 5 candidates, totalling 15 fits\n"
          ]
        }
      ],
      "source": [
        "# Create an instance of the RandomForestClassifier\n",
        "xgb = XGBClassifier()\n",
        "\n",
        "# Grid search\n",
        "xgb_grid = RandomizedSearchCV(estimator=xgb,\n",
        "                       param_distributions = param_dict,\n",
        "                       n_jobs=-1, n_iter=5, cv = 3,\n",
        "                       verbose=2, scoring='roc_auc')\n",
        "# fitting model\n",
        "xgb_grid.fit(X_train,y_train)"
      ]
    },
    {
      "cell_type": "code",
      "execution_count": null,
      "metadata": {
        "id": "OPUZED9mvrgg"
      },
      "outputs": [],
      "source": [
        "xgb_grid.best_estimator_"
      ]
    },
    {
      "cell_type": "code",
      "execution_count": null,
      "metadata": {
        "id": "-tXJ9Kiovrgh"
      },
      "outputs": [],
      "source": [
        "xgb_grid.best_params_"
      ]
    },
    {
      "cell_type": "code",
      "execution_count": null,
      "metadata": {
        "id": "tyRAYsFcvrgh"
      },
      "outputs": [],
      "source": [
        "xgb_optimal_model = xgb_grid.best_estimator_"
      ]
    },
    {
      "cell_type": "code",
      "execution_count": null,
      "metadata": {
        "id": "dPir_y3Gvrgj"
      },
      "outputs": [],
      "source": [
        "#class prediction of y on train and test\n",
        "y_pred_xgb_grid=xgb_optimal_model.predict(X_test)\n",
        "y_train_pred_xgb_grid=xgb_optimal_model.predict(X_train)\n",
        "\n",
        "# Get the probabilities on train and test\n",
        "y_pred_prob_xgb_grid = xgb_optimal_model.predict_proba(X_train)[:,1]\n",
        "y_train_pred_prob_xgb_grid = xgb_optimal_model.predict_proba(X_test)[:,1]"
      ]
    },
    {
      "cell_type": "code",
      "execution_count": null,
      "metadata": {
        "id": "4fZ6TWT6vrgk"
      },
      "outputs": [],
      "source": [
        "#getting all scores for XG Boosting after CV and Hyperparameter Tunning\n",
        "train_accuracy_xgb_grid = round(accuracy_score(y_train_pred_xgb_grid,y_train), 3)\n",
        "accuracy_xgb_grid = round(accuracy_score(y_pred_xgb_grid,y_test), 3)\n",
        "precision_score_xgb_grid = round(precision_score(y_pred_xgb_grid,y_test), 3)\n",
        "recall_score_xgb_grid = round(recall_score(y_pred_xgb_grid,y_test), 3)\n",
        "f1_score_xgb_grid = round(f1_score(y_pred_xgb_grid,y_test), 3)\n",
        "auc_xgb_grid = round(roc_auc_score(y_pred_xgb_grid,y_test), 3)\n",
        "\n",
        "print(\"The accuracy on train data is \", train_accuracy_xgb_grid)\n",
        "print(\"The accuracy on test data is \", accuracy_xgb_grid)\n",
        "print(\"The precision on test data is \", precision_score_xgb_grid)\n",
        "print(\"The recall on test data is \", recall_score_xgb_grid)\n",
        "print(\"The f1 on test data is \", f1_score_xgb_grid)\n",
        "print(\"The auc on test data is \", auc_xgb_grid)"
      ]
    },
    {
      "cell_type": "code",
      "execution_count": null,
      "metadata": {
        "id": "VFgOyD-jvrgl"
      },
      "outputs": [],
      "source": [
        "# Get the confusion matrices for train and test\n",
        "train_cm_xgb_grid = confusion_matrix(y_train,y_train_pred_xgb_grid)\n",
        "test_cm_xgb_grid = confusion_matrix(y_test,y_pred_xgb_grid )"
      ]
    },
    {
      "cell_type": "markdown",
      "metadata": {
        "id": "9Ou4AtBbb5bi"
      },
      "source": [
        "# **Final Model Comparision**"
      ]
    },
    {
      "cell_type": "code",
      "execution_count": null,
      "metadata": {
        "id": "BrVe-hXPcHzw"
      },
      "outputs": [],
      "source": [
        "grid_classifiers = ['Optimal Logistic Regression', 'Optimal Decision Tree', 'Optimal Random Forest', 'Optimal SVM', 'Optimal Gradient Boosting', 'Optimal XG Boosting']\n",
        "grid_train_accuracy = [train_accuracy_logi_grid, train_accuracy_dtc_grid, train_accuracy_rfc_grid, train_accuracy_svm_grid, train_accuracy_gbc_grid, train_accuracy_xgb_grid]\n",
        "grid_test_accuracy = [accuracy_logi_grid, accuracy_dtc_grid, accuracy_rfc_grid, accuracy_svm_grid, accuracy_gbc_grid, accuracy_xgb_grid]\n",
        "grid_precision_score = [precision_score_logi_grid, precision_score_dtc_grid, precision_score_rfc_grid, precision_score_svm_grid, precision_score_gbc_grid, precision_score_xgb_grid]\n",
        "grid_recall_score = [recall_score_logi_grid, recall_score_dtc_grid, recall_score_rfc_grid, recall_score_svm_grid, recall_score_gbc_grid, recall_score_xgb_grid]\n",
        "grid_f1_score = [f1_score_logi_grid, f1_score_dtc_grid, f1_score_rfc_grid, f1_score_svm_grid, f1_score_gbc_grid, f1_score_xgb_grid]\n",
        "grid_auc_score = [auc_logi_grid, auc_dtc_grid, auc_rfc_grid, auc_svm_grid, auc_gbc_grid, auc_xgb_grid]"
      ]
    },
    {
      "cell_type": "code",
      "execution_count": null,
      "metadata": {
        "id": "w5Fzkxdcd0fj"
      },
      "outputs": [],
      "source": [
        "grid_compare_df = pd.DataFrame({'Classifier':grid_classifiers, 'Train Accuracy': grid_train_accuracy, 'Test Accuracy': grid_test_accuracy, 'Precision': grid_precision_score, 'Recall': grid_recall_score, 'F1 Score': grid_f1_score , 'AUC': grid_auc_score})"
      ]
    },
    {
      "cell_type": "code",
      "execution_count": null,
      "metadata": {
        "id": "QwxMONbgXxEr"
      },
      "outputs": [],
      "source": [
        "all_comparision_df = pd.concat([compare_df, grid_compare_df]).reset_index()"
      ]
    },
    {
      "cell_type": "code",
      "execution_count": null,
      "metadata": {
        "id": "icHcQraXi2Sc"
      },
      "outputs": [],
      "source": [
        "all_comparision_df.drop('index', axis=1, inplace=True)"
      ]
    },
    {
      "cell_type": "code",
      "execution_count": null,
      "metadata": {
        "id": "s97G_a3yjGjn"
      },
      "outputs": [],
      "source": [
        "all_comparision_df.sort_values('AUC', axis=0, ascending=False, inplace=True)"
      ]
    },
    {
      "cell_type": "code",
      "execution_count": null,
      "metadata": {
        "id": "9UcLWjIHkfvm"
      },
      "outputs": [],
      "source": [
        "all_comparision_df"
      ]
    }
  ],
  "metadata": {
    "colab": {
      "provenance": [],
      "collapsed_sections": [
        "ijS9V8B1H4EY",
        "UHjSs2UZbHXS",
        "FgQqTHJGJLfJ",
        "zM572apUQpst",
        "LDHUcIGjQ9NA",
        "PFGqyKldq1kq",
        "G9HNqmMPHDVz",
        "TGJ-gRiYVMCx",
        "HhvEJF0frRc1"
      ],
      "include_colab_link": true
    },
    "kernelspec": {
      "display_name": "Python 3",
      "language": "python",
      "name": "python3"
    },
    "language_info": {
      "codemirror_mode": {
        "name": "ipython",
        "version": 3
      },
      "file_extension": ".py",
      "mimetype": "text/x-python",
      "name": "python",
      "nbconvert_exporter": "python",
      "pygments_lexer": "ipython3",
      "version": "3.6.6"
    }
  },
  "nbformat": 4,
  "nbformat_minor": 0
}