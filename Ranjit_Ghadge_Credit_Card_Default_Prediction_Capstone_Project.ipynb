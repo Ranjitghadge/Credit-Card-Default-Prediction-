{
  "cells": [
    {
      "cell_type": "markdown",
      "metadata": {
        "id": "view-in-github",
        "colab_type": "text"
      },
      "source": [
        "<a href=\"https://colab.research.google.com/github/Ranjitghadge/Credit-Card-Default-Prediction-/blob/main/Ranjit_Ghadge_Credit_Card_Default_Prediction_Capstone_Project.ipynb\" target=\"_parent\"><img src=\"https://colab.research.google.com/assets/colab-badge.svg\" alt=\"Open In Colab\"/></a>"
      ]
    },
    {
      "cell_type": "markdown",
      "metadata": {
        "id": "tOGC-qoyhJeX"
      },
      "source": [
        "# <b><u> Project Title : Predicting whether a customer will default on his/her credit card </u></b>"
      ]
    },
    {
      "cell_type": "markdown",
      "metadata": {
        "id": "Y06xIdG26kRF"
      },
      "source": [
        "## <b> Problem Description </b>\n",
        "\n",
        "This project is aimed at predicting the case of customers default payments in Taiwan. From the perspective of risk management, the result of predictive accuracy of the estimated probability of default will be more valuable than the binary result of classification - credible or not credible clients. We can use the [K-S chart](https://www.listendata.com/2019/07/KS-Statistics-Python.html) to evaluate which customers will default on their credit card payments\n"
      ]
    },
    {
      "cell_type": "markdown",
      "metadata": {
        "id": "AlLxAtlziMbP"
      },
      "source": [
        "## <b> Data Description </b>\n",
        "\n",
        "### <b>Attribute Information: </b>\n",
        "\n",
        "### This research employed a binary variable, default payment (Yes = 1, No = 0), as the response variable. This study reviewed the literature and used the following 23 variables as explanatory variables:\n",
        "* ### X1: Amount of the given credit (NT dollar): it includes both the individual consumer credit and his/her family (supplementary) credit.\n",
        "* ### X2: Gender (1 = male; 2 = female).\n",
        "* ### X3: Education (1 = graduate school; 2 = university; 3 = high school; 4 = others).\n",
        "* ### X4: Marital status (1 = married; 2 = single; 3 = others).\n",
        "* ### X5: Age (year).\n",
        "* ### X6 - X11: History of past payment. We tracked the past monthly payment records (from April to September, 2005) as follows: X6 = the repayment status in September, 2005; X7 = the repayment status in August, 2005; . . .;X11 = the repayment status in April, 2005. The measurement scale for the repayment status is: -1 = pay duly; 1 = payment delay for one month; 2 = payment delay for two months; . . .; 8 = payment delay for eight months; 9 = payment delay for nine months and above.\n",
        "* ### X12-X17: Amount of bill statement (NT dollar). X12 = amount of bill statement in September, 2005; X13 = amount of bill statement in August, 2005; . . .; X17 = amount of bill statement in April, 2005.\n",
        "* ### X18-X23: Amount of previous payment (NT dollar). X18 = amount paid in September, 2005; X19 = amount paid in August, 2005; . . .;X23 = amount paid in April, 2005."
      ]
    },
    {
      "cell_type": "markdown",
      "source": [
        "## Import Libraries"
      ],
      "metadata": {
        "id": "kad5N9fE8L9e"
      }
    },
    {
      "cell_type": "code",
      "execution_count": 158,
      "metadata": {
        "id": "dByMsuzT8Tnw"
      },
      "outputs": [],
      "source": [
        "# Import all necessary libraries. \n",
        "import pandas as pd\n",
        "import numpy as np\n",
        "import seaborn as sns\n",
        "from numpy import math\n",
        "import matplotlib.pyplot as plt \n",
        "\n",
        "import warnings\n",
        "warnings.filterwarnings('ignore')"
      ]
    },
    {
      "cell_type": "markdown",
      "source": [
        "## Dataset Loading"
      ],
      "metadata": {
        "id": "SbPop0ay8WyC"
      }
    },
    {
      "cell_type": "code",
      "execution_count": 159,
      "metadata": {
        "id": "EoyK3R5rSOi2",
        "colab": {
          "base_uri": "https://localhost:8080/"
        },
        "outputId": "e7e93608-2def-40cb-bf7d-4248e3679698"
      },
      "outputs": [
        {
          "output_type": "stream",
          "name": "stdout",
          "text": [
            "Drive already mounted at /content/drive; to attempt to forcibly remount, call drive.mount(\"/content/drive\", force_remount=True).\n"
          ]
        }
      ],
      "source": [
        "# Connect Google collab with drive\n",
        "from google.colab import drive\n",
        "df1= drive.mount('/content/drive')"
      ]
    },
    {
      "cell_type": "code",
      "execution_count": 160,
      "metadata": {
        "id": "FdFytIyGSd9E"
      },
      "outputs": [],
      "source": [
        "#Import data frame from drive as Df\n",
        "df=pd.read_csv('/content/drive/MyDrive/Data Science/Almabetter/Colab Notebooks/Projects/Classification Project/default of credit card clients.xls - Data.csv',header=1)"
      ]
    },
    {
      "cell_type": "markdown",
      "source": [
        "## Dataset First View"
      ],
      "metadata": {
        "id": "kMdWZrya8gx9"
      }
    },
    {
      "cell_type": "code",
      "execution_count": 161,
      "metadata": {
        "id": "LOusJcdOSd6C",
        "colab": {
          "base_uri": "https://localhost:8080/",
          "height": 322
        },
        "outputId": "8d1010ce-958a-4c65-addd-e24f5a349663"
      },
      "outputs": [
        {
          "output_type": "execute_result",
          "data": {
            "text/plain": [
              "   ID  LIMIT_BAL  SEX  EDUCATION  MARRIAGE  AGE  PAY_0  PAY_2  PAY_3  PAY_4  \\\n",
              "0   1      20000    2          2         1   24      2      2     -1     -1   \n",
              "1   2     120000    2          2         2   26     -1      2      0      0   \n",
              "2   3      90000    2          2         2   34      0      0      0      0   \n",
              "3   4      50000    2          2         1   37      0      0      0      0   \n",
              "4   5      50000    1          2         1   57     -1      0     -1      0   \n",
              "\n",
              "   PAY_5  PAY_6  BILL_AMT1  BILL_AMT2  BILL_AMT3  BILL_AMT4  BILL_AMT5  \\\n",
              "0     -2     -2       3913       3102        689          0          0   \n",
              "1      0      2       2682       1725       2682       3272       3455   \n",
              "2      0      0      29239      14027      13559      14331      14948   \n",
              "3      0      0      46990      48233      49291      28314      28959   \n",
              "4      0      0       8617       5670      35835      20940      19146   \n",
              "\n",
              "   BILL_AMT6  PAY_AMT1  PAY_AMT2  PAY_AMT3  PAY_AMT4  PAY_AMT5  PAY_AMT6  \\\n",
              "0          0         0       689         0         0         0         0   \n",
              "1       3261         0      1000      1000      1000         0      2000   \n",
              "2      15549      1518      1500      1000      1000      1000      5000   \n",
              "3      29547      2000      2019      1200      1100      1069      1000   \n",
              "4      19131      2000     36681     10000      9000       689       679   \n",
              "\n",
              "   default payment next month  \n",
              "0                           1  \n",
              "1                           1  \n",
              "2                           0  \n",
              "3                           0  \n",
              "4                           0  "
            ],
            "text/html": [
              "\n",
              "  <div id=\"df-a8c4b7bb-690e-4bf3-a7a1-6caaf90f8688\">\n",
              "    <div class=\"colab-df-container\">\n",
              "      <div>\n",
              "<style scoped>\n",
              "    .dataframe tbody tr th:only-of-type {\n",
              "        vertical-align: middle;\n",
              "    }\n",
              "\n",
              "    .dataframe tbody tr th {\n",
              "        vertical-align: top;\n",
              "    }\n",
              "\n",
              "    .dataframe thead th {\n",
              "        text-align: right;\n",
              "    }\n",
              "</style>\n",
              "<table border=\"1\" class=\"dataframe\">\n",
              "  <thead>\n",
              "    <tr style=\"text-align: right;\">\n",
              "      <th></th>\n",
              "      <th>ID</th>\n",
              "      <th>LIMIT_BAL</th>\n",
              "      <th>SEX</th>\n",
              "      <th>EDUCATION</th>\n",
              "      <th>MARRIAGE</th>\n",
              "      <th>AGE</th>\n",
              "      <th>PAY_0</th>\n",
              "      <th>PAY_2</th>\n",
              "      <th>PAY_3</th>\n",
              "      <th>PAY_4</th>\n",
              "      <th>PAY_5</th>\n",
              "      <th>PAY_6</th>\n",
              "      <th>BILL_AMT1</th>\n",
              "      <th>BILL_AMT2</th>\n",
              "      <th>BILL_AMT3</th>\n",
              "      <th>BILL_AMT4</th>\n",
              "      <th>BILL_AMT5</th>\n",
              "      <th>BILL_AMT6</th>\n",
              "      <th>PAY_AMT1</th>\n",
              "      <th>PAY_AMT2</th>\n",
              "      <th>PAY_AMT3</th>\n",
              "      <th>PAY_AMT4</th>\n",
              "      <th>PAY_AMT5</th>\n",
              "      <th>PAY_AMT6</th>\n",
              "      <th>default payment next month</th>\n",
              "    </tr>\n",
              "  </thead>\n",
              "  <tbody>\n",
              "    <tr>\n",
              "      <th>0</th>\n",
              "      <td>1</td>\n",
              "      <td>20000</td>\n",
              "      <td>2</td>\n",
              "      <td>2</td>\n",
              "      <td>1</td>\n",
              "      <td>24</td>\n",
              "      <td>2</td>\n",
              "      <td>2</td>\n",
              "      <td>-1</td>\n",
              "      <td>-1</td>\n",
              "      <td>-2</td>\n",
              "      <td>-2</td>\n",
              "      <td>3913</td>\n",
              "      <td>3102</td>\n",
              "      <td>689</td>\n",
              "      <td>0</td>\n",
              "      <td>0</td>\n",
              "      <td>0</td>\n",
              "      <td>0</td>\n",
              "      <td>689</td>\n",
              "      <td>0</td>\n",
              "      <td>0</td>\n",
              "      <td>0</td>\n",
              "      <td>0</td>\n",
              "      <td>1</td>\n",
              "    </tr>\n",
              "    <tr>\n",
              "      <th>1</th>\n",
              "      <td>2</td>\n",
              "      <td>120000</td>\n",
              "      <td>2</td>\n",
              "      <td>2</td>\n",
              "      <td>2</td>\n",
              "      <td>26</td>\n",
              "      <td>-1</td>\n",
              "      <td>2</td>\n",
              "      <td>0</td>\n",
              "      <td>0</td>\n",
              "      <td>0</td>\n",
              "      <td>2</td>\n",
              "      <td>2682</td>\n",
              "      <td>1725</td>\n",
              "      <td>2682</td>\n",
              "      <td>3272</td>\n",
              "      <td>3455</td>\n",
              "      <td>3261</td>\n",
              "      <td>0</td>\n",
              "      <td>1000</td>\n",
              "      <td>1000</td>\n",
              "      <td>1000</td>\n",
              "      <td>0</td>\n",
              "      <td>2000</td>\n",
              "      <td>1</td>\n",
              "    </tr>\n",
              "    <tr>\n",
              "      <th>2</th>\n",
              "      <td>3</td>\n",
              "      <td>90000</td>\n",
              "      <td>2</td>\n",
              "      <td>2</td>\n",
              "      <td>2</td>\n",
              "      <td>34</td>\n",
              "      <td>0</td>\n",
              "      <td>0</td>\n",
              "      <td>0</td>\n",
              "      <td>0</td>\n",
              "      <td>0</td>\n",
              "      <td>0</td>\n",
              "      <td>29239</td>\n",
              "      <td>14027</td>\n",
              "      <td>13559</td>\n",
              "      <td>14331</td>\n",
              "      <td>14948</td>\n",
              "      <td>15549</td>\n",
              "      <td>1518</td>\n",
              "      <td>1500</td>\n",
              "      <td>1000</td>\n",
              "      <td>1000</td>\n",
              "      <td>1000</td>\n",
              "      <td>5000</td>\n",
              "      <td>0</td>\n",
              "    </tr>\n",
              "    <tr>\n",
              "      <th>3</th>\n",
              "      <td>4</td>\n",
              "      <td>50000</td>\n",
              "      <td>2</td>\n",
              "      <td>2</td>\n",
              "      <td>1</td>\n",
              "      <td>37</td>\n",
              "      <td>0</td>\n",
              "      <td>0</td>\n",
              "      <td>0</td>\n",
              "      <td>0</td>\n",
              "      <td>0</td>\n",
              "      <td>0</td>\n",
              "      <td>46990</td>\n",
              "      <td>48233</td>\n",
              "      <td>49291</td>\n",
              "      <td>28314</td>\n",
              "      <td>28959</td>\n",
              "      <td>29547</td>\n",
              "      <td>2000</td>\n",
              "      <td>2019</td>\n",
              "      <td>1200</td>\n",
              "      <td>1100</td>\n",
              "      <td>1069</td>\n",
              "      <td>1000</td>\n",
              "      <td>0</td>\n",
              "    </tr>\n",
              "    <tr>\n",
              "      <th>4</th>\n",
              "      <td>5</td>\n",
              "      <td>50000</td>\n",
              "      <td>1</td>\n",
              "      <td>2</td>\n",
              "      <td>1</td>\n",
              "      <td>57</td>\n",
              "      <td>-1</td>\n",
              "      <td>0</td>\n",
              "      <td>-1</td>\n",
              "      <td>0</td>\n",
              "      <td>0</td>\n",
              "      <td>0</td>\n",
              "      <td>8617</td>\n",
              "      <td>5670</td>\n",
              "      <td>35835</td>\n",
              "      <td>20940</td>\n",
              "      <td>19146</td>\n",
              "      <td>19131</td>\n",
              "      <td>2000</td>\n",
              "      <td>36681</td>\n",
              "      <td>10000</td>\n",
              "      <td>9000</td>\n",
              "      <td>689</td>\n",
              "      <td>679</td>\n",
              "      <td>0</td>\n",
              "    </tr>\n",
              "  </tbody>\n",
              "</table>\n",
              "</div>\n",
              "      <button class=\"colab-df-convert\" onclick=\"convertToInteractive('df-a8c4b7bb-690e-4bf3-a7a1-6caaf90f8688')\"\n",
              "              title=\"Convert this dataframe to an interactive table.\"\n",
              "              style=\"display:none;\">\n",
              "        \n",
              "  <svg xmlns=\"http://www.w3.org/2000/svg\" height=\"24px\"viewBox=\"0 0 24 24\"\n",
              "       width=\"24px\">\n",
              "    <path d=\"M0 0h24v24H0V0z\" fill=\"none\"/>\n",
              "    <path d=\"M18.56 5.44l.94 2.06.94-2.06 2.06-.94-2.06-.94-.94-2.06-.94 2.06-2.06.94zm-11 1L8.5 8.5l.94-2.06 2.06-.94-2.06-.94L8.5 2.5l-.94 2.06-2.06.94zm10 10l.94 2.06.94-2.06 2.06-.94-2.06-.94-.94-2.06-.94 2.06-2.06.94z\"/><path d=\"M17.41 7.96l-1.37-1.37c-.4-.4-.92-.59-1.43-.59-.52 0-1.04.2-1.43.59L10.3 9.45l-7.72 7.72c-.78.78-.78 2.05 0 2.83L4 21.41c.39.39.9.59 1.41.59.51 0 1.02-.2 1.41-.59l7.78-7.78 2.81-2.81c.8-.78.8-2.07 0-2.86zM5.41 20L4 18.59l7.72-7.72 1.47 1.35L5.41 20z\"/>\n",
              "  </svg>\n",
              "      </button>\n",
              "      \n",
              "  <style>\n",
              "    .colab-df-container {\n",
              "      display:flex;\n",
              "      flex-wrap:wrap;\n",
              "      gap: 12px;\n",
              "    }\n",
              "\n",
              "    .colab-df-convert {\n",
              "      background-color: #E8F0FE;\n",
              "      border: none;\n",
              "      border-radius: 50%;\n",
              "      cursor: pointer;\n",
              "      display: none;\n",
              "      fill: #1967D2;\n",
              "      height: 32px;\n",
              "      padding: 0 0 0 0;\n",
              "      width: 32px;\n",
              "    }\n",
              "\n",
              "    .colab-df-convert:hover {\n",
              "      background-color: #E2EBFA;\n",
              "      box-shadow: 0px 1px 2px rgba(60, 64, 67, 0.3), 0px 1px 3px 1px rgba(60, 64, 67, 0.15);\n",
              "      fill: #174EA6;\n",
              "    }\n",
              "\n",
              "    [theme=dark] .colab-df-convert {\n",
              "      background-color: #3B4455;\n",
              "      fill: #D2E3FC;\n",
              "    }\n",
              "\n",
              "    [theme=dark] .colab-df-convert:hover {\n",
              "      background-color: #434B5C;\n",
              "      box-shadow: 0px 1px 3px 1px rgba(0, 0, 0, 0.15);\n",
              "      filter: drop-shadow(0px 1px 2px rgba(0, 0, 0, 0.3));\n",
              "      fill: #FFFFFF;\n",
              "    }\n",
              "  </style>\n",
              "\n",
              "      <script>\n",
              "        const buttonEl =\n",
              "          document.querySelector('#df-a8c4b7bb-690e-4bf3-a7a1-6caaf90f8688 button.colab-df-convert');\n",
              "        buttonEl.style.display =\n",
              "          google.colab.kernel.accessAllowed ? 'block' : 'none';\n",
              "\n",
              "        async function convertToInteractive(key) {\n",
              "          const element = document.querySelector('#df-a8c4b7bb-690e-4bf3-a7a1-6caaf90f8688');\n",
              "          const dataTable =\n",
              "            await google.colab.kernel.invokeFunction('convertToInteractive',\n",
              "                                                     [key], {});\n",
              "          if (!dataTable) return;\n",
              "\n",
              "          const docLinkHtml = 'Like what you see? Visit the ' +\n",
              "            '<a target=\"_blank\" href=https://colab.research.google.com/notebooks/data_table.ipynb>data table notebook</a>'\n",
              "            + ' to learn more about interactive tables.';\n",
              "          element.innerHTML = '';\n",
              "          dataTable['output_type'] = 'display_data';\n",
              "          await google.colab.output.renderOutput(dataTable, element);\n",
              "          const docLink = document.createElement('div');\n",
              "          docLink.innerHTML = docLinkHtml;\n",
              "          element.appendChild(docLink);\n",
              "        }\n",
              "      </script>\n",
              "    </div>\n",
              "  </div>\n",
              "  "
            ]
          },
          "metadata": {},
          "execution_count": 161
        }
      ],
      "source": [
        "#viewing dataset\n",
        "df.head()"
      ]
    },
    {
      "cell_type": "markdown",
      "source": [
        "## Data Desciption: \n"
      ],
      "metadata": {
        "id": "tK-HiF2F46H7"
      }
    },
    {
      "cell_type": "markdown",
      "metadata": {
        "id": "uB5gZk4WZVKL"
      },
      "source": [
        "What we know about dataset :\n",
        "\n",
        "We have records of 30000 customers. Below are the description of all features we have.\n",
        "\n",
        "* ID: ID of each client\n",
        "\n",
        "* LIMIT_BAL: Amount of given credit in NT dollars (includes individual and family/supplementary credit)\n",
        "\n",
        "* SEX: Gender (1 = male, 2 = female)\n",
        "\n",
        "* EDUCATION: (1 = graduate school, 2 = university, 3 = high school, 0,4,5,6 = others)\n",
        "\n",
        "* MARRIAGE: Marital status (0 = others, 1 = married, 2 = single, 3 = others)\n",
        "\n",
        "* AGE: Age in years\n",
        "\n",
        "**Scale for PAY_0 to PAY_6** : (-2 = No consumption, -1 = paid in full, 0 = use of revolving credit (paid minimum only), 1 = payment delay for one month, 2 = payment delay for two months, ... 8 = payment delay for eight months, 9 = payment delay for nine months and above)\n",
        "\n",
        "* PAY_0: Repayment status in September, 2005 (scale same as above)\n",
        "\n",
        "* PAY_2: Repayment status in August, 2005 (scale same as above)\n",
        "\n",
        "* PAY_3: Repayment status in July, 2005 (scale same as above)\n",
        "\n",
        "* PAY_4: Repayment status in June, 2005 (scale same as above)\n",
        "\n",
        "* PAY_5: Repayment status in May, 2005 (scale same as above)\n",
        "\n",
        "* PAY_6: Repayment status in April, 2005 (scale same as above)\n",
        "\n",
        "* BILL_AMT1: Amount of bill statement in September, 2005 (NT dollar)\n",
        "\n",
        "* BILL_AMT2: Amount of bill statement in August, 2005 (NT dollar)\n",
        "\n",
        "* BILL_AMT3: Amount of bill statement in July, 2005 (NT dollar)\n",
        "\n",
        "* BILL_AMT4: Amount of bill statement in June, 2005 (NT dollar)\n",
        "\n",
        "* BILL_AMT5: Amount of bill statement in May, 2005 (NT dollar)\n",
        "\n",
        "* BILL_AMT6: Amount of bill statement in April, 2005 (NT dollar)\n",
        "\n",
        "* PAY_AMT1: Amount of previous payment in September, 2005 (NT dollar)\n",
        "\n",
        "* PAY_AMT2: Amount of previous payment in August, 2005 (NT dollar)\n",
        "\n",
        "* PAY_AMT3: Amount of previous payment in July, 2005 (NT dollar)\n",
        "\n",
        "* PAY_AMT4: Amount of previous payment in June, 2005 (NT dollar)\n",
        "\n",
        "* PAY_AMT5: Amount of previous payment in May, 2005 (NT dollar)\n",
        "\n",
        "* PAY_AMT6: Amount of previous payment in April, 2005 (NT dollar)\n",
        "\n",
        "* default.payment.next.month: Default payment (1=yes, 0=no)"
      ]
    },
    {
      "cell_type": "markdown",
      "source": [
        "## Dataset Rows & Columns Count"
      ],
      "metadata": {
        "id": "lBE8a-Og8xKJ"
      }
    },
    {
      "cell_type": "code",
      "execution_count": 162,
      "metadata": {
        "id": "iJuFGk6CSd1t",
        "colab": {
          "base_uri": "https://localhost:8080/"
        },
        "outputId": "71cd572f-39ec-4695-926a-e21aa46491c3"
      },
      "outputs": [
        {
          "output_type": "execute_result",
          "data": {
            "text/plain": [
              "(30000, 25)"
            ]
          },
          "metadata": {},
          "execution_count": 162
        }
      ],
      "source": [
        "# Check data shape\n",
        "df.shape"
      ]
    },
    {
      "cell_type": "markdown",
      "source": [
        "## Dataset Information"
      ],
      "metadata": {
        "id": "fFn-NeJO85Fx"
      }
    },
    {
      "cell_type": "code",
      "execution_count": 163,
      "metadata": {
        "id": "q9TNbROTSdyt",
        "colab": {
          "base_uri": "https://localhost:8080/"
        },
        "outputId": "d02b68df-6e9e-4905-9ca6-8b67442d35a4"
      },
      "outputs": [
        {
          "output_type": "stream",
          "name": "stdout",
          "text": [
            "<class 'pandas.core.frame.DataFrame'>\n",
            "RangeIndex: 30000 entries, 0 to 29999\n",
            "Data columns (total 25 columns):\n",
            " #   Column                      Non-Null Count  Dtype\n",
            "---  ------                      --------------  -----\n",
            " 0   ID                          30000 non-null  int64\n",
            " 1   LIMIT_BAL                   30000 non-null  int64\n",
            " 2   SEX                         30000 non-null  int64\n",
            " 3   EDUCATION                   30000 non-null  int64\n",
            " 4   MARRIAGE                    30000 non-null  int64\n",
            " 5   AGE                         30000 non-null  int64\n",
            " 6   PAY_0                       30000 non-null  int64\n",
            " 7   PAY_2                       30000 non-null  int64\n",
            " 8   PAY_3                       30000 non-null  int64\n",
            " 9   PAY_4                       30000 non-null  int64\n",
            " 10  PAY_5                       30000 non-null  int64\n",
            " 11  PAY_6                       30000 non-null  int64\n",
            " 12  BILL_AMT1                   30000 non-null  int64\n",
            " 13  BILL_AMT2                   30000 non-null  int64\n",
            " 14  BILL_AMT3                   30000 non-null  int64\n",
            " 15  BILL_AMT4                   30000 non-null  int64\n",
            " 16  BILL_AMT5                   30000 non-null  int64\n",
            " 17  BILL_AMT6                   30000 non-null  int64\n",
            " 18  PAY_AMT1                    30000 non-null  int64\n",
            " 19  PAY_AMT2                    30000 non-null  int64\n",
            " 20  PAY_AMT3                    30000 non-null  int64\n",
            " 21  PAY_AMT4                    30000 non-null  int64\n",
            " 22  PAY_AMT5                    30000 non-null  int64\n",
            " 23  PAY_AMT6                    30000 non-null  int64\n",
            " 24  default payment next month  30000 non-null  int64\n",
            "dtypes: int64(25)\n",
            "memory usage: 5.7 MB\n"
          ]
        }
      ],
      "source": [
        "# Check data info\n",
        "df.info()"
      ]
    },
    {
      "cell_type": "code",
      "execution_count": 164,
      "metadata": {
        "id": "RiPNefeJSdvu",
        "colab": {
          "base_uri": "https://localhost:8080/",
          "height": 833
        },
        "outputId": "b114b2c9-ed81-414b-938d-a78639bfff48"
      },
      "outputs": [
        {
          "output_type": "execute_result",
          "data": {
            "text/plain": [
              "                              count           mean            std       min  \\\n",
              "ID                          30000.0   15000.500000    8660.398374       1.0   \n",
              "LIMIT_BAL                   30000.0  167484.322667  129747.661567   10000.0   \n",
              "SEX                         30000.0       1.603733       0.489129       1.0   \n",
              "EDUCATION                   30000.0       1.853133       0.790349       0.0   \n",
              "MARRIAGE                    30000.0       1.551867       0.521970       0.0   \n",
              "AGE                         30000.0      35.485500       9.217904      21.0   \n",
              "PAY_0                       30000.0      -0.016700       1.123802      -2.0   \n",
              "PAY_2                       30000.0      -0.133767       1.197186      -2.0   \n",
              "PAY_3                       30000.0      -0.166200       1.196868      -2.0   \n",
              "PAY_4                       30000.0      -0.220667       1.169139      -2.0   \n",
              "PAY_5                       30000.0      -0.266200       1.133187      -2.0   \n",
              "PAY_6                       30000.0      -0.291100       1.149988      -2.0   \n",
              "BILL_AMT1                   30000.0   51223.330900   73635.860576 -165580.0   \n",
              "BILL_AMT2                   30000.0   49179.075167   71173.768783  -69777.0   \n",
              "BILL_AMT3                   30000.0   47013.154800   69349.387427 -157264.0   \n",
              "BILL_AMT4                   30000.0   43262.948967   64332.856134 -170000.0   \n",
              "BILL_AMT5                   30000.0   40311.400967   60797.155770  -81334.0   \n",
              "BILL_AMT6                   30000.0   38871.760400   59554.107537 -339603.0   \n",
              "PAY_AMT1                    30000.0    5663.580500   16563.280354       0.0   \n",
              "PAY_AMT2                    30000.0    5921.163500   23040.870402       0.0   \n",
              "PAY_AMT3                    30000.0    5225.681500   17606.961470       0.0   \n",
              "PAY_AMT4                    30000.0    4826.076867   15666.159744       0.0   \n",
              "PAY_AMT5                    30000.0    4799.387633   15278.305679       0.0   \n",
              "PAY_AMT6                    30000.0    5215.502567   17777.465775       0.0   \n",
              "default payment next month  30000.0       0.221200       0.415062       0.0   \n",
              "\n",
              "                                 25%       50%        75%        max  \n",
              "ID                           7500.75   15000.5   22500.25    30000.0  \n",
              "LIMIT_BAL                   50000.00  140000.0  240000.00  1000000.0  \n",
              "SEX                             1.00       2.0       2.00        2.0  \n",
              "EDUCATION                       1.00       2.0       2.00        6.0  \n",
              "MARRIAGE                        1.00       2.0       2.00        3.0  \n",
              "AGE                            28.00      34.0      41.00       79.0  \n",
              "PAY_0                          -1.00       0.0       0.00        8.0  \n",
              "PAY_2                          -1.00       0.0       0.00        8.0  \n",
              "PAY_3                          -1.00       0.0       0.00        8.0  \n",
              "PAY_4                          -1.00       0.0       0.00        8.0  \n",
              "PAY_5                          -1.00       0.0       0.00        8.0  \n",
              "PAY_6                          -1.00       0.0       0.00        8.0  \n",
              "BILL_AMT1                    3558.75   22381.5   67091.00   964511.0  \n",
              "BILL_AMT2                    2984.75   21200.0   64006.25   983931.0  \n",
              "BILL_AMT3                    2666.25   20088.5   60164.75  1664089.0  \n",
              "BILL_AMT4                    2326.75   19052.0   54506.00   891586.0  \n",
              "BILL_AMT5                    1763.00   18104.5   50190.50   927171.0  \n",
              "BILL_AMT6                    1256.00   17071.0   49198.25   961664.0  \n",
              "PAY_AMT1                     1000.00    2100.0    5006.00   873552.0  \n",
              "PAY_AMT2                      833.00    2009.0    5000.00  1684259.0  \n",
              "PAY_AMT3                      390.00    1800.0    4505.00   896040.0  \n",
              "PAY_AMT4                      296.00    1500.0    4013.25   621000.0  \n",
              "PAY_AMT5                      252.50    1500.0    4031.50   426529.0  \n",
              "PAY_AMT6                      117.75    1500.0    4000.00   528666.0  \n",
              "default payment next month      0.00       0.0       0.00        1.0  "
            ],
            "text/html": [
              "\n",
              "  <div id=\"df-7469e323-e60f-4889-81ba-ce0b3072f29c\">\n",
              "    <div class=\"colab-df-container\">\n",
              "      <div>\n",
              "<style scoped>\n",
              "    .dataframe tbody tr th:only-of-type {\n",
              "        vertical-align: middle;\n",
              "    }\n",
              "\n",
              "    .dataframe tbody tr th {\n",
              "        vertical-align: top;\n",
              "    }\n",
              "\n",
              "    .dataframe thead th {\n",
              "        text-align: right;\n",
              "    }\n",
              "</style>\n",
              "<table border=\"1\" class=\"dataframe\">\n",
              "  <thead>\n",
              "    <tr style=\"text-align: right;\">\n",
              "      <th></th>\n",
              "      <th>count</th>\n",
              "      <th>mean</th>\n",
              "      <th>std</th>\n",
              "      <th>min</th>\n",
              "      <th>25%</th>\n",
              "      <th>50%</th>\n",
              "      <th>75%</th>\n",
              "      <th>max</th>\n",
              "    </tr>\n",
              "  </thead>\n",
              "  <tbody>\n",
              "    <tr>\n",
              "      <th>ID</th>\n",
              "      <td>30000.0</td>\n",
              "      <td>15000.500000</td>\n",
              "      <td>8660.398374</td>\n",
              "      <td>1.0</td>\n",
              "      <td>7500.75</td>\n",
              "      <td>15000.5</td>\n",
              "      <td>22500.25</td>\n",
              "      <td>30000.0</td>\n",
              "    </tr>\n",
              "    <tr>\n",
              "      <th>LIMIT_BAL</th>\n",
              "      <td>30000.0</td>\n",
              "      <td>167484.322667</td>\n",
              "      <td>129747.661567</td>\n",
              "      <td>10000.0</td>\n",
              "      <td>50000.00</td>\n",
              "      <td>140000.0</td>\n",
              "      <td>240000.00</td>\n",
              "      <td>1000000.0</td>\n",
              "    </tr>\n",
              "    <tr>\n",
              "      <th>SEX</th>\n",
              "      <td>30000.0</td>\n",
              "      <td>1.603733</td>\n",
              "      <td>0.489129</td>\n",
              "      <td>1.0</td>\n",
              "      <td>1.00</td>\n",
              "      <td>2.0</td>\n",
              "      <td>2.00</td>\n",
              "      <td>2.0</td>\n",
              "    </tr>\n",
              "    <tr>\n",
              "      <th>EDUCATION</th>\n",
              "      <td>30000.0</td>\n",
              "      <td>1.853133</td>\n",
              "      <td>0.790349</td>\n",
              "      <td>0.0</td>\n",
              "      <td>1.00</td>\n",
              "      <td>2.0</td>\n",
              "      <td>2.00</td>\n",
              "      <td>6.0</td>\n",
              "    </tr>\n",
              "    <tr>\n",
              "      <th>MARRIAGE</th>\n",
              "      <td>30000.0</td>\n",
              "      <td>1.551867</td>\n",
              "      <td>0.521970</td>\n",
              "      <td>0.0</td>\n",
              "      <td>1.00</td>\n",
              "      <td>2.0</td>\n",
              "      <td>2.00</td>\n",
              "      <td>3.0</td>\n",
              "    </tr>\n",
              "    <tr>\n",
              "      <th>AGE</th>\n",
              "      <td>30000.0</td>\n",
              "      <td>35.485500</td>\n",
              "      <td>9.217904</td>\n",
              "      <td>21.0</td>\n",
              "      <td>28.00</td>\n",
              "      <td>34.0</td>\n",
              "      <td>41.00</td>\n",
              "      <td>79.0</td>\n",
              "    </tr>\n",
              "    <tr>\n",
              "      <th>PAY_0</th>\n",
              "      <td>30000.0</td>\n",
              "      <td>-0.016700</td>\n",
              "      <td>1.123802</td>\n",
              "      <td>-2.0</td>\n",
              "      <td>-1.00</td>\n",
              "      <td>0.0</td>\n",
              "      <td>0.00</td>\n",
              "      <td>8.0</td>\n",
              "    </tr>\n",
              "    <tr>\n",
              "      <th>PAY_2</th>\n",
              "      <td>30000.0</td>\n",
              "      <td>-0.133767</td>\n",
              "      <td>1.197186</td>\n",
              "      <td>-2.0</td>\n",
              "      <td>-1.00</td>\n",
              "      <td>0.0</td>\n",
              "      <td>0.00</td>\n",
              "      <td>8.0</td>\n",
              "    </tr>\n",
              "    <tr>\n",
              "      <th>PAY_3</th>\n",
              "      <td>30000.0</td>\n",
              "      <td>-0.166200</td>\n",
              "      <td>1.196868</td>\n",
              "      <td>-2.0</td>\n",
              "      <td>-1.00</td>\n",
              "      <td>0.0</td>\n",
              "      <td>0.00</td>\n",
              "      <td>8.0</td>\n",
              "    </tr>\n",
              "    <tr>\n",
              "      <th>PAY_4</th>\n",
              "      <td>30000.0</td>\n",
              "      <td>-0.220667</td>\n",
              "      <td>1.169139</td>\n",
              "      <td>-2.0</td>\n",
              "      <td>-1.00</td>\n",
              "      <td>0.0</td>\n",
              "      <td>0.00</td>\n",
              "      <td>8.0</td>\n",
              "    </tr>\n",
              "    <tr>\n",
              "      <th>PAY_5</th>\n",
              "      <td>30000.0</td>\n",
              "      <td>-0.266200</td>\n",
              "      <td>1.133187</td>\n",
              "      <td>-2.0</td>\n",
              "      <td>-1.00</td>\n",
              "      <td>0.0</td>\n",
              "      <td>0.00</td>\n",
              "      <td>8.0</td>\n",
              "    </tr>\n",
              "    <tr>\n",
              "      <th>PAY_6</th>\n",
              "      <td>30000.0</td>\n",
              "      <td>-0.291100</td>\n",
              "      <td>1.149988</td>\n",
              "      <td>-2.0</td>\n",
              "      <td>-1.00</td>\n",
              "      <td>0.0</td>\n",
              "      <td>0.00</td>\n",
              "      <td>8.0</td>\n",
              "    </tr>\n",
              "    <tr>\n",
              "      <th>BILL_AMT1</th>\n",
              "      <td>30000.0</td>\n",
              "      <td>51223.330900</td>\n",
              "      <td>73635.860576</td>\n",
              "      <td>-165580.0</td>\n",
              "      <td>3558.75</td>\n",
              "      <td>22381.5</td>\n",
              "      <td>67091.00</td>\n",
              "      <td>964511.0</td>\n",
              "    </tr>\n",
              "    <tr>\n",
              "      <th>BILL_AMT2</th>\n",
              "      <td>30000.0</td>\n",
              "      <td>49179.075167</td>\n",
              "      <td>71173.768783</td>\n",
              "      <td>-69777.0</td>\n",
              "      <td>2984.75</td>\n",
              "      <td>21200.0</td>\n",
              "      <td>64006.25</td>\n",
              "      <td>983931.0</td>\n",
              "    </tr>\n",
              "    <tr>\n",
              "      <th>BILL_AMT3</th>\n",
              "      <td>30000.0</td>\n",
              "      <td>47013.154800</td>\n",
              "      <td>69349.387427</td>\n",
              "      <td>-157264.0</td>\n",
              "      <td>2666.25</td>\n",
              "      <td>20088.5</td>\n",
              "      <td>60164.75</td>\n",
              "      <td>1664089.0</td>\n",
              "    </tr>\n",
              "    <tr>\n",
              "      <th>BILL_AMT4</th>\n",
              "      <td>30000.0</td>\n",
              "      <td>43262.948967</td>\n",
              "      <td>64332.856134</td>\n",
              "      <td>-170000.0</td>\n",
              "      <td>2326.75</td>\n",
              "      <td>19052.0</td>\n",
              "      <td>54506.00</td>\n",
              "      <td>891586.0</td>\n",
              "    </tr>\n",
              "    <tr>\n",
              "      <th>BILL_AMT5</th>\n",
              "      <td>30000.0</td>\n",
              "      <td>40311.400967</td>\n",
              "      <td>60797.155770</td>\n",
              "      <td>-81334.0</td>\n",
              "      <td>1763.00</td>\n",
              "      <td>18104.5</td>\n",
              "      <td>50190.50</td>\n",
              "      <td>927171.0</td>\n",
              "    </tr>\n",
              "    <tr>\n",
              "      <th>BILL_AMT6</th>\n",
              "      <td>30000.0</td>\n",
              "      <td>38871.760400</td>\n",
              "      <td>59554.107537</td>\n",
              "      <td>-339603.0</td>\n",
              "      <td>1256.00</td>\n",
              "      <td>17071.0</td>\n",
              "      <td>49198.25</td>\n",
              "      <td>961664.0</td>\n",
              "    </tr>\n",
              "    <tr>\n",
              "      <th>PAY_AMT1</th>\n",
              "      <td>30000.0</td>\n",
              "      <td>5663.580500</td>\n",
              "      <td>16563.280354</td>\n",
              "      <td>0.0</td>\n",
              "      <td>1000.00</td>\n",
              "      <td>2100.0</td>\n",
              "      <td>5006.00</td>\n",
              "      <td>873552.0</td>\n",
              "    </tr>\n",
              "    <tr>\n",
              "      <th>PAY_AMT2</th>\n",
              "      <td>30000.0</td>\n",
              "      <td>5921.163500</td>\n",
              "      <td>23040.870402</td>\n",
              "      <td>0.0</td>\n",
              "      <td>833.00</td>\n",
              "      <td>2009.0</td>\n",
              "      <td>5000.00</td>\n",
              "      <td>1684259.0</td>\n",
              "    </tr>\n",
              "    <tr>\n",
              "      <th>PAY_AMT3</th>\n",
              "      <td>30000.0</td>\n",
              "      <td>5225.681500</td>\n",
              "      <td>17606.961470</td>\n",
              "      <td>0.0</td>\n",
              "      <td>390.00</td>\n",
              "      <td>1800.0</td>\n",
              "      <td>4505.00</td>\n",
              "      <td>896040.0</td>\n",
              "    </tr>\n",
              "    <tr>\n",
              "      <th>PAY_AMT4</th>\n",
              "      <td>30000.0</td>\n",
              "      <td>4826.076867</td>\n",
              "      <td>15666.159744</td>\n",
              "      <td>0.0</td>\n",
              "      <td>296.00</td>\n",
              "      <td>1500.0</td>\n",
              "      <td>4013.25</td>\n",
              "      <td>621000.0</td>\n",
              "    </tr>\n",
              "    <tr>\n",
              "      <th>PAY_AMT5</th>\n",
              "      <td>30000.0</td>\n",
              "      <td>4799.387633</td>\n",
              "      <td>15278.305679</td>\n",
              "      <td>0.0</td>\n",
              "      <td>252.50</td>\n",
              "      <td>1500.0</td>\n",
              "      <td>4031.50</td>\n",
              "      <td>426529.0</td>\n",
              "    </tr>\n",
              "    <tr>\n",
              "      <th>PAY_AMT6</th>\n",
              "      <td>30000.0</td>\n",
              "      <td>5215.502567</td>\n",
              "      <td>17777.465775</td>\n",
              "      <td>0.0</td>\n",
              "      <td>117.75</td>\n",
              "      <td>1500.0</td>\n",
              "      <td>4000.00</td>\n",
              "      <td>528666.0</td>\n",
              "    </tr>\n",
              "    <tr>\n",
              "      <th>default payment next month</th>\n",
              "      <td>30000.0</td>\n",
              "      <td>0.221200</td>\n",
              "      <td>0.415062</td>\n",
              "      <td>0.0</td>\n",
              "      <td>0.00</td>\n",
              "      <td>0.0</td>\n",
              "      <td>0.00</td>\n",
              "      <td>1.0</td>\n",
              "    </tr>\n",
              "  </tbody>\n",
              "</table>\n",
              "</div>\n",
              "      <button class=\"colab-df-convert\" onclick=\"convertToInteractive('df-7469e323-e60f-4889-81ba-ce0b3072f29c')\"\n",
              "              title=\"Convert this dataframe to an interactive table.\"\n",
              "              style=\"display:none;\">\n",
              "        \n",
              "  <svg xmlns=\"http://www.w3.org/2000/svg\" height=\"24px\"viewBox=\"0 0 24 24\"\n",
              "       width=\"24px\">\n",
              "    <path d=\"M0 0h24v24H0V0z\" fill=\"none\"/>\n",
              "    <path d=\"M18.56 5.44l.94 2.06.94-2.06 2.06-.94-2.06-.94-.94-2.06-.94 2.06-2.06.94zm-11 1L8.5 8.5l.94-2.06 2.06-.94-2.06-.94L8.5 2.5l-.94 2.06-2.06.94zm10 10l.94 2.06.94-2.06 2.06-.94-2.06-.94-.94-2.06-.94 2.06-2.06.94z\"/><path d=\"M17.41 7.96l-1.37-1.37c-.4-.4-.92-.59-1.43-.59-.52 0-1.04.2-1.43.59L10.3 9.45l-7.72 7.72c-.78.78-.78 2.05 0 2.83L4 21.41c.39.39.9.59 1.41.59.51 0 1.02-.2 1.41-.59l7.78-7.78 2.81-2.81c.8-.78.8-2.07 0-2.86zM5.41 20L4 18.59l7.72-7.72 1.47 1.35L5.41 20z\"/>\n",
              "  </svg>\n",
              "      </button>\n",
              "      \n",
              "  <style>\n",
              "    .colab-df-container {\n",
              "      display:flex;\n",
              "      flex-wrap:wrap;\n",
              "      gap: 12px;\n",
              "    }\n",
              "\n",
              "    .colab-df-convert {\n",
              "      background-color: #E8F0FE;\n",
              "      border: none;\n",
              "      border-radius: 50%;\n",
              "      cursor: pointer;\n",
              "      display: none;\n",
              "      fill: #1967D2;\n",
              "      height: 32px;\n",
              "      padding: 0 0 0 0;\n",
              "      width: 32px;\n",
              "    }\n",
              "\n",
              "    .colab-df-convert:hover {\n",
              "      background-color: #E2EBFA;\n",
              "      box-shadow: 0px 1px 2px rgba(60, 64, 67, 0.3), 0px 1px 3px 1px rgba(60, 64, 67, 0.15);\n",
              "      fill: #174EA6;\n",
              "    }\n",
              "\n",
              "    [theme=dark] .colab-df-convert {\n",
              "      background-color: #3B4455;\n",
              "      fill: #D2E3FC;\n",
              "    }\n",
              "\n",
              "    [theme=dark] .colab-df-convert:hover {\n",
              "      background-color: #434B5C;\n",
              "      box-shadow: 0px 1px 3px 1px rgba(0, 0, 0, 0.15);\n",
              "      filter: drop-shadow(0px 1px 2px rgba(0, 0, 0, 0.3));\n",
              "      fill: #FFFFFF;\n",
              "    }\n",
              "  </style>\n",
              "\n",
              "      <script>\n",
              "        const buttonEl =\n",
              "          document.querySelector('#df-7469e323-e60f-4889-81ba-ce0b3072f29c button.colab-df-convert');\n",
              "        buttonEl.style.display =\n",
              "          google.colab.kernel.accessAllowed ? 'block' : 'none';\n",
              "\n",
              "        async function convertToInteractive(key) {\n",
              "          const element = document.querySelector('#df-7469e323-e60f-4889-81ba-ce0b3072f29c');\n",
              "          const dataTable =\n",
              "            await google.colab.kernel.invokeFunction('convertToInteractive',\n",
              "                                                     [key], {});\n",
              "          if (!dataTable) return;\n",
              "\n",
              "          const docLinkHtml = 'Like what you see? Visit the ' +\n",
              "            '<a target=\"_blank\" href=https://colab.research.google.com/notebooks/data_table.ipynb>data table notebook</a>'\n",
              "            + ' to learn more about interactive tables.';\n",
              "          element.innerHTML = '';\n",
              "          dataTable['output_type'] = 'display_data';\n",
              "          await google.colab.output.renderOutput(dataTable, element);\n",
              "          const docLink = document.createElement('div');\n",
              "          docLink.innerHTML = docLinkHtml;\n",
              "          element.appendChild(docLink);\n",
              "        }\n",
              "      </script>\n",
              "    </div>\n",
              "  </div>\n",
              "  "
            ]
          },
          "metadata": {},
          "execution_count": 164
        }
      ],
      "source": [
        "#Data Description\n",
        "df.describe().T\n"
      ]
    },
    {
      "cell_type": "code",
      "execution_count": 165,
      "metadata": {
        "id": "sLceMwJMSdsl",
        "colab": {
          "base_uri": "https://localhost:8080/"
        },
        "outputId": "165d7b17-5748-47a7-a4bf-bd827967a54e"
      },
      "outputs": [
        {
          "output_type": "execute_result",
          "data": {
            "text/plain": [
              "0"
            ]
          },
          "metadata": {},
          "execution_count": 165
        }
      ],
      "source": [
        "#check for any duplicates\n",
        "len(df[df.duplicated()])"
      ]
    },
    {
      "cell_type": "markdown",
      "source": [
        "Hence no duplicates are present in the data."
      ],
      "metadata": {
        "id": "CZ4zJ6j-58wt"
      }
    },
    {
      "cell_type": "code",
      "execution_count": 166,
      "metadata": {
        "id": "2uo1eXCxSdpd",
        "colab": {
          "base_uri": "https://localhost:8080/"
        },
        "outputId": "91bd0a89-b909-4447-96e4-f79cd756c26d"
      },
      "outputs": [
        {
          "output_type": "execute_result",
          "data": {
            "text/plain": [
              "Index(['ID', 'LIMIT_BAL', 'SEX', 'EDUCATION', 'MARRIAGE', 'AGE', 'PAY_0',\n",
              "       'PAY_2', 'PAY_3', 'PAY_4', 'PAY_5', 'PAY_6', 'BILL_AMT1', 'BILL_AMT2',\n",
              "       'BILL_AMT3', 'BILL_AMT4', 'BILL_AMT5', 'BILL_AMT6', 'PAY_AMT1',\n",
              "       'PAY_AMT2', 'PAY_AMT3', 'PAY_AMT4', 'PAY_AMT5', 'PAY_AMT6',\n",
              "       'default payment next month'],\n",
              "      dtype='object')"
            ]
          },
          "metadata": {},
          "execution_count": 166
        }
      ],
      "source": [
        "#columns of dataset\n",
        "df.columns"
      ]
    },
    {
      "cell_type": "code",
      "execution_count": 167,
      "metadata": {
        "id": "vniotlpldkJK",
        "colab": {
          "base_uri": "https://localhost:8080/"
        },
        "outputId": "e1fe1cb1-f0c0-457b-b972-4f65e70100e2"
      },
      "outputs": [
        {
          "output_type": "execute_result",
          "data": {
            "text/plain": [
              "ID                            0\n",
              "LIMIT_BAL                     0\n",
              "SEX                           0\n",
              "EDUCATION                     0\n",
              "MARRIAGE                      0\n",
              "AGE                           0\n",
              "PAY_0                         0\n",
              "PAY_2                         0\n",
              "PAY_3                         0\n",
              "PAY_4                         0\n",
              "PAY_5                         0\n",
              "PAY_6                         0\n",
              "BILL_AMT1                     0\n",
              "BILL_AMT2                     0\n",
              "BILL_AMT3                     0\n",
              "BILL_AMT4                     0\n",
              "BILL_AMT5                     0\n",
              "BILL_AMT6                     0\n",
              "PAY_AMT1                      0\n",
              "PAY_AMT2                      0\n",
              "PAY_AMT3                      0\n",
              "PAY_AMT4                      0\n",
              "PAY_AMT5                      0\n",
              "PAY_AMT6                      0\n",
              "default payment next month    0\n",
              "dtype: int64"
            ]
          },
          "metadata": {},
          "execution_count": 167
        }
      ],
      "source": [
        "# Taking the sum of null values in columns from a dataset\n",
        "df.isnull().sum()\n"
      ]
    },
    {
      "cell_type": "code",
      "execution_count": 168,
      "metadata": {
        "id": "9oaZft5-dkGQ",
        "colab": {
          "base_uri": "https://localhost:8080/",
          "height": 486
        },
        "outputId": "841b95b8-7131-4c30-b59f-0518f28045c5"
      },
      "outputs": [
        {
          "output_type": "execute_result",
          "data": {
            "text/plain": [
              "Text(0.5, 1.0, 'Missing Values Percentage')"
            ]
          },
          "metadata": {},
          "execution_count": 168
        },
        {
          "output_type": "display_data",
          "data": {
            "text/plain": [
              "<Figure size 1008x360 with 2 Axes>"
            ],
            "image/png": "[encoded data removed]"
          },
          "metadata": {
            "needs_background": "light"
          }
        }
      ],
      "source": [
        "#Plot to check null values\n",
        "plt.figure(figsize=(14,5))\n",
        "sns.heatmap(df.isnull(), cbar=True, yticklabels=False )\n",
        "plt.title(\"Missing Values Percentage\")"
      ]
    },
    {
      "cell_type": "markdown",
      "metadata": {
        "id": "2ad0m64ofoWk"
      },
      "source": [
        "**Hence no Missing values, No null values, No Duplicates in dataset**"
      ]
    },
    {
      "cell_type": "markdown",
      "metadata": {
        "id": "ijS9V8B1H4EY"
      },
      "source": [
        "##**Data Processing**"
      ]
    },
    {
      "cell_type": "code",
      "execution_count": 169,
      "metadata": {
        "id": "Uw0yJhv_dkDk"
      },
      "outputs": [],
      "source": [
        "#renaming of columns\n",
        "df.rename(columns={'default payment next month' : 'IsDefaulter'}, inplace=True)\n",
        "df.rename(columns={'PAY_0':'PAY_SEPT','PAY_2':'PAY_AUG','PAY_3':'PAY_JUL','PAY_4':'PAY_JUN','PAY_5':'PAY_MAY','PAY_6':'PAY_APR'},inplace=True)\n",
        "df.rename(columns={'BILL_AMT1':'BILL_AMT_SEPT','BILL_AMT2':'BILL_AMT_AUG','BILL_AMT3':'BILL_AMT_JUL','BILL_AMT4':'BILL_AMT_JUN','BILL_AMT5':'BILL_AMT_MAY','BILL_AMT6':'BILL_AMT_APR'}, inplace = True)\n",
        "df.rename(columns={'PAY_AMT1':'PAY_AMT_SEPT','PAY_AMT2':'PAY_AMT_AUG','PAY_AMT3':'PAY_AMT_JUL','PAY_AMT4':'PAY_AMT_JUN','PAY_AMT5':'PAY_AMT_MAY','PAY_AMT6':'PAY_AMT_APR'},inplace=True)\n"
      ]
    },
    {
      "cell_type": "code",
      "execution_count": 170,
      "metadata": {
        "id": "99xAOczJJoXd",
        "colab": {
          "base_uri": "https://localhost:8080/",
          "height": 270
        },
        "outputId": "2f2a39b1-3d5d-4e0d-80b3-c71c5bf02348"
      },
      "outputs": [
        {
          "output_type": "execute_result",
          "data": {
            "text/plain": [
              "   ID  LIMIT_BAL  SEX  EDUCATION  MARRIAGE  AGE  PAY_SEPT  PAY_AUG  PAY_JUL  \\\n",
              "0   1      20000    2          2         1   24         2        2       -1   \n",
              "1   2     120000    2          2         2   26        -1        2        0   \n",
              "2   3      90000    2          2         2   34         0        0        0   \n",
              "3   4      50000    2          2         1   37         0        0        0   \n",
              "4   5      50000    1          2         1   57        -1        0       -1   \n",
              "\n",
              "   PAY_JUN  PAY_MAY  PAY_APR  BILL_AMT_SEPT  BILL_AMT_AUG  BILL_AMT_JUL  \\\n",
              "0       -1       -2       -2           3913          3102           689   \n",
              "1        0        0        2           2682          1725          2682   \n",
              "2        0        0        0          29239         14027         13559   \n",
              "3        0        0        0          46990         48233         49291   \n",
              "4        0        0        0           8617          5670         35835   \n",
              "\n",
              "   BILL_AMT_JUN  BILL_AMT_MAY  BILL_AMT_APR  PAY_AMT_SEPT  PAY_AMT_AUG  \\\n",
              "0             0             0             0             0          689   \n",
              "1          3272          3455          3261             0         1000   \n",
              "2         14331         14948         15549          1518         1500   \n",
              "3         28314         28959         29547          2000         2019   \n",
              "4         20940         19146         19131          2000        36681   \n",
              "\n",
              "   PAY_AMT_JUL  PAY_AMT_JUN  PAY_AMT_MAY  PAY_AMT_APR  IsDefaulter  \n",
              "0            0            0            0            0            1  \n",
              "1         1000         1000            0         2000            1  \n",
              "2         1000         1000         1000         5000            0  \n",
              "3         1200         1100         1069         1000            0  \n",
              "4        10000         9000          689          679            0  "
            ],
            "text/html": [
              "\n",
              "  <div id=\"df-a686cdd3-7c28-47c6-8e9b-417fb5788727\">\n",
              "    <div class=\"colab-df-container\">\n",
              "      <div>\n",
              "<style scoped>\n",
              "    .dataframe tbody tr th:only-of-type {\n",
              "        vertical-align: middle;\n",
              "    }\n",
              "\n",
              "    .dataframe tbody tr th {\n",
              "        vertical-align: top;\n",
              "    }\n",
              "\n",
              "    .dataframe thead th {\n",
              "        text-align: right;\n",
              "    }\n",
              "</style>\n",
              "<table border=\"1\" class=\"dataframe\">\n",
              "  <thead>\n",
              "    <tr style=\"text-align: right;\">\n",
              "      <th></th>\n",
              "      <th>ID</th>\n",
              "      <th>LIMIT_BAL</th>\n",
              "      <th>SEX</th>\n",
              "      <th>EDUCATION</th>\n",
              "      <th>MARRIAGE</th>\n",
              "      <th>AGE</th>\n",
              "      <th>PAY_SEPT</th>\n",
              "      <th>PAY_AUG</th>\n",
              "      <th>PAY_JUL</th>\n",
              "      <th>PAY_JUN</th>\n",
              "      <th>PAY_MAY</th>\n",
              "      <th>PAY_APR</th>\n",
              "      <th>BILL_AMT_SEPT</th>\n",
              "      <th>BILL_AMT_AUG</th>\n",
              "      <th>BILL_AMT_JUL</th>\n",
              "      <th>BILL_AMT_JUN</th>\n",
              "      <th>BILL_AMT_MAY</th>\n",
              "      <th>BILL_AMT_APR</th>\n",
              "      <th>PAY_AMT_SEPT</th>\n",
              "      <th>PAY_AMT_AUG</th>\n",
              "      <th>PAY_AMT_JUL</th>\n",
              "      <th>PAY_AMT_JUN</th>\n",
              "      <th>PAY_AMT_MAY</th>\n",
              "      <th>PAY_AMT_APR</th>\n",
              "      <th>IsDefaulter</th>\n",
              "    </tr>\n",
              "  </thead>\n",
              "  <tbody>\n",
              "    <tr>\n",
              "      <th>0</th>\n",
              "      <td>1</td>\n",
              "      <td>20000</td>\n",
              "      <td>2</td>\n",
              "      <td>2</td>\n",
              "      <td>1</td>\n",
              "      <td>24</td>\n",
              "      <td>2</td>\n",
              "      <td>2</td>\n",
              "      <td>-1</td>\n",
              "      <td>-1</td>\n",
              "      <td>-2</td>\n",
              "      <td>-2</td>\n",
              "      <td>3913</td>\n",
              "      <td>3102</td>\n",
              "      <td>689</td>\n",
              "      <td>0</td>\n",
              "      <td>0</td>\n",
              "      <td>0</td>\n",
              "      <td>0</td>\n",
              "      <td>689</td>\n",
              "      <td>0</td>\n",
              "      <td>0</td>\n",
              "      <td>0</td>\n",
              "      <td>0</td>\n",
              "      <td>1</td>\n",
              "    </tr>\n",
              "    <tr>\n",
              "      <th>1</th>\n",
              "      <td>2</td>\n",
              "      <td>120000</td>\n",
              "      <td>2</td>\n",
              "      <td>2</td>\n",
              "      <td>2</td>\n",
              "      <td>26</td>\n",
              "      <td>-1</td>\n",
              "      <td>2</td>\n",
              "      <td>0</td>\n",
              "      <td>0</td>\n",
              "      <td>0</td>\n",
              "      <td>2</td>\n",
              "      <td>2682</td>\n",
              "      <td>1725</td>\n",
              "      <td>2682</td>\n",
              "      <td>3272</td>\n",
              "      <td>3455</td>\n",
              "      <td>3261</td>\n",
              "      <td>0</td>\n",
              "      <td>1000</td>\n",
              "      <td>1000</td>\n",
              "      <td>1000</td>\n",
              "      <td>0</td>\n",
              "      <td>2000</td>\n",
              "      <td>1</td>\n",
              "    </tr>\n",
              "    <tr>\n",
              "      <th>2</th>\n",
              "      <td>3</td>\n",
              "      <td>90000</td>\n",
              "      <td>2</td>\n",
              "      <td>2</td>\n",
              "      <td>2</td>\n",
              "      <td>34</td>\n",
              "      <td>0</td>\n",
              "      <td>0</td>\n",
              "      <td>0</td>\n",
              "      <td>0</td>\n",
              "      <td>0</td>\n",
              "      <td>0</td>\n",
              "      <td>29239</td>\n",
              "      <td>14027</td>\n",
              "      <td>13559</td>\n",
              "      <td>14331</td>\n",
              "      <td>14948</td>\n",
              "      <td>15549</td>\n",
              "      <td>1518</td>\n",
              "      <td>1500</td>\n",
              "      <td>1000</td>\n",
              "      <td>1000</td>\n",
              "      <td>1000</td>\n",
              "      <td>5000</td>\n",
              "      <td>0</td>\n",
              "    </tr>\n",
              "    <tr>\n",
              "      <th>3</th>\n",
              "      <td>4</td>\n",
              "      <td>50000</td>\n",
              "      <td>2</td>\n",
              "      <td>2</td>\n",
              "      <td>1</td>\n",
              "      <td>37</td>\n",
              "      <td>0</td>\n",
              "      <td>0</td>\n",
              "      <td>0</td>\n",
              "      <td>0</td>\n",
              "      <td>0</td>\n",
              "      <td>0</td>\n",
              "      <td>46990</td>\n",
              "      <td>48233</td>\n",
              "      <td>49291</td>\n",
              "      <td>28314</td>\n",
              "      <td>28959</td>\n",
              "      <td>29547</td>\n",
              "      <td>2000</td>\n",
              "      <td>2019</td>\n",
              "      <td>1200</td>\n",
              "      <td>1100</td>\n",
              "      <td>1069</td>\n",
              "      <td>1000</td>\n",
              "      <td>0</td>\n",
              "    </tr>\n",
              "    <tr>\n",
              "      <th>4</th>\n",
              "      <td>5</td>\n",
              "      <td>50000</td>\n",
              "      <td>1</td>\n",
              "      <td>2</td>\n",
              "      <td>1</td>\n",
              "      <td>57</td>\n",
              "      <td>-1</td>\n",
              "      <td>0</td>\n",
              "      <td>-1</td>\n",
              "      <td>0</td>\n",
              "      <td>0</td>\n",
              "      <td>0</td>\n",
              "      <td>8617</td>\n",
              "      <td>5670</td>\n",
              "      <td>35835</td>\n",
              "      <td>20940</td>\n",
              "      <td>19146</td>\n",
              "      <td>19131</td>\n",
              "      <td>2000</td>\n",
              "      <td>36681</td>\n",
              "      <td>10000</td>\n",
              "      <td>9000</td>\n",
              "      <td>689</td>\n",
              "      <td>679</td>\n",
              "      <td>0</td>\n",
              "    </tr>\n",
              "  </tbody>\n",
              "</table>\n",
              "</div>\n",
              "      <button class=\"colab-df-convert\" onclick=\"convertToInteractive('df-a686cdd3-7c28-47c6-8e9b-417fb5788727')\"\n",
              "              title=\"Convert this dataframe to an interactive table.\"\n",
              "              style=\"display:none;\">\n",
              "        \n",
              "  <svg xmlns=\"http://www.w3.org/2000/svg\" height=\"24px\"viewBox=\"0 0 24 24\"\n",
              "       width=\"24px\">\n",
              "    <path d=\"M0 0h24v24H0V0z\" fill=\"none\"/>\n",
              "    <path d=\"M18.56 5.44l.94 2.06.94-2.06 2.06-.94-2.06-.94-.94-2.06-.94 2.06-2.06.94zm-11 1L8.5 8.5l.94-2.06 2.06-.94-2.06-.94L8.5 2.5l-.94 2.06-2.06.94zm10 10l.94 2.06.94-2.06 2.06-.94-2.06-.94-.94-2.06-.94 2.06-2.06.94z\"/><path d=\"M17.41 7.96l-1.37-1.37c-.4-.4-.92-.59-1.43-.59-.52 0-1.04.2-1.43.59L10.3 9.45l-7.72 7.72c-.78.78-.78 2.05 0 2.83L4 21.41c.39.39.9.59 1.41.59.51 0 1.02-.2 1.41-.59l7.78-7.78 2.81-2.81c.8-.78.8-2.07 0-2.86zM5.41 20L4 18.59l7.72-7.72 1.47 1.35L5.41 20z\"/>\n",
              "  </svg>\n",
              "      </button>\n",
              "      \n",
              "  <style>\n",
              "    .colab-df-container {\n",
              "      display:flex;\n",
              "      flex-wrap:wrap;\n",
              "      gap: 12px;\n",
              "    }\n",
              "\n",
              "    .colab-df-convert {\n",
              "      background-color: #E8F0FE;\n",
              "      border: none;\n",
              "      border-radius: 50%;\n",
              "      cursor: pointer;\n",
              "      display: none;\n",
              "      fill: #1967D2;\n",
              "      height: 32px;\n",
              "      padding: 0 0 0 0;\n",
              "      width: 32px;\n",
              "    }\n",
              "\n",
              "    .colab-df-convert:hover {\n",
              "      background-color: #E2EBFA;\n",
              "      box-shadow: 0px 1px 2px rgba(60, 64, 67, 0.3), 0px 1px 3px 1px rgba(60, 64, 67, 0.15);\n",
              "      fill: #174EA6;\n",
              "    }\n",
              "\n",
              "    [theme=dark] .colab-df-convert {\n",
              "      background-color: #3B4455;\n",
              "      fill: #D2E3FC;\n",
              "    }\n",
              "\n",
              "    [theme=dark] .colab-df-convert:hover {\n",
              "      background-color: #434B5C;\n",
              "      box-shadow: 0px 1px 3px 1px rgba(0, 0, 0, 0.15);\n",
              "      filter: drop-shadow(0px 1px 2px rgba(0, 0, 0, 0.3));\n",
              "      fill: #FFFFFF;\n",
              "    }\n",
              "  </style>\n",
              "\n",
              "      <script>\n",
              "        const buttonEl =\n",
              "          document.querySelector('#df-a686cdd3-7c28-47c6-8e9b-417fb5788727 button.colab-df-convert');\n",
              "        buttonEl.style.display =\n",
              "          google.colab.kernel.accessAllowed ? 'block' : 'none';\n",
              "\n",
              "        async function convertToInteractive(key) {\n",
              "          const element = document.querySelector('#df-a686cdd3-7c28-47c6-8e9b-417fb5788727');\n",
              "          const dataTable =\n",
              "            await google.colab.kernel.invokeFunction('convertToInteractive',\n",
              "                                                     [key], {});\n",
              "          if (!dataTable) return;\n",
              "\n",
              "          const docLinkHtml = 'Like what you see? Visit the ' +\n",
              "            '<a target=\"_blank\" href=https://colab.research.google.com/notebooks/data_table.ipynb>data table notebook</a>'\n",
              "            + ' to learn more about interactive tables.';\n",
              "          element.innerHTML = '';\n",
              "          dataTable['output_type'] = 'display_data';\n",
              "          await google.colab.output.renderOutput(dataTable, element);\n",
              "          const docLink = document.createElement('div');\n",
              "          docLink.innerHTML = docLinkHtml;\n",
              "          element.appendChild(docLink);\n",
              "        }\n",
              "      </script>\n",
              "    </div>\n",
              "  </div>\n",
              "  "
            ]
          },
          "metadata": {},
          "execution_count": 170
        }
      ],
      "source": [
        "#check for rename\n",
        "pd.set_option('display.max_columns', None)\n",
        "df.head()"
      ]
    },
    {
      "cell_type": "code",
      "execution_count": 171,
      "metadata": {
        "id": "SLVo2IXgdkAs"
      },
      "outputs": [],
      "source": [
        "#replacing values with labels\n",
        "#replacing values with there labels\n",
        "df.replace({'SEX': {1 : 'Male', 2 : 'Female'}}, inplace=True)\n",
        "df.replace({'EDUCATION' : {1 : 'Graduate School', 2 : 'University', 3 : 'High School', 4 : 'Others'}}, inplace=True)\n",
        "df.replace({'MARRIAGE' : {1 : 'Married', 2 : 'Single', 3 : 'Others'}}, inplace = True)\n",
        "df.replace({'IsDefaulter' : {1 : 'Yes', 0 : 'No'}}, inplace = True)"
      ]
    },
    {
      "cell_type": "code",
      "execution_count": 172,
      "metadata": {
        "id": "YorkEN0cdj9P",
        "colab": {
          "base_uri": "https://localhost:8080/",
          "height": 270
        },
        "outputId": "cb57e052-1eee-481d-dffd-4cb0611cd6f0"
      },
      "outputs": [
        {
          "output_type": "execute_result",
          "data": {
            "text/plain": [
              "   ID  LIMIT_BAL     SEX   EDUCATION MARRIAGE  AGE  PAY_SEPT  PAY_AUG  \\\n",
              "0   1      20000  Female  University  Married   24         2        2   \n",
              "1   2     120000  Female  University   Single   26        -1        2   \n",
              "2   3      90000  Female  University   Single   34         0        0   \n",
              "3   4      50000  Female  University  Married   37         0        0   \n",
              "4   5      50000    Male  University  Married   57        -1        0   \n",
              "\n",
              "   PAY_JUL  PAY_JUN  PAY_MAY  PAY_APR  BILL_AMT_SEPT  BILL_AMT_AUG  \\\n",
              "0       -1       -1       -2       -2           3913          3102   \n",
              "1        0        0        0        2           2682          1725   \n",
              "2        0        0        0        0          29239         14027   \n",
              "3        0        0        0        0          46990         48233   \n",
              "4       -1        0        0        0           8617          5670   \n",
              "\n",
              "   BILL_AMT_JUL  BILL_AMT_JUN  BILL_AMT_MAY  BILL_AMT_APR  PAY_AMT_SEPT  \\\n",
              "0           689             0             0             0             0   \n",
              "1          2682          3272          3455          3261             0   \n",
              "2         13559         14331         14948         15549          1518   \n",
              "3         49291         28314         28959         29547          2000   \n",
              "4         35835         20940         19146         19131          2000   \n",
              "\n",
              "   PAY_AMT_AUG  PAY_AMT_JUL  PAY_AMT_JUN  PAY_AMT_MAY  PAY_AMT_APR IsDefaulter  \n",
              "0          689            0            0            0            0         Yes  \n",
              "1         1000         1000         1000            0         2000         Yes  \n",
              "2         1500         1000         1000         1000         5000          No  \n",
              "3         2019         1200         1100         1069         1000          No  \n",
              "4        36681        10000         9000          689          679          No  "
            ],
            "text/html": [
              "\n",
              "  <div id=\"df-8e230260-b8c5-4b5f-ab9d-56dfd0ce4ed7\">\n",
              "    <div class=\"colab-df-container\">\n",
              "      <div>\n",
              "<style scoped>\n",
              "    .dataframe tbody tr th:only-of-type {\n",
              "        vertical-align: middle;\n",
              "    }\n",
              "\n",
              "    .dataframe tbody tr th {\n",
              "        vertical-align: top;\n",
              "    }\n",
              "\n",
              "    .dataframe thead th {\n",
              "        text-align: right;\n",
              "    }\n",
              "</style>\n",
              "<table border=\"1\" class=\"dataframe\">\n",
              "  <thead>\n",
              "    <tr style=\"text-align: right;\">\n",
              "      <th></th>\n",
              "      <th>ID</th>\n",
              "      <th>LIMIT_BAL</th>\n",
              "      <th>SEX</th>\n",
              "      <th>EDUCATION</th>\n",
              "      <th>MARRIAGE</th>\n",
              "      <th>AGE</th>\n",
              "      <th>PAY_SEPT</th>\n",
              "      <th>PAY_AUG</th>\n",
              "      <th>PAY_JUL</th>\n",
              "      <th>PAY_JUN</th>\n",
              "      <th>PAY_MAY</th>\n",
              "      <th>PAY_APR</th>\n",
              "      <th>BILL_AMT_SEPT</th>\n",
              "      <th>BILL_AMT_AUG</th>\n",
              "      <th>BILL_AMT_JUL</th>\n",
              "      <th>BILL_AMT_JUN</th>\n",
              "      <th>BILL_AMT_MAY</th>\n",
              "      <th>BILL_AMT_APR</th>\n",
              "      <th>PAY_AMT_SEPT</th>\n",
              "      <th>PAY_AMT_AUG</th>\n",
              "      <th>PAY_AMT_JUL</th>\n",
              "      <th>PAY_AMT_JUN</th>\n",
              "      <th>PAY_AMT_MAY</th>\n",
              "      <th>PAY_AMT_APR</th>\n",
              "      <th>IsDefaulter</th>\n",
              "    </tr>\n",
              "  </thead>\n",
              "  <tbody>\n",
              "    <tr>\n",
              "      <th>0</th>\n",
              "      <td>1</td>\n",
              "      <td>20000</td>\n",
              "      <td>Female</td>\n",
              "      <td>University</td>\n",
              "      <td>Married</td>\n",
              "      <td>24</td>\n",
              "      <td>2</td>\n",
              "      <td>2</td>\n",
              "      <td>-1</td>\n",
              "      <td>-1</td>\n",
              "      <td>-2</td>\n",
              "      <td>-2</td>\n",
              "      <td>3913</td>\n",
              "      <td>3102</td>\n",
              "      <td>689</td>\n",
              "      <td>0</td>\n",
              "      <td>0</td>\n",
              "      <td>0</td>\n",
              "      <td>0</td>\n",
              "      <td>689</td>\n",
              "      <td>0</td>\n",
              "      <td>0</td>\n",
              "      <td>0</td>\n",
              "      <td>0</td>\n",
              "      <td>Yes</td>\n",
              "    </tr>\n",
              "    <tr>\n",
              "      <th>1</th>\n",
              "      <td>2</td>\n",
              "      <td>120000</td>\n",
              "      <td>Female</td>\n",
              "      <td>University</td>\n",
              "      <td>Single</td>\n",
              "      <td>26</td>\n",
              "      <td>-1</td>\n",
              "      <td>2</td>\n",
              "      <td>0</td>\n",
              "      <td>0</td>\n",
              "      <td>0</td>\n",
              "      <td>2</td>\n",
              "      <td>2682</td>\n",
              "      <td>1725</td>\n",
              "      <td>2682</td>\n",
              "      <td>3272</td>\n",
              "      <td>3455</td>\n",
              "      <td>3261</td>\n",
              "      <td>0</td>\n",
              "      <td>1000</td>\n",
              "      <td>1000</td>\n",
              "      <td>1000</td>\n",
              "      <td>0</td>\n",
              "      <td>2000</td>\n",
              "      <td>Yes</td>\n",
              "    </tr>\n",
              "    <tr>\n",
              "      <th>2</th>\n",
              "      <td>3</td>\n",
              "      <td>90000</td>\n",
              "      <td>Female</td>\n",
              "      <td>University</td>\n",
              "      <td>Single</td>\n",
              "      <td>34</td>\n",
              "      <td>0</td>\n",
              "      <td>0</td>\n",
              "      <td>0</td>\n",
              "      <td>0</td>\n",
              "      <td>0</td>\n",
              "      <td>0</td>\n",
              "      <td>29239</td>\n",
              "      <td>14027</td>\n",
              "      <td>13559</td>\n",
              "      <td>14331</td>\n",
              "      <td>14948</td>\n",
              "      <td>15549</td>\n",
              "      <td>1518</td>\n",
              "      <td>1500</td>\n",
              "      <td>1000</td>\n",
              "      <td>1000</td>\n",
              "      <td>1000</td>\n",
              "      <td>5000</td>\n",
              "      <td>No</td>\n",
              "    </tr>\n",
              "    <tr>\n",
              "      <th>3</th>\n",
              "      <td>4</td>\n",
              "      <td>50000</td>\n",
              "      <td>Female</td>\n",
              "      <td>University</td>\n",
              "      <td>Married</td>\n",
              "      <td>37</td>\n",
              "      <td>0</td>\n",
              "      <td>0</td>\n",
              "      <td>0</td>\n",
              "      <td>0</td>\n",
              "      <td>0</td>\n",
              "      <td>0</td>\n",
              "      <td>46990</td>\n",
              "      <td>48233</td>\n",
              "      <td>49291</td>\n",
              "      <td>28314</td>\n",
              "      <td>28959</td>\n",
              "      <td>29547</td>\n",
              "      <td>2000</td>\n",
              "      <td>2019</td>\n",
              "      <td>1200</td>\n",
              "      <td>1100</td>\n",
              "      <td>1069</td>\n",
              "      <td>1000</td>\n",
              "      <td>No</td>\n",
              "    </tr>\n",
              "    <tr>\n",
              "      <th>4</th>\n",
              "      <td>5</td>\n",
              "      <td>50000</td>\n",
              "      <td>Male</td>\n",
              "      <td>University</td>\n",
              "      <td>Married</td>\n",
              "      <td>57</td>\n",
              "      <td>-1</td>\n",
              "      <td>0</td>\n",
              "      <td>-1</td>\n",
              "      <td>0</td>\n",
              "      <td>0</td>\n",
              "      <td>0</td>\n",
              "      <td>8617</td>\n",
              "      <td>5670</td>\n",
              "      <td>35835</td>\n",
              "      <td>20940</td>\n",
              "      <td>19146</td>\n",
              "      <td>19131</td>\n",
              "      <td>2000</td>\n",
              "      <td>36681</td>\n",
              "      <td>10000</td>\n",
              "      <td>9000</td>\n",
              "      <td>689</td>\n",
              "      <td>679</td>\n",
              "      <td>No</td>\n",
              "    </tr>\n",
              "  </tbody>\n",
              "</table>\n",
              "</div>\n",
              "      <button class=\"colab-df-convert\" onclick=\"convertToInteractive('df-8e230260-b8c5-4b5f-ab9d-56dfd0ce4ed7')\"\n",
              "              title=\"Convert this dataframe to an interactive table.\"\n",
              "              style=\"display:none;\">\n",
              "        \n",
              "  <svg xmlns=\"http://www.w3.org/2000/svg\" height=\"24px\"viewBox=\"0 0 24 24\"\n",
              "       width=\"24px\">\n",
              "    <path d=\"M0 0h24v24H0V0z\" fill=\"none\"/>\n",
              "    <path d=\"M18.56 5.44l.94 2.06.94-2.06 2.06-.94-2.06-.94-.94-2.06-.94 2.06-2.06.94zm-11 1L8.5 8.5l.94-2.06 2.06-.94-2.06-.94L8.5 2.5l-.94 2.06-2.06.94zm10 10l.94 2.06.94-2.06 2.06-.94-2.06-.94-.94-2.06-.94 2.06-2.06.94z\"/><path d=\"M17.41 7.96l-1.37-1.37c-.4-.4-.92-.59-1.43-.59-.52 0-1.04.2-1.43.59L10.3 9.45l-7.72 7.72c-.78.78-.78 2.05 0 2.83L4 21.41c.39.39.9.59 1.41.59.51 0 1.02-.2 1.41-.59l7.78-7.78 2.81-2.81c.8-.78.8-2.07 0-2.86zM5.41 20L4 18.59l7.72-7.72 1.47 1.35L5.41 20z\"/>\n",
              "  </svg>\n",
              "      </button>\n",
              "      \n",
              "  <style>\n",
              "    .colab-df-container {\n",
              "      display:flex;\n",
              "      flex-wrap:wrap;\n",
              "      gap: 12px;\n",
              "    }\n",
              "\n",
              "    .colab-df-convert {\n",
              "      background-color: #E8F0FE;\n",
              "      border: none;\n",
              "      border-radius: 50%;\n",
              "      cursor: pointer;\n",
              "      display: none;\n",
              "      fill: #1967D2;\n",
              "      height: 32px;\n",
              "      padding: 0 0 0 0;\n",
              "      width: 32px;\n",
              "    }\n",
              "\n",
              "    .colab-df-convert:hover {\n",
              "      background-color: #E2EBFA;\n",
              "      box-shadow: 0px 1px 2px rgba(60, 64, 67, 0.3), 0px 1px 3px 1px rgba(60, 64, 67, 0.15);\n",
              "      fill: #174EA6;\n",
              "    }\n",
              "\n",
              "    [theme=dark] .colab-df-convert {\n",
              "      background-color: #3B4455;\n",
              "      fill: #D2E3FC;\n",
              "    }\n",
              "\n",
              "    [theme=dark] .colab-df-convert:hover {\n",
              "      background-color: #434B5C;\n",
              "      box-shadow: 0px 1px 3px 1px rgba(0, 0, 0, 0.15);\n",
              "      filter: drop-shadow(0px 1px 2px rgba(0, 0, 0, 0.3));\n",
              "      fill: #FFFFFF;\n",
              "    }\n",
              "  </style>\n",
              "\n",
              "      <script>\n",
              "        const buttonEl =\n",
              "          document.querySelector('#df-8e230260-b8c5-4b5f-ab9d-56dfd0ce4ed7 button.colab-df-convert');\n",
              "        buttonEl.style.display =\n",
              "          google.colab.kernel.accessAllowed ? 'block' : 'none';\n",
              "\n",
              "        async function convertToInteractive(key) {\n",
              "          const element = document.querySelector('#df-8e230260-b8c5-4b5f-ab9d-56dfd0ce4ed7');\n",
              "          const dataTable =\n",
              "            await google.colab.kernel.invokeFunction('convertToInteractive',\n",
              "                                                     [key], {});\n",
              "          if (!dataTable) return;\n",
              "\n",
              "          const docLinkHtml = 'Like what you see? Visit the ' +\n",
              "            '<a target=\"_blank\" href=https://colab.research.google.com/notebooks/data_table.ipynb>data table notebook</a>'\n",
              "            + ' to learn more about interactive tables.';\n",
              "          element.innerHTML = '';\n",
              "          dataTable['output_type'] = 'display_data';\n",
              "          await google.colab.output.renderOutput(dataTable, element);\n",
              "          const docLink = document.createElement('div');\n",
              "          docLink.innerHTML = docLinkHtml;\n",
              "          element.appendChild(docLink);\n",
              "        }\n",
              "      </script>\n",
              "    </div>\n",
              "  </div>\n",
              "  "
            ]
          },
          "metadata": {},
          "execution_count": 172
        }
      ],
      "source": [
        "#checking for replaced labels\n",
        "df.head()"
      ]
    },
    {
      "cell_type": "markdown",
      "metadata": {
        "id": "UHjSs2UZbHXS"
      },
      "source": [
        "## EDA (Exploratory Data Analysis)"
      ]
    },
    {
      "cell_type": "markdown",
      "source": [
        "## Dependent Variable:"
      ],
      "metadata": {
        "id": "FgQqTHJGJLfJ"
      }
    },
    {
      "cell_type": "code",
      "execution_count": 173,
      "metadata": {
        "id": "l5jZo72dbr6H",
        "colab": {
          "base_uri": "https://localhost:8080/"
        },
        "outputId": "2c5540fa-8e0a-4304-b25e-f769953b370f"
      },
      "outputs": [
        {
          "output_type": "execute_result",
          "data": {
            "text/plain": [
              "No     23364\n",
              "Yes     6636\n",
              "Name: IsDefaulter, dtype: int64"
            ]
          },
          "metadata": {},
          "execution_count": 173
        }
      ],
      "source": [
        "#Value counts of Isdefaulter\n",
        "df['IsDefaulter'].value_counts()"
      ]
    },
    {
      "cell_type": "code",
      "execution_count": 174,
      "metadata": {
        "id": "FWB6ykB6HkHT",
        "colab": {
          "base_uri": "https://localhost:8080/",
          "height": 351
        },
        "outputId": "74fd4f2a-5802-4f41-b668-1bde31c9a47a"
      },
      "outputs": [
        {
          "output_type": "execute_result",
          "data": {
            "text/plain": [
              "<matplotlib.axes._subplots.AxesSubplot at 0x7f69b3302a60>"
            ]
          },
          "metadata": {},
          "execution_count": 174
        },
        {
          "output_type": "display_data",
          "data": {
            "text/plain": [
              "<Figure size 432x360 with 1 Axes>"
            ],
            "image/png": "[encoded data removed]"
          },
          "metadata": {
            "needs_background": "light"
          }
        }
      ],
      "source": [
        "#value count plot for IsDefaulter\n",
        "plt.figure(figsize=(6,5))\n",
        "sns.countplot(x = 'IsDefaulter', data = df)"
      ]
    },
    {
      "cell_type": "markdown",
      "metadata": {
        "id": "O3bGS9g3cHu5"
      },
      "source": [
        "Here we can see defaulters are less as compare to Non defaulter in the given dataset, So we can say that we have imbalanced dataset"
      ]
    },
    {
      "cell_type": "markdown",
      "source": [
        "##Independent Variable"
      ],
      "metadata": {
        "id": "zM572apUQpst"
      }
    },
    {
      "cell_type": "markdown",
      "source": [
        "## Categorical Features"
      ],
      "metadata": {
        "id": "LDHUcIGjQ9NA"
      }
    },
    {
      "cell_type": "markdown",
      "source": [
        "**SEX**"
      ],
      "metadata": {
        "id": "5LdXOQXwRUaF"
      }
    },
    {
      "cell_type": "code",
      "execution_count": 175,
      "metadata": {
        "id": "oRfYKckwHkDf",
        "colab": {
          "base_uri": "https://localhost:8080/"
        },
        "outputId": "ce7a7f6d-a42f-46a0-cabd-01bf182648b2"
      },
      "outputs": [
        {
          "output_type": "execute_result",
          "data": {
            "text/plain": [
              "Female    18112\n",
              "Male      11888\n",
              "Name: SEX, dtype: int64"
            ]
          },
          "metadata": {},
          "execution_count": 175
        }
      ],
      "source": [
        "#Value counts for sex category\n",
        "df['SEX'].value_counts()"
      ]
    },
    {
      "cell_type": "markdown",
      "source": [
        "**Education**"
      ],
      "metadata": {
        "id": "pce7H_DTRQ0w"
      }
    },
    {
      "cell_type": "markdown",
      "source": [
        "As we can see in dataset we have values like 5,6,0 as well for which we are not having description so we can add up them in 4, which is Others."
      ],
      "metadata": {
        "id": "u--3_5MWS9wt"
      }
    },
    {
      "cell_type": "code",
      "execution_count": 180,
      "metadata": {
        "id": "w6-PM-Ago3Gr"
      },
      "outputs": [],
      "source": [
        "fil = (df['EDUCATION'] == 0) | (df['EDUCATION'] == 5) | (df['EDUCATION'] == 6) | (df['EDUCATION'] == 4)\n",
        "df.loc[fil, 'EDUCATION'] = 'Others'"
      ]
    },
    {
      "cell_type": "code",
      "execution_count": 181,
      "metadata": {
        "id": "2wXnOxDicd1l",
        "colab": {
          "base_uri": "https://localhost:8080/"
        },
        "outputId": "151cdd5a-599b-4b93-8ed3-6e96c595af4b"
      },
      "outputs": [
        {
          "output_type": "execute_result",
          "data": {
            "text/plain": [
              "University         14030\n",
              "Graduate School    10585\n",
              "High School         4917\n",
              "Others               468\n",
              "Name: EDUCATION, dtype: int64"
            ]
          },
          "metadata": {},
          "execution_count": 181
        }
      ],
      "source": [
        "#Value counts for education category\n",
        "df['EDUCATION'].value_counts()"
      ]
    },
    {
      "cell_type": "markdown",
      "source": [
        "**Marriage**"
      ],
      "metadata": {
        "id": "oScNhZZ4TDH_"
      }
    },
    {
      "cell_type": "code",
      "execution_count": 22,
      "metadata": {
        "id": "fcK6MHwHomEg",
        "colab": {
          "base_uri": "https://localhost:8080/"
        },
        "outputId": "56635aad-b04a-402b-a86d-8ddac80422d8"
      },
      "outputs": [
        {
          "output_type": "execute_result",
          "data": {
            "text/plain": [
              "Single     15964\n",
              "Married    13659\n",
              "Others       377\n",
              "Name: MARRIAGE, dtype: int64"
            ]
          },
          "metadata": {},
          "execution_count": 22
        }
      ],
      "source": [
        "#Value counts for marriage category\n",
        "fil = df['MARRIAGE']==0\n",
        "df.loc[fil,'MARRIAGE'] = 'Others'\n",
        "df['MARRIAGE'].value_counts()\n"
      ]
    },
    {
      "cell_type": "markdown",
      "metadata": {
        "id": "PFGqyKldq1kq"
      },
      "source": [
        "## Now plotting a categorical features"
      ]
    },
    {
      "cell_type": "code",
      "execution_count": 23,
      "metadata": {
        "id": "iyUdUIGdoIaq"
      },
      "outputs": [],
      "source": [
        "categorical_features = ['SEX', 'EDUCATION', 'MARRIAGE']"
      ]
    },
    {
      "cell_type": "code",
      "execution_count": 24,
      "metadata": {
        "id": "BC9KDrshxKeD",
        "colab": {
          "base_uri": "https://localhost:8080/",
          "height": 279
        },
        "outputId": "ce56300b-54a4-4c13-f1dd-0ed4f7b71985"
      },
      "outputs": [
        {
          "output_type": "display_data",
          "data": {
            "text/plain": [
              "<Figure size 432x288 with 1 Axes>"
            ],
            "image/png": "[encoded data removed]"
          },
          "metadata": {
            "needs_background": "light"
          }
        }
      ],
      "source": [
        "# count plot on two categorical variable\n",
        "sns.countplot(x ='MARRIAGE', hue = 'IsDefaulter', data = df)\n",
        " \n",
        "# Show the plot\n",
        "plt.show()\n",
        " "
      ]
    },
    {
      "cell_type": "code",
      "execution_count": 25,
      "metadata": {
        "id": "GpoRTRHzgNmb",
        "colab": {
          "base_uri": "https://localhost:8080/",
          "height": 279
        },
        "outputId": "bf932ec9-527e-4a85-8f27-43f46258dce9"
      },
      "outputs": [
        {
          "output_type": "display_data",
          "data": {
            "text/plain": [
              "<Figure size 432x288 with 1 Axes>"
            ],
            "image/png": "[encoded data removed]"
          },
          "metadata": {
            "needs_background": "light"
          }
        }
      ],
      "source": [
        "# count plot on two categorical variable\n",
        "sns.countplot(x ='SEX', hue = 'IsDefaulter', data = df)\n",
        " \n",
        "# Show the plot\n",
        "plt.show()\n",
        " "
      ]
    },
    {
      "cell_type": "code",
      "execution_count": 26,
      "metadata": {
        "id": "UkfUP7fLv2j7",
        "colab": {
          "base_uri": "https://localhost:8080/",
          "height": 279
        },
        "outputId": "66266ef9-58da-4128-b173-7091806b8652"
      },
      "outputs": [
        {
          "output_type": "display_data",
          "data": {
            "text/plain": [
              "<Figure size 432x288 with 1 Axes>"
            ],
            "image/png": "[encoded data removed]"
          },
          "metadata": {
            "needs_background": "light"
          }
        }
      ],
      "source": [
        "# count plot on two categorical variable\n",
        "sns.countplot(x ='EDUCATION', hue = 'IsDefaulter', data = df)\n",
        " \n",
        "# Show the plot\n",
        "plt.show()\n",
        " "
      ]
    },
    {
      "cell_type": "code",
      "execution_count": 27,
      "metadata": {
        "id": "txzlzCDqgNjL",
        "colab": {
          "base_uri": "https://localhost:8080/",
          "height": 440
        },
        "outputId": "989c5ebd-e952-40a9-e7dc-55f298febdc2"
      },
      "outputs": [
        {
          "output_type": "display_data",
          "data": {
            "text/plain": [
              "<Figure size 2160x720 with 1 Axes>"
            ],
            "image/png": "[encoded data removed]"
          },
          "metadata": {
            "needs_background": "light"
          }
        }
      ],
      "source": [
        "# count plot on two categorical variable\n",
        "plt.figure(figsize=(30,10))\n",
        "sns.countplot(x ='AGE', hue = 'IsDefaulter', data = df)\n",
        "\n",
        "# Show the plot\n",
        "plt.show()"
      ]
    },
    {
      "cell_type": "markdown",
      "source": [
        "Below are few observations for categorical features:\n",
        "\n",
        "\n",
        "\n",
        "\n",
        "*   There are more females credit card holder,so no. of defaulter have high proportion of females.\n",
        "*   No. of defaulters have a higher proportion of educated people  (graduate school and university)\n",
        "*  No. of defaulters have a higher proportion of Singles.\n",
        "*  No. of defaulters are high proportion from age 25 to 35. "
      ],
      "metadata": {
        "id": "A6bCdDp9bsCt"
      }
    },
    {
      "cell_type": "markdown",
      "metadata": {
        "id": "G9HNqmMPHDVz"
      },
      "source": [
        "## Checking Correlation"
      ]
    },
    {
      "cell_type": "code",
      "execution_count": 28,
      "metadata": {
        "id": "4kQbpxmwGy7G",
        "colab": {
          "base_uri": "https://localhost:8080/",
          "height": 1000
        },
        "outputId": "b6c4301b-db41-4144-b397-6be5add419d6"
      },
      "outputs": [
        {
          "output_type": "display_data",
          "data": {
            "text/plain": [
              "<Figure size 1440x1296 with 2 Axes>"
            ],
            "image/png": "[encoded data removed]"
          },
          "metadata": {
            "needs_background": "light"
          }
        }
      ],
      "source": [
        "plt.figure(figsize=(20,18))\n",
        "sns.heatmap(df.corr(),annot=True,cmap=\"coolwarm\")\n",
        "plt.show()"
      ]
    },
    {
      "cell_type": "markdown",
      "metadata": {
        "id": "nWQ09VcwHCZ3"
      },
      "source": [
        "## Label Encoding"
      ]
    },
    {
      "cell_type": "code",
      "execution_count": 29,
      "metadata": {
        "id": "eEuSIC0MHCID"
      },
      "outputs": [],
      "source": [
        "#Label encoding \n",
        "encode_num = {\"SEX\":{\"Female\":0,\"Male\":1}, \"IsDefaulter\":{\"Yes\":1,\"No\":0}}\n",
        "df=df.replace(encode_num)"
      ]
    },
    {
      "cell_type": "code",
      "execution_count": 30,
      "metadata": {
        "id": "eGjO4kYiHCFG",
        "colab": {
          "base_uri": "https://localhost:8080/",
          "height": 270
        },
        "outputId": "80480dc1-b18f-4ae5-9ebb-e8b0e7243b9e"
      },
      "outputs": [
        {
          "output_type": "execute_result",
          "data": {
            "text/plain": [
              "   ID  LIMIT_BAL  SEX   EDUCATION MARRIAGE  AGE  PAY_SEPT  PAY_AUG  PAY_JUL  \\\n",
              "0   1      20000    0  University  Married   24         2        2       -1   \n",
              "1   2     120000    0  University   Single   26        -1        2        0   \n",
              "2   3      90000    0  University   Single   34         0        0        0   \n",
              "3   4      50000    0  University  Married   37         0        0        0   \n",
              "4   5      50000    1  University  Married   57        -1        0       -1   \n",
              "\n",
              "   PAY_JUN  PAY_MAY  PAY_APR  BILL_AMT_SEPT  BILL_AMT_AUG  BILL_AMT_JUL  \\\n",
              "0       -1       -2       -2           3913          3102           689   \n",
              "1        0        0        2           2682          1725          2682   \n",
              "2        0        0        0          29239         14027         13559   \n",
              "3        0        0        0          46990         48233         49291   \n",
              "4        0        0        0           8617          5670         35835   \n",
              "\n",
              "   BILL_AMT_JUN  BILL_AMT_MAY  BILL_AMT_APR  PAY_AMT_SEPT  PAY_AMT_AUG  \\\n",
              "0             0             0             0             0          689   \n",
              "1          3272          3455          3261             0         1000   \n",
              "2         14331         14948         15549          1518         1500   \n",
              "3         28314         28959         29547          2000         2019   \n",
              "4         20940         19146         19131          2000        36681   \n",
              "\n",
              "   PAY_AMT_JUL  PAY_AMT_JUN  PAY_AMT_MAY  PAY_AMT_APR  IsDefaulter  \n",
              "0            0            0            0            0            1  \n",
              "1         1000         1000            0         2000            1  \n",
              "2         1000         1000         1000         5000            0  \n",
              "3         1200         1100         1069         1000            0  \n",
              "4        10000         9000          689          679            0  "
            ],
            "text/html": [
              "\n",
              "  <div id=\"df-41450ea8-3160-4271-a2af-c094430ee493\">\n",
              "    <div class=\"colab-df-container\">\n",
              "      <div>\n",
              "<style scoped>\n",
              "    .dataframe tbody tr th:only-of-type {\n",
              "        vertical-align: middle;\n",
              "    }\n",
              "\n",
              "    .dataframe tbody tr th {\n",
              "        vertical-align: top;\n",
              "    }\n",
              "\n",
              "    .dataframe thead th {\n",
              "        text-align: right;\n",
              "    }\n",
              "</style>\n",
              "<table border=\"1\" class=\"dataframe\">\n",
              "  <thead>\n",
              "    <tr style=\"text-align: right;\">\n",
              "      <th></th>\n",
              "      <th>ID</th>\n",
              "      <th>LIMIT_BAL</th>\n",
              "      <th>SEX</th>\n",
              "      <th>EDUCATION</th>\n",
              "      <th>MARRIAGE</th>\n",
              "      <th>AGE</th>\n",
              "      <th>PAY_SEPT</th>\n",
              "      <th>PAY_AUG</th>\n",
              "      <th>PAY_JUL</th>\n",
              "      <th>PAY_JUN</th>\n",
              "      <th>PAY_MAY</th>\n",
              "      <th>PAY_APR</th>\n",
              "      <th>BILL_AMT_SEPT</th>\n",
              "      <th>BILL_AMT_AUG</th>\n",
              "      <th>BILL_AMT_JUL</th>\n",
              "      <th>BILL_AMT_JUN</th>\n",
              "      <th>BILL_AMT_MAY</th>\n",
              "      <th>BILL_AMT_APR</th>\n",
              "      <th>PAY_AMT_SEPT</th>\n",
              "      <th>PAY_AMT_AUG</th>\n",
              "      <th>PAY_AMT_JUL</th>\n",
              "      <th>PAY_AMT_JUN</th>\n",
              "      <th>PAY_AMT_MAY</th>\n",
              "      <th>PAY_AMT_APR</th>\n",
              "      <th>IsDefaulter</th>\n",
              "    </tr>\n",
              "  </thead>\n",
              "  <tbody>\n",
              "    <tr>\n",
              "      <th>0</th>\n",
              "      <td>1</td>\n",
              "      <td>20000</td>\n",
              "      <td>0</td>\n",
              "      <td>University</td>\n",
              "      <td>Married</td>\n",
              "      <td>24</td>\n",
              "      <td>2</td>\n",
              "      <td>2</td>\n",
              "      <td>-1</td>\n",
              "      <td>-1</td>\n",
              "      <td>-2</td>\n",
              "      <td>-2</td>\n",
              "      <td>3913</td>\n",
              "      <td>3102</td>\n",
              "      <td>689</td>\n",
              "      <td>0</td>\n",
              "      <td>0</td>\n",
              "      <td>0</td>\n",
              "      <td>0</td>\n",
              "      <td>689</td>\n",
              "      <td>0</td>\n",
              "      <td>0</td>\n",
              "      <td>0</td>\n",
              "      <td>0</td>\n",
              "      <td>1</td>\n",
              "    </tr>\n",
              "    <tr>\n",
              "      <th>1</th>\n",
              "      <td>2</td>\n",
              "      <td>120000</td>\n",
              "      <td>0</td>\n",
              "      <td>University</td>\n",
              "      <td>Single</td>\n",
              "      <td>26</td>\n",
              "      <td>-1</td>\n",
              "      <td>2</td>\n",
              "      <td>0</td>\n",
              "      <td>0</td>\n",
              "      <td>0</td>\n",
              "      <td>2</td>\n",
              "      <td>2682</td>\n",
              "      <td>1725</td>\n",
              "      <td>2682</td>\n",
              "      <td>3272</td>\n",
              "      <td>3455</td>\n",
              "      <td>3261</td>\n",
              "      <td>0</td>\n",
              "      <td>1000</td>\n",
              "      <td>1000</td>\n",
              "      <td>1000</td>\n",
              "      <td>0</td>\n",
              "      <td>2000</td>\n",
              "      <td>1</td>\n",
              "    </tr>\n",
              "    <tr>\n",
              "      <th>2</th>\n",
              "      <td>3</td>\n",
              "      <td>90000</td>\n",
              "      <td>0</td>\n",
              "      <td>University</td>\n",
              "      <td>Single</td>\n",
              "      <td>34</td>\n",
              "      <td>0</td>\n",
              "      <td>0</td>\n",
              "      <td>0</td>\n",
              "      <td>0</td>\n",
              "      <td>0</td>\n",
              "      <td>0</td>\n",
              "      <td>29239</td>\n",
              "      <td>14027</td>\n",
              "      <td>13559</td>\n",
              "      <td>14331</td>\n",
              "      <td>14948</td>\n",
              "      <td>15549</td>\n",
              "      <td>1518</td>\n",
              "      <td>1500</td>\n",
              "      <td>1000</td>\n",
              "      <td>1000</td>\n",
              "      <td>1000</td>\n",
              "      <td>5000</td>\n",
              "      <td>0</td>\n",
              "    </tr>\n",
              "    <tr>\n",
              "      <th>3</th>\n",
              "      <td>4</td>\n",
              "      <td>50000</td>\n",
              "      <td>0</td>\n",
              "      <td>University</td>\n",
              "      <td>Married</td>\n",
              "      <td>37</td>\n",
              "      <td>0</td>\n",
              "      <td>0</td>\n",
              "      <td>0</td>\n",
              "      <td>0</td>\n",
              "      <td>0</td>\n",
              "      <td>0</td>\n",
              "      <td>46990</td>\n",
              "      <td>48233</td>\n",
              "      <td>49291</td>\n",
              "      <td>28314</td>\n",
              "      <td>28959</td>\n",
              "      <td>29547</td>\n",
              "      <td>2000</td>\n",
              "      <td>2019</td>\n",
              "      <td>1200</td>\n",
              "      <td>1100</td>\n",
              "      <td>1069</td>\n",
              "      <td>1000</td>\n",
              "      <td>0</td>\n",
              "    </tr>\n",
              "    <tr>\n",
              "      <th>4</th>\n",
              "      <td>5</td>\n",
              "      <td>50000</td>\n",
              "      <td>1</td>\n",
              "      <td>University</td>\n",
              "      <td>Married</td>\n",
              "      <td>57</td>\n",
              "      <td>-1</td>\n",
              "      <td>0</td>\n",
              "      <td>-1</td>\n",
              "      <td>0</td>\n",
              "      <td>0</td>\n",
              "      <td>0</td>\n",
              "      <td>8617</td>\n",
              "      <td>5670</td>\n",
              "      <td>35835</td>\n",
              "      <td>20940</td>\n",
              "      <td>19146</td>\n",
              "      <td>19131</td>\n",
              "      <td>2000</td>\n",
              "      <td>36681</td>\n",
              "      <td>10000</td>\n",
              "      <td>9000</td>\n",
              "      <td>689</td>\n",
              "      <td>679</td>\n",
              "      <td>0</td>\n",
              "    </tr>\n",
              "  </tbody>\n",
              "</table>\n",
              "</div>\n",
              "      <button class=\"colab-df-convert\" onclick=\"convertToInteractive('df-41450ea8-3160-4271-a2af-c094430ee493')\"\n",
              "              title=\"Convert this dataframe to an interactive table.\"\n",
              "              style=\"display:none;\">\n",
              "        \n",
              "  <svg xmlns=\"http://www.w3.org/2000/svg\" height=\"24px\"viewBox=\"0 0 24 24\"\n",
              "       width=\"24px\">\n",
              "    <path d=\"M0 0h24v24H0V0z\" fill=\"none\"/>\n",
              "    <path d=\"M18.56 5.44l.94 2.06.94-2.06 2.06-.94-2.06-.94-.94-2.06-.94 2.06-2.06.94zm-11 1L8.5 8.5l.94-2.06 2.06-.94-2.06-.94L8.5 2.5l-.94 2.06-2.06.94zm10 10l.94 2.06.94-2.06 2.06-.94-2.06-.94-.94-2.06-.94 2.06-2.06.94z\"/><path d=\"M17.41 7.96l-1.37-1.37c-.4-.4-.92-.59-1.43-.59-.52 0-1.04.2-1.43.59L10.3 9.45l-7.72 7.72c-.78.78-.78 2.05 0 2.83L4 21.41c.39.39.9.59 1.41.59.51 0 1.02-.2 1.41-.59l7.78-7.78 2.81-2.81c.8-.78.8-2.07 0-2.86zM5.41 20L4 18.59l7.72-7.72 1.47 1.35L5.41 20z\"/>\n",
              "  </svg>\n",
              "      </button>\n",
              "      \n",
              "  <style>\n",
              "    .colab-df-container {\n",
              "      display:flex;\n",
              "      flex-wrap:wrap;\n",
              "      gap: 12px;\n",
              "    }\n",
              "\n",
              "    .colab-df-convert {\n",
              "      background-color: #E8F0FE;\n",
              "      border: none;\n",
              "      border-radius: 50%;\n",
              "      cursor: pointer;\n",
              "      display: none;\n",
              "      fill: #1967D2;\n",
              "      height: 32px;\n",
              "      padding: 0 0 0 0;\n",
              "      width: 32px;\n",
              "    }\n",
              "\n",
              "    .colab-df-convert:hover {\n",
              "      background-color: #E2EBFA;\n",
              "      box-shadow: 0px 1px 2px rgba(60, 64, 67, 0.3), 0px 1px 3px 1px rgba(60, 64, 67, 0.15);\n",
              "      fill: #174EA6;\n",
              "    }\n",
              "\n",
              "    [theme=dark] .colab-df-convert {\n",
              "      background-color: #3B4455;\n",
              "      fill: #D2E3FC;\n",
              "    }\n",
              "\n",
              "    [theme=dark] .colab-df-convert:hover {\n",
              "      background-color: #434B5C;\n",
              "      box-shadow: 0px 1px 3px 1px rgba(0, 0, 0, 0.15);\n",
              "      filter: drop-shadow(0px 1px 2px rgba(0, 0, 0, 0.3));\n",
              "      fill: #FFFFFF;\n",
              "    }\n",
              "  </style>\n",
              "\n",
              "      <script>\n",
              "        const buttonEl =\n",
              "          document.querySelector('#df-41450ea8-3160-4271-a2af-c094430ee493 button.colab-df-convert');\n",
              "        buttonEl.style.display =\n",
              "          google.colab.kernel.accessAllowed ? 'block' : 'none';\n",
              "\n",
              "        async function convertToInteractive(key) {\n",
              "          const element = document.querySelector('#df-41450ea8-3160-4271-a2af-c094430ee493');\n",
              "          const dataTable =\n",
              "            await google.colab.kernel.invokeFunction('convertToInteractive',\n",
              "                                                     [key], {});\n",
              "          if (!dataTable) return;\n",
              "\n",
              "          const docLinkHtml = 'Like what you see? Visit the ' +\n",
              "            '<a target=\"_blank\" href=https://colab.research.google.com/notebooks/data_table.ipynb>data table notebook</a>'\n",
              "            + ' to learn more about interactive tables.';\n",
              "          element.innerHTML = '';\n",
              "          dataTable['output_type'] = 'display_data';\n",
              "          await google.colab.output.renderOutput(dataTable, element);\n",
              "          const docLink = document.createElement('div');\n",
              "          docLink.innerHTML = docLinkHtml;\n",
              "          element.appendChild(docLink);\n",
              "        }\n",
              "      </script>\n",
              "    </div>\n",
              "  </div>\n",
              "  "
            ]
          },
          "metadata": {},
          "execution_count": 30
        }
      ],
      "source": [
        "#check for changed labels\n",
        "df.head()"
      ]
    },
    {
      "cell_type": "code",
      "execution_count": 31,
      "metadata": {
        "id": "QmaDrXaZaEUl",
        "colab": {
          "base_uri": "https://localhost:8080/"
        },
        "outputId": "fc334a9c-f77c-49af-89a1-b5777a50b3ad"
      },
      "outputs": [
        {
          "output_type": "execute_result",
          "data": {
            "text/plain": [
              "(30000, 25)"
            ]
          },
          "metadata": {},
          "execution_count": 31
        }
      ],
      "source": [
        "df.shape"
      ]
    },
    {
      "cell_type": "code",
      "execution_count": 32,
      "metadata": {
        "id": "C5-h_o4OX3AG"
      },
      "outputs": [],
      "source": [
        "#creating dummy variables\n",
        "df = pd.get_dummies(df, columns=['EDUCATION','MARRIAGE']) "
      ]
    },
    {
      "cell_type": "code",
      "execution_count": 33,
      "metadata": {
        "id": "LZdp3kMHHB_F",
        "colab": {
          "base_uri": "https://localhost:8080/"
        },
        "outputId": "ee43c88f-0fef-495b-cfea-402ef8206082"
      },
      "outputs": [
        {
          "output_type": "execute_result",
          "data": {
            "text/plain": [
              "(30000, 31)"
            ]
          },
          "metadata": {},
          "execution_count": 33
        }
      ],
      "source": [
        "df.shape "
      ]
    },
    {
      "cell_type": "code",
      "execution_count": 34,
      "metadata": {
        "id": "inSNCU_0cip5",
        "colab": {
          "base_uri": "https://localhost:8080/",
          "height": 288
        },
        "outputId": "c30babce-9a3a-4e6e-c5ef-3e6b5a9ed259"
      },
      "outputs": [
        {
          "output_type": "execute_result",
          "data": {
            "text/plain": [
              "   ID  LIMIT_BAL  SEX  AGE  PAY_SEPT  PAY_AUG  PAY_JUL  PAY_JUN  PAY_MAY  \\\n",
              "0   1      20000    0   24         2        2       -1       -1       -2   \n",
              "1   2     120000    0   26        -1        2        0        0        0   \n",
              "2   3      90000    0   34         0        0        0        0        0   \n",
              "3   4      50000    0   37         0        0        0        0        0   \n",
              "4   5      50000    1   57        -1        0       -1        0        0   \n",
              "\n",
              "   PAY_APR  BILL_AMT_SEPT  BILL_AMT_AUG  BILL_AMT_JUL  BILL_AMT_JUN  \\\n",
              "0       -2           3913          3102           689             0   \n",
              "1        2           2682          1725          2682          3272   \n",
              "2        0          29239         14027         13559         14331   \n",
              "3        0          46990         48233         49291         28314   \n",
              "4        0           8617          5670         35835         20940   \n",
              "\n",
              "   BILL_AMT_MAY  BILL_AMT_APR  PAY_AMT_SEPT  PAY_AMT_AUG  PAY_AMT_JUL  \\\n",
              "0             0             0             0          689            0   \n",
              "1          3455          3261             0         1000         1000   \n",
              "2         14948         15549          1518         1500         1000   \n",
              "3         28959         29547          2000         2019         1200   \n",
              "4         19146         19131          2000        36681        10000   \n",
              "\n",
              "   PAY_AMT_JUN  PAY_AMT_MAY  PAY_AMT_APR  IsDefaulter  EDUCATION_0  \\\n",
              "0            0            0            0            1            0   \n",
              "1         1000            0         2000            1            0   \n",
              "2         1000         1000         5000            0            0   \n",
              "3         1100         1069         1000            0            0   \n",
              "4         9000          689          679            0            0   \n",
              "\n",
              "   EDUCATION_Graduate School  EDUCATION_High School  EDUCATION_Others  \\\n",
              "0                          0                      0                 0   \n",
              "1                          0                      0                 0   \n",
              "2                          0                      0                 0   \n",
              "3                          0                      0                 0   \n",
              "4                          0                      0                 0   \n",
              "\n",
              "   EDUCATION_University  MARRIAGE_Married  MARRIAGE_Others  MARRIAGE_Single  \n",
              "0                     1                 1                0                0  \n",
              "1                     1                 0                0                1  \n",
              "2                     1                 0                0                1  \n",
              "3                     1                 1                0                0  \n",
              "4                     1                 1                0                0  "
            ],
            "text/html": [
              "\n",
              "  <div id=\"df-64327870-b7e1-4985-b488-4af97c19f3b1\">\n",
              "    <div class=\"colab-df-container\">\n",
              "      <div>\n",
              "<style scoped>\n",
              "    .dataframe tbody tr th:only-of-type {\n",
              "        vertical-align: middle;\n",
              "    }\n",
              "\n",
              "    .dataframe tbody tr th {\n",
              "        vertical-align: top;\n",
              "    }\n",
              "\n",
              "    .dataframe thead th {\n",
              "        text-align: right;\n",
              "    }\n",
              "</style>\n",
              "<table border=\"1\" class=\"dataframe\">\n",
              "  <thead>\n",
              "    <tr style=\"text-align: right;\">\n",
              "      <th></th>\n",
              "      <th>ID</th>\n",
              "      <th>LIMIT_BAL</th>\n",
              "      <th>SEX</th>\n",
              "      <th>AGE</th>\n",
              "      <th>PAY_SEPT</th>\n",
              "      <th>PAY_AUG</th>\n",
              "      <th>PAY_JUL</th>\n",
              "      <th>PAY_JUN</th>\n",
              "      <th>PAY_MAY</th>\n",
              "      <th>PAY_APR</th>\n",
              "      <th>BILL_AMT_SEPT</th>\n",
              "      <th>BILL_AMT_AUG</th>\n",
              "      <th>BILL_AMT_JUL</th>\n",
              "      <th>BILL_AMT_JUN</th>\n",
              "      <th>BILL_AMT_MAY</th>\n",
              "      <th>BILL_AMT_APR</th>\n",
              "      <th>PAY_AMT_SEPT</th>\n",
              "      <th>PAY_AMT_AUG</th>\n",
              "      <th>PAY_AMT_JUL</th>\n",
              "      <th>PAY_AMT_JUN</th>\n",
              "      <th>PAY_AMT_MAY</th>\n",
              "      <th>PAY_AMT_APR</th>\n",
              "      <th>IsDefaulter</th>\n",
              "      <th>EDUCATION_0</th>\n",
              "      <th>EDUCATION_Graduate School</th>\n",
              "      <th>EDUCATION_High School</th>\n",
              "      <th>EDUCATION_Others</th>\n",
              "      <th>EDUCATION_University</th>\n",
              "      <th>MARRIAGE_Married</th>\n",
              "      <th>MARRIAGE_Others</th>\n",
              "      <th>MARRIAGE_Single</th>\n",
              "    </tr>\n",
              "  </thead>\n",
              "  <tbody>\n",
              "    <tr>\n",
              "      <th>0</th>\n",
              "      <td>1</td>\n",
              "      <td>20000</td>\n",
              "      <td>0</td>\n",
              "      <td>24</td>\n",
              "      <td>2</td>\n",
              "      <td>2</td>\n",
              "      <td>-1</td>\n",
              "      <td>-1</td>\n",
              "      <td>-2</td>\n",
              "      <td>-2</td>\n",
              "      <td>3913</td>\n",
              "      <td>3102</td>\n",
              "      <td>689</td>\n",
              "      <td>0</td>\n",
              "      <td>0</td>\n",
              "      <td>0</td>\n",
              "      <td>0</td>\n",
              "      <td>689</td>\n",
              "      <td>0</td>\n",
              "      <td>0</td>\n",
              "      <td>0</td>\n",
              "      <td>0</td>\n",
              "      <td>1</td>\n",
              "      <td>0</td>\n",
              "      <td>0</td>\n",
              "      <td>0</td>\n",
              "      <td>0</td>\n",
              "      <td>1</td>\n",
              "      <td>1</td>\n",
              "      <td>0</td>\n",
              "      <td>0</td>\n",
              "    </tr>\n",
              "    <tr>\n",
              "      <th>1</th>\n",
              "      <td>2</td>\n",
              "      <td>120000</td>\n",
              "      <td>0</td>\n",
              "      <td>26</td>\n",
              "      <td>-1</td>\n",
              "      <td>2</td>\n",
              "      <td>0</td>\n",
              "      <td>0</td>\n",
              "      <td>0</td>\n",
              "      <td>2</td>\n",
              "      <td>2682</td>\n",
              "      <td>1725</td>\n",
              "      <td>2682</td>\n",
              "      <td>3272</td>\n",
              "      <td>3455</td>\n",
              "      <td>3261</td>\n",
              "      <td>0</td>\n",
              "      <td>1000</td>\n",
              "      <td>1000</td>\n",
              "      <td>1000</td>\n",
              "      <td>0</td>\n",
              "      <td>2000</td>\n",
              "      <td>1</td>\n",
              "      <td>0</td>\n",
              "      <td>0</td>\n",
              "      <td>0</td>\n",
              "      <td>0</td>\n",
              "      <td>1</td>\n",
              "      <td>0</td>\n",
              "      <td>0</td>\n",
              "      <td>1</td>\n",
              "    </tr>\n",
              "    <tr>\n",
              "      <th>2</th>\n",
              "      <td>3</td>\n",
              "      <td>90000</td>\n",
              "      <td>0</td>\n",
              "      <td>34</td>\n",
              "      <td>0</td>\n",
              "      <td>0</td>\n",
              "      <td>0</td>\n",
              "      <td>0</td>\n",
              "      <td>0</td>\n",
              "      <td>0</td>\n",
              "      <td>29239</td>\n",
              "      <td>14027</td>\n",
              "      <td>13559</td>\n",
              "      <td>14331</td>\n",
              "      <td>14948</td>\n",
              "      <td>15549</td>\n",
              "      <td>1518</td>\n",
              "      <td>1500</td>\n",
              "      <td>1000</td>\n",
              "      <td>1000</td>\n",
              "      <td>1000</td>\n",
              "      <td>5000</td>\n",
              "      <td>0</td>\n",
              "      <td>0</td>\n",
              "      <td>0</td>\n",
              "      <td>0</td>\n",
              "      <td>0</td>\n",
              "      <td>1</td>\n",
              "      <td>0</td>\n",
              "      <td>0</td>\n",
              "      <td>1</td>\n",
              "    </tr>\n",
              "    <tr>\n",
              "      <th>3</th>\n",
              "      <td>4</td>\n",
              "      <td>50000</td>\n",
              "      <td>0</td>\n",
              "      <td>37</td>\n",
              "      <td>0</td>\n",
              "      <td>0</td>\n",
              "      <td>0</td>\n",
              "      <td>0</td>\n",
              "      <td>0</td>\n",
              "      <td>0</td>\n",
              "      <td>46990</td>\n",
              "      <td>48233</td>\n",
              "      <td>49291</td>\n",
              "      <td>28314</td>\n",
              "      <td>28959</td>\n",
              "      <td>29547</td>\n",
              "      <td>2000</td>\n",
              "      <td>2019</td>\n",
              "      <td>1200</td>\n",
              "      <td>1100</td>\n",
              "      <td>1069</td>\n",
              "      <td>1000</td>\n",
              "      <td>0</td>\n",
              "      <td>0</td>\n",
              "      <td>0</td>\n",
              "      <td>0</td>\n",
              "      <td>0</td>\n",
              "      <td>1</td>\n",
              "      <td>1</td>\n",
              "      <td>0</td>\n",
              "      <td>0</td>\n",
              "    </tr>\n",
              "    <tr>\n",
              "      <th>4</th>\n",
              "      <td>5</td>\n",
              "      <td>50000</td>\n",
              "      <td>1</td>\n",
              "      <td>57</td>\n",
              "      <td>-1</td>\n",
              "      <td>0</td>\n",
              "      <td>-1</td>\n",
              "      <td>0</td>\n",
              "      <td>0</td>\n",
              "      <td>0</td>\n",
              "      <td>8617</td>\n",
              "      <td>5670</td>\n",
              "      <td>35835</td>\n",
              "      <td>20940</td>\n",
              "      <td>19146</td>\n",
              "      <td>19131</td>\n",
              "      <td>2000</td>\n",
              "      <td>36681</td>\n",
              "      <td>10000</td>\n",
              "      <td>9000</td>\n",
              "      <td>689</td>\n",
              "      <td>679</td>\n",
              "      <td>0</td>\n",
              "      <td>0</td>\n",
              "      <td>0</td>\n",
              "      <td>0</td>\n",
              "      <td>0</td>\n",
              "      <td>1</td>\n",
              "      <td>1</td>\n",
              "      <td>0</td>\n",
              "      <td>0</td>\n",
              "    </tr>\n",
              "  </tbody>\n",
              "</table>\n",
              "</div>\n",
              "      <button class=\"colab-df-convert\" onclick=\"convertToInteractive('df-64327870-b7e1-4985-b488-4af97c19f3b1')\"\n",
              "              title=\"Convert this dataframe to an interactive table.\"\n",
              "              style=\"display:none;\">\n",
              "        \n",
              "  <svg xmlns=\"http://www.w3.org/2000/svg\" height=\"24px\"viewBox=\"0 0 24 24\"\n",
              "       width=\"24px\">\n",
              "    <path d=\"M0 0h24v24H0V0z\" fill=\"none\"/>\n",
              "    <path d=\"M18.56 5.44l.94 2.06.94-2.06 2.06-.94-2.06-.94-.94-2.06-.94 2.06-2.06.94zm-11 1L8.5 8.5l.94-2.06 2.06-.94-2.06-.94L8.5 2.5l-.94 2.06-2.06.94zm10 10l.94 2.06.94-2.06 2.06-.94-2.06-.94-.94-2.06-.94 2.06-2.06.94z\"/><path d=\"M17.41 7.96l-1.37-1.37c-.4-.4-.92-.59-1.43-.59-.52 0-1.04.2-1.43.59L10.3 9.45l-7.72 7.72c-.78.78-.78 2.05 0 2.83L4 21.41c.39.39.9.59 1.41.59.51 0 1.02-.2 1.41-.59l7.78-7.78 2.81-2.81c.8-.78.8-2.07 0-2.86zM5.41 20L4 18.59l7.72-7.72 1.47 1.35L5.41 20z\"/>\n",
              "  </svg>\n",
              "      </button>\n",
              "      \n",
              "  <style>\n",
              "    .colab-df-container {\n",
              "      display:flex;\n",
              "      flex-wrap:wrap;\n",
              "      gap: 12px;\n",
              "    }\n",
              "\n",
              "    .colab-df-convert {\n",
              "      background-color: #E8F0FE;\n",
              "      border: none;\n",
              "      border-radius: 50%;\n",
              "      cursor: pointer;\n",
              "      display: none;\n",
              "      fill: #1967D2;\n",
              "      height: 32px;\n",
              "      padding: 0 0 0 0;\n",
              "      width: 32px;\n",
              "    }\n",
              "\n",
              "    .colab-df-convert:hover {\n",
              "      background-color: #E2EBFA;\n",
              "      box-shadow: 0px 1px 2px rgba(60, 64, 67, 0.3), 0px 1px 3px 1px rgba(60, 64, 67, 0.15);\n",
              "      fill: #174EA6;\n",
              "    }\n",
              "\n",
              "    [theme=dark] .colab-df-convert {\n",
              "      background-color: #3B4455;\n",
              "      fill: #D2E3FC;\n",
              "    }\n",
              "\n",
              "    [theme=dark] .colab-df-convert:hover {\n",
              "      background-color: #434B5C;\n",
              "      box-shadow: 0px 1px 3px 1px rgba(0, 0, 0, 0.15);\n",
              "      filter: drop-shadow(0px 1px 2px rgba(0, 0, 0, 0.3));\n",
              "      fill: #FFFFFF;\n",
              "    }\n",
              "  </style>\n",
              "\n",
              "      <script>\n",
              "        const buttonEl =\n",
              "          document.querySelector('#df-64327870-b7e1-4985-b488-4af97c19f3b1 button.colab-df-convert');\n",
              "        buttonEl.style.display =\n",
              "          google.colab.kernel.accessAllowed ? 'block' : 'none';\n",
              "\n",
              "        async function convertToInteractive(key) {\n",
              "          const element = document.querySelector('#df-64327870-b7e1-4985-b488-4af97c19f3b1');\n",
              "          const dataTable =\n",
              "            await google.colab.kernel.invokeFunction('convertToInteractive',\n",
              "                                                     [key], {});\n",
              "          if (!dataTable) return;\n",
              "\n",
              "          const docLinkHtml = 'Like what you see? Visit the ' +\n",
              "            '<a target=\"_blank\" href=https://colab.research.google.com/notebooks/data_table.ipynb>data table notebook</a>'\n",
              "            + ' to learn more about interactive tables.';\n",
              "          element.innerHTML = '';\n",
              "          dataTable['output_type'] = 'display_data';\n",
              "          await google.colab.output.renderOutput(dataTable, element);\n",
              "          const docLink = document.createElement('div');\n",
              "          docLink.innerHTML = docLinkHtml;\n",
              "          element.appendChild(docLink);\n",
              "        }\n",
              "      </script>\n",
              "    </div>\n",
              "  </div>\n",
              "  "
            ]
          },
          "metadata": {},
          "execution_count": 34
        }
      ],
      "source": [
        "df.head()"
      ]
    },
    {
      "cell_type": "code",
      "execution_count": 35,
      "metadata": {
        "id": "HeQ78ow7Zuei"
      },
      "outputs": [],
      "source": [
        "df.drop(['EDUCATION_0','EDUCATION_Others','MARRIAGE_Others'], axis=1,inplace=True) "
      ]
    },
    {
      "cell_type": "code",
      "execution_count": 36,
      "metadata": {
        "id": "T-wQzaLcZxSC",
        "colab": {
          "base_uri": "https://localhost:8080/"
        },
        "outputId": "4ac87a8e-5258-4fa9-9630-92d2c24e58dc"
      },
      "outputs": [
        {
          "output_type": "execute_result",
          "data": {
            "text/plain": [
              "(30000, 28)"
            ]
          },
          "metadata": {},
          "execution_count": 36
        }
      ],
      "source": [
        "df.shape "
      ]
    },
    {
      "cell_type": "code",
      "execution_count": 37,
      "metadata": {
        "id": "Xq6EuTO6HB8Y"
      },
      "outputs": [],
      "source": [
        "#creating dummy variables by droping first variable\n",
        "df = pd.get_dummies(df, columns=['PAY_SEPT', 'PAY_AUG', 'PAY_JUL', 'PAY_JUN', 'PAY_MAY', 'PAY_APR'], drop_first = True )"
      ]
    },
    {
      "cell_type": "code",
      "execution_count": 38,
      "metadata": {
        "id": "96O3OgpLHB5w",
        "colab": {
          "base_uri": "https://localhost:8080/"
        },
        "outputId": "af17bf22-f92e-44d5-97be-0b383ccbd291"
      },
      "outputs": [
        {
          "output_type": "execute_result",
          "data": {
            "text/plain": [
              "(30000, 80)"
            ]
          },
          "metadata": {},
          "execution_count": 38
        }
      ],
      "source": [
        "df.shape "
      ]
    },
    {
      "cell_type": "code",
      "execution_count": 39,
      "metadata": {
        "id": "VCltj1pXHB3f",
        "colab": {
          "base_uri": "https://localhost:8080/",
          "height": 288
        },
        "outputId": "54ef72bc-a631-41db-f276-99d68063c8be"
      },
      "outputs": [
        {
          "output_type": "execute_result",
          "data": {
            "text/plain": [
              "   ID  LIMIT_BAL  SEX  AGE  BILL_AMT_SEPT  BILL_AMT_AUG  BILL_AMT_JUL  \\\n",
              "0   1      20000    0   24           3913          3102           689   \n",
              "1   2     120000    0   26           2682          1725          2682   \n",
              "2   3      90000    0   34          29239         14027         13559   \n",
              "3   4      50000    0   37          46990         48233         49291   \n",
              "4   5      50000    1   57           8617          5670         35835   \n",
              "\n",
              "   BILL_AMT_JUN  BILL_AMT_MAY  BILL_AMT_APR  PAY_AMT_SEPT  PAY_AMT_AUG  \\\n",
              "0             0             0             0             0          689   \n",
              "1          3272          3455          3261             0         1000   \n",
              "2         14331         14948         15549          1518         1500   \n",
              "3         28314         28959         29547          2000         2019   \n",
              "4         20940         19146         19131          2000        36681   \n",
              "\n",
              "   PAY_AMT_JUL  PAY_AMT_JUN  PAY_AMT_MAY  PAY_AMT_APR  IsDefaulter  \\\n",
              "0            0            0            0            0            1   \n",
              "1         1000         1000            0         2000            1   \n",
              "2         1000         1000         1000         5000            0   \n",
              "3         1200         1100         1069         1000            0   \n",
              "4        10000         9000          689          679            0   \n",
              "\n",
              "   EDUCATION_Graduate School  EDUCATION_High School  EDUCATION_University  \\\n",
              "0                          0                      0                     1   \n",
              "1                          0                      0                     1   \n",
              "2                          0                      0                     1   \n",
              "3                          0                      0                     1   \n",
              "4                          0                      0                     1   \n",
              "\n",
              "   MARRIAGE_Married  MARRIAGE_Single  PAY_SEPT_-1  PAY_SEPT_0  PAY_SEPT_1  \\\n",
              "0                 1                0            0           0           0   \n",
              "1                 0                1            1           0           0   \n",
              "2                 0                1            0           1           0   \n",
              "3                 1                0            0           1           0   \n",
              "4                 1                0            1           0           0   \n",
              "\n",
              "   PAY_SEPT_2  PAY_SEPT_3  PAY_SEPT_4  PAY_SEPT_5  PAY_SEPT_6  PAY_SEPT_7  \\\n",
              "0           1           0           0           0           0           0   \n",
              "1           0           0           0           0           0           0   \n",
              "2           0           0           0           0           0           0   \n",
              "3           0           0           0           0           0           0   \n",
              "4           0           0           0           0           0           0   \n",
              "\n",
              "   PAY_SEPT_8  PAY_AUG_-1  PAY_AUG_0  PAY_AUG_1  PAY_AUG_2  PAY_AUG_3  \\\n",
              "0           0           0          0          0          1          0   \n",
              "1           0           0          0          0          1          0   \n",
              "2           0           0          1          0          0          0   \n",
              "3           0           0          1          0          0          0   \n",
              "4           0           0          1          0          0          0   \n",
              "\n",
              "   PAY_AUG_4  PAY_AUG_5  PAY_AUG_6  PAY_AUG_7  PAY_AUG_8  PAY_JUL_-1  \\\n",
              "0          0          0          0          0          0           1   \n",
              "1          0          0          0          0          0           0   \n",
              "2          0          0          0          0          0           0   \n",
              "3          0          0          0          0          0           0   \n",
              "4          0          0          0          0          0           1   \n",
              "\n",
              "   PAY_JUL_0  PAY_JUL_1  PAY_JUL_2  PAY_JUL_3  PAY_JUL_4  PAY_JUL_5  \\\n",
              "0          0          0          0          0          0          0   \n",
              "1          1          0          0          0          0          0   \n",
              "2          1          0          0          0          0          0   \n",
              "3          1          0          0          0          0          0   \n",
              "4          0          0          0          0          0          0   \n",
              "\n",
              "   PAY_JUL_6  PAY_JUL_7  PAY_JUL_8  PAY_JUN_-1  PAY_JUN_0  PAY_JUN_1  \\\n",
              "0          0          0          0           1          0          0   \n",
              "1          0          0          0           0          1          0   \n",
              "2          0          0          0           0          1          0   \n",
              "3          0          0          0           0          1          0   \n",
              "4          0          0          0           0          1          0   \n",
              "\n",
              "   PAY_JUN_2  PAY_JUN_3  PAY_JUN_4  PAY_JUN_5  PAY_JUN_6  PAY_JUN_7  \\\n",
              "0          0          0          0          0          0          0   \n",
              "1          0          0          0          0          0          0   \n",
              "2          0          0          0          0          0          0   \n",
              "3          0          0          0          0          0          0   \n",
              "4          0          0          0          0          0          0   \n",
              "\n",
              "   PAY_JUN_8  PAY_MAY_-1  PAY_MAY_0  PAY_MAY_2  PAY_MAY_3  PAY_MAY_4  \\\n",
              "0          0           0          0          0          0          0   \n",
              "1          0           0          1          0          0          0   \n",
              "2          0           0          1          0          0          0   \n",
              "3          0           0          1          0          0          0   \n",
              "4          0           0          1          0          0          0   \n",
              "\n",
              "   PAY_MAY_5  PAY_MAY_6  PAY_MAY_7  PAY_MAY_8  PAY_APR_-1  PAY_APR_0  \\\n",
              "0          0          0          0          0           0          0   \n",
              "1          0          0          0          0           0          0   \n",
              "2          0          0          0          0           0          1   \n",
              "3          0          0          0          0           0          1   \n",
              "4          0          0          0          0           0          1   \n",
              "\n",
              "   PAY_APR_2  PAY_APR_3  PAY_APR_4  PAY_APR_5  PAY_APR_6  PAY_APR_7  PAY_APR_8  \n",
              "0          0          0          0          0          0          0          0  \n",
              "1          1          0          0          0          0          0          0  \n",
              "2          0          0          0          0          0          0          0  \n",
              "3          0          0          0          0          0          0          0  \n",
              "4          0          0          0          0          0          0          0  "
            ],
            "text/html": [
              "\n",
              "  <div id=\"df-b78b9868-8576-41bc-af66-7e0c70f911c6\">\n",
              "    <div class=\"colab-df-container\">\n",
              "      <div>\n",
              "<style scoped>\n",
              "    .dataframe tbody tr th:only-of-type {\n",
              "        vertical-align: middle;\n",
              "    }\n",
              "\n",
              "    .dataframe tbody tr th {\n",
              "        vertical-align: top;\n",
              "    }\n",
              "\n",
              "    .dataframe thead th {\n",
              "        text-align: right;\n",
              "    }\n",
              "</style>\n",
              "<table border=\"1\" class=\"dataframe\">\n",
              "  <thead>\n",
              "    <tr style=\"text-align: right;\">\n",
              "      <th></th>\n",
              "      <th>ID</th>\n",
              "      <th>LIMIT_BAL</th>\n",
              "      <th>SEX</th>\n",
              "      <th>AGE</th>\n",
              "      <th>BILL_AMT_SEPT</th>\n",
              "      <th>BILL_AMT_AUG</th>\n",
              "      <th>BILL_AMT_JUL</th>\n",
              "      <th>BILL_AMT_JUN</th>\n",
              "      <th>BILL_AMT_MAY</th>\n",
              "      <th>BILL_AMT_APR</th>\n",
              "      <th>PAY_AMT_SEPT</th>\n",
              "      <th>PAY_AMT_AUG</th>\n",
              "      <th>PAY_AMT_JUL</th>\n",
              "      <th>PAY_AMT_JUN</th>\n",
              "      <th>PAY_AMT_MAY</th>\n",
              "      <th>PAY_AMT_APR</th>\n",
              "      <th>IsDefaulter</th>\n",
              "      <th>EDUCATION_Graduate School</th>\n",
              "      <th>EDUCATION_High School</th>\n",
              "      <th>EDUCATION_University</th>\n",
              "      <th>MARRIAGE_Married</th>\n",
              "      <th>MARRIAGE_Single</th>\n",
              "      <th>PAY_SEPT_-1</th>\n",
              "      <th>PAY_SEPT_0</th>\n",
              "      <th>PAY_SEPT_1</th>\n",
              "      <th>PAY_SEPT_2</th>\n",
              "      <th>PAY_SEPT_3</th>\n",
              "      <th>PAY_SEPT_4</th>\n",
              "      <th>PAY_SEPT_5</th>\n",
              "      <th>PAY_SEPT_6</th>\n",
              "      <th>PAY_SEPT_7</th>\n",
              "      <th>PAY_SEPT_8</th>\n",
              "      <th>PAY_AUG_-1</th>\n",
              "      <th>PAY_AUG_0</th>\n",
              "      <th>PAY_AUG_1</th>\n",
              "      <th>PAY_AUG_2</th>\n",
              "      <th>PAY_AUG_3</th>\n",
              "      <th>PAY_AUG_4</th>\n",
              "      <th>PAY_AUG_5</th>\n",
              "      <th>PAY_AUG_6</th>\n",
              "      <th>PAY_AUG_7</th>\n",
              "      <th>PAY_AUG_8</th>\n",
              "      <th>PAY_JUL_-1</th>\n",
              "      <th>PAY_JUL_0</th>\n",
              "      <th>PAY_JUL_1</th>\n",
              "      <th>PAY_JUL_2</th>\n",
              "      <th>PAY_JUL_3</th>\n",
              "      <th>PAY_JUL_4</th>\n",
              "      <th>PAY_JUL_5</th>\n",
              "      <th>PAY_JUL_6</th>\n",
              "      <th>PAY_JUL_7</th>\n",
              "      <th>PAY_JUL_8</th>\n",
              "      <th>PAY_JUN_-1</th>\n",
              "      <th>PAY_JUN_0</th>\n",
              "      <th>PAY_JUN_1</th>\n",
              "      <th>PAY_JUN_2</th>\n",
              "      <th>PAY_JUN_3</th>\n",
              "      <th>PAY_JUN_4</th>\n",
              "      <th>PAY_JUN_5</th>\n",
              "      <th>PAY_JUN_6</th>\n",
              "      <th>PAY_JUN_7</th>\n",
              "      <th>PAY_JUN_8</th>\n",
              "      <th>PAY_MAY_-1</th>\n",
              "      <th>PAY_MAY_0</th>\n",
              "      <th>PAY_MAY_2</th>\n",
              "      <th>PAY_MAY_3</th>\n",
              "      <th>PAY_MAY_4</th>\n",
              "      <th>PAY_MAY_5</th>\n",
              "      <th>PAY_MAY_6</th>\n",
              "      <th>PAY_MAY_7</th>\n",
              "      <th>PAY_MAY_8</th>\n",
              "      <th>PAY_APR_-1</th>\n",
              "      <th>PAY_APR_0</th>\n",
              "      <th>PAY_APR_2</th>\n",
              "      <th>PAY_APR_3</th>\n",
              "      <th>PAY_APR_4</th>\n",
              "      <th>PAY_APR_5</th>\n",
              "      <th>PAY_APR_6</th>\n",
              "      <th>PAY_APR_7</th>\n",
              "      <th>PAY_APR_8</th>\n",
              "    </tr>\n",
              "  </thead>\n",
              "  <tbody>\n",
              "    <tr>\n",
              "      <th>0</th>\n",
              "      <td>1</td>\n",
              "      <td>20000</td>\n",
              "      <td>0</td>\n",
              "      <td>24</td>\n",
              "      <td>3913</td>\n",
              "      <td>3102</td>\n",
              "      <td>689</td>\n",
              "      <td>0</td>\n",
              "      <td>0</td>\n",
              "      <td>0</td>\n",
              "      <td>0</td>\n",
              "      <td>689</td>\n",
              "      <td>0</td>\n",
              "      <td>0</td>\n",
              "      <td>0</td>\n",
              "      <td>0</td>\n",
              "      <td>1</td>\n",
              "      <td>0</td>\n",
              "      <td>0</td>\n",
              "      <td>1</td>\n",
              "      <td>1</td>\n",
              "      <td>0</td>\n",
              "      <td>0</td>\n",
              "      <td>0</td>\n",
              "      <td>0</td>\n",
              "      <td>1</td>\n",
              "      <td>0</td>\n",
              "      <td>0</td>\n",
              "      <td>0</td>\n",
              "      <td>0</td>\n",
              "      <td>0</td>\n",
              "      <td>0</td>\n",
              "      <td>0</td>\n",
              "      <td>0</td>\n",
              "      <td>0</td>\n",
              "      <td>1</td>\n",
              "      <td>0</td>\n",
              "      <td>0</td>\n",
              "      <td>0</td>\n",
              "      <td>0</td>\n",
              "      <td>0</td>\n",
              "      <td>0</td>\n",
              "      <td>1</td>\n",
              "      <td>0</td>\n",
              "      <td>0</td>\n",
              "      <td>0</td>\n",
              "      <td>0</td>\n",
              "      <td>0</td>\n",
              "      <td>0</td>\n",
              "      <td>0</td>\n",
              "      <td>0</td>\n",
              "      <td>0</td>\n",
              "      <td>1</td>\n",
              "      <td>0</td>\n",
              "      <td>0</td>\n",
              "      <td>0</td>\n",
              "      <td>0</td>\n",
              "      <td>0</td>\n",
              "      <td>0</td>\n",
              "      <td>0</td>\n",
              "      <td>0</td>\n",
              "      <td>0</td>\n",
              "      <td>0</td>\n",
              "      <td>0</td>\n",
              "      <td>0</td>\n",
              "      <td>0</td>\n",
              "      <td>0</td>\n",
              "      <td>0</td>\n",
              "      <td>0</td>\n",
              "      <td>0</td>\n",
              "      <td>0</td>\n",
              "      <td>0</td>\n",
              "      <td>0</td>\n",
              "      <td>0</td>\n",
              "      <td>0</td>\n",
              "      <td>0</td>\n",
              "      <td>0</td>\n",
              "      <td>0</td>\n",
              "      <td>0</td>\n",
              "      <td>0</td>\n",
              "    </tr>\n",
              "    <tr>\n",
              "      <th>1</th>\n",
              "      <td>2</td>\n",
              "      <td>120000</td>\n",
              "      <td>0</td>\n",
              "      <td>26</td>\n",
              "      <td>2682</td>\n",
              "      <td>1725</td>\n",
              "      <td>2682</td>\n",
              "      <td>3272</td>\n",
              "      <td>3455</td>\n",
              "      <td>3261</td>\n",
              "      <td>0</td>\n",
              "      <td>1000</td>\n",
              "      <td>1000</td>\n",
              "      <td>1000</td>\n",
              "      <td>0</td>\n",
              "      <td>2000</td>\n",
              "      <td>1</td>\n",
              "      <td>0</td>\n",
              "      <td>0</td>\n",
              "      <td>1</td>\n",
              "      <td>0</td>\n",
              "      <td>1</td>\n",
              "      <td>1</td>\n",
              "      <td>0</td>\n",
              "      <td>0</td>\n",
              "      <td>0</td>\n",
              "      <td>0</td>\n",
              "      <td>0</td>\n",
              "      <td>0</td>\n",
              "      <td>0</td>\n",
              "      <td>0</td>\n",
              "      <td>0</td>\n",
              "      <td>0</td>\n",
              "      <td>0</td>\n",
              "      <td>0</td>\n",
              "      <td>1</td>\n",
              "      <td>0</td>\n",
              "      <td>0</td>\n",
              "      <td>0</td>\n",
              "      <td>0</td>\n",
              "      <td>0</td>\n",
              "      <td>0</td>\n",
              "      <td>0</td>\n",
              "      <td>1</td>\n",
              "      <td>0</td>\n",
              "      <td>0</td>\n",
              "      <td>0</td>\n",
              "      <td>0</td>\n",
              "      <td>0</td>\n",
              "      <td>0</td>\n",
              "      <td>0</td>\n",
              "      <td>0</td>\n",
              "      <td>0</td>\n",
              "      <td>1</td>\n",
              "      <td>0</td>\n",
              "      <td>0</td>\n",
              "      <td>0</td>\n",
              "      <td>0</td>\n",
              "      <td>0</td>\n",
              "      <td>0</td>\n",
              "      <td>0</td>\n",
              "      <td>0</td>\n",
              "      <td>0</td>\n",
              "      <td>1</td>\n",
              "      <td>0</td>\n",
              "      <td>0</td>\n",
              "      <td>0</td>\n",
              "      <td>0</td>\n",
              "      <td>0</td>\n",
              "      <td>0</td>\n",
              "      <td>0</td>\n",
              "      <td>0</td>\n",
              "      <td>0</td>\n",
              "      <td>1</td>\n",
              "      <td>0</td>\n",
              "      <td>0</td>\n",
              "      <td>0</td>\n",
              "      <td>0</td>\n",
              "      <td>0</td>\n",
              "      <td>0</td>\n",
              "    </tr>\n",
              "    <tr>\n",
              "      <th>2</th>\n",
              "      <td>3</td>\n",
              "      <td>90000</td>\n",
              "      <td>0</td>\n",
              "      <td>34</td>\n",
              "      <td>29239</td>\n",
              "      <td>14027</td>\n",
              "      <td>13559</td>\n",
              "      <td>14331</td>\n",
              "      <td>14948</td>\n",
              "      <td>15549</td>\n",
              "      <td>1518</td>\n",
              "      <td>1500</td>\n",
              "      <td>1000</td>\n",
              "      <td>1000</td>\n",
              "      <td>1000</td>\n",
              "      <td>5000</td>\n",
              "      <td>0</td>\n",
              "      <td>0</td>\n",
              "      <td>0</td>\n",
              "      <td>1</td>\n",
              "      <td>0</td>\n",
              "      <td>1</td>\n",
              "      <td>0</td>\n",
              "      <td>1</td>\n",
              "      <td>0</td>\n",
              "      <td>0</td>\n",
              "      <td>0</td>\n",
              "      <td>0</td>\n",
              "      <td>0</td>\n",
              "      <td>0</td>\n",
              "      <td>0</td>\n",
              "      <td>0</td>\n",
              "      <td>0</td>\n",
              "      <td>1</td>\n",
              "      <td>0</td>\n",
              "      <td>0</td>\n",
              "      <td>0</td>\n",
              "      <td>0</td>\n",
              "      <td>0</td>\n",
              "      <td>0</td>\n",
              "      <td>0</td>\n",
              "      <td>0</td>\n",
              "      <td>0</td>\n",
              "      <td>1</td>\n",
              "      <td>0</td>\n",
              "      <td>0</td>\n",
              "      <td>0</td>\n",
              "      <td>0</td>\n",
              "      <td>0</td>\n",
              "      <td>0</td>\n",
              "      <td>0</td>\n",
              "      <td>0</td>\n",
              "      <td>0</td>\n",
              "      <td>1</td>\n",
              "      <td>0</td>\n",
              "      <td>0</td>\n",
              "      <td>0</td>\n",
              "      <td>0</td>\n",
              "      <td>0</td>\n",
              "      <td>0</td>\n",
              "      <td>0</td>\n",
              "      <td>0</td>\n",
              "      <td>0</td>\n",
              "      <td>1</td>\n",
              "      <td>0</td>\n",
              "      <td>0</td>\n",
              "      <td>0</td>\n",
              "      <td>0</td>\n",
              "      <td>0</td>\n",
              "      <td>0</td>\n",
              "      <td>0</td>\n",
              "      <td>0</td>\n",
              "      <td>1</td>\n",
              "      <td>0</td>\n",
              "      <td>0</td>\n",
              "      <td>0</td>\n",
              "      <td>0</td>\n",
              "      <td>0</td>\n",
              "      <td>0</td>\n",
              "      <td>0</td>\n",
              "    </tr>\n",
              "    <tr>\n",
              "      <th>3</th>\n",
              "      <td>4</td>\n",
              "      <td>50000</td>\n",
              "      <td>0</td>\n",
              "      <td>37</td>\n",
              "      <td>46990</td>\n",
              "      <td>48233</td>\n",
              "      <td>49291</td>\n",
              "      <td>28314</td>\n",
              "      <td>28959</td>\n",
              "      <td>29547</td>\n",
              "      <td>2000</td>\n",
              "      <td>2019</td>\n",
              "      <td>1200</td>\n",
              "      <td>1100</td>\n",
              "      <td>1069</td>\n",
              "      <td>1000</td>\n",
              "      <td>0</td>\n",
              "      <td>0</td>\n",
              "      <td>0</td>\n",
              "      <td>1</td>\n",
              "      <td>1</td>\n",
              "      <td>0</td>\n",
              "      <td>0</td>\n",
              "      <td>1</td>\n",
              "      <td>0</td>\n",
              "      <td>0</td>\n",
              "      <td>0</td>\n",
              "      <td>0</td>\n",
              "      <td>0</td>\n",
              "      <td>0</td>\n",
              "      <td>0</td>\n",
              "      <td>0</td>\n",
              "      <td>0</td>\n",
              "      <td>1</td>\n",
              "      <td>0</td>\n",
              "      <td>0</td>\n",
              "      <td>0</td>\n",
              "      <td>0</td>\n",
              "      <td>0</td>\n",
              "      <td>0</td>\n",
              "      <td>0</td>\n",
              "      <td>0</td>\n",
              "      <td>0</td>\n",
              "      <td>1</td>\n",
              "      <td>0</td>\n",
              "      <td>0</td>\n",
              "      <td>0</td>\n",
              "      <td>0</td>\n",
              "      <td>0</td>\n",
              "      <td>0</td>\n",
              "      <td>0</td>\n",
              "      <td>0</td>\n",
              "      <td>0</td>\n",
              "      <td>1</td>\n",
              "      <td>0</td>\n",
              "      <td>0</td>\n",
              "      <td>0</td>\n",
              "      <td>0</td>\n",
              "      <td>0</td>\n",
              "      <td>0</td>\n",
              "      <td>0</td>\n",
              "      <td>0</td>\n",
              "      <td>0</td>\n",
              "      <td>1</td>\n",
              "      <td>0</td>\n",
              "      <td>0</td>\n",
              "      <td>0</td>\n",
              "      <td>0</td>\n",
              "      <td>0</td>\n",
              "      <td>0</td>\n",
              "      <td>0</td>\n",
              "      <td>0</td>\n",
              "      <td>1</td>\n",
              "      <td>0</td>\n",
              "      <td>0</td>\n",
              "      <td>0</td>\n",
              "      <td>0</td>\n",
              "      <td>0</td>\n",
              "      <td>0</td>\n",
              "      <td>0</td>\n",
              "    </tr>\n",
              "    <tr>\n",
              "      <th>4</th>\n",
              "      <td>5</td>\n",
              "      <td>50000</td>\n",
              "      <td>1</td>\n",
              "      <td>57</td>\n",
              "      <td>8617</td>\n",
              "      <td>5670</td>\n",
              "      <td>35835</td>\n",
              "      <td>20940</td>\n",
              "      <td>19146</td>\n",
              "      <td>19131</td>\n",
              "      <td>2000</td>\n",
              "      <td>36681</td>\n",
              "      <td>10000</td>\n",
              "      <td>9000</td>\n",
              "      <td>689</td>\n",
              "      <td>679</td>\n",
              "      <td>0</td>\n",
              "      <td>0</td>\n",
              "      <td>0</td>\n",
              "      <td>1</td>\n",
              "      <td>1</td>\n",
              "      <td>0</td>\n",
              "      <td>1</td>\n",
              "      <td>0</td>\n",
              "      <td>0</td>\n",
              "      <td>0</td>\n",
              "      <td>0</td>\n",
              "      <td>0</td>\n",
              "      <td>0</td>\n",
              "      <td>0</td>\n",
              "      <td>0</td>\n",
              "      <td>0</td>\n",
              "      <td>0</td>\n",
              "      <td>1</td>\n",
              "      <td>0</td>\n",
              "      <td>0</td>\n",
              "      <td>0</td>\n",
              "      <td>0</td>\n",
              "      <td>0</td>\n",
              "      <td>0</td>\n",
              "      <td>0</td>\n",
              "      <td>0</td>\n",
              "      <td>1</td>\n",
              "      <td>0</td>\n",
              "      <td>0</td>\n",
              "      <td>0</td>\n",
              "      <td>0</td>\n",
              "      <td>0</td>\n",
              "      <td>0</td>\n",
              "      <td>0</td>\n",
              "      <td>0</td>\n",
              "      <td>0</td>\n",
              "      <td>0</td>\n",
              "      <td>1</td>\n",
              "      <td>0</td>\n",
              "      <td>0</td>\n",
              "      <td>0</td>\n",
              "      <td>0</td>\n",
              "      <td>0</td>\n",
              "      <td>0</td>\n",
              "      <td>0</td>\n",
              "      <td>0</td>\n",
              "      <td>0</td>\n",
              "      <td>1</td>\n",
              "      <td>0</td>\n",
              "      <td>0</td>\n",
              "      <td>0</td>\n",
              "      <td>0</td>\n",
              "      <td>0</td>\n",
              "      <td>0</td>\n",
              "      <td>0</td>\n",
              "      <td>0</td>\n",
              "      <td>1</td>\n",
              "      <td>0</td>\n",
              "      <td>0</td>\n",
              "      <td>0</td>\n",
              "      <td>0</td>\n",
              "      <td>0</td>\n",
              "      <td>0</td>\n",
              "      <td>0</td>\n",
              "    </tr>\n",
              "  </tbody>\n",
              "</table>\n",
              "</div>\n",
              "      <button class=\"colab-df-convert\" onclick=\"convertToInteractive('df-b78b9868-8576-41bc-af66-7e0c70f911c6')\"\n",
              "              title=\"Convert this dataframe to an interactive table.\"\n",
              "              style=\"display:none;\">\n",
              "        \n",
              "  <svg xmlns=\"http://www.w3.org/2000/svg\" height=\"24px\"viewBox=\"0 0 24 24\"\n",
              "       width=\"24px\">\n",
              "    <path d=\"M0 0h24v24H0V0z\" fill=\"none\"/>\n",
              "    <path d=\"M18.56 5.44l.94 2.06.94-2.06 2.06-.94-2.06-.94-.94-2.06-.94 2.06-2.06.94zm-11 1L8.5 8.5l.94-2.06 2.06-.94-2.06-.94L8.5 2.5l-.94 2.06-2.06.94zm10 10l.94 2.06.94-2.06 2.06-.94-2.06-.94-.94-2.06-.94 2.06-2.06.94z\"/><path d=\"M17.41 7.96l-1.37-1.37c-.4-.4-.92-.59-1.43-.59-.52 0-1.04.2-1.43.59L10.3 9.45l-7.72 7.72c-.78.78-.78 2.05 0 2.83L4 21.41c.39.39.9.59 1.41.59.51 0 1.02-.2 1.41-.59l7.78-7.78 2.81-2.81c.8-.78.8-2.07 0-2.86zM5.41 20L4 18.59l7.72-7.72 1.47 1.35L5.41 20z\"/>\n",
              "  </svg>\n",
              "      </button>\n",
              "      \n",
              "  <style>\n",
              "    .colab-df-container {\n",
              "      display:flex;\n",
              "      flex-wrap:wrap;\n",
              "      gap: 12px;\n",
              "    }\n",
              "\n",
              "    .colab-df-convert {\n",
              "      background-color: #E8F0FE;\n",
              "      border: none;\n",
              "      border-radius: 50%;\n",
              "      cursor: pointer;\n",
              "      display: none;\n",
              "      fill: #1967D2;\n",
              "      height: 32px;\n",
              "      padding: 0 0 0 0;\n",
              "      width: 32px;\n",
              "    }\n",
              "\n",
              "    .colab-df-convert:hover {\n",
              "      background-color: #E2EBFA;\n",
              "      box-shadow: 0px 1px 2px rgba(60, 64, 67, 0.3), 0px 1px 3px 1px rgba(60, 64, 67, 0.15);\n",
              "      fill: #174EA6;\n",
              "    }\n",
              "\n",
              "    [theme=dark] .colab-df-convert {\n",
              "      background-color: #3B4455;\n",
              "      fill: #D2E3FC;\n",
              "    }\n",
              "\n",
              "    [theme=dark] .colab-df-convert:hover {\n",
              "      background-color: #434B5C;\n",
              "      box-shadow: 0px 1px 3px 1px rgba(0, 0, 0, 0.15);\n",
              "      filter: drop-shadow(0px 1px 2px rgba(0, 0, 0, 0.3));\n",
              "      fill: #FFFFFF;\n",
              "    }\n",
              "  </style>\n",
              "\n",
              "      <script>\n",
              "        const buttonEl =\n",
              "          document.querySelector('#df-b78b9868-8576-41bc-af66-7e0c70f911c6 button.colab-df-convert');\n",
              "        buttonEl.style.display =\n",
              "          google.colab.kernel.accessAllowed ? 'block' : 'none';\n",
              "\n",
              "        async function convertToInteractive(key) {\n",
              "          const element = document.querySelector('#df-b78b9868-8576-41bc-af66-7e0c70f911c6');\n",
              "          const dataTable =\n",
              "            await google.colab.kernel.invokeFunction('convertToInteractive',\n",
              "                                                     [key], {});\n",
              "          if (!dataTable) return;\n",
              "\n",
              "          const docLinkHtml = 'Like what you see? Visit the ' +\n",
              "            '<a target=\"_blank\" href=https://colab.research.google.com/notebooks/data_table.ipynb>data table notebook</a>'\n",
              "            + ' to learn more about interactive tables.';\n",
              "          element.innerHTML = '';\n",
              "          dataTable['output_type'] = 'display_data';\n",
              "          await google.colab.output.renderOutput(dataTable, element);\n",
              "          const docLink = document.createElement('div');\n",
              "          docLink.innerHTML = docLinkHtml;\n",
              "          element.appendChild(docLink);\n",
              "        }\n",
              "      </script>\n",
              "    </div>\n",
              "  </div>\n",
              "  "
            ]
          },
          "metadata": {},
          "execution_count": 39
        }
      ],
      "source": [
        "#checking all variables\n",
        "df.head()"
      ]
    },
    {
      "cell_type": "markdown",
      "metadata": {
        "id": "I64ROmrIj9zS"
      },
      "source": [
        "Handling Class Imbalance"
      ]
    },
    {
      "cell_type": "markdown",
      "metadata": {
        "id": "F_-dAM4Hj0mj"
      },
      "source": [
        "### **SMOTE** ***- Synthetic Minority Oversampling Technique***"
      ]
    },
    {
      "cell_type": "code",
      "execution_count": 40,
      "metadata": {
        "id": "DzvMKVZnHB2P",
        "colab": {
          "base_uri": "https://localhost:8080/"
        },
        "outputId": "917b686c-98f2-445f-b74e-4c968579654b"
      },
      "outputs": [
        {
          "output_type": "stream",
          "name": "stdout",
          "text": [
            "Original unbalanced dataset shape 30000\n",
            "Resampled balanced dataset shape 46728\n"
          ]
        }
      ],
      "source": [
        "#importing SMOTE to handle class imbalance\n",
        "from imblearn.over_sampling import SMOTE\n",
        "\n",
        "smote = SMOTE()\n",
        "\n",
        "# fit predictor and target variable\n",
        "x_smote, y_smote = smote.fit_resample(df[(i for i in list(df.describe(include='all').columns) if i != 'IsDefaulter')], df['IsDefaulter'])\n",
        "\n",
        "print('Original unbalanced dataset shape', len(df))\n",
        "print('Resampled balanced dataset shape', len(y_smote))"
      ]
    },
    {
      "cell_type": "code",
      "execution_count": 41,
      "metadata": {
        "id": "vmXziCqfHBx3"
      },
      "outputs": [],
      "source": [
        "#creating new dataframe from balanced dataset after SMOTE\n",
        "balanced_df = pd.DataFrame(x_smote, columns=list(i for i in list(df.describe(include='all').columns) if i != 'IsDefaulter'))"
      ]
    },
    {
      "cell_type": "code",
      "execution_count": 42,
      "metadata": {
        "id": "fc2q3bAggNYZ"
      },
      "outputs": [],
      "source": [
        "#adding target variable to new created dataframe\n",
        "balanced_df['IsDefaulter'] = y_smote"
      ]
    },
    {
      "cell_type": "code",
      "execution_count": 43,
      "metadata": {
        "id": "8aLkaEJFgNGE",
        "colab": {
          "base_uri": "https://localhost:8080/",
          "height": 351
        },
        "outputId": "95f9c96f-3e8f-47d8-d4d2-d3da547f363c"
      },
      "outputs": [
        {
          "output_type": "execute_result",
          "data": {
            "text/plain": [
              "<matplotlib.axes._subplots.AxesSubplot at 0x7f69c01ffac0>"
            ]
          },
          "metadata": {},
          "execution_count": 43
        },
        {
          "output_type": "display_data",
          "data": {
            "text/plain": [
              "<Figure size 360x360 with 1 Axes>"
            ],
            "image/png": "[encoded data removed]"
          },
          "metadata": {
            "needs_background": "light"
          }
        }
      ],
      "source": [
        "#checking for class imbalance\n",
        "plt.figure(figsize=(5,5))\n",
        "sns.countplot('IsDefaulter', data = balanced_df, palette = \"Set1\" )"
      ]
    },
    {
      "cell_type": "code",
      "execution_count": 44,
      "metadata": {
        "id": "LQyp_c67HkAM",
        "colab": {
          "base_uri": "https://localhost:8080/"
        },
        "outputId": "73aa4276-4ea2-406e-d9fe-5c947c136e22"
      },
      "outputs": [
        {
          "output_type": "execute_result",
          "data": {
            "text/plain": [
              "(46728, 80)"
            ]
          },
          "metadata": {},
          "execution_count": 44
        }
      ],
      "source": [
        "#shape of balanced dataframe\n",
        "balanced_df.shape"
      ]
    },
    {
      "cell_type": "code",
      "execution_count": 45,
      "metadata": {
        "id": "u2Z8pU1mHj8f"
      },
      "outputs": [],
      "source": [
        "#removing feature ID from dataset\n",
        "balanced_df.drop('ID',axis = 1, inplace = True)"
      ]
    },
    {
      "cell_type": "code",
      "execution_count": 46,
      "metadata": {
        "id": "4Wdfzm3HHj5N",
        "colab": {
          "base_uri": "https://localhost:8080/",
          "height": 288
        },
        "outputId": "1657f7c7-babc-4758-f3f4-ad131a6a8eee"
      },
      "outputs": [
        {
          "output_type": "execute_result",
          "data": {
            "text/plain": [
              "   LIMIT_BAL  SEX  AGE  BILL_AMT_SEPT  BILL_AMT_AUG  BILL_AMT_JUL  \\\n",
              "0      20000    0   24           3913          3102           689   \n",
              "1     120000    0   26           2682          1725          2682   \n",
              "2      90000    0   34          29239         14027         13559   \n",
              "3      50000    0   37          46990         48233         49291   \n",
              "4      50000    1   57           8617          5670         35835   \n",
              "\n",
              "   BILL_AMT_JUN  BILL_AMT_MAY  BILL_AMT_APR  PAY_AMT_SEPT  PAY_AMT_AUG  \\\n",
              "0             0             0             0             0          689   \n",
              "1          3272          3455          3261             0         1000   \n",
              "2         14331         14948         15549          1518         1500   \n",
              "3         28314         28959         29547          2000         2019   \n",
              "4         20940         19146         19131          2000        36681   \n",
              "\n",
              "   PAY_AMT_JUL  PAY_AMT_JUN  PAY_AMT_MAY  PAY_AMT_APR  \\\n",
              "0            0            0            0            0   \n",
              "1         1000         1000            0         2000   \n",
              "2         1000         1000         1000         5000   \n",
              "3         1200         1100         1069         1000   \n",
              "4        10000         9000          689          679   \n",
              "\n",
              "   EDUCATION_Graduate School  EDUCATION_High School  EDUCATION_University  \\\n",
              "0                          0                      0                     1   \n",
              "1                          0                      0                     1   \n",
              "2                          0                      0                     1   \n",
              "3                          0                      0                     1   \n",
              "4                          0                      0                     1   \n",
              "\n",
              "   MARRIAGE_Married  MARRIAGE_Single  PAY_SEPT_-1  PAY_SEPT_0  PAY_SEPT_1  \\\n",
              "0                 1                0            0           0           0   \n",
              "1                 0                1            1           0           0   \n",
              "2                 0                1            0           1           0   \n",
              "3                 1                0            0           1           0   \n",
              "4                 1                0            1           0           0   \n",
              "\n",
              "   PAY_SEPT_2  PAY_SEPT_3  PAY_SEPT_4  PAY_SEPT_5  PAY_SEPT_6  PAY_SEPT_7  \\\n",
              "0           1           0           0           0           0           0   \n",
              "1           0           0           0           0           0           0   \n",
              "2           0           0           0           0           0           0   \n",
              "3           0           0           0           0           0           0   \n",
              "4           0           0           0           0           0           0   \n",
              "\n",
              "   PAY_SEPT_8  PAY_AUG_-1  PAY_AUG_0  PAY_AUG_1  PAY_AUG_2  PAY_AUG_3  \\\n",
              "0           0           0          0          0          1          0   \n",
              "1           0           0          0          0          1          0   \n",
              "2           0           0          1          0          0          0   \n",
              "3           0           0          1          0          0          0   \n",
              "4           0           0          1          0          0          0   \n",
              "\n",
              "   PAY_AUG_4  PAY_AUG_5  PAY_AUG_6  PAY_AUG_7  PAY_AUG_8  PAY_JUL_-1  \\\n",
              "0          0          0          0          0          0           1   \n",
              "1          0          0          0          0          0           0   \n",
              "2          0          0          0          0          0           0   \n",
              "3          0          0          0          0          0           0   \n",
              "4          0          0          0          0          0           1   \n",
              "\n",
              "   PAY_JUL_0  PAY_JUL_1  PAY_JUL_2  PAY_JUL_3  PAY_JUL_4  PAY_JUL_5  \\\n",
              "0          0          0          0          0          0          0   \n",
              "1          1          0          0          0          0          0   \n",
              "2          1          0          0          0          0          0   \n",
              "3          1          0          0          0          0          0   \n",
              "4          0          0          0          0          0          0   \n",
              "\n",
              "   PAY_JUL_6  PAY_JUL_7  PAY_JUL_8  PAY_JUN_-1  PAY_JUN_0  PAY_JUN_1  \\\n",
              "0          0          0          0           1          0          0   \n",
              "1          0          0          0           0          1          0   \n",
              "2          0          0          0           0          1          0   \n",
              "3          0          0          0           0          1          0   \n",
              "4          0          0          0           0          1          0   \n",
              "\n",
              "   PAY_JUN_2  PAY_JUN_3  PAY_JUN_4  PAY_JUN_5  PAY_JUN_6  PAY_JUN_7  \\\n",
              "0          0          0          0          0          0          0   \n",
              "1          0          0          0          0          0          0   \n",
              "2          0          0          0          0          0          0   \n",
              "3          0          0          0          0          0          0   \n",
              "4          0          0          0          0          0          0   \n",
              "\n",
              "   PAY_JUN_8  PAY_MAY_-1  PAY_MAY_0  PAY_MAY_2  PAY_MAY_3  PAY_MAY_4  \\\n",
              "0          0           0          0          0          0          0   \n",
              "1          0           0          1          0          0          0   \n",
              "2          0           0          1          0          0          0   \n",
              "3          0           0          1          0          0          0   \n",
              "4          0           0          1          0          0          0   \n",
              "\n",
              "   PAY_MAY_5  PAY_MAY_6  PAY_MAY_7  PAY_MAY_8  PAY_APR_-1  PAY_APR_0  \\\n",
              "0          0          0          0          0           0          0   \n",
              "1          0          0          0          0           0          0   \n",
              "2          0          0          0          0           0          1   \n",
              "3          0          0          0          0           0          1   \n",
              "4          0          0          0          0           0          1   \n",
              "\n",
              "   PAY_APR_2  PAY_APR_3  PAY_APR_4  PAY_APR_5  PAY_APR_6  PAY_APR_7  \\\n",
              "0          0          0          0          0          0          0   \n",
              "1          1          0          0          0          0          0   \n",
              "2          0          0          0          0          0          0   \n",
              "3          0          0          0          0          0          0   \n",
              "4          0          0          0          0          0          0   \n",
              "\n",
              "   PAY_APR_8  IsDefaulter  \n",
              "0          0            1  \n",
              "1          0            1  \n",
              "2          0            0  \n",
              "3          0            0  \n",
              "4          0            0  "
            ],
            "text/html": [
              "\n",
              "  <div id=\"df-d001a7ce-678a-4dd5-b592-ac1fb739263f\">\n",
              "    <div class=\"colab-df-container\">\n",
              "      <div>\n",
              "<style scoped>\n",
              "    .dataframe tbody tr th:only-of-type {\n",
              "        vertical-align: middle;\n",
              "    }\n",
              "\n",
              "    .dataframe tbody tr th {\n",
              "        vertical-align: top;\n",
              "    }\n",
              "\n",
              "    .dataframe thead th {\n",
              "        text-align: right;\n",
              "    }\n",
              "</style>\n",
              "<table border=\"1\" class=\"dataframe\">\n",
              "  <thead>\n",
              "    <tr style=\"text-align: right;\">\n",
              "      <th></th>\n",
              "      <th>LIMIT_BAL</th>\n",
              "      <th>SEX</th>\n",
              "      <th>AGE</th>\n",
              "      <th>BILL_AMT_SEPT</th>\n",
              "      <th>BILL_AMT_AUG</th>\n",
              "      <th>BILL_AMT_JUL</th>\n",
              "      <th>BILL_AMT_JUN</th>\n",
              "      <th>BILL_AMT_MAY</th>\n",
              "      <th>BILL_AMT_APR</th>\n",
              "      <th>PAY_AMT_SEPT</th>\n",
              "      <th>PAY_AMT_AUG</th>\n",
              "      <th>PAY_AMT_JUL</th>\n",
              "      <th>PAY_AMT_JUN</th>\n",
              "      <th>PAY_AMT_MAY</th>\n",
              "      <th>PAY_AMT_APR</th>\n",
              "      <th>EDUCATION_Graduate School</th>\n",
              "      <th>EDUCATION_High School</th>\n",
              "      <th>EDUCATION_University</th>\n",
              "      <th>MARRIAGE_Married</th>\n",
              "      <th>MARRIAGE_Single</th>\n",
              "      <th>PAY_SEPT_-1</th>\n",
              "      <th>PAY_SEPT_0</th>\n",
              "      <th>PAY_SEPT_1</th>\n",
              "      <th>PAY_SEPT_2</th>\n",
              "      <th>PAY_SEPT_3</th>\n",
              "      <th>PAY_SEPT_4</th>\n",
              "      <th>PAY_SEPT_5</th>\n",
              "      <th>PAY_SEPT_6</th>\n",
              "      <th>PAY_SEPT_7</th>\n",
              "      <th>PAY_SEPT_8</th>\n",
              "      <th>PAY_AUG_-1</th>\n",
              "      <th>PAY_AUG_0</th>\n",
              "      <th>PAY_AUG_1</th>\n",
              "      <th>PAY_AUG_2</th>\n",
              "      <th>PAY_AUG_3</th>\n",
              "      <th>PAY_AUG_4</th>\n",
              "      <th>PAY_AUG_5</th>\n",
              "      <th>PAY_AUG_6</th>\n",
              "      <th>PAY_AUG_7</th>\n",
              "      <th>PAY_AUG_8</th>\n",
              "      <th>PAY_JUL_-1</th>\n",
              "      <th>PAY_JUL_0</th>\n",
              "      <th>PAY_JUL_1</th>\n",
              "      <th>PAY_JUL_2</th>\n",
              "      <th>PAY_JUL_3</th>\n",
              "      <th>PAY_JUL_4</th>\n",
              "      <th>PAY_JUL_5</th>\n",
              "      <th>PAY_JUL_6</th>\n",
              "      <th>PAY_JUL_7</th>\n",
              "      <th>PAY_JUL_8</th>\n",
              "      <th>PAY_JUN_-1</th>\n",
              "      <th>PAY_JUN_0</th>\n",
              "      <th>PAY_JUN_1</th>\n",
              "      <th>PAY_JUN_2</th>\n",
              "      <th>PAY_JUN_3</th>\n",
              "      <th>PAY_JUN_4</th>\n",
              "      <th>PAY_JUN_5</th>\n",
              "      <th>PAY_JUN_6</th>\n",
              "      <th>PAY_JUN_7</th>\n",
              "      <th>PAY_JUN_8</th>\n",
              "      <th>PAY_MAY_-1</th>\n",
              "      <th>PAY_MAY_0</th>\n",
              "      <th>PAY_MAY_2</th>\n",
              "      <th>PAY_MAY_3</th>\n",
              "      <th>PAY_MAY_4</th>\n",
              "      <th>PAY_MAY_5</th>\n",
              "      <th>PAY_MAY_6</th>\n",
              "      <th>PAY_MAY_7</th>\n",
              "      <th>PAY_MAY_8</th>\n",
              "      <th>PAY_APR_-1</th>\n",
              "      <th>PAY_APR_0</th>\n",
              "      <th>PAY_APR_2</th>\n",
              "      <th>PAY_APR_3</th>\n",
              "      <th>PAY_APR_4</th>\n",
              "      <th>PAY_APR_5</th>\n",
              "      <th>PAY_APR_6</th>\n",
              "      <th>PAY_APR_7</th>\n",
              "      <th>PAY_APR_8</th>\n",
              "      <th>IsDefaulter</th>\n",
              "    </tr>\n",
              "  </thead>\n",
              "  <tbody>\n",
              "    <tr>\n",
              "      <th>0</th>\n",
              "      <td>20000</td>\n",
              "      <td>0</td>\n",
              "      <td>24</td>\n",
              "      <td>3913</td>\n",
              "      <td>3102</td>\n",
              "      <td>689</td>\n",
              "      <td>0</td>\n",
              "      <td>0</td>\n",
              "      <td>0</td>\n",
              "      <td>0</td>\n",
              "      <td>689</td>\n",
              "      <td>0</td>\n",
              "      <td>0</td>\n",
              "      <td>0</td>\n",
              "      <td>0</td>\n",
              "      <td>0</td>\n",
              "      <td>0</td>\n",
              "      <td>1</td>\n",
              "      <td>1</td>\n",
              "      <td>0</td>\n",
              "      <td>0</td>\n",
              "      <td>0</td>\n",
              "      <td>0</td>\n",
              "      <td>1</td>\n",
              "      <td>0</td>\n",
              "      <td>0</td>\n",
              "      <td>0</td>\n",
              "      <td>0</td>\n",
              "      <td>0</td>\n",
              "      <td>0</td>\n",
              "      <td>0</td>\n",
              "      <td>0</td>\n",
              "      <td>0</td>\n",
              "      <td>1</td>\n",
              "      <td>0</td>\n",
              "      <td>0</td>\n",
              "      <td>0</td>\n",
              "      <td>0</td>\n",
              "      <td>0</td>\n",
              "      <td>0</td>\n",
              "      <td>1</td>\n",
              "      <td>0</td>\n",
              "      <td>0</td>\n",
              "      <td>0</td>\n",
              "      <td>0</td>\n",
              "      <td>0</td>\n",
              "      <td>0</td>\n",
              "      <td>0</td>\n",
              "      <td>0</td>\n",
              "      <td>0</td>\n",
              "      <td>1</td>\n",
              "      <td>0</td>\n",
              "      <td>0</td>\n",
              "      <td>0</td>\n",
              "      <td>0</td>\n",
              "      <td>0</td>\n",
              "      <td>0</td>\n",
              "      <td>0</td>\n",
              "      <td>0</td>\n",
              "      <td>0</td>\n",
              "      <td>0</td>\n",
              "      <td>0</td>\n",
              "      <td>0</td>\n",
              "      <td>0</td>\n",
              "      <td>0</td>\n",
              "      <td>0</td>\n",
              "      <td>0</td>\n",
              "      <td>0</td>\n",
              "      <td>0</td>\n",
              "      <td>0</td>\n",
              "      <td>0</td>\n",
              "      <td>0</td>\n",
              "      <td>0</td>\n",
              "      <td>0</td>\n",
              "      <td>0</td>\n",
              "      <td>0</td>\n",
              "      <td>0</td>\n",
              "      <td>0</td>\n",
              "      <td>1</td>\n",
              "    </tr>\n",
              "    <tr>\n",
              "      <th>1</th>\n",
              "      <td>120000</td>\n",
              "      <td>0</td>\n",
              "      <td>26</td>\n",
              "      <td>2682</td>\n",
              "      <td>1725</td>\n",
              "      <td>2682</td>\n",
              "      <td>3272</td>\n",
              "      <td>3455</td>\n",
              "      <td>3261</td>\n",
              "      <td>0</td>\n",
              "      <td>1000</td>\n",
              "      <td>1000</td>\n",
              "      <td>1000</td>\n",
              "      <td>0</td>\n",
              "      <td>2000</td>\n",
              "      <td>0</td>\n",
              "      <td>0</td>\n",
              "      <td>1</td>\n",
              "      <td>0</td>\n",
              "      <td>1</td>\n",
              "      <td>1</td>\n",
              "      <td>0</td>\n",
              "      <td>0</td>\n",
              "      <td>0</td>\n",
              "      <td>0</td>\n",
              "      <td>0</td>\n",
              "      <td>0</td>\n",
              "      <td>0</td>\n",
              "      <td>0</td>\n",
              "      <td>0</td>\n",
              "      <td>0</td>\n",
              "      <td>0</td>\n",
              "      <td>0</td>\n",
              "      <td>1</td>\n",
              "      <td>0</td>\n",
              "      <td>0</td>\n",
              "      <td>0</td>\n",
              "      <td>0</td>\n",
              "      <td>0</td>\n",
              "      <td>0</td>\n",
              "      <td>0</td>\n",
              "      <td>1</td>\n",
              "      <td>0</td>\n",
              "      <td>0</td>\n",
              "      <td>0</td>\n",
              "      <td>0</td>\n",
              "      <td>0</td>\n",
              "      <td>0</td>\n",
              "      <td>0</td>\n",
              "      <td>0</td>\n",
              "      <td>0</td>\n",
              "      <td>1</td>\n",
              "      <td>0</td>\n",
              "      <td>0</td>\n",
              "      <td>0</td>\n",
              "      <td>0</td>\n",
              "      <td>0</td>\n",
              "      <td>0</td>\n",
              "      <td>0</td>\n",
              "      <td>0</td>\n",
              "      <td>0</td>\n",
              "      <td>1</td>\n",
              "      <td>0</td>\n",
              "      <td>0</td>\n",
              "      <td>0</td>\n",
              "      <td>0</td>\n",
              "      <td>0</td>\n",
              "      <td>0</td>\n",
              "      <td>0</td>\n",
              "      <td>0</td>\n",
              "      <td>0</td>\n",
              "      <td>1</td>\n",
              "      <td>0</td>\n",
              "      <td>0</td>\n",
              "      <td>0</td>\n",
              "      <td>0</td>\n",
              "      <td>0</td>\n",
              "      <td>0</td>\n",
              "      <td>1</td>\n",
              "    </tr>\n",
              "    <tr>\n",
              "      <th>2</th>\n",
              "      <td>90000</td>\n",
              "      <td>0</td>\n",
              "      <td>34</td>\n",
              "      <td>29239</td>\n",
              "      <td>14027</td>\n",
              "      <td>13559</td>\n",
              "      <td>14331</td>\n",
              "      <td>14948</td>\n",
              "      <td>15549</td>\n",
              "      <td>1518</td>\n",
              "      <td>1500</td>\n",
              "      <td>1000</td>\n",
              "      <td>1000</td>\n",
              "      <td>1000</td>\n",
              "      <td>5000</td>\n",
              "      <td>0</td>\n",
              "      <td>0</td>\n",
              "      <td>1</td>\n",
              "      <td>0</td>\n",
              "      <td>1</td>\n",
              "      <td>0</td>\n",
              "      <td>1</td>\n",
              "      <td>0</td>\n",
              "      <td>0</td>\n",
              "      <td>0</td>\n",
              "      <td>0</td>\n",
              "      <td>0</td>\n",
              "      <td>0</td>\n",
              "      <td>0</td>\n",
              "      <td>0</td>\n",
              "      <td>0</td>\n",
              "      <td>1</td>\n",
              "      <td>0</td>\n",
              "      <td>0</td>\n",
              "      <td>0</td>\n",
              "      <td>0</td>\n",
              "      <td>0</td>\n",
              "      <td>0</td>\n",
              "      <td>0</td>\n",
              "      <td>0</td>\n",
              "      <td>0</td>\n",
              "      <td>1</td>\n",
              "      <td>0</td>\n",
              "      <td>0</td>\n",
              "      <td>0</td>\n",
              "      <td>0</td>\n",
              "      <td>0</td>\n",
              "      <td>0</td>\n",
              "      <td>0</td>\n",
              "      <td>0</td>\n",
              "      <td>0</td>\n",
              "      <td>1</td>\n",
              "      <td>0</td>\n",
              "      <td>0</td>\n",
              "      <td>0</td>\n",
              "      <td>0</td>\n",
              "      <td>0</td>\n",
              "      <td>0</td>\n",
              "      <td>0</td>\n",
              "      <td>0</td>\n",
              "      <td>0</td>\n",
              "      <td>1</td>\n",
              "      <td>0</td>\n",
              "      <td>0</td>\n",
              "      <td>0</td>\n",
              "      <td>0</td>\n",
              "      <td>0</td>\n",
              "      <td>0</td>\n",
              "      <td>0</td>\n",
              "      <td>0</td>\n",
              "      <td>1</td>\n",
              "      <td>0</td>\n",
              "      <td>0</td>\n",
              "      <td>0</td>\n",
              "      <td>0</td>\n",
              "      <td>0</td>\n",
              "      <td>0</td>\n",
              "      <td>0</td>\n",
              "      <td>0</td>\n",
              "    </tr>\n",
              "    <tr>\n",
              "      <th>3</th>\n",
              "      <td>50000</td>\n",
              "      <td>0</td>\n",
              "      <td>37</td>\n",
              "      <td>46990</td>\n",
              "      <td>48233</td>\n",
              "      <td>49291</td>\n",
              "      <td>28314</td>\n",
              "      <td>28959</td>\n",
              "      <td>29547</td>\n",
              "      <td>2000</td>\n",
              "      <td>2019</td>\n",
              "      <td>1200</td>\n",
              "      <td>1100</td>\n",
              "      <td>1069</td>\n",
              "      <td>1000</td>\n",
              "      <td>0</td>\n",
              "      <td>0</td>\n",
              "      <td>1</td>\n",
              "      <td>1</td>\n",
              "      <td>0</td>\n",
              "      <td>0</td>\n",
              "      <td>1</td>\n",
              "      <td>0</td>\n",
              "      <td>0</td>\n",
              "      <td>0</td>\n",
              "      <td>0</td>\n",
              "      <td>0</td>\n",
              "      <td>0</td>\n",
              "      <td>0</td>\n",
              "      <td>0</td>\n",
              "      <td>0</td>\n",
              "      <td>1</td>\n",
              "      <td>0</td>\n",
              "      <td>0</td>\n",
              "      <td>0</td>\n",
              "      <td>0</td>\n",
              "      <td>0</td>\n",
              "      <td>0</td>\n",
              "      <td>0</td>\n",
              "      <td>0</td>\n",
              "      <td>0</td>\n",
              "      <td>1</td>\n",
              "      <td>0</td>\n",
              "      <td>0</td>\n",
              "      <td>0</td>\n",
              "      <td>0</td>\n",
              "      <td>0</td>\n",
              "      <td>0</td>\n",
              "      <td>0</td>\n",
              "      <td>0</td>\n",
              "      <td>0</td>\n",
              "      <td>1</td>\n",
              "      <td>0</td>\n",
              "      <td>0</td>\n",
              "      <td>0</td>\n",
              "      <td>0</td>\n",
              "      <td>0</td>\n",
              "      <td>0</td>\n",
              "      <td>0</td>\n",
              "      <td>0</td>\n",
              "      <td>0</td>\n",
              "      <td>1</td>\n",
              "      <td>0</td>\n",
              "      <td>0</td>\n",
              "      <td>0</td>\n",
              "      <td>0</td>\n",
              "      <td>0</td>\n",
              "      <td>0</td>\n",
              "      <td>0</td>\n",
              "      <td>0</td>\n",
              "      <td>1</td>\n",
              "      <td>0</td>\n",
              "      <td>0</td>\n",
              "      <td>0</td>\n",
              "      <td>0</td>\n",
              "      <td>0</td>\n",
              "      <td>0</td>\n",
              "      <td>0</td>\n",
              "      <td>0</td>\n",
              "    </tr>\n",
              "    <tr>\n",
              "      <th>4</th>\n",
              "      <td>50000</td>\n",
              "      <td>1</td>\n",
              "      <td>57</td>\n",
              "      <td>8617</td>\n",
              "      <td>5670</td>\n",
              "      <td>35835</td>\n",
              "      <td>20940</td>\n",
              "      <td>19146</td>\n",
              "      <td>19131</td>\n",
              "      <td>2000</td>\n",
              "      <td>36681</td>\n",
              "      <td>10000</td>\n",
              "      <td>9000</td>\n",
              "      <td>689</td>\n",
              "      <td>679</td>\n",
              "      <td>0</td>\n",
              "      <td>0</td>\n",
              "      <td>1</td>\n",
              "      <td>1</td>\n",
              "      <td>0</td>\n",
              "      <td>1</td>\n",
              "      <td>0</td>\n",
              "      <td>0</td>\n",
              "      <td>0</td>\n",
              "      <td>0</td>\n",
              "      <td>0</td>\n",
              "      <td>0</td>\n",
              "      <td>0</td>\n",
              "      <td>0</td>\n",
              "      <td>0</td>\n",
              "      <td>0</td>\n",
              "      <td>1</td>\n",
              "      <td>0</td>\n",
              "      <td>0</td>\n",
              "      <td>0</td>\n",
              "      <td>0</td>\n",
              "      <td>0</td>\n",
              "      <td>0</td>\n",
              "      <td>0</td>\n",
              "      <td>0</td>\n",
              "      <td>1</td>\n",
              "      <td>0</td>\n",
              "      <td>0</td>\n",
              "      <td>0</td>\n",
              "      <td>0</td>\n",
              "      <td>0</td>\n",
              "      <td>0</td>\n",
              "      <td>0</td>\n",
              "      <td>0</td>\n",
              "      <td>0</td>\n",
              "      <td>0</td>\n",
              "      <td>1</td>\n",
              "      <td>0</td>\n",
              "      <td>0</td>\n",
              "      <td>0</td>\n",
              "      <td>0</td>\n",
              "      <td>0</td>\n",
              "      <td>0</td>\n",
              "      <td>0</td>\n",
              "      <td>0</td>\n",
              "      <td>0</td>\n",
              "      <td>1</td>\n",
              "      <td>0</td>\n",
              "      <td>0</td>\n",
              "      <td>0</td>\n",
              "      <td>0</td>\n",
              "      <td>0</td>\n",
              "      <td>0</td>\n",
              "      <td>0</td>\n",
              "      <td>0</td>\n",
              "      <td>1</td>\n",
              "      <td>0</td>\n",
              "      <td>0</td>\n",
              "      <td>0</td>\n",
              "      <td>0</td>\n",
              "      <td>0</td>\n",
              "      <td>0</td>\n",
              "      <td>0</td>\n",
              "      <td>0</td>\n",
              "    </tr>\n",
              "  </tbody>\n",
              "</table>\n",
              "</div>\n",
              "      <button class=\"colab-df-convert\" onclick=\"convertToInteractive('df-d001a7ce-678a-4dd5-b592-ac1fb739263f')\"\n",
              "              title=\"Convert this dataframe to an interactive table.\"\n",
              "              style=\"display:none;\">\n",
              "        \n",
              "  <svg xmlns=\"http://www.w3.org/2000/svg\" height=\"24px\"viewBox=\"0 0 24 24\"\n",
              "       width=\"24px\">\n",
              "    <path d=\"M0 0h24v24H0V0z\" fill=\"none\"/>\n",
              "    <path d=\"M18.56 5.44l.94 2.06.94-2.06 2.06-.94-2.06-.94-.94-2.06-.94 2.06-2.06.94zm-11 1L8.5 8.5l.94-2.06 2.06-.94-2.06-.94L8.5 2.5l-.94 2.06-2.06.94zm10 10l.94 2.06.94-2.06 2.06-.94-2.06-.94-.94-2.06-.94 2.06-2.06.94z\"/><path d=\"M17.41 7.96l-1.37-1.37c-.4-.4-.92-.59-1.43-.59-.52 0-1.04.2-1.43.59L10.3 9.45l-7.72 7.72c-.78.78-.78 2.05 0 2.83L4 21.41c.39.39.9.59 1.41.59.51 0 1.02-.2 1.41-.59l7.78-7.78 2.81-2.81c.8-.78.8-2.07 0-2.86zM5.41 20L4 18.59l7.72-7.72 1.47 1.35L5.41 20z\"/>\n",
              "  </svg>\n",
              "      </button>\n",
              "      \n",
              "  <style>\n",
              "    .colab-df-container {\n",
              "      display:flex;\n",
              "      flex-wrap:wrap;\n",
              "      gap: 12px;\n",
              "    }\n",
              "\n",
              "    .colab-df-convert {\n",
              "      background-color: #E8F0FE;\n",
              "      border: none;\n",
              "      border-radius: 50%;\n",
              "      cursor: pointer;\n",
              "      display: none;\n",
              "      fill: #1967D2;\n",
              "      height: 32px;\n",
              "      padding: 0 0 0 0;\n",
              "      width: 32px;\n",
              "    }\n",
              "\n",
              "    .colab-df-convert:hover {\n",
              "      background-color: #E2EBFA;\n",
              "      box-shadow: 0px 1px 2px rgba(60, 64, 67, 0.3), 0px 1px 3px 1px rgba(60, 64, 67, 0.15);\n",
              "      fill: #174EA6;\n",
              "    }\n",
              "\n",
              "    [theme=dark] .colab-df-convert {\n",
              "      background-color: #3B4455;\n",
              "      fill: #D2E3FC;\n",
              "    }\n",
              "\n",
              "    [theme=dark] .colab-df-convert:hover {\n",
              "      background-color: #434B5C;\n",
              "      box-shadow: 0px 1px 3px 1px rgba(0, 0, 0, 0.15);\n",
              "      filter: drop-shadow(0px 1px 2px rgba(0, 0, 0, 0.3));\n",
              "      fill: #FFFFFF;\n",
              "    }\n",
              "  </style>\n",
              "\n",
              "      <script>\n",
              "        const buttonEl =\n",
              "          document.querySelector('#df-d001a7ce-678a-4dd5-b592-ac1fb739263f button.colab-df-convert');\n",
              "        buttonEl.style.display =\n",
              "          google.colab.kernel.accessAllowed ? 'block' : 'none';\n",
              "\n",
              "        async function convertToInteractive(key) {\n",
              "          const element = document.querySelector('#df-d001a7ce-678a-4dd5-b592-ac1fb739263f');\n",
              "          const dataTable =\n",
              "            await google.colab.kernel.invokeFunction('convertToInteractive',\n",
              "                                                     [key], {});\n",
              "          if (!dataTable) return;\n",
              "\n",
              "          const docLinkHtml = 'Like what you see? Visit the ' +\n",
              "            '<a target=\"_blank\" href=https://colab.research.google.com/notebooks/data_table.ipynb>data table notebook</a>'\n",
              "            + ' to learn more about interactive tables.';\n",
              "          element.innerHTML = '';\n",
              "          dataTable['output_type'] = 'display_data';\n",
              "          await google.colab.output.renderOutput(dataTable, element);\n",
              "          const docLink = document.createElement('div');\n",
              "          docLink.innerHTML = docLinkHtml;\n",
              "          element.appendChild(docLink);\n",
              "        }\n",
              "      </script>\n",
              "    </div>\n",
              "  </div>\n",
              "  "
            ]
          },
          "metadata": {},
          "execution_count": 46
        }
      ],
      "source": [
        "#final dataset\n",
        "balanced_df.head()"
      ]
    },
    {
      "cell_type": "code",
      "source": [
        "df.shape"
      ],
      "metadata": {
        "id": "0bpLB0rOfMuS"
      },
      "execution_count": null,
      "outputs": []
    },
    {
      "cell_type": "code",
      "execution_count": 47,
      "metadata": {
        "id": "wi-NVFcPHj25"
      },
      "outputs": [],
      "source": [
        "#seperating dependant and independant variabales\n",
        "X = balanced_df[(list(i for i in list(balanced_df.describe(include='all').columns) if i != 'IsDefaulter'))]\n",
        "y = balanced_df['IsDefaulter']"
      ]
    },
    {
      "cell_type": "code",
      "execution_count": 48,
      "metadata": {
        "id": "zJL98l5sHjxR",
        "colab": {
          "base_uri": "https://localhost:8080/"
        },
        "outputId": "99d12a25-dd03-44ff-ee36-844e9b848451"
      },
      "outputs": [
        {
          "output_type": "execute_result",
          "data": {
            "text/plain": [
              "(46728, 78)"
            ]
          },
          "metadata": {},
          "execution_count": 48
        }
      ],
      "source": [
        "X.shape"
      ]
    },
    {
      "cell_type": "code",
      "execution_count": 49,
      "metadata": {
        "id": "x_-SPZR7HjtS",
        "colab": {
          "base_uri": "https://localhost:8080/"
        },
        "outputId": "18822e4e-1572-44b2-c32c-33e461247779"
      },
      "outputs": [
        {
          "output_type": "execute_result",
          "data": {
            "text/plain": [
              "(46728,)"
            ]
          },
          "metadata": {},
          "execution_count": 49
        }
      ],
      "source": [
        "y.shape"
      ]
    },
    {
      "cell_type": "markdown",
      "metadata": {
        "id": "uIgCZzACRcu0"
      },
      "source": [
        "Data Transformation"
      ]
    },
    {
      "cell_type": "code",
      "execution_count": 50,
      "metadata": {
        "id": "kVd2a4dRRfZq"
      },
      "outputs": [],
      "source": [
        "#importing libraries for data transformation\n",
        "from sklearn.preprocessing import StandardScaler\n",
        "scaler = StandardScaler()\n",
        "X = scaler.fit_transform(X)"
      ]
    },
    {
      "cell_type": "markdown",
      "metadata": {
        "id": "1KpfgKTCRooE"
      },
      "source": [
        "Train Test Splitting"
      ]
    },
    {
      "cell_type": "code",
      "execution_count": 51,
      "metadata": {
        "id": "O6bRbVZlRrHW"
      },
      "outputs": [],
      "source": [
        "#importing libraries for splitting data into training and testing dataset\n",
        "from sklearn.model_selection import train_test_split\n",
        "X_train, X_test, y_train, y_test = train_test_split(X, y, test_size=0.2,random_state=42, stratify=y)"
      ]
    },
    {
      "cell_type": "code",
      "execution_count": 52,
      "metadata": {
        "id": "nuWqNQ1PRzsz",
        "colab": {
          "base_uri": "https://localhost:8080/"
        },
        "outputId": "e2ddc329-982d-4fc2-b431-f267a516e6a2"
      },
      "outputs": [
        {
          "output_type": "execute_result",
          "data": {
            "text/plain": [
              "(37382, 78)"
            ]
          },
          "metadata": {},
          "execution_count": 52
        }
      ],
      "source": [
        "X_train.shape"
      ]
    },
    {
      "cell_type": "code",
      "execution_count": 53,
      "metadata": {
        "id": "xs2Pq9uER3L8",
        "colab": {
          "base_uri": "https://localhost:8080/"
        },
        "outputId": "fd005301-158e-40c7-d961-4b1a0ce8a3a4"
      },
      "outputs": [
        {
          "output_type": "execute_result",
          "data": {
            "text/plain": [
              "(9346, 78)"
            ]
          },
          "metadata": {},
          "execution_count": 53
        }
      ],
      "source": [
        "X_test.shape"
      ]
    },
    {
      "cell_type": "markdown",
      "metadata": {
        "id": "V6IJlknDHVJF"
      },
      "source": [
        "Model Implementation"
      ]
    },
    {
      "cell_type": "markdown",
      "metadata": {
        "id": "Tm47hBpLP6ls"
      },
      "source": [
        "Logistic regression model\n"
      ]
    },
    {
      "cell_type": "code",
      "execution_count": 54,
      "metadata": {
        "id": "qZpgkmuMHjp6"
      },
      "outputs": [],
      "source": [
        "#importing logistic regression and evaluation metrics\n",
        "from sklearn.linear_model import LogisticRegression\n",
        "from sklearn.metrics import accuracy_score, recall_score, precision_score, f1_score, roc_auc_score, confusion_matrix, roc_curve, auc"
      ]
    },
    {
      "cell_type": "code",
      "execution_count": 55,
      "metadata": {
        "id": "hDGKOoDPHjmW",
        "colab": {
          "base_uri": "https://localhost:8080/"
        },
        "outputId": "faf7a4e9-914c-4d44-ceda-5eb857067660"
      },
      "outputs": [
        {
          "output_type": "execute_result",
          "data": {
            "text/plain": [
              "LogisticRegression(max_iter=10000)"
            ]
          },
          "metadata": {},
          "execution_count": 55
        }
      ],
      "source": [
        "#fitting data into Logistic Regression\n",
        "logi = LogisticRegression(fit_intercept=True, max_iter=10000)\n",
        "logi.fit(X_train, y_train)"
      ]
    },
    {
      "cell_type": "code",
      "execution_count": 56,
      "metadata": {
        "id": "oVrSDzNYHjiz"
      },
      "outputs": [],
      "source": [
        "#class prediction of y\n",
        "y_pred_logi = logi.predict(X_test)\n",
        "y_train_pred_logi=logi.predict(X_train)"
      ]
    },
    {
      "cell_type": "code",
      "execution_count": 57,
      "metadata": {
        "id": "WQZPtKneHjfe",
        "colab": {
          "base_uri": "https://localhost:8080/"
        },
        "outputId": "acf24821-e21b-4c36-938a-981346dc30aa"
      },
      "outputs": [
        {
          "output_type": "stream",
          "name": "stdout",
          "text": [
            "The accuracy on train data is  0.826\n",
            "The accuracy on test data is  0.832\n",
            "The precision on test data is  0.796\n",
            "The recall on test data is  0.857\n",
            "The f1 on test data is  0.826\n",
            "The roc_score on test data is  0.834\n"
          ]
        }
      ],
      "source": [
        "#getting all score for logistic regression\n",
        "train_accuracy_logi = round(accuracy_score(y_train_pred_logi,y_train), 3)\n",
        "accuracy_logi = round(accuracy_score(y_pred_logi,y_test), 3)\n",
        "precision_score_logi = round(precision_score(y_pred_logi,y_test), 3)\n",
        "recall_score_logi = round(recall_score(y_pred_logi,y_test), 3)\n",
        "f1_score_logi = round(f1_score(y_pred_logi,y_test), 3)\n",
        "roc_score_logi = round(roc_auc_score(y_pred_logi,y_test), 3)\n",
        "\n",
        "print(\"The accuracy on train data is \", train_accuracy_logi)\n",
        "print(\"The accuracy on test data is \", accuracy_logi)\n",
        "print(\"The precision on test data is \", precision_score_logi)\n",
        "print(\"The recall on test data is \", recall_score_logi)\n",
        "print(\"The f1 on test data is \", f1_score_logi)\n",
        "print(\"The roc_score on test data is \", roc_score_logi)"
      ]
    },
    {
      "cell_type": "code",
      "execution_count": 58,
      "metadata": {
        "id": "TdE5S1bmHjcL",
        "colab": {
          "base_uri": "https://localhost:8080/",
          "height": 347
        },
        "outputId": "aa46acbc-525c-41eb-a553-4fff42ac6722"
      },
      "outputs": [
        {
          "output_type": "stream",
          "name": "stdout",
          "text": [
            "[[4054  619]\n",
            " [ 952 3721]]\n"
          ]
        },
        {
          "output_type": "execute_result",
          "data": {
            "text/plain": [
              "[Text(0, 0.5, 'Not Defaulter'), Text(0, 1.5, 'Defaulter')]"
            ]
          },
          "metadata": {},
          "execution_count": 58
        },
        {
          "output_type": "display_data",
          "data": {
            "text/plain": [
              "<Figure size 432x288 with 2 Axes>"
            ],
            "image/png": "[encoded data removed]"
          },
          "metadata": {
            "needs_background": "light"
          }
        }
      ],
      "source": [
        "#Confusion matrix\n",
        "labels = ['Not Defaulter', 'Defaulter']\n",
        "cm_logi = confusion_matrix(y_test, y_pred_logi )\n",
        "print(cm_logi)\n",
        "\n",
        "#plot confusion matrix\n",
        "ax= plt.subplot()\n",
        "sns.heatmap(cm_logi, annot=True, ax = ax)\n",
        "\n",
        "# labels, title and ticks\n",
        "ax.set_xlabel('Predicted labels')\n",
        "ax.set_ylabel('True labels')\n",
        "ax.set_title('Confusion Matrix - Logistic Regression')\n",
        "ax.xaxis.set_ticklabels(labels)\n",
        "ax.yaxis.set_ticklabels(labels)"
      ]
    },
    {
      "cell_type": "markdown",
      "metadata": {
        "id": "09NocwvfTCeq"
      },
      "source": [
        "Decision tree classification"
      ]
    },
    {
      "cell_type": "code",
      "execution_count": 59,
      "metadata": {
        "id": "johaG-LQHjYz"
      },
      "outputs": [],
      "source": [
        "#importing Decision Tree Classifier\n",
        "from sklearn.tree import DecisionTreeClassifier"
      ]
    },
    {
      "cell_type": "code",
      "execution_count": 60,
      "metadata": {
        "id": "GmW2i4KGHjVY",
        "colab": {
          "base_uri": "https://localhost:8080/"
        },
        "outputId": "2b4b6a6e-a565-4b2d-c899-1b46c2a654b7"
      },
      "outputs": [
        {
          "output_type": "execute_result",
          "data": {
            "text/plain": [
              "DecisionTreeClassifier()"
            ]
          },
          "metadata": {},
          "execution_count": 60
        }
      ],
      "source": [
        "#fitting data into Decision Tree Classifier\n",
        "dtc = DecisionTreeClassifier()\n",
        "dtc.fit(X_train, y_train)"
      ]
    },
    {
      "cell_type": "code",
      "execution_count": 61,
      "metadata": {
        "id": "xJmxejolHjSB"
      },
      "outputs": [],
      "source": [
        "#class prediction of y\n",
        "y_pred_dtc = dtc.predict(X_test)\n",
        "y_train_pred_dtc=dtc.predict(X_train)"
      ]
    },
    {
      "cell_type": "code",
      "execution_count": 62,
      "metadata": {
        "id": "Itjb1sqiHjO1",
        "colab": {
          "base_uri": "https://localhost:8080/"
        },
        "outputId": "e2a53915-931b-4c66-d3e7-55109d51d400"
      },
      "outputs": [
        {
          "output_type": "stream",
          "name": "stdout",
          "text": [
            "The accuracy on train data is  1.0\n",
            "The accuracy on test data is  0.802\n",
            "The precision on test data is  0.813\n",
            "The recall on test data is  0.795\n",
            "The f1 on test data is  0.804\n",
            "The roc_score on test data is  0.802\n"
          ]
        }
      ],
      "source": [
        "#getting all scores for Decision Tree Classifier\n",
        "train_accuracy_dtc = round(accuracy_score(y_train_pred_dtc,y_train), 3)\n",
        "accuracy_dtc = round(accuracy_score(y_pred_dtc,y_test), 3)\n",
        "precision_score_dtc = round(precision_score(y_pred_dtc,y_test), 3)\n",
        "recall_score_dtc = round(recall_score(y_pred_dtc,y_test), 3)\n",
        "f1_score_dtc = round(f1_score(y_pred_dtc,y_test), 3)\n",
        "roc_score_dtc = round(roc_auc_score(y_pred_dtc,y_test), 3)\n",
        "\n",
        "print(\"The accuracy on train data is \", train_accuracy_dtc)\n",
        "print(\"The accuracy on test data is \", accuracy_dtc)\n",
        "print(\"The precision on test data is \", precision_score_dtc)\n",
        "print(\"The recall on test data is \", recall_score_dtc)\n",
        "print(\"The f1 on test data is \", f1_score_dtc)\n",
        "print(\"The roc_score on test data is \", roc_score_dtc)"
      ]
    },
    {
      "cell_type": "code",
      "execution_count": 63,
      "metadata": {
        "id": "Wl-54Z7oHjLq",
        "colab": {
          "base_uri": "https://localhost:8080/",
          "height": 347
        },
        "outputId": "7dbe64f6-0a28-4d62-dedb-2086f5692c38"
      },
      "outputs": [
        {
          "output_type": "stream",
          "name": "stdout",
          "text": [
            "[[3696  977]\n",
            " [ 874 3799]]\n"
          ]
        },
        {
          "output_type": "execute_result",
          "data": {
            "text/plain": [
              "[Text(0, 0.5, 'Not Defaulter'), Text(0, 1.5, 'Defaulter')]"
            ]
          },
          "metadata": {},
          "execution_count": 63
        },
        {
          "output_type": "display_data",
          "data": {
            "text/plain": [
              "<Figure size 432x288 with 2 Axes>"
            ],
            "image/png": "[encoded data removed]"
          },
          "metadata": {
            "needs_background": "light"
          }
        }
      ],
      "source": [
        "# Get the confusion matrix for desicion tree\n",
        "labels = ['Not Defaulter', 'Defaulter']\n",
        "cm_dt = confusion_matrix(y_test, y_pred_dtc )\n",
        "print(cm_dt)\n",
        "\n",
        "#plot confusion matrix\n",
        "ax= plt.subplot()\n",
        "sns.heatmap(cm_dt, annot=True, ax = ax)\n",
        "\n",
        "# labels, title and ticks\n",
        "ax.set_xlabel('Predicted labels')\n",
        "ax.set_ylabel('True labels')\n",
        "ax.set_title('Confusion Matrix - Decision Tree')\n",
        "ax.xaxis.set_ticklabels(labels)\n",
        "ax.yaxis.set_ticklabels(labels)"
      ]
    },
    {
      "cell_type": "markdown",
      "metadata": {
        "id": "iiybEynlT6Le"
      },
      "source": [
        "Random Forest Classification"
      ]
    },
    {
      "cell_type": "code",
      "execution_count": 64,
      "metadata": {
        "id": "hIEwl7dFHjIY"
      },
      "outputs": [],
      "source": [
        "#importing Random Forest Classifier\n",
        "from sklearn.ensemble import RandomForestClassifier"
      ]
    },
    {
      "cell_type": "code",
      "execution_count": 65,
      "metadata": {
        "id": "CZt_PHShHjE5",
        "colab": {
          "base_uri": "https://localhost:8080/"
        },
        "outputId": "c1bfc429-365a-4237-f9e0-62c94bdd6970"
      },
      "outputs": [
        {
          "output_type": "execute_result",
          "data": {
            "text/plain": [
              "RandomForestClassifier(n_estimators=50)"
            ]
          },
          "metadata": {},
          "execution_count": 65
        }
      ],
      "source": [
        "#fitting data into Random Forest Classifier\n",
        "rfc=RandomForestClassifier(n_estimators=50)\n",
        "rfc.fit(X_train, y_train)"
      ]
    },
    {
      "cell_type": "code",
      "execution_count": 66,
      "metadata": {
        "id": "ZjUHDUGOHjBj"
      },
      "outputs": [],
      "source": [
        "#class prediction of y\n",
        "y_pred_rfc=rfc.predict(X_test)\n",
        "y_train_pred_rfc=rfc.predict(X_train)"
      ]
    },
    {
      "cell_type": "code",
      "execution_count": 67,
      "metadata": {
        "id": "hsj6rVvUHi-B",
        "colab": {
          "base_uri": "https://localhost:8080/"
        },
        "outputId": "b94c7803-bbd2-49c4-bdce-cb8398efce09"
      },
      "outputs": [
        {
          "output_type": "stream",
          "name": "stdout",
          "text": [
            "The accuracy on train data is  0.999\n",
            "The accuracy on test data is  0.87\n",
            "The precision on test data is  0.835\n",
            "The recall on test data is  0.897\n",
            "The f1 on test data is  0.865\n",
            "The roc_score on test data is  0.871\n"
          ]
        }
      ],
      "source": [
        "#getting all scores for Random Forest Classifier\n",
        "train_accuracy_rfc = round(accuracy_score(y_train_pred_rfc,y_train), 3)\n",
        "accuracy_rfc = round(accuracy_score(y_pred_rfc,y_test), 3)\n",
        "precision_score_rfc = round(precision_score(y_pred_rfc,y_test), 3)\n",
        "recall_score_rfc = round(recall_score(y_pred_rfc,y_test), 3)\n",
        "f1_score_rfc = round(f1_score(y_pred_rfc,y_test), 3)\n",
        "roc_score_rfc = round(roc_auc_score(y_pred_rfc,y_test), 3)\n",
        "\n",
        "print(\"The accuracy on train data is \", train_accuracy_rfc)\n",
        "print(\"The accuracy on test data is \", accuracy_rfc)\n",
        "print(\"The precision on test data is \", precision_score_rfc)\n",
        "print(\"The recall on test data is \", recall_score_rfc)\n",
        "print(\"The f1 on test data is \", f1_score_rfc)\n",
        "print(\"The roc_score on test data is \", roc_score_rfc)"
      ]
    },
    {
      "cell_type": "code",
      "execution_count": 68,
      "metadata": {
        "id": "zBpluEdWHi6k",
        "colab": {
          "base_uri": "https://localhost:8080/",
          "height": 347
        },
        "outputId": "8c57ca73-8dda-463f-b6f6-b4b305444687"
      },
      "outputs": [
        {
          "output_type": "stream",
          "name": "stdout",
          "text": [
            "[[4227  446]\n",
            " [ 773 3900]]\n"
          ]
        },
        {
          "output_type": "execute_result",
          "data": {
            "text/plain": [
              "[Text(0, 0.5, 'Not Defaulter'), Text(0, 1.5, 'Defaulter')]"
            ]
          },
          "metadata": {},
          "execution_count": 68
        },
        {
          "output_type": "display_data",
          "data": {
            "text/plain": [
              "<Figure size 432x288 with 2 Axes>"
            ],
            "image/png": "[encoded data removed]"
          },
          "metadata": {
            "needs_background": "light"
          }
        }
      ],
      "source": [
        "# Get the confusion matrix for Random Forest Classifier\n",
        "labels = ['Not Defaulter', 'Defaulter']\n",
        "cm_rfc = confusion_matrix(y_test, y_pred_rfc )\n",
        "print(cm_rfc)\n",
        "\n",
        "#plot confusion matrix\n",
        "ax= plt.subplot()\n",
        "sns.heatmap(cm_rfc, annot=True, ax = ax)\n",
        "\n",
        "# labels, title and ticks\n",
        "ax.set_xlabel('Predicted labels')\n",
        "ax.set_ylabel('True labels')\n",
        "ax.set_title('Confusion Matrix - Random Forest Classifier')\n",
        "ax.xaxis.set_ticklabels(labels)\n",
        "ax.yaxis.set_ticklabels(labels)"
      ]
    },
    {
      "cell_type": "markdown",
      "metadata": {
        "id": "AlhCIQE_WQWi"
      },
      "source": [
        "Support Vector Machine"
      ]
    },
    {
      "cell_type": "code",
      "execution_count": 69,
      "metadata": {
        "id": "VprCpY9XWoJ0"
      },
      "outputs": [],
      "source": [
        "#importing Support vector Classifier\n",
        "from sklearn.svm import SVC"
      ]
    },
    {
      "cell_type": "code",
      "execution_count": 70,
      "metadata": {
        "id": "eu-tDRzcWoJ1",
        "colab": {
          "base_uri": "https://localhost:8080/"
        },
        "outputId": "e0c6df72-e16e-47d7-bc2d-de21658ec90d"
      },
      "outputs": [
        {
          "output_type": "execute_result",
          "data": {
            "text/plain": [
              "SVC(probability=True)"
            ]
          },
          "metadata": {},
          "execution_count": 70
        }
      ],
      "source": [
        "#fitting data into Support Vector Classifier\n",
        "svm=SVC(probability=True)\n",
        "svm.fit(X_train,y_train)"
      ]
    },
    {
      "cell_type": "code",
      "execution_count": 71,
      "metadata": {
        "id": "8eAiekQGWoJ2"
      },
      "outputs": [],
      "source": [
        "#class prediction of y\n",
        "y_pred_svm=svm.predict(X_test)\n",
        "y_train_pred_svm=svm.predict(X_train)"
      ]
    },
    {
      "cell_type": "code",
      "execution_count": 72,
      "metadata": {
        "id": "d9Xm-1CUWoJ3",
        "colab": {
          "base_uri": "https://localhost:8080/"
        },
        "outputId": "03175300-5a09-4bfe-b6b9-d1dec73fe153"
      },
      "outputs": [
        {
          "output_type": "stream",
          "name": "stdout",
          "text": [
            "The accuracy on train data is  0.846\n",
            "The accuracy on test data is  0.842\n",
            "The precision on test data is  0.77\n",
            "The recall on test data is  0.9\n",
            "The f1 on test data is  0.83\n",
            "The roc_score on test data is  0.85\n"
          ]
        }
      ],
      "source": [
        "#getting all scores for Support Vector Classifier\n",
        "train_accuracy_svm = round(accuracy_score(y_train_pred_svm,y_train), 3)\n",
        "accuracy_svm = round(accuracy_score(y_pred_svm,y_test), 3)\n",
        "precision_score_svm = round(precision_score(y_pred_svm,y_test), 3)\n",
        "recall_score_svm = round(recall_score(y_pred_svm,y_test), 3)\n",
        "f1_score_svm = round(f1_score(y_pred_svm,y_test), 3)\n",
        "roc_score_svm = round(roc_auc_score(y_pred_svm,y_test), 3)\n",
        "\n",
        "print(\"The accuracy on train data is \", train_accuracy_svm)\n",
        "print(\"The accuracy on test data is \", accuracy_svm)\n",
        "print(\"The precision on test data is \", precision_score_svm)\n",
        "print(\"The recall on test data is \", recall_score_svm)\n",
        "print(\"The f1 on test data is \", f1_score_svm)\n",
        "print(\"The roc_score on test data is \", roc_score_svm)"
      ]
    },
    {
      "cell_type": "code",
      "execution_count": 73,
      "metadata": {
        "id": "BMLQBP3sWoJ4",
        "colab": {
          "base_uri": "https://localhost:8080/",
          "height": 347
        },
        "outputId": "2fad7017-8dfb-4b90-f0c4-9bcf77aacca5"
      },
      "outputs": [
        {
          "output_type": "stream",
          "name": "stdout",
          "text": [
            "[[4274  399]\n",
            " [1074 3599]]\n"
          ]
        },
        {
          "output_type": "execute_result",
          "data": {
            "text/plain": [
              "[Text(0, 0.5, 'Not Defaulter'), Text(0, 1.5, 'Defaulter')]"
            ]
          },
          "metadata": {},
          "execution_count": 73
        },
        {
          "output_type": "display_data",
          "data": {
            "text/plain": [
              "<Figure size 432x288 with 2 Axes>"
            ],
            "image/png": "[encoded data removed]"
          },
          "metadata": {
            "needs_background": "light"
          }
        }
      ],
      "source": [
        "# Get the confusion matrix for Support Vector Classifier\n",
        "labels = ['Not Defaulter', 'Defaulter']\n",
        "cm_svm = confusion_matrix(y_test, y_pred_svm )\n",
        "print(cm_svm)\n",
        "\n",
        "#plot confusion matrix\n",
        "ax= plt.subplot()\n",
        "sns.heatmap(cm_svm, annot=True, ax = ax)\n",
        "\n",
        "# labels, title and ticks\n",
        "ax.set_xlabel('Predicted labels')\n",
        "ax.set_ylabel('True labels')\n",
        "ax.set_title('Confusion Matrix - SVM')\n",
        "ax.xaxis.set_ticklabels(labels)\n",
        "ax.yaxis.set_ticklabels(labels)"
      ]
    },
    {
      "cell_type": "markdown",
      "metadata": {
        "id": "rdclvwJCYWPG"
      },
      "source": [
        "Gradient Boosting"
      ]
    },
    {
      "cell_type": "code",
      "execution_count": 74,
      "metadata": {
        "id": "yoXsPW6oHi0R"
      },
      "outputs": [],
      "source": [
        "#importing Gradient Boosting Classifier\n",
        "from sklearn.ensemble import GradientBoostingClassifier"
      ]
    },
    {
      "cell_type": "code",
      "execution_count": 75,
      "metadata": {
        "id": "80NokemsHiwl",
        "colab": {
          "base_uri": "https://localhost:8080/"
        },
        "outputId": "ad06405c-96b5-49e2-e565-4609d753b96b"
      },
      "outputs": [
        {
          "output_type": "execute_result",
          "data": {
            "text/plain": [
              "GradientBoostingClassifier(random_state=42)"
            ]
          },
          "metadata": {},
          "execution_count": 75
        }
      ],
      "source": [
        "#fitting data into Gradient Boosting Classifier\n",
        "gbc = GradientBoostingClassifier(random_state=42)\n",
        "gbc.fit(X_train, y_train)"
      ]
    },
    {
      "cell_type": "code",
      "execution_count": 76,
      "metadata": {
        "id": "Uf8qOCHWHitQ"
      },
      "outputs": [],
      "source": [
        "#class prediction of y\n",
        "y_pred_gbc=gbc.predict(X_test)\n",
        "y_train_pred_gbc=gbc.predict(X_train)"
      ]
    },
    {
      "cell_type": "code",
      "execution_count": 77,
      "metadata": {
        "id": "DYFXiK-6Hip8",
        "colab": {
          "base_uri": "https://localhost:8080/"
        },
        "outputId": "b5c2ccab-7cef-422a-8508-c5509568241a"
      },
      "outputs": [
        {
          "output_type": "stream",
          "name": "stdout",
          "text": [
            "The accuracy on train data is  0.846\n",
            "The accuracy on test data is  0.843\n",
            "The precision on test data is  0.802\n",
            "The recall on test data is  0.873\n",
            "The f1 on test data is  0.836\n",
            "The roc_score on test data is  0.845\n"
          ]
        }
      ],
      "source": [
        "#getting all scores for Gradient Boosting Classifier\n",
        "train_accuracy_gbc = round(accuracy_score(y_train_pred_gbc,y_train), 3)\n",
        "accuracy_gbc = round(accuracy_score(y_pred_gbc,y_test), 3)\n",
        "precision_score_gbc = round(precision_score(y_pred_gbc,y_test), 3)\n",
        "recall_score_gbc = round(recall_score(y_pred_gbc,y_test), 3)\n",
        "f1_score_gbc = round(f1_score(y_pred_gbc,y_test), 3)\n",
        "roc_score_gbc = round(roc_auc_score(y_pred_gbc,y_test), 3)\n",
        "\n",
        "print(\"The accuracy on train data is \", train_accuracy_gbc)\n",
        "print(\"The accuracy on test data is \", accuracy_gbc)\n",
        "print(\"The precision on test data is \", precision_score_gbc)\n",
        "print(\"The recall on test data is \", recall_score_gbc)\n",
        "print(\"The f1 on test data is \", f1_score_gbc)\n",
        "print(\"The roc_score on test data is \", roc_score_gbc)"
      ]
    },
    {
      "cell_type": "code",
      "execution_count": 78,
      "metadata": {
        "id": "AgqYxXEOHims",
        "colab": {
          "base_uri": "https://localhost:8080/",
          "height": 347
        },
        "outputId": "a3e7696a-af40-4af6-bce7-5cd851e518e6"
      },
      "outputs": [
        {
          "output_type": "stream",
          "name": "stdout",
          "text": [
            "[[4129  544]\n",
            " [ 927 3746]]\n"
          ]
        },
        {
          "output_type": "execute_result",
          "data": {
            "text/plain": [
              "[Text(0, 0.5, 'Not Defaulter'), Text(0, 1.5, 'Defaulter')]"
            ]
          },
          "metadata": {},
          "execution_count": 78
        },
        {
          "output_type": "display_data",
          "data": {
            "text/plain": [
              "<Figure size 432x288 with 2 Axes>"
            ],
            "image/png": "[encoded data removed]"
          },
          "metadata": {
            "needs_background": "light"
          }
        }
      ],
      "source": [
        "# Get the confusion matrix for Gradient Boosting Classifier\n",
        "labels = ['Not Defaulter', 'Defaulter']\n",
        "cm_gbc = confusion_matrix(y_test, y_pred_gbc )\n",
        "print(cm_gbc)\n",
        "\n",
        "#plot confusion matrix\n",
        "ax= plt.subplot()\n",
        "sns.heatmap(cm_gbc, annot=True, ax = ax)\n",
        "\n",
        "# labels, title and ticks\n",
        "ax.set_xlabel('Predicted labels')\n",
        "ax.set_ylabel('True labels')\n",
        "ax.set_title('Confusion Matrix - Gradient Boosting Classifier')\n",
        "ax.xaxis.set_ticklabels(labels)\n",
        "ax.yaxis.set_ticklabels(labels)"
      ]
    },
    {
      "cell_type": "markdown",
      "metadata": {
        "id": "aTBKNbciYl0z"
      },
      "source": [
        "XG Boosting"
      ]
    },
    {
      "cell_type": "code",
      "execution_count": 79,
      "metadata": {
        "id": "6dDDEZyqHijg"
      },
      "outputs": [],
      "source": [
        "#importing XG Boosting Classifier\n",
        "from xgboost import XGBClassifier"
      ]
    },
    {
      "cell_type": "code",
      "execution_count": 80,
      "metadata": {
        "id": "_vaShen0HigT",
        "colab": {
          "base_uri": "https://localhost:8080/"
        },
        "outputId": "ff97f6fb-83d3-4427-d895-004b6859136f"
      },
      "outputs": [
        {
          "output_type": "execute_result",
          "data": {
            "text/plain": [
              "XGBClassifier()"
            ]
          },
          "metadata": {},
          "execution_count": 80
        }
      ],
      "source": [
        "#fitting data into XG Boosting Classifier\n",
        "xgb = XGBClassifier()\n",
        "xgb.fit(X_train,y_train)"
      ]
    },
    {
      "cell_type": "code",
      "execution_count": 81,
      "metadata": {
        "id": "eYYSkNC-HidC"
      },
      "outputs": [],
      "source": [
        "#class prediction of y\n",
        "y_pred_xgb=xgb.predict(X_test)\n",
        "y_train_pred_xgb=xgb.predict(X_train)"
      ]
    },
    {
      "cell_type": "code",
      "execution_count": 82,
      "metadata": {
        "id": "Eftfwi2THiaF",
        "colab": {
          "base_uri": "https://localhost:8080/"
        },
        "outputId": "33b775f8-5361-47bf-bc14-ac6c95475440"
      },
      "outputs": [
        {
          "output_type": "stream",
          "name": "stdout",
          "text": [
            "The accuracy on train data is  0.847\n",
            "The accuracy on test data is  0.845\n",
            "The precision on test data is  0.802\n",
            "The recall on test data is  0.879\n",
            "The f1 on test data is  0.838\n",
            "The roc_score on test data is  0.848\n"
          ]
        }
      ],
      "source": [
        "#getting all scores for XG Boosting Classifier\n",
        "train_accuracy_xgb = round(accuracy_score(y_train_pred_xgb,y_train), 3)\n",
        "accuracy_xgb = round(accuracy_score(y_pred_xgb,y_test), 3)\n",
        "precision_score_xgb = round(precision_score(y_pred_xgb,y_test), 3)\n",
        "recall_score_xgb = round(recall_score(y_pred_xgb,y_test), 3)\n",
        "f1_score_xgb = round(f1_score(y_pred_xgb,y_test), 3)\n",
        "roc_score_xgb = round(roc_auc_score(y_pred_xgb,y_test), 3)\n",
        "\n",
        "print(\"The accuracy on train data is \", train_accuracy_xgb)\n",
        "print(\"The accuracy on test data is \", accuracy_xgb)\n",
        "print(\"The precision on test data is \", precision_score_xgb)\n",
        "print(\"The recall on test data is \", recall_score_xgb)\n",
        "print(\"The f1 on test data is \", f1_score_xgb)\n",
        "print(\"The roc_score on test data is \", roc_score_xgb)"
      ]
    },
    {
      "cell_type": "code",
      "execution_count": 83,
      "metadata": {
        "id": "buTimikBHiWc",
        "colab": {
          "base_uri": "https://localhost:8080/",
          "height": 347
        },
        "outputId": "9d94a890-b10e-49f6-90a9-c1ef7339b8bd"
      },
      "outputs": [
        {
          "output_type": "stream",
          "name": "stdout",
          "text": [
            "[[4155  518]\n",
            " [ 926 3747]]\n"
          ]
        },
        {
          "output_type": "execute_result",
          "data": {
            "text/plain": [
              "[Text(0, 0.5, 'Not Defaulter'), Text(0, 1.5, 'Defaulter')]"
            ]
          },
          "metadata": {},
          "execution_count": 83
        },
        {
          "output_type": "display_data",
          "data": {
            "text/plain": [
              "<Figure size 432x288 with 2 Axes>"
            ],
            "image/png": "[encoded data removed]"
          },
          "metadata": {
            "needs_background": "light"
          }
        }
      ],
      "source": [
        "# Get the confusion matrix for XG Boosting Classifier\n",
        "labels = ['Not Defaulter', 'Defaulter']\n",
        "cm_xgb = confusion_matrix(y_test, y_pred_xgb )\n",
        "print(cm_xgb)\n",
        "\n",
        "#plot confusion matrix\n",
        "ax= plt.subplot()\n",
        "sns.heatmap(cm_xgb, annot=True, ax = ax)\n",
        "\n",
        "# labels, title and ticks\n",
        "ax.set_xlabel('Predicted labels')\n",
        "ax.set_ylabel('True labels')\n",
        "ax.set_title('Confusion Matrix - XG Boosting Classifier')\n",
        "ax.xaxis.set_ticklabels(labels)\n",
        "ax.yaxis.set_ticklabels(labels)"
      ]
    },
    {
      "cell_type": "markdown",
      "metadata": {
        "id": "PmLI08fbZW23"
      },
      "source": [
        "Model Comparison"
      ]
    },
    {
      "cell_type": "code",
      "execution_count": 84,
      "metadata": {
        "id": "U1gxjJEnHiTN"
      },
      "outputs": [],
      "source": [
        "all_lassifiers = ['Logistic Regression', 'Decision Tree', 'Random Forest', 'SVM', 'Gradient Boosting', 'XG Boosting']\n",
        "all_train_accuracy = [train_accuracy_logi, train_accuracy_dtc, train_accuracy_rfc, train_accuracy_svm, train_accuracy_gbc, train_accuracy_xgb]\n",
        "all_test_accuracy = [accuracy_logi, accuracy_dtc, accuracy_rfc, accuracy_svm, accuracy_gbc, accuracy_xgb]\n",
        "all_precision_score = [precision_score_logi, precision_score_dtc, precision_score_rfc, precision_score_svm, precision_score_gbc, precision_score_xgb]\n",
        "all_recall_score = [recall_score_logi, recall_score_dtc, recall_score_rfc, recall_score_svm, recall_score_gbc, recall_score_xgb]\n",
        "all_f1_score = [f1_score_logi, f1_score_dtc, f1_score_rfc, f1_score_svm, f1_score_gbc, f1_score_xgb]\n",
        "all_auc_score = [roc_score_logi, roc_score_dtc, roc_score_rfc, roc_score_svm, roc_score_gbc, roc_score_xgb]"
      ]
    },
    {
      "cell_type": "code",
      "execution_count": 85,
      "metadata": {
        "id": "BQf698DnZdQv"
      },
      "outputs": [],
      "source": [
        "compare_df = pd.DataFrame({'Classifier':all_lassifiers, 'Train Accuracy': all_train_accuracy, 'Test Accuracy': all_test_accuracy, 'Precision': all_precision_score, 'Recall': all_recall_score, 'F1 Score': all_f1_score , 'AUC': all_auc_score})"
      ]
    },
    {
      "cell_type": "code",
      "execution_count": 86,
      "metadata": {
        "id": "5bKqRPaOZeGL",
        "colab": {
          "base_uri": "https://localhost:8080/",
          "height": 238
        },
        "outputId": "b31d5b1a-6ba5-435d-c352-5755a9dfd8f1"
      },
      "outputs": [
        {
          "output_type": "execute_result",
          "data": {
            "text/plain": [
              "            Classifier  Train Accuracy  Test Accuracy  Precision  Recall  \\\n",
              "0  Logistic Regression           0.826          0.832      0.796   0.857   \n",
              "1        Decision Tree           1.000          0.802      0.813   0.795   \n",
              "2        Random Forest           0.999          0.870      0.835   0.897   \n",
              "3                  SVM           0.846          0.842      0.770   0.900   \n",
              "4    Gradient Boosting           0.846          0.843      0.802   0.873   \n",
              "5          XG Boosting           0.847          0.845      0.802   0.879   \n",
              "\n",
              "   F1 Score    AUC  \n",
              "0     0.826  0.834  \n",
              "1     0.804  0.802  \n",
              "2     0.865  0.871  \n",
              "3     0.830  0.850  \n",
              "4     0.836  0.845  \n",
              "5     0.838  0.848  "
            ],
            "text/html": [
              "\n",
              "  <div id=\"df-5d047e49-fdf0-4e36-9c7d-396f403b4c1c\">\n",
              "    <div class=\"colab-df-container\">\n",
              "      <div>\n",
              "<style scoped>\n",
              "    .dataframe tbody tr th:only-of-type {\n",
              "        vertical-align: middle;\n",
              "    }\n",
              "\n",
              "    .dataframe tbody tr th {\n",
              "        vertical-align: top;\n",
              "    }\n",
              "\n",
              "    .dataframe thead th {\n",
              "        text-align: right;\n",
              "    }\n",
              "</style>\n",
              "<table border=\"1\" class=\"dataframe\">\n",
              "  <thead>\n",
              "    <tr style=\"text-align: right;\">\n",
              "      <th></th>\n",
              "      <th>Classifier</th>\n",
              "      <th>Train Accuracy</th>\n",
              "      <th>Test Accuracy</th>\n",
              "      <th>Precision</th>\n",
              "      <th>Recall</th>\n",
              "      <th>F1 Score</th>\n",
              "      <th>AUC</th>\n",
              "    </tr>\n",
              "  </thead>\n",
              "  <tbody>\n",
              "    <tr>\n",
              "      <th>0</th>\n",
              "      <td>Logistic Regression</td>\n",
              "      <td>0.826</td>\n",
              "      <td>0.832</td>\n",
              "      <td>0.796</td>\n",
              "      <td>0.857</td>\n",
              "      <td>0.826</td>\n",
              "      <td>0.834</td>\n",
              "    </tr>\n",
              "    <tr>\n",
              "      <th>1</th>\n",
              "      <td>Decision Tree</td>\n",
              "      <td>1.000</td>\n",
              "      <td>0.802</td>\n",
              "      <td>0.813</td>\n",
              "      <td>0.795</td>\n",
              "      <td>0.804</td>\n",
              "      <td>0.802</td>\n",
              "    </tr>\n",
              "    <tr>\n",
              "      <th>2</th>\n",
              "      <td>Random Forest</td>\n",
              "      <td>0.999</td>\n",
              "      <td>0.870</td>\n",
              "      <td>0.835</td>\n",
              "      <td>0.897</td>\n",
              "      <td>0.865</td>\n",
              "      <td>0.871</td>\n",
              "    </tr>\n",
              "    <tr>\n",
              "      <th>3</th>\n",
              "      <td>SVM</td>\n",
              "      <td>0.846</td>\n",
              "      <td>0.842</td>\n",
              "      <td>0.770</td>\n",
              "      <td>0.900</td>\n",
              "      <td>0.830</td>\n",
              "      <td>0.850</td>\n",
              "    </tr>\n",
              "    <tr>\n",
              "      <th>4</th>\n",
              "      <td>Gradient Boosting</td>\n",
              "      <td>0.846</td>\n",
              "      <td>0.843</td>\n",
              "      <td>0.802</td>\n",
              "      <td>0.873</td>\n",
              "      <td>0.836</td>\n",
              "      <td>0.845</td>\n",
              "    </tr>\n",
              "    <tr>\n",
              "      <th>5</th>\n",
              "      <td>XG Boosting</td>\n",
              "      <td>0.847</td>\n",
              "      <td>0.845</td>\n",
              "      <td>0.802</td>\n",
              "      <td>0.879</td>\n",
              "      <td>0.838</td>\n",
              "      <td>0.848</td>\n",
              "    </tr>\n",
              "  </tbody>\n",
              "</table>\n",
              "</div>\n",
              "      <button class=\"colab-df-convert\" onclick=\"convertToInteractive('df-5d047e49-fdf0-4e36-9c7d-396f403b4c1c')\"\n",
              "              title=\"Convert this dataframe to an interactive table.\"\n",
              "              style=\"display:none;\">\n",
              "        \n",
              "  <svg xmlns=\"http://www.w3.org/2000/svg\" height=\"24px\"viewBox=\"0 0 24 24\"\n",
              "       width=\"24px\">\n",
              "    <path d=\"M0 0h24v24H0V0z\" fill=\"none\"/>\n",
              "    <path d=\"M18.56 5.44l.94 2.06.94-2.06 2.06-.94-2.06-.94-.94-2.06-.94 2.06-2.06.94zm-11 1L8.5 8.5l.94-2.06 2.06-.94-2.06-.94L8.5 2.5l-.94 2.06-2.06.94zm10 10l.94 2.06.94-2.06 2.06-.94-2.06-.94-.94-2.06-.94 2.06-2.06.94z\"/><path d=\"M17.41 7.96l-1.37-1.37c-.4-.4-.92-.59-1.43-.59-.52 0-1.04.2-1.43.59L10.3 9.45l-7.72 7.72c-.78.78-.78 2.05 0 2.83L4 21.41c.39.39.9.59 1.41.59.51 0 1.02-.2 1.41-.59l7.78-7.78 2.81-2.81c.8-.78.8-2.07 0-2.86zM5.41 20L4 18.59l7.72-7.72 1.47 1.35L5.41 20z\"/>\n",
              "  </svg>\n",
              "      </button>\n",
              "      \n",
              "  <style>\n",
              "    .colab-df-container {\n",
              "      display:flex;\n",
              "      flex-wrap:wrap;\n",
              "      gap: 12px;\n",
              "    }\n",
              "\n",
              "    .colab-df-convert {\n",
              "      background-color: #E8F0FE;\n",
              "      border: none;\n",
              "      border-radius: 50%;\n",
              "      cursor: pointer;\n",
              "      display: none;\n",
              "      fill: #1967D2;\n",
              "      height: 32px;\n",
              "      padding: 0 0 0 0;\n",
              "      width: 32px;\n",
              "    }\n",
              "\n",
              "    .colab-df-convert:hover {\n",
              "      background-color: #E2EBFA;\n",
              "      box-shadow: 0px 1px 2px rgba(60, 64, 67, 0.3), 0px 1px 3px 1px rgba(60, 64, 67, 0.15);\n",
              "      fill: #174EA6;\n",
              "    }\n",
              "\n",
              "    [theme=dark] .colab-df-convert {\n",
              "      background-color: #3B4455;\n",
              "      fill: #D2E3FC;\n",
              "    }\n",
              "\n",
              "    [theme=dark] .colab-df-convert:hover {\n",
              "      background-color: #434B5C;\n",
              "      box-shadow: 0px 1px 3px 1px rgba(0, 0, 0, 0.15);\n",
              "      filter: drop-shadow(0px 1px 2px rgba(0, 0, 0, 0.3));\n",
              "      fill: #FFFFFF;\n",
              "    }\n",
              "  </style>\n",
              "\n",
              "      <script>\n",
              "        const buttonEl =\n",
              "          document.querySelector('#df-5d047e49-fdf0-4e36-9c7d-396f403b4c1c button.colab-df-convert');\n",
              "        buttonEl.style.display =\n",
              "          google.colab.kernel.accessAllowed ? 'block' : 'none';\n",
              "\n",
              "        async function convertToInteractive(key) {\n",
              "          const element = document.querySelector('#df-5d047e49-fdf0-4e36-9c7d-396f403b4c1c');\n",
              "          const dataTable =\n",
              "            await google.colab.kernel.invokeFunction('convertToInteractive',\n",
              "                                                     [key], {});\n",
              "          if (!dataTable) return;\n",
              "\n",
              "          const docLinkHtml = 'Like what you see? Visit the ' +\n",
              "            '<a target=\"_blank\" href=https://colab.research.google.com/notebooks/data_table.ipynb>data table notebook</a>'\n",
              "            + ' to learn more about interactive tables.';\n",
              "          element.innerHTML = '';\n",
              "          dataTable['output_type'] = 'display_data';\n",
              "          await google.colab.output.renderOutput(dataTable, element);\n",
              "          const docLink = document.createElement('div');\n",
              "          docLink.innerHTML = docLinkHtml;\n",
              "          element.appendChild(docLink);\n",
              "        }\n",
              "      </script>\n",
              "    </div>\n",
              "  </div>\n",
              "  "
            ]
          },
          "metadata": {},
          "execution_count": 86
        }
      ],
      "source": [
        "compare_df"
      ]
    },
    {
      "cell_type": "code",
      "execution_count": 87,
      "metadata": {
        "id": "undNoGzLZhOw",
        "colab": {
          "base_uri": "https://localhost:8080/",
          "height": 238
        },
        "outputId": "cd1e371a-940d-409f-ae30-dcc63512f47d"
      },
      "outputs": [
        {
          "output_type": "execute_result",
          "data": {
            "text/plain": [
              "            Classifier  Train Accuracy  Test Accuracy  Precision  Recall  \\\n",
              "2        Random Forest           0.999          0.870      0.835   0.897   \n",
              "5          XG Boosting           0.847          0.845      0.802   0.879   \n",
              "4    Gradient Boosting           0.846          0.843      0.802   0.873   \n",
              "3                  SVM           0.846          0.842      0.770   0.900   \n",
              "0  Logistic Regression           0.826          0.832      0.796   0.857   \n",
              "1        Decision Tree           1.000          0.802      0.813   0.795   \n",
              "\n",
              "   F1 Score    AUC  \n",
              "2     0.865  0.871  \n",
              "5     0.838  0.848  \n",
              "4     0.836  0.845  \n",
              "3     0.830  0.850  \n",
              "0     0.826  0.834  \n",
              "1     0.804  0.802  "
            ],
            "text/html": [
              "\n",
              "  <div id=\"df-a34a4111-c425-4e67-a45d-4a1113133901\">\n",
              "    <div class=\"colab-df-container\">\n",
              "      <div>\n",
              "<style scoped>\n",
              "    .dataframe tbody tr th:only-of-type {\n",
              "        vertical-align: middle;\n",
              "    }\n",
              "\n",
              "    .dataframe tbody tr th {\n",
              "        vertical-align: top;\n",
              "    }\n",
              "\n",
              "    .dataframe thead th {\n",
              "        text-align: right;\n",
              "    }\n",
              "</style>\n",
              "<table border=\"1\" class=\"dataframe\">\n",
              "  <thead>\n",
              "    <tr style=\"text-align: right;\">\n",
              "      <th></th>\n",
              "      <th>Classifier</th>\n",
              "      <th>Train Accuracy</th>\n",
              "      <th>Test Accuracy</th>\n",
              "      <th>Precision</th>\n",
              "      <th>Recall</th>\n",
              "      <th>F1 Score</th>\n",
              "      <th>AUC</th>\n",
              "    </tr>\n",
              "  </thead>\n",
              "  <tbody>\n",
              "    <tr>\n",
              "      <th>2</th>\n",
              "      <td>Random Forest</td>\n",
              "      <td>0.999</td>\n",
              "      <td>0.870</td>\n",
              "      <td>0.835</td>\n",
              "      <td>0.897</td>\n",
              "      <td>0.865</td>\n",
              "      <td>0.871</td>\n",
              "    </tr>\n",
              "    <tr>\n",
              "      <th>5</th>\n",
              "      <td>XG Boosting</td>\n",
              "      <td>0.847</td>\n",
              "      <td>0.845</td>\n",
              "      <td>0.802</td>\n",
              "      <td>0.879</td>\n",
              "      <td>0.838</td>\n",
              "      <td>0.848</td>\n",
              "    </tr>\n",
              "    <tr>\n",
              "      <th>4</th>\n",
              "      <td>Gradient Boosting</td>\n",
              "      <td>0.846</td>\n",
              "      <td>0.843</td>\n",
              "      <td>0.802</td>\n",
              "      <td>0.873</td>\n",
              "      <td>0.836</td>\n",
              "      <td>0.845</td>\n",
              "    </tr>\n",
              "    <tr>\n",
              "      <th>3</th>\n",
              "      <td>SVM</td>\n",
              "      <td>0.846</td>\n",
              "      <td>0.842</td>\n",
              "      <td>0.770</td>\n",
              "      <td>0.900</td>\n",
              "      <td>0.830</td>\n",
              "      <td>0.850</td>\n",
              "    </tr>\n",
              "    <tr>\n",
              "      <th>0</th>\n",
              "      <td>Logistic Regression</td>\n",
              "      <td>0.826</td>\n",
              "      <td>0.832</td>\n",
              "      <td>0.796</td>\n",
              "      <td>0.857</td>\n",
              "      <td>0.826</td>\n",
              "      <td>0.834</td>\n",
              "    </tr>\n",
              "    <tr>\n",
              "      <th>1</th>\n",
              "      <td>Decision Tree</td>\n",
              "      <td>1.000</td>\n",
              "      <td>0.802</td>\n",
              "      <td>0.813</td>\n",
              "      <td>0.795</td>\n",
              "      <td>0.804</td>\n",
              "      <td>0.802</td>\n",
              "    </tr>\n",
              "  </tbody>\n",
              "</table>\n",
              "</div>\n",
              "      <button class=\"colab-df-convert\" onclick=\"convertToInteractive('df-a34a4111-c425-4e67-a45d-4a1113133901')\"\n",
              "              title=\"Convert this dataframe to an interactive table.\"\n",
              "              style=\"display:none;\">\n",
              "        \n",
              "  <svg xmlns=\"http://www.w3.org/2000/svg\" height=\"24px\"viewBox=\"0 0 24 24\"\n",
              "       width=\"24px\">\n",
              "    <path d=\"M0 0h24v24H0V0z\" fill=\"none\"/>\n",
              "    <path d=\"M18.56 5.44l.94 2.06.94-2.06 2.06-.94-2.06-.94-.94-2.06-.94 2.06-2.06.94zm-11 1L8.5 8.5l.94-2.06 2.06-.94-2.06-.94L8.5 2.5l-.94 2.06-2.06.94zm10 10l.94 2.06.94-2.06 2.06-.94-2.06-.94-.94-2.06-.94 2.06-2.06.94z\"/><path d=\"M17.41 7.96l-1.37-1.37c-.4-.4-.92-.59-1.43-.59-.52 0-1.04.2-1.43.59L10.3 9.45l-7.72 7.72c-.78.78-.78 2.05 0 2.83L4 21.41c.39.39.9.59 1.41.59.51 0 1.02-.2 1.41-.59l7.78-7.78 2.81-2.81c.8-.78.8-2.07 0-2.86zM5.41 20L4 18.59l7.72-7.72 1.47 1.35L5.41 20z\"/>\n",
              "  </svg>\n",
              "      </button>\n",
              "      \n",
              "  <style>\n",
              "    .colab-df-container {\n",
              "      display:flex;\n",
              "      flex-wrap:wrap;\n",
              "      gap: 12px;\n",
              "    }\n",
              "\n",
              "    .colab-df-convert {\n",
              "      background-color: #E8F0FE;\n",
              "      border: none;\n",
              "      border-radius: 50%;\n",
              "      cursor: pointer;\n",
              "      display: none;\n",
              "      fill: #1967D2;\n",
              "      height: 32px;\n",
              "      padding: 0 0 0 0;\n",
              "      width: 32px;\n",
              "    }\n",
              "\n",
              "    .colab-df-convert:hover {\n",
              "      background-color: #E2EBFA;\n",
              "      box-shadow: 0px 1px 2px rgba(60, 64, 67, 0.3), 0px 1px 3px 1px rgba(60, 64, 67, 0.15);\n",
              "      fill: #174EA6;\n",
              "    }\n",
              "\n",
              "    [theme=dark] .colab-df-convert {\n",
              "      background-color: #3B4455;\n",
              "      fill: #D2E3FC;\n",
              "    }\n",
              "\n",
              "    [theme=dark] .colab-df-convert:hover {\n",
              "      background-color: #434B5C;\n",
              "      box-shadow: 0px 1px 3px 1px rgba(0, 0, 0, 0.15);\n",
              "      filter: drop-shadow(0px 1px 2px rgba(0, 0, 0, 0.3));\n",
              "      fill: #FFFFFF;\n",
              "    }\n",
              "  </style>\n",
              "\n",
              "      <script>\n",
              "        const buttonEl =\n",
              "          document.querySelector('#df-a34a4111-c425-4e67-a45d-4a1113133901 button.colab-df-convert');\n",
              "        buttonEl.style.display =\n",
              "          google.colab.kernel.accessAllowed ? 'block' : 'none';\n",
              "\n",
              "        async function convertToInteractive(key) {\n",
              "          const element = document.querySelector('#df-a34a4111-c425-4e67-a45d-4a1113133901');\n",
              "          const dataTable =\n",
              "            await google.colab.kernel.invokeFunction('convertToInteractive',\n",
              "                                                     [key], {});\n",
              "          if (!dataTable) return;\n",
              "\n",
              "          const docLinkHtml = 'Like what you see? Visit the ' +\n",
              "            '<a target=\"_blank\" href=https://colab.research.google.com/notebooks/data_table.ipynb>data table notebook</a>'\n",
              "            + ' to learn more about interactive tables.';\n",
              "          element.innerHTML = '';\n",
              "          dataTable['output_type'] = 'display_data';\n",
              "          await google.colab.output.renderOutput(dataTable, element);\n",
              "          const docLink = document.createElement('div');\n",
              "          docLink.innerHTML = docLinkHtml;\n",
              "          element.appendChild(docLink);\n",
              "        }\n",
              "      </script>\n",
              "    </div>\n",
              "  </div>\n",
              "  "
            ]
          },
          "metadata": {},
          "execution_count": 87
        }
      ],
      "source": [
        "compare_df.sort_values(by=['Test Accuracy'], ascending=False)"
      ]
    },
    {
      "cell_type": "markdown",
      "metadata": {
        "id": "5tW11_L1fiYf"
      },
      "source": [
        "Combined ROC Curve For All Models"
      ]
    },
    {
      "cell_type": "code",
      "execution_count": 88,
      "metadata": {
        "id": "YjhiKdx0fsYY"
      },
      "outputs": [],
      "source": [
        "#importing roc curve\n",
        "from sklearn.metrics import roc_curve"
      ]
    },
    {
      "cell_type": "code",
      "execution_count": 89,
      "metadata": {
        "id": "fHIhAMVYfsV3"
      },
      "outputs": [],
      "source": [
        "#probabilty prediction of y for all model\n",
        "y_pred_proba_logi = logi.predict_proba(X_test)[:,1]\n",
        "y_pred_proba_dtc = dtc.predict_proba(X_test)[:,1]\n",
        "y_pred_proba_rfc = rfc.predict_proba(X_test)[:,1]\n",
        "y_pred_proba_svm = svm.predict_proba(X_test)[:,1]\n",
        "y_pred_proba_gbc = gbc.predict_proba(X_test)[:,1]\n",
        "y_pred_proba_xgb = xgb.predict_proba(X_test)[:,1]"
      ]
    },
    {
      "cell_type": "code",
      "execution_count": 90,
      "metadata": {
        "id": "xohkfgrBfsRp",
        "colab": {
          "base_uri": "https://localhost:8080/",
          "height": 535
        },
        "outputId": "cd37b386-450d-4e72-cf7c-ee944b60710c"
      },
      "outputs": [
        {
          "output_type": "execute_result",
          "data": {
            "text/plain": [
              "<matplotlib.legend.Legend at 0x7f69b469e400>"
            ]
          },
          "metadata": {},
          "execution_count": 90
        },
        {
          "output_type": "display_data",
          "data": {
            "text/plain": [
              "<Figure size 720x576 with 1 Axes>"
            ],
            "image/png": "[encoded data removed]"
          },
          "metadata": {
            "needs_background": "light"
          }
        }
      ],
      "source": [
        "fig = plt.figure(figsize=(10,8)) \n",
        "\n",
        "fpr_logi, tpr_logi, _logi = roc_curve(y_test,  y_pred_proba_logi)\n",
        "fpr_dtc, tpr_dtc, _dtc = roc_curve(y_test,  y_pred_proba_dtc)\n",
        "fpr_rfc, tpr_rfc, _rfc = roc_curve(y_test,  y_pred_proba_rfc)\n",
        "fpr_svm, tpr_svm, _svm = roc_curve(y_test,  y_pred_proba_svm)\n",
        "fpr_gbc, tpr_gbc, _gbc = roc_curve(y_test,  y_pred_proba_gbc)\n",
        "fpr_xgb, tpr_xgb, _xgb = roc_curve(y_test,  y_pred_proba_xgb)\n",
        "\n",
        "plt.plot(fpr_logi, tpr_logi)\n",
        "plt.plot(fpr_dtc, tpr_dtc)\n",
        "plt.plot(fpr_rfc, tpr_rfc)\n",
        "plt.plot(fpr_svm, tpr_svm)\n",
        "plt.plot(fpr_gbc, tpr_gbc)\n",
        "plt.plot(fpr_xgb, tpr_xgb)\n",
        "\n",
        "plt.plot([0,1], [0,1], color='black', linestyle='--')\n",
        "\n",
        "plt.xlabel(\"Flase Positive Rate\", fontsize=12)\n",
        "plt.ylabel(\"True Positive Rate\", fontsize=12)\n",
        "plt.title('Combined ROC Curve', fontsize=15)\n",
        "\n",
        "plt.legend([\"Logistic\", \"Decision Tree\", \"Random Forest\", \"SVM\", \"GB Boost\" \"XG Boost\"], prop={'size':13}, loc='lower right' )"
      ]
    },
    {
      "cell_type": "markdown",
      "metadata": {
        "id": "B11OEmQZf6h3"
      },
      "source": [
        "Cross Validation & Hyperparameter Tuning"
      ]
    },
    {
      "cell_type": "code",
      "execution_count": 90,
      "metadata": {
        "id": "zGNTUw46fsP3"
      },
      "outputs": [],
      "source": []
    },
    {
      "cell_type": "code",
      "execution_count": 91,
      "metadata": {
        "id": "CgdNOkfNX2wC"
      },
      "outputs": [],
      "source": [
        "from sklearn.model_selection import GridSearchCV"
      ]
    },
    {
      "cell_type": "markdown",
      "metadata": {
        "id": "93y49U1mNisy"
      },
      "source": [
        "## **Logistic Regression Model**"
      ]
    },
    {
      "cell_type": "code",
      "execution_count": 92,
      "metadata": {
        "id": "zP2dZF0ONqAs"
      },
      "outputs": [],
      "source": [
        "# penalty in Logistic Regression Classifier\n",
        "penalties = ['l1','l2', 'elasticnet', 'none']\n",
        "\n",
        "# hyperparameter C\n",
        "C= [0.0001, 0.001, 0.1, 0.5, 0.75, 1, 1.25, 1.5, 5, 10]\n",
        "\n",
        "# Hyperparameter Grid\n",
        "param_dict = {'penalty':penalties,\n",
        "              'max_iter' : [100, 1000,2500, 5000],\n",
        "              'C' : C }"
      ]
    },
    {
      "cell_type": "code",
      "execution_count": 93,
      "metadata": {
        "colab": {
          "base_uri": "https://localhost:8080/"
        },
        "id": "6doUX0kVNrSy",
        "outputId": "0d32e4b4-599c-43f2-a345-726124b9234a"
      },
      "outputs": [
        {
          "output_type": "stream",
          "name": "stdout",
          "text": [
            "Fitting 5 folds for each of 160 candidates, totalling 800 fits\n"
          ]
        },
        {
          "output_type": "execute_result",
          "data": {
            "text/plain": [
              "GridSearchCV(cv=5, estimator=LogisticRegression(), n_jobs=-1,\n",
              "             param_grid={'C': [0.0001, 0.001, 0.1, 0.5, 0.75, 1, 1.25, 1.5, 5,\n",
              "                               10],\n",
              "                         'max_iter': [100, 1000, 2500, 5000],\n",
              "                         'penalty': ['l1', 'l2', 'elasticnet', 'none']},\n",
              "             scoring='roc_auc', verbose=3)"
            ]
          },
          "metadata": {},
          "execution_count": 93
        }
      ],
      "source": [
        "# Create an instance of the Logistic Regression\n",
        "logi = LogisticRegression()\n",
        "\n",
        "# Grid search\n",
        "logi_grid = GridSearchCV(estimator=logi,\n",
        "                       param_grid = param_dict,\n",
        "                       cv = 5, verbose=3, n_jobs = -1, scoring='roc_auc')\n",
        "# fitting model\n",
        "logi_grid.fit(X_train,y_train)"
      ]
    },
    {
      "cell_type": "code",
      "execution_count": 94,
      "metadata": {
        "colab": {
          "base_uri": "https://localhost:8080/"
        },
        "id": "Gc0cG4phRLlj",
        "outputId": "cc0cb74d-3f7a-414b-d8ae-5d1421713f8b"
      },
      "outputs": [
        {
          "output_type": "execute_result",
          "data": {
            "text/plain": [
              "LogisticRegression(C=0.1)"
            ]
          },
          "metadata": {},
          "execution_count": 94
        }
      ],
      "source": [
        "logi_grid.best_estimator_"
      ]
    },
    {
      "cell_type": "code",
      "execution_count": 95,
      "metadata": {
        "colab": {
          "base_uri": "https://localhost:8080/"
        },
        "id": "mTrUOdImRLlq",
        "outputId": "dfc3325e-d4a1-491c-bc11-d5c990402ee5"
      },
      "outputs": [
        {
          "output_type": "execute_result",
          "data": {
            "text/plain": [
              "{'C': 0.1, 'max_iter': 100, 'penalty': 'l2'}"
            ]
          },
          "metadata": {},
          "execution_count": 95
        }
      ],
      "source": [
        "logi_grid.best_params_"
      ]
    },
    {
      "cell_type": "code",
      "execution_count": 96,
      "metadata": {
        "id": "rwTQrv9qRLlq"
      },
      "outputs": [],
      "source": [
        "logi_optimal_model = logi_grid.best_estimator_"
      ]
    },
    {
      "cell_type": "code",
      "execution_count": 97,
      "metadata": {
        "id": "gw1z__KlRLlr"
      },
      "outputs": [],
      "source": [
        "#class prediction of y on train and test\n",
        "y_pred_logi_grid = logi_optimal_model.predict(X_test)\n",
        "y_train_pred_logi_grid = logi_optimal_model.predict(X_train)\n",
        "\n",
        "# Get the probabilities on train and test\n",
        "y_pred_prob_logi_grid = logi_optimal_model.predict_proba(X_train)[:,1]\n",
        "y_train_pred_prob_logi_grid = logi_optimal_model.predict_proba(X_test)[:,1]"
      ]
    },
    {
      "cell_type": "code",
      "execution_count": 98,
      "metadata": {
        "colab": {
          "base_uri": "https://localhost:8080/"
        },
        "id": "Zk_nJEJkRLlr",
        "outputId": "8a41d596-7d87-43b4-bf60-75bdf0bb925e"
      },
      "outputs": [
        {
          "output_type": "stream",
          "name": "stdout",
          "text": [
            "The accuracy on train data is  0.826\n",
            "The accuracy on test data is  0.833\n",
            "The precision on test data is  0.798\n",
            "The recall on test data is  0.858\n",
            "The f1 on test data is  0.826\n",
            "The auc on test data is  0.834\n"
          ]
        }
      ],
      "source": [
        "#getting all scores for Logistic Regression after CV and Hyperparameter Tunning\n",
        "train_accuracy_logi_grid = round(accuracy_score(y_train_pred_logi_grid,y_train), 3)\n",
        "accuracy_logi_grid = round(accuracy_score(y_pred_logi_grid,y_test), 3)\n",
        "precision_score_logi_grid = round(precision_score(y_pred_logi_grid, y_test), 3)\n",
        "recall_score_logi_grid = round(recall_score(y_pred_logi_grid,y_test), 3)\n",
        "f1_score_logi_grid = round(f1_score(y_pred_logi_grid,y_test), 3)\n",
        "auc_logi_grid = round(roc_auc_score(y_pred_logi_grid,y_test), 3)\n",
        "\n",
        "print(\"The accuracy on train data is \", train_accuracy_logi_grid)\n",
        "print(\"The accuracy on test data is \", accuracy_logi_grid)\n",
        "print(\"The precision on test data is \", precision_score_logi_grid)\n",
        "print(\"The recall on test data is \", recall_score_logi_grid)\n",
        "print(\"The f1 on test data is \", f1_score_logi_grid)\n",
        "print(\"The auc on test data is \", auc_logi_grid)"
      ]
    },
    {
      "cell_type": "code",
      "execution_count": 99,
      "metadata": {
        "id": "aK8SpyreNrMc"
      },
      "outputs": [],
      "source": [
        "# Get the confusion matrices for train and test\n",
        "train_cm_logi_grid = confusion_matrix(y_train,y_train_pred_logi_grid)\n",
        "test_cm_logi_grid = confusion_matrix(y_test,y_pred_logi_grid )"
      ]
    },
    {
      "cell_type": "code",
      "execution_count": 100,
      "metadata": {
        "colab": {
          "base_uri": "https://localhost:8080/"
        },
        "id": "dSkMmBj9oH83",
        "outputId": "a8298b14-e3bf-4549-a3a7-7a41f9d0830f"
      },
      "outputs": [
        {
          "output_type": "execute_result",
          "data": {
            "text/plain": [
              "array([[16211,  2480],\n",
              "       [ 4024, 14667]])"
            ]
          },
          "metadata": {},
          "execution_count": 100
        }
      ],
      "source": [
        "train_cm_logi_grid"
      ]
    },
    {
      "cell_type": "code",
      "execution_count": 101,
      "metadata": {
        "colab": {
          "base_uri": "https://localhost:8080/"
        },
        "id": "ycJ9Q_bqoKuk",
        "outputId": "6bb54ef9-7586-4d3f-9ada-dcb90563a288"
      },
      "outputs": [
        {
          "output_type": "execute_result",
          "data": {
            "text/plain": [
              "array([[4054,  619],\n",
              "       [ 946, 3727]])"
            ]
          },
          "metadata": {},
          "execution_count": 101
        }
      ],
      "source": [
        "test_cm_logi_grid"
      ]
    },
    {
      "cell_type": "code",
      "execution_count": 102,
      "metadata": {
        "id": "usq4TOmoT534"
      },
      "outputs": [],
      "source": [
        "# The maximum depth of the tree\n",
        "depth_of_tree = [20,25,30,35]\n",
        "\n",
        "# The minimum number of samples required to split an internal node\n",
        "min_samples_split = [0.001,0.01,0.05]\n",
        "\n",
        "# Minimum number of samples required at each leaf node\n",
        "min_samples_leaf = [40,50,60]\n",
        "\n",
        "# Hyperparameter Grid\n",
        "param_dict = {'max_depth': depth_of_tree,\n",
        "              'min_samples_split':min_samples_split,\n",
        "              'min_samples_leaf': min_samples_leaf}"
      ]
    },
    {
      "cell_type": "code",
      "execution_count": 103,
      "metadata": {
        "colab": {
          "base_uri": "https://localhost:8080/"
        },
        "id": "Di1axB0nT538",
        "outputId": "506fe023-e11b-49ae-c3d6-ad445be4e8ff"
      },
      "outputs": [
        {
          "output_type": "stream",
          "name": "stdout",
          "text": [
            "Fitting 5 folds for each of 36 candidates, totalling 180 fits\n"
          ]
        },
        {
          "output_type": "execute_result",
          "data": {
            "text/plain": [
              "GridSearchCV(cv=5, estimator=DecisionTreeClassifier(), n_jobs=-1,\n",
              "             param_grid={'max_depth': [20, 25, 30, 35],\n",
              "                         'min_samples_leaf': [40, 50, 60],\n",
              "                         'min_samples_split': [0.001, 0.01, 0.05]},\n",
              "             scoring='roc_auc', verbose=3)"
            ]
          },
          "metadata": {},
          "execution_count": 103
        }
      ],
      "source": [
        "# Create an instance of the decision tree\n",
        "dtc = DecisionTreeClassifier()\n",
        "\n",
        "# Grid search\n",
        "dtc_grid = GridSearchCV(estimator=dtc,\n",
        "                       param_grid = param_dict,\n",
        "                       cv = 5, verbose=3, n_jobs = -1, scoring='roc_auc')\n",
        "# fitting model\n",
        "dtc_grid.fit(X_train, y_train)"
      ]
    },
    {
      "cell_type": "code",
      "execution_count": 104,
      "metadata": {
        "colab": {
          "base_uri": "https://localhost:8080/"
        },
        "id": "E7_AeaxtT539",
        "outputId": "9987977c-c139-458d-a13b-bb0ecc168b50"
      },
      "outputs": [
        {
          "output_type": "execute_result",
          "data": {
            "text/plain": [
              "DecisionTreeClassifier(max_depth=30, min_samples_leaf=40,\n",
              "                       min_samples_split=0.001)"
            ]
          },
          "metadata": {},
          "execution_count": 104
        }
      ],
      "source": [
        "dtc_grid.best_estimator_"
      ]
    },
    {
      "cell_type": "code",
      "execution_count": 105,
      "metadata": {
        "colab": {
          "base_uri": "https://localhost:8080/"
        },
        "id": "u1alKarGT539",
        "outputId": "2d3efc45-93e3-499c-9b58-28733636b55f"
      },
      "outputs": [
        {
          "output_type": "execute_result",
          "data": {
            "text/plain": [
              "{'max_depth': 30, 'min_samples_leaf': 40, 'min_samples_split': 0.001}"
            ]
          },
          "metadata": {},
          "execution_count": 105
        }
      ],
      "source": [
        "dtc_grid.best_params_"
      ]
    },
    {
      "cell_type": "code",
      "execution_count": 106,
      "metadata": {
        "id": "ZcjDMtTMT539"
      },
      "outputs": [],
      "source": [
        "dtc_optimal_model = dtc_grid.best_estimator_"
      ]
    },
    {
      "cell_type": "code",
      "execution_count": 107,
      "metadata": {
        "id": "hkREOs4-T539"
      },
      "outputs": [],
      "source": [
        "#class prediction of y on train and test\n",
        "y_pred_dtc_grid=dtc_optimal_model.predict(X_test)\n",
        "y_train_pred_dtc_grid=dtc_optimal_model.predict(X_train)\n",
        "\n",
        "# Get the probabilities on train and test\n",
        "y_pred_prob_dtc_grid = dtc_optimal_model.predict_proba(X_train)[:,1]\n",
        "y_train_pred_prob_dtc_grid = dtc_optimal_model.predict_proba(X_test)[:,1]"
      ]
    },
    {
      "cell_type": "code",
      "execution_count": 108,
      "metadata": {
        "colab": {
          "base_uri": "https://localhost:8080/"
        },
        "id": "Cr2rxcIFT539",
        "outputId": "b18953cb-3eb6-4f14-91c7-8739984f94cd"
      },
      "outputs": [
        {
          "output_type": "stream",
          "name": "stdout",
          "text": [
            "The accuracy on train data is  0.842\n",
            "The accuracy on test data is  0.821\n",
            "The precision on test data is  0.784\n",
            "The recall on test data is  0.847\n",
            "The f1 on test data is  0.814\n",
            "The auc on test data is  0.823\n"
          ]
        }
      ],
      "source": [
        "#getting all scores for decision tree after CV and Hyperparameter Tunning\n",
        "train_accuracy_dtc_grid = round(accuracy_score(y_train_pred_dtc_grid,y_train), 3)\n",
        "accuracy_dtc_grid = round(accuracy_score(y_pred_dtc_grid,y_test), 3)\n",
        "precision_score_dtc_grid = round(precision_score(y_pred_dtc_grid,y_test), 3)\n",
        "recall_score_dtc_grid = round(recall_score(y_pred_dtc_grid,y_test), 3)\n",
        "f1_score_dtc_grid = round(f1_score(y_pred_dtc_grid,y_test), 3)\n",
        "auc_dtc_grid = round(roc_auc_score(y_pred_dtc_grid,y_test), 3)\n",
        "\n",
        "print(\"The accuracy on train data is \", train_accuracy_dtc_grid)\n",
        "print(\"The accuracy on test data is \", accuracy_dtc_grid)\n",
        "print(\"The precision on test data is \", precision_score_dtc_grid)\n",
        "print(\"The recall on test data is \", recall_score_dtc_grid)\n",
        "print(\"The f1 on test data is \", f1_score_dtc_grid)\n",
        "print(\"The auc on test data is \", auc_dtc_grid)"
      ]
    },
    {
      "cell_type": "code",
      "execution_count": 109,
      "metadata": {
        "id": "hlOmd91jT53-"
      },
      "outputs": [],
      "source": [
        "# Get the confusion matrices for train and test\n",
        "train_cm_dtc_grid = confusion_matrix(y_train,y_train_pred_dtc_grid)\n",
        "test_cm_dtc_grid = confusion_matrix(y_test,y_pred_dtc_grid )"
      ]
    },
    {
      "cell_type": "code",
      "execution_count": 110,
      "metadata": {
        "colab": {
          "base_uri": "https://localhost:8080/"
        },
        "id": "C_X0gBgoofNj",
        "outputId": "10a70a0b-b389-4e23-c193-02add0deaa63"
      },
      "outputs": [
        {
          "output_type": "execute_result",
          "data": {
            "text/plain": [
              "array([[16572,  2119],\n",
              "       [ 3779, 14912]])"
            ]
          },
          "metadata": {},
          "execution_count": 110
        }
      ],
      "source": [
        "train_cm_dtc_grid"
      ]
    },
    {
      "cell_type": "code",
      "execution_count": 111,
      "metadata": {
        "colab": {
          "base_uri": "https://localhost:8080/"
        },
        "id": "vbCgSb8nofKy",
        "outputId": "d7a1efed-0646-4f41-ba08-a812dd013694"
      },
      "outputs": [
        {
          "output_type": "execute_result",
          "data": {
            "text/plain": [
              "array([[4013,  660],\n",
              "       [1010, 3663]])"
            ]
          },
          "metadata": {},
          "execution_count": 111
        }
      ],
      "source": [
        "test_cm_dtc_grid"
      ]
    },
    {
      "cell_type": "markdown",
      "metadata": {
        "id": "5nI6dccfZB2p"
      },
      "source": [
        "## **Support Vector Machine**"
      ]
    },
    {
      "cell_type": "code",
      "execution_count": 112,
      "metadata": {
        "id": "6xpR1UZm-TWc"
      },
      "outputs": [],
      "source": [
        "from sklearn.model_selection import RandomizedSearchCV"
      ]
    },
    {
      "cell_type": "code",
      "execution_count": 113,
      "metadata": {
        "id": "NdYV19QiZT5h"
      },
      "outputs": [],
      "source": [
        "# Hyperparameter Grid\n",
        "param_dict = {'C':[1, 10] ,\n",
        "              'kernel': ['rbf']}"
      ]
    },
    {
      "cell_type": "code",
      "execution_count": 114,
      "metadata": {
        "colab": {
          "base_uri": "https://localhost:8080/"
        },
        "id": "vLGZl6aTZT5m",
        "outputId": "c7bbd2e3-471c-4f43-9c4b-29dbc45e6120"
      },
      "outputs": [
        {
          "output_type": "stream",
          "name": "stdout",
          "text": [
            "Fitting 2 folds for each of 2 candidates, totalling 4 fits\n"
          ]
        },
        {
          "output_type": "execute_result",
          "data": {
            "text/plain": [
              "RandomizedSearchCV(cv=2, estimator=SVC(probability=True), n_jobs=-1,\n",
              "                   param_distributions={'C': [1, 10], 'kernel': ['rbf']},\n",
              "                   scoring='roc_auc', verbose=2)"
            ]
          },
          "metadata": {},
          "execution_count": 114
        }
      ],
      "source": [
        "# Create an instance of the support vector classifier\n",
        "svm=SVC(probability=True)\n",
        "\n",
        "# Grid search\n",
        "svm_grid = RandomizedSearchCV(estimator = svm, param_distributions = param_dict,\n",
        "                       cv = 2, verbose=2, n_jobs = -1, scoring= 'roc_auc')\n",
        "# fitting model\n",
        "svm_grid.fit(X_train, y_train)"
      ]
    },
    {
      "cell_type": "code",
      "execution_count": 115,
      "metadata": {
        "colab": {
          "base_uri": "https://localhost:8080/"
        },
        "id": "4fXzE1jqZT5n",
        "outputId": "39d26c13-c240-4981-b90d-fad392ed2e57"
      },
      "outputs": [
        {
          "output_type": "execute_result",
          "data": {
            "text/plain": [
              "SVC(C=1, probability=True)"
            ]
          },
          "metadata": {},
          "execution_count": 115
        }
      ],
      "source": [
        "svm_grid.best_estimator_"
      ]
    },
    {
      "cell_type": "code",
      "execution_count": 116,
      "metadata": {
        "colab": {
          "base_uri": "https://localhost:8080/"
        },
        "id": "xN3lCCyYZT5n",
        "outputId": "bd1e9440-2d23-4275-bbea-b9bc5dd5aa27"
      },
      "outputs": [
        {
          "output_type": "execute_result",
          "data": {
            "text/plain": [
              "{'kernel': 'rbf', 'C': 1}"
            ]
          },
          "metadata": {},
          "execution_count": 116
        }
      ],
      "source": [
        "svm_grid.best_params_"
      ]
    },
    {
      "cell_type": "code",
      "execution_count": 117,
      "metadata": {
        "id": "Bs0xWqoLZT5n"
      },
      "outputs": [],
      "source": [
        "svm_optimal_model = svm_grid.best_estimator_"
      ]
    },
    {
      "cell_type": "code",
      "execution_count": 118,
      "metadata": {
        "id": "7BAu0wsWZT5n"
      },
      "outputs": [],
      "source": [
        "#class prediction of y on train and test\n",
        "y_pred_svm_grid=svm_optimal_model.predict(X_test)\n",
        "y_train_pred_svm_grid=svm_optimal_model.predict(X_train)\n",
        "\n",
        "# Get the probabilities on train and test\n",
        "y_pred_prob_svm_grid = svm_optimal_model.predict_proba(X_train)[:,1]\n",
        "y_train_pred_prob_svm_grid = svm_optimal_model.predict_proba(X_test)[:,1]"
      ]
    },
    {
      "cell_type": "code",
      "execution_count": 119,
      "metadata": {
        "colab": {
          "base_uri": "https://localhost:8080/"
        },
        "id": "UKTY5DGoZT5o",
        "outputId": "64c6a140-4348-4002-ab0c-b7cd035a8f62"
      },
      "outputs": [
        {
          "output_type": "stream",
          "name": "stdout",
          "text": [
            "The accuracy on train data is  0.846\n",
            "The accuracy on test data is  0.842\n",
            "The precision on test data is  0.77\n",
            "The recall on test data is  0.9\n",
            "The f1 on test data is  0.83\n",
            "The auc on test data is  0.85\n"
          ]
        }
      ],
      "source": [
        "#getting all scores for Support Vector Classifier after CV and Hyperparameter Tunning\n",
        "train_accuracy_svm_grid = round(accuracy_score(y_train_pred_svm_grid,y_train), 3)\n",
        "accuracy_svm_grid = round(accuracy_score(y_pred_svm_grid,y_test), 3)\n",
        "precision_score_svm_grid = round(precision_score(y_pred_svm_grid,y_test), 3)\n",
        "recall_score_svm_grid = round(recall_score(y_pred_svm_grid,y_test), 3)\n",
        "f1_score_svm_grid = round(f1_score(y_pred_svm_grid,y_test), 3)\n",
        "auc_svm_grid = round(roc_auc_score(y_pred_svm_grid,y_test), 3)\n",
        "\n",
        "print(\"The accuracy on train data is \", train_accuracy_svm_grid)\n",
        "print(\"The accuracy on test data is \", accuracy_svm_grid)\n",
        "print(\"The precision on test data is \", precision_score_svm_grid)\n",
        "print(\"The recall on test data is \", recall_score_svm_grid)\n",
        "print(\"The f1 on test data is \", f1_score_svm_grid)\n",
        "print(\"The auc on test data is \", auc_svm_grid)"
      ]
    },
    {
      "cell_type": "code",
      "execution_count": 120,
      "metadata": {
        "id": "WXjPUQAdZT5o"
      },
      "outputs": [],
      "source": [
        "# Get the confusion matrices for train and test\n",
        "train_cm_svm_grid = confusion_matrix(y_train,y_train_pred_svm_grid)\n",
        "test_cm_svm_grid = confusion_matrix(y_test,y_pred_svm_grid )"
      ]
    },
    {
      "cell_type": "code",
      "execution_count": 121,
      "metadata": {
        "colab": {
          "base_uri": "https://localhost:8080/"
        },
        "id": "mHDxrX5fTm0n",
        "outputId": "4498a478-3a5d-48a9-8906-8a03ea1f19cd"
      },
      "outputs": [
        {
          "output_type": "execute_result",
          "data": {
            "text/plain": [
              "array([[17348,  1343],\n",
              "       [ 4415, 14276]])"
            ]
          },
          "metadata": {},
          "execution_count": 121
        }
      ],
      "source": [
        "train_cm_svm_grid"
      ]
    },
    {
      "cell_type": "code",
      "execution_count": 121,
      "metadata": {
        "id": "Q76hFgK-heP2"
      },
      "outputs": [],
      "source": []
    },
    {
      "cell_type": "markdown",
      "metadata": {
        "id": "TGJ-gRiYVMCx"
      },
      "source": [
        "## **Random Forest Classifer**"
      ]
    },
    {
      "cell_type": "code",
      "execution_count": 122,
      "metadata": {
        "id": "R-vfSURrIqpl"
      },
      "outputs": [],
      "source": [
        "# Number of trees\n",
        "n_estimators = [100,150,200]\n",
        "\n",
        "# Maximum depth of trees\n",
        "max_depth = [10,20,30]\n",
        "\n",
        "# Minimum number of samples required to split a node\n",
        "min_samples_split = [50,100,150]\n",
        "\n",
        "# Minimum number of samples required at each leaf node\n",
        "min_samples_leaf = [40,50]\n",
        "\n",
        "# Hyperparameter Grid\n",
        "param_dict = {'n_estimators' : n_estimators,\n",
        "              'max_depth' : max_depth,\n",
        "              'min_samples_split' : min_samples_split,\n",
        "              'min_samples_leaf' : min_samples_leaf}"
      ]
    },
    {
      "cell_type": "code",
      "execution_count": 123,
      "metadata": {
        "colab": {
          "base_uri": "https://localhost:8080/"
        },
        "id": "-Bg4U0X3Iz9O",
        "outputId": "a573dffa-e6d9-4cfa-fbbb-f90a2dc95830"
      },
      "outputs": [
        {
          "output_type": "stream",
          "name": "stdout",
          "text": [
            "Fitting 5 folds for each of 54 candidates, totalling 270 fits\n",
            "[CV] END max_depth=10, min_samples_leaf=40, min_samples_split=50, n_estimators=100; total time=   4.1s\n",
            "[CV] END max_depth=10, min_samples_leaf=40, min_samples_split=50, n_estimators=100; total time=   4.0s\n",
            "[CV] END max_depth=10, min_samples_leaf=40, min_samples_split=50, n_estimators=100; total time=   4.2s\n",
            "[CV] END max_depth=10, min_samples_leaf=40, min_samples_split=50, n_estimators=100; total time=   4.2s\n",
            "[CV] END max_depth=10, min_samples_leaf=40, min_samples_split=50, n_estimators=100; total time=   4.1s\n",
            "[CV] END max_depth=10, min_samples_leaf=40, min_samples_split=50, n_estimators=150; total time=   6.3s\n",
            "[CV] END max_depth=10, min_samples_leaf=40, min_samples_split=50, n_estimators=150; total time=   6.1s\n",
            "[CV] END max_depth=10, min_samples_leaf=40, min_samples_split=50, n_estimators=150; total time=   6.1s\n",
            "[CV] END max_depth=10, min_samples_leaf=40, min_samples_split=50, n_estimators=150; total time=   6.4s\n",
            "[CV] END max_depth=10, min_samples_leaf=40, min_samples_split=50, n_estimators=150; total time=   6.2s\n",
            "[CV] END max_depth=10, min_samples_leaf=40, min_samples_split=50, n_estimators=200; total time=   8.1s\n",
            "[CV] END max_depth=10, min_samples_leaf=40, min_samples_split=50, n_estimators=200; total time=   8.1s\n",
            "[CV] END max_depth=10, min_samples_leaf=40, min_samples_split=50, n_estimators=200; total time=   8.1s\n",
            "[CV] END max_depth=10, min_samples_leaf=40, min_samples_split=50, n_estimators=200; total time=   8.7s\n",
            "[CV] END max_depth=10, min_samples_leaf=40, min_samples_split=50, n_estimators=200; total time=   9.1s\n",
            "[CV] END max_depth=10, min_samples_leaf=40, min_samples_split=100, n_estimators=100; total time=   4.6s\n",
            "[CV] END max_depth=10, min_samples_leaf=40, min_samples_split=100, n_estimators=100; total time=   4.0s\n",
            "[CV] END max_depth=10, min_samples_leaf=40, min_samples_split=100, n_estimators=100; total time=   4.1s\n",
            "[CV] END max_depth=10, min_samples_leaf=40, min_samples_split=100, n_estimators=100; total time=   4.1s\n",
            "[CV] END max_depth=10, min_samples_leaf=40, min_samples_split=100, n_estimators=100; total time=   4.1s\n",
            "[CV] END max_depth=10, min_samples_leaf=40, min_samples_split=100, n_estimators=150; total time=   6.4s\n",
            "[CV] END max_depth=10, min_samples_leaf=40, min_samples_split=100, n_estimators=150; total time=   6.5s\n",
            "[CV] END max_depth=10, min_samples_leaf=40, min_samples_split=100, n_estimators=150; total time=   6.3s\n",
            "[CV] END max_depth=10, min_samples_leaf=40, min_samples_split=100, n_estimators=150; total time=   6.1s\n",
            "[CV] END max_depth=10, min_samples_leaf=40, min_samples_split=100, n_estimators=150; total time=   6.2s\n",
            "[CV] END max_depth=10, min_samples_leaf=40, min_samples_split=100, n_estimators=200; total time=   8.2s\n",
            "[CV] END max_depth=10, min_samples_leaf=40, min_samples_split=100, n_estimators=200; total time=   7.9s\n",
            "[CV] END max_depth=10, min_samples_leaf=40, min_samples_split=100, n_estimators=200; total time=   8.0s\n",
            "[CV] END max_depth=10, min_samples_leaf=40, min_samples_split=100, n_estimators=200; total time=   8.2s\n",
            "[CV] END max_depth=10, min_samples_leaf=40, min_samples_split=100, n_estimators=200; total time=   8.3s\n",
            "[CV] END max_depth=10, min_samples_leaf=40, min_samples_split=150, n_estimators=100; total time=   4.1s\n",
            "[CV] END max_depth=10, min_samples_leaf=40, min_samples_split=150, n_estimators=100; total time=   4.1s\n",
            "[CV] END max_depth=10, min_samples_leaf=40, min_samples_split=150, n_estimators=100; total time=   3.9s\n",
            "[CV] END max_depth=10, min_samples_leaf=40, min_samples_split=150, n_estimators=100; total time=   4.1s\n",
            "[CV] END max_depth=10, min_samples_leaf=40, min_samples_split=150, n_estimators=100; total time=   4.0s\n",
            "[CV] END max_depth=10, min_samples_leaf=40, min_samples_split=150, n_estimators=150; total time=   6.1s\n",
            "[CV] END max_depth=10, min_samples_leaf=40, min_samples_split=150, n_estimators=150; total time=   5.9s\n",
            "[CV] END max_depth=10, min_samples_leaf=40, min_samples_split=150, n_estimators=150; total time=   5.8s\n",
            "[CV] END max_depth=10, min_samples_leaf=40, min_samples_split=150, n_estimators=150; total time=   6.2s\n",
            "[CV] END max_depth=10, min_samples_leaf=40, min_samples_split=150, n_estimators=150; total time=   6.7s\n",
            "[CV] END max_depth=10, min_samples_leaf=40, min_samples_split=150, n_estimators=200; total time=   8.8s\n",
            "[CV] END max_depth=10, min_samples_leaf=40, min_samples_split=150, n_estimators=200; total time=   7.8s\n",
            "[CV] END max_depth=10, min_samples_leaf=40, min_samples_split=150, n_estimators=200; total time=   7.9s\n",
            "[CV] END max_depth=10, min_samples_leaf=40, min_samples_split=150, n_estimators=200; total time=   8.1s\n",
            "[CV] END max_depth=10, min_samples_leaf=40, min_samples_split=150, n_estimators=200; total time=   7.9s\n",
            "[CV] END max_depth=10, min_samples_leaf=50, min_samples_split=50, n_estimators=100; total time=   4.1s\n",
            "[CV] END max_depth=10, min_samples_leaf=50, min_samples_split=50, n_estimators=100; total time=   4.0s\n",
            "[CV] END max_depth=10, min_samples_leaf=50, min_samples_split=50, n_estimators=100; total time=   4.1s\n",
            "[CV] END max_depth=10, min_samples_leaf=50, min_samples_split=50, n_estimators=100; total time=   3.9s\n",
            "[CV] END max_depth=10, min_samples_leaf=50, min_samples_split=50, n_estimators=100; total time=   3.9s\n",
            "[CV] END max_depth=10, min_samples_leaf=50, min_samples_split=50, n_estimators=150; total time=   5.9s\n",
            "[CV] END max_depth=10, min_samples_leaf=50, min_samples_split=50, n_estimators=150; total time=   5.9s\n",
            "[CV] END max_depth=10, min_samples_leaf=50, min_samples_split=50, n_estimators=150; total time=   6.1s\n",
            "[CV] END max_depth=10, min_samples_leaf=50, min_samples_split=50, n_estimators=150; total time=   5.9s\n",
            "[CV] END max_depth=10, min_samples_leaf=50, min_samples_split=50, n_estimators=150; total time=   6.1s\n",
            "[CV] END max_depth=10, min_samples_leaf=50, min_samples_split=50, n_estimators=200; total time=   8.1s\n",
            "[CV] END max_depth=10, min_samples_leaf=50, min_samples_split=50, n_estimators=200; total time=   8.0s\n",
            "[CV] END max_depth=10, min_samples_leaf=50, min_samples_split=50, n_estimators=200; total time=   8.1s\n",
            "[CV] END max_depth=10, min_samples_leaf=50, min_samples_split=50, n_estimators=200; total time=   8.2s\n",
            "[CV] END max_depth=10, min_samples_leaf=50, min_samples_split=50, n_estimators=200; total time=   8.3s\n",
            "[CV] END max_depth=10, min_samples_leaf=50, min_samples_split=100, n_estimators=100; total time=   4.1s\n",
            "[CV] END max_depth=10, min_samples_leaf=50, min_samples_split=100, n_estimators=100; total time=   4.1s\n",
            "[CV] END max_depth=10, min_samples_leaf=50, min_samples_split=100, n_estimators=100; total time=   4.1s\n",
            "[CV] END max_depth=10, min_samples_leaf=50, min_samples_split=100, n_estimators=100; total time=   4.1s\n",
            "[CV] END max_depth=10, min_samples_leaf=50, min_samples_split=100, n_estimators=100; total time=   4.2s\n",
            "[CV] END max_depth=10, min_samples_leaf=50, min_samples_split=100, n_estimators=150; total time=   7.2s\n",
            "[CV] END max_depth=10, min_samples_leaf=50, min_samples_split=100, n_estimators=150; total time=   6.3s\n",
            "[CV] END max_depth=10, min_samples_leaf=50, min_samples_split=100, n_estimators=150; total time=   6.0s\n",
            "[CV] END max_depth=10, min_samples_leaf=50, min_samples_split=100, n_estimators=150; total time=   6.3s\n",
            "[CV] END max_depth=10, min_samples_leaf=50, min_samples_split=100, n_estimators=150; total time=   6.0s\n",
            "[CV] END max_depth=10, min_samples_leaf=50, min_samples_split=100, n_estimators=200; total time=   8.1s\n",
            "[CV] END max_depth=10, min_samples_leaf=50, min_samples_split=100, n_estimators=200; total time=   8.1s\n",
            "[CV] END max_depth=10, min_samples_leaf=50, min_samples_split=100, n_estimators=200; total time=   7.6s\n",
            "[CV] END max_depth=10, min_samples_leaf=50, min_samples_split=100, n_estimators=200; total time=   7.6s\n",
            "[CV] END max_depth=10, min_samples_leaf=50, min_samples_split=100, n_estimators=200; total time=   7.6s\n",
            "[CV] END max_depth=10, min_samples_leaf=50, min_samples_split=150, n_estimators=100; total time=   3.8s\n",
            "[CV] END max_depth=10, min_samples_leaf=50, min_samples_split=150, n_estimators=100; total time=   3.7s\n",
            "[CV] END max_depth=10, min_samples_leaf=50, min_samples_split=150, n_estimators=100; total time=   3.8s\n",
            "[CV] END max_depth=10, min_samples_leaf=50, min_samples_split=150, n_estimators=100; total time=   3.8s\n",
            "[CV] END max_depth=10, min_samples_leaf=50, min_samples_split=150, n_estimators=100; total time=   3.9s\n",
            "[CV] END max_depth=10, min_samples_leaf=50, min_samples_split=150, n_estimators=150; total time=   5.6s\n",
            "[CV] END max_depth=10, min_samples_leaf=50, min_samples_split=150, n_estimators=150; total time=   5.6s\n",
            "[CV] END max_depth=10, min_samples_leaf=50, min_samples_split=150, n_estimators=150; total time=   5.8s\n",
            "[CV] END max_depth=10, min_samples_leaf=50, min_samples_split=150, n_estimators=150; total time=   5.6s\n",
            "[CV] END max_depth=10, min_samples_leaf=50, min_samples_split=150, n_estimators=150; total time=   5.5s\n",
            "[CV] END max_depth=10, min_samples_leaf=50, min_samples_split=150, n_estimators=200; total time=   7.4s\n",
            "[CV] END max_depth=10, min_samples_leaf=50, min_samples_split=150, n_estimators=200; total time=   7.5s\n",
            "[CV] END max_depth=10, min_samples_leaf=50, min_samples_split=150, n_estimators=200; total time=   7.5s\n",
            "[CV] END max_depth=10, min_samples_leaf=50, min_samples_split=150, n_estimators=200; total time=   7.4s\n",
            "[CV] END max_depth=10, min_samples_leaf=50, min_samples_split=150, n_estimators=200; total time=   8.2s\n",
            "[CV] END max_depth=20, min_samples_leaf=40, min_samples_split=50, n_estimators=100; total time=   4.9s\n",
            "[CV] END max_depth=20, min_samples_leaf=40, min_samples_split=50, n_estimators=100; total time=   4.2s\n",
            "[CV] END max_depth=20, min_samples_leaf=40, min_samples_split=50, n_estimators=100; total time=   4.2s\n",
            "[CV] END max_depth=20, min_samples_leaf=40, min_samples_split=50, n_estimators=100; total time=   4.2s\n",
            "[CV] END max_depth=20, min_samples_leaf=40, min_samples_split=50, n_estimators=100; total time=   4.2s\n",
            "[CV] END max_depth=20, min_samples_leaf=40, min_samples_split=50, n_estimators=150; total time=   6.4s\n",
            "[CV] END max_depth=20, min_samples_leaf=40, min_samples_split=50, n_estimators=150; total time=   6.4s\n",
            "[CV] END max_depth=20, min_samples_leaf=40, min_samples_split=50, n_estimators=150; total time=   6.5s\n",
            "[CV] END max_depth=20, min_samples_leaf=40, min_samples_split=50, n_estimators=150; total time=   6.4s\n",
            "[CV] END max_depth=20, min_samples_leaf=40, min_samples_split=50, n_estimators=150; total time=   6.5s\n",
            "[CV] END max_depth=20, min_samples_leaf=40, min_samples_split=50, n_estimators=200; total time=   8.4s\n",
            "[CV] END max_depth=20, min_samples_leaf=40, min_samples_split=50, n_estimators=200; total time=   8.3s\n",
            "[CV] END max_depth=20, min_samples_leaf=40, min_samples_split=50, n_estimators=200; total time=   8.2s\n",
            "[CV] END max_depth=20, min_samples_leaf=40, min_samples_split=50, n_estimators=200; total time=   8.4s\n",
            "[CV] END max_depth=20, min_samples_leaf=40, min_samples_split=50, n_estimators=200; total time=   8.3s\n",
            "[CV] END max_depth=20, min_samples_leaf=40, min_samples_split=100, n_estimators=100; total time=   4.2s\n",
            "[CV] END max_depth=20, min_samples_leaf=40, min_samples_split=100, n_estimators=100; total time=   4.1s\n",
            "[CV] END max_depth=20, min_samples_leaf=40, min_samples_split=100, n_estimators=100; total time=   4.2s\n",
            "[CV] END max_depth=20, min_samples_leaf=40, min_samples_split=100, n_estimators=100; total time=   4.3s\n",
            "[CV] END max_depth=20, min_samples_leaf=40, min_samples_split=100, n_estimators=100; total time=   4.3s\n",
            "[CV] END max_depth=20, min_samples_leaf=40, min_samples_split=100, n_estimators=150; total time=   6.4s\n",
            "[CV] END max_depth=20, min_samples_leaf=40, min_samples_split=100, n_estimators=150; total time=   6.3s\n",
            "[CV] END max_depth=20, min_samples_leaf=40, min_samples_split=100, n_estimators=150; total time=   6.3s\n",
            "[CV] END max_depth=20, min_samples_leaf=40, min_samples_split=100, n_estimators=150; total time=   6.2s\n",
            "[CV] END max_depth=20, min_samples_leaf=40, min_samples_split=100, n_estimators=150; total time=   6.3s\n",
            "[CV] END max_depth=20, min_samples_leaf=40, min_samples_split=100, n_estimators=200; total time=   8.3s\n",
            "[CV] END max_depth=20, min_samples_leaf=40, min_samples_split=100, n_estimators=200; total time=   9.7s\n",
            "[CV] END max_depth=20, min_samples_leaf=40, min_samples_split=100, n_estimators=200; total time=   8.2s\n",
            "[CV] END max_depth=20, min_samples_leaf=40, min_samples_split=100, n_estimators=200; total time=   8.3s\n",
            "[CV] END max_depth=20, min_samples_leaf=40, min_samples_split=100, n_estimators=200; total time=   8.5s\n",
            "[CV] END max_depth=20, min_samples_leaf=40, min_samples_split=150, n_estimators=100; total time=   4.2s\n",
            "[CV] END max_depth=20, min_samples_leaf=40, min_samples_split=150, n_estimators=100; total time=   4.1s\n",
            "[CV] END max_depth=20, min_samples_leaf=40, min_samples_split=150, n_estimators=100; total time=   4.1s\n",
            "[CV] END max_depth=20, min_samples_leaf=40, min_samples_split=150, n_estimators=100; total time=   4.1s\n",
            "[CV] END max_depth=20, min_samples_leaf=40, min_samples_split=150, n_estimators=100; total time=   4.1s\n",
            "[CV] END max_depth=20, min_samples_leaf=40, min_samples_split=150, n_estimators=150; total time=   6.1s\n",
            "[CV] END max_depth=20, min_samples_leaf=40, min_samples_split=150, n_estimators=150; total time=   6.2s\n",
            "[CV] END max_depth=20, min_samples_leaf=40, min_samples_split=150, n_estimators=150; total time=   6.0s\n",
            "[CV] END max_depth=20, min_samples_leaf=40, min_samples_split=150, n_estimators=150; total time=   6.2s\n",
            "[CV] END max_depth=20, min_samples_leaf=40, min_samples_split=150, n_estimators=150; total time=   6.2s\n",
            "[CV] END max_depth=20, min_samples_leaf=40, min_samples_split=150, n_estimators=200; total time=   8.1s\n",
            "[CV] END max_depth=20, min_samples_leaf=40, min_samples_split=150, n_estimators=200; total time=   8.1s\n",
            "[CV] END max_depth=20, min_samples_leaf=40, min_samples_split=150, n_estimators=200; total time=   8.0s\n",
            "[CV] END max_depth=20, min_samples_leaf=40, min_samples_split=150, n_estimators=200; total time=   8.1s\n",
            "[CV] END max_depth=20, min_samples_leaf=40, min_samples_split=150, n_estimators=200; total time=   9.0s\n",
            "[CV] END max_depth=20, min_samples_leaf=50, min_samples_split=50, n_estimators=100; total time=   4.5s\n",
            "[CV] END max_depth=20, min_samples_leaf=50, min_samples_split=50, n_estimators=100; total time=   4.2s\n",
            "[CV] END max_depth=20, min_samples_leaf=50, min_samples_split=50, n_estimators=100; total time=   4.2s\n",
            "[CV] END max_depth=20, min_samples_leaf=50, min_samples_split=50, n_estimators=100; total time=   4.1s\n",
            "[CV] END max_depth=20, min_samples_leaf=50, min_samples_split=50, n_estimators=100; total time=   4.3s\n",
            "[CV] END max_depth=20, min_samples_leaf=50, min_samples_split=50, n_estimators=150; total time=   6.2s\n",
            "[CV] END max_depth=20, min_samples_leaf=50, min_samples_split=50, n_estimators=150; total time=   6.1s\n",
            "[CV] END max_depth=20, min_samples_leaf=50, min_samples_split=50, n_estimators=150; total time=   6.7s\n",
            "[CV] END max_depth=20, min_samples_leaf=50, min_samples_split=50, n_estimators=150; total time=   6.8s\n",
            "[CV] END max_depth=20, min_samples_leaf=50, min_samples_split=50, n_estimators=150; total time=   6.4s\n",
            "[CV] END max_depth=20, min_samples_leaf=50, min_samples_split=50, n_estimators=200; total time=   8.3s\n",
            "[CV] END max_depth=20, min_samples_leaf=50, min_samples_split=50, n_estimators=200; total time=   8.1s\n",
            "[CV] END max_depth=20, min_samples_leaf=50, min_samples_split=50, n_estimators=200; total time=   8.3s\n",
            "[CV] END max_depth=20, min_samples_leaf=50, min_samples_split=50, n_estimators=200; total time=   8.1s\n",
            "[CV] END max_depth=20, min_samples_leaf=50, min_samples_split=50, n_estimators=200; total time=   8.2s\n",
            "[CV] END max_depth=20, min_samples_leaf=50, min_samples_split=100, n_estimators=100; total time=   4.0s\n",
            "[CV] END max_depth=20, min_samples_leaf=50, min_samples_split=100, n_estimators=100; total time=   4.1s\n",
            "[CV] END max_depth=20, min_samples_leaf=50, min_samples_split=100, n_estimators=100; total time=   4.0s\n",
            "[CV] END max_depth=20, min_samples_leaf=50, min_samples_split=100, n_estimators=100; total time=   4.1s\n",
            "[CV] END max_depth=20, min_samples_leaf=50, min_samples_split=100, n_estimators=100; total time=   4.2s\n",
            "[CV] END max_depth=20, min_samples_leaf=50, min_samples_split=100, n_estimators=150; total time=   6.1s\n",
            "[CV] END max_depth=20, min_samples_leaf=50, min_samples_split=100, n_estimators=150; total time=   6.2s\n",
            "[CV] END max_depth=20, min_samples_leaf=50, min_samples_split=100, n_estimators=150; total time=   6.2s\n",
            "[CV] END max_depth=20, min_samples_leaf=50, min_samples_split=100, n_estimators=150; total time=   6.1s\n",
            "[CV] END max_depth=20, min_samples_leaf=50, min_samples_split=100, n_estimators=150; total time=   6.2s\n",
            "[CV] END max_depth=20, min_samples_leaf=50, min_samples_split=100, n_estimators=200; total time=   8.1s\n",
            "[CV] END max_depth=20, min_samples_leaf=50, min_samples_split=100, n_estimators=200; total time=   8.0s\n",
            "[CV] END max_depth=20, min_samples_leaf=50, min_samples_split=100, n_estimators=200; total time=   8.1s\n",
            "[CV] END max_depth=20, min_samples_leaf=50, min_samples_split=100, n_estimators=200; total time=   8.4s\n",
            "[CV] END max_depth=20, min_samples_leaf=50, min_samples_split=100, n_estimators=200; total time=   8.0s\n",
            "[CV] END max_depth=20, min_samples_leaf=50, min_samples_split=150, n_estimators=100; total time=   4.1s\n",
            "[CV] END max_depth=20, min_samples_leaf=50, min_samples_split=150, n_estimators=100; total time=   4.8s\n",
            "[CV] END max_depth=20, min_samples_leaf=50, min_samples_split=150, n_estimators=100; total time=   4.4s\n",
            "[CV] END max_depth=20, min_samples_leaf=50, min_samples_split=150, n_estimators=100; total time=   4.1s\n",
            "[CV] END max_depth=20, min_samples_leaf=50, min_samples_split=150, n_estimators=100; total time=   4.1s\n",
            "[CV] END max_depth=20, min_samples_leaf=50, min_samples_split=150, n_estimators=150; total time=   6.0s\n",
            "[CV] END max_depth=20, min_samples_leaf=50, min_samples_split=150, n_estimators=150; total time=   6.0s\n",
            "[CV] END max_depth=20, min_samples_leaf=50, min_samples_split=150, n_estimators=150; total time=   6.1s\n",
            "[CV] END max_depth=20, min_samples_leaf=50, min_samples_split=150, n_estimators=150; total time=   6.1s\n",
            "[CV] END max_depth=20, min_samples_leaf=50, min_samples_split=150, n_estimators=150; total time=   6.1s\n",
            "[CV] END max_depth=20, min_samples_leaf=50, min_samples_split=150, n_estimators=200; total time=   7.8s\n",
            "[CV] END max_depth=20, min_samples_leaf=50, min_samples_split=150, n_estimators=200; total time=   8.1s\n",
            "[CV] END max_depth=20, min_samples_leaf=50, min_samples_split=150, n_estimators=200; total time=   7.9s\n",
            "[CV] END max_depth=20, min_samples_leaf=50, min_samples_split=150, n_estimators=200; total time=   8.0s\n",
            "[CV] END max_depth=20, min_samples_leaf=50, min_samples_split=150, n_estimators=200; total time=   8.0s\n",
            "[CV] END max_depth=30, min_samples_leaf=40, min_samples_split=50, n_estimators=100; total time=   4.3s\n",
            "[CV] END max_depth=30, min_samples_leaf=40, min_samples_split=50, n_estimators=100; total time=   4.2s\n",
            "[CV] END max_depth=30, min_samples_leaf=40, min_samples_split=50, n_estimators=100; total time=   4.2s\n",
            "[CV] END max_depth=30, min_samples_leaf=40, min_samples_split=50, n_estimators=100; total time=   4.2s\n",
            "[CV] END max_depth=30, min_samples_leaf=40, min_samples_split=50, n_estimators=100; total time=   4.2s\n",
            "[CV] END max_depth=30, min_samples_leaf=40, min_samples_split=50, n_estimators=150; total time=   6.3s\n",
            "[CV] END max_depth=30, min_samples_leaf=40, min_samples_split=50, n_estimators=150; total time=   6.4s\n",
            "[CV] END max_depth=30, min_samples_leaf=40, min_samples_split=50, n_estimators=150; total time=   6.3s\n",
            "[CV] END max_depth=30, min_samples_leaf=40, min_samples_split=50, n_estimators=150; total time=   6.4s\n",
            "[CV] END max_depth=30, min_samples_leaf=40, min_samples_split=50, n_estimators=150; total time=   6.4s\n",
            "[CV] END max_depth=30, min_samples_leaf=40, min_samples_split=50, n_estimators=200; total time=   8.5s\n",
            "[CV] END max_depth=30, min_samples_leaf=40, min_samples_split=50, n_estimators=200; total time=   8.9s\n",
            "[CV] END max_depth=30, min_samples_leaf=40, min_samples_split=50, n_estimators=200; total time=   9.4s\n",
            "[CV] END max_depth=30, min_samples_leaf=40, min_samples_split=50, n_estimators=200; total time=   8.3s\n",
            "[CV] END max_depth=30, min_samples_leaf=40, min_samples_split=50, n_estimators=200; total time=   8.6s\n",
            "[CV] END max_depth=30, min_samples_leaf=40, min_samples_split=100, n_estimators=100; total time=   4.2s\n",
            "[CV] END max_depth=30, min_samples_leaf=40, min_samples_split=100, n_estimators=100; total time=   4.3s\n",
            "[CV] END max_depth=30, min_samples_leaf=40, min_samples_split=100, n_estimators=100; total time=   4.2s\n",
            "[CV] END max_depth=30, min_samples_leaf=40, min_samples_split=100, n_estimators=100; total time=   4.2s\n",
            "[CV] END max_depth=30, min_samples_leaf=40, min_samples_split=100, n_estimators=100; total time=   4.1s\n",
            "[CV] END max_depth=30, min_samples_leaf=40, min_samples_split=100, n_estimators=150; total time=   6.3s\n",
            "[CV] END max_depth=30, min_samples_leaf=40, min_samples_split=100, n_estimators=150; total time=   6.1s\n",
            "[CV] END max_depth=30, min_samples_leaf=40, min_samples_split=100, n_estimators=150; total time=   6.3s\n",
            "[CV] END max_depth=30, min_samples_leaf=40, min_samples_split=100, n_estimators=150; total time=   6.2s\n",
            "[CV] END max_depth=30, min_samples_leaf=40, min_samples_split=100, n_estimators=150; total time=   6.2s\n",
            "[CV] END max_depth=30, min_samples_leaf=40, min_samples_split=100, n_estimators=200; total time=   8.4s\n",
            "[CV] END max_depth=30, min_samples_leaf=40, min_samples_split=100, n_estimators=200; total time=   8.3s\n",
            "[CV] END max_depth=30, min_samples_leaf=40, min_samples_split=100, n_estimators=200; total time=   8.5s\n",
            "[CV] END max_depth=30, min_samples_leaf=40, min_samples_split=100, n_estimators=200; total time=   8.6s\n",
            "[CV] END max_depth=30, min_samples_leaf=40, min_samples_split=100, n_estimators=200; total time=   8.4s\n",
            "[CV] END max_depth=30, min_samples_leaf=40, min_samples_split=150, n_estimators=100; total time=   4.1s\n",
            "[CV] END max_depth=30, min_samples_leaf=40, min_samples_split=150, n_estimators=100; total time=   4.2s\n",
            "[CV] END max_depth=30, min_samples_leaf=40, min_samples_split=150, n_estimators=100; total time=   4.1s\n",
            "[CV] END max_depth=30, min_samples_leaf=40, min_samples_split=150, n_estimators=100; total time=   4.2s\n",
            "[CV] END max_depth=30, min_samples_leaf=40, min_samples_split=150, n_estimators=100; total time=   4.0s\n",
            "[CV] END max_depth=30, min_samples_leaf=40, min_samples_split=150, n_estimators=150; total time=   6.1s\n",
            "[CV] END max_depth=30, min_samples_leaf=40, min_samples_split=150, n_estimators=150; total time=   6.4s\n",
            "[CV] END max_depth=30, min_samples_leaf=40, min_samples_split=150, n_estimators=150; total time=   7.2s\n",
            "[CV] END max_depth=30, min_samples_leaf=40, min_samples_split=150, n_estimators=150; total time=   6.2s\n",
            "[CV] END max_depth=30, min_samples_leaf=40, min_samples_split=150, n_estimators=150; total time=   6.1s\n",
            "[CV] END max_depth=30, min_samples_leaf=40, min_samples_split=150, n_estimators=200; total time=   8.1s\n",
            "[CV] END max_depth=30, min_samples_leaf=40, min_samples_split=150, n_estimators=200; total time=   8.2s\n",
            "[CV] END max_depth=30, min_samples_leaf=40, min_samples_split=150, n_estimators=200; total time=   8.1s\n",
            "[CV] END max_depth=30, min_samples_leaf=40, min_samples_split=150, n_estimators=200; total time=   8.1s\n",
            "[CV] END max_depth=30, min_samples_leaf=40, min_samples_split=150, n_estimators=200; total time=   8.1s\n",
            "[CV] END max_depth=30, min_samples_leaf=50, min_samples_split=50, n_estimators=100; total time=   4.3s\n",
            "[CV] END max_depth=30, min_samples_leaf=50, min_samples_split=50, n_estimators=100; total time=   4.0s\n",
            "[CV] END max_depth=30, min_samples_leaf=50, min_samples_split=50, n_estimators=100; total time=   4.0s\n",
            "[CV] END max_depth=30, min_samples_leaf=50, min_samples_split=50, n_estimators=100; total time=   4.0s\n",
            "[CV] END max_depth=30, min_samples_leaf=50, min_samples_split=50, n_estimators=100; total time=   4.2s\n",
            "[CV] END max_depth=30, min_samples_leaf=50, min_samples_split=50, n_estimators=150; total time=   6.1s\n",
            "[CV] END max_depth=30, min_samples_leaf=50, min_samples_split=50, n_estimators=150; total time=   6.1s\n",
            "[CV] END max_depth=30, min_samples_leaf=50, min_samples_split=50, n_estimators=150; total time=   6.3s\n",
            "[CV] END max_depth=30, min_samples_leaf=50, min_samples_split=50, n_estimators=150; total time=   6.1s\n",
            "[CV] END max_depth=30, min_samples_leaf=50, min_samples_split=50, n_estimators=150; total time=   6.2s\n",
            "[CV] END max_depth=30, min_samples_leaf=50, min_samples_split=50, n_estimators=200; total time=   8.2s\n",
            "[CV] END max_depth=30, min_samples_leaf=50, min_samples_split=50, n_estimators=200; total time=   8.2s\n",
            "[CV] END max_depth=30, min_samples_leaf=50, min_samples_split=50, n_estimators=200; total time=   8.1s\n",
            "[CV] END max_depth=30, min_samples_leaf=50, min_samples_split=50, n_estimators=200; total time=   8.3s\n",
            "[CV] END max_depth=30, min_samples_leaf=50, min_samples_split=50, n_estimators=200; total time=   8.1s\n",
            "[CV] END max_depth=30, min_samples_leaf=50, min_samples_split=100, n_estimators=100; total time=   5.4s\n",
            "[CV] END max_depth=30, min_samples_leaf=50, min_samples_split=100, n_estimators=100; total time=   4.1s\n",
            "[CV] END max_depth=30, min_samples_leaf=50, min_samples_split=100, n_estimators=100; total time=   4.2s\n",
            "[CV] END max_depth=30, min_samples_leaf=50, min_samples_split=100, n_estimators=100; total time=   4.1s\n",
            "[CV] END max_depth=30, min_samples_leaf=50, min_samples_split=100, n_estimators=100; total time=   4.1s\n",
            "[CV] END max_depth=30, min_samples_leaf=50, min_samples_split=100, n_estimators=150; total time=   6.1s\n",
            "[CV] END max_depth=30, min_samples_leaf=50, min_samples_split=100, n_estimators=150; total time=   6.2s\n",
            "[CV] END max_depth=30, min_samples_leaf=50, min_samples_split=100, n_estimators=150; total time=   6.1s\n",
            "[CV] END max_depth=30, min_samples_leaf=50, min_samples_split=100, n_estimators=150; total time=   6.0s\n",
            "[CV] END max_depth=30, min_samples_leaf=50, min_samples_split=100, n_estimators=150; total time=   6.0s\n",
            "[CV] END max_depth=30, min_samples_leaf=50, min_samples_split=100, n_estimators=200; total time=   8.2s\n",
            "[CV] END max_depth=30, min_samples_leaf=50, min_samples_split=100, n_estimators=200; total time=   8.2s\n",
            "[CV] END max_depth=30, min_samples_leaf=50, min_samples_split=100, n_estimators=200; total time=   8.1s\n",
            "[CV] END max_depth=30, min_samples_leaf=50, min_samples_split=100, n_estimators=200; total time=   8.3s\n",
            "[CV] END max_depth=30, min_samples_leaf=50, min_samples_split=100, n_estimators=200; total time=   8.2s\n",
            "[CV] END max_depth=30, min_samples_leaf=50, min_samples_split=150, n_estimators=100; total time=   4.0s\n",
            "[CV] END max_depth=30, min_samples_leaf=50, min_samples_split=150, n_estimators=100; total time=   4.0s\n",
            "[CV] END max_depth=30, min_samples_leaf=50, min_samples_split=150, n_estimators=100; total time=   4.0s\n",
            "[CV] END max_depth=30, min_samples_leaf=50, min_samples_split=150, n_estimators=100; total time=   4.0s\n",
            "[CV] END max_depth=30, min_samples_leaf=50, min_samples_split=150, n_estimators=100; total time=   3.9s\n",
            "[CV] END max_depth=30, min_samples_leaf=50, min_samples_split=150, n_estimators=150; total time=   6.1s\n",
            "[CV] END max_depth=30, min_samples_leaf=50, min_samples_split=150, n_estimators=150; total time=   6.1s\n",
            "[CV] END max_depth=30, min_samples_leaf=50, min_samples_split=150, n_estimators=150; total time=   5.9s\n",
            "[CV] END max_depth=30, min_samples_leaf=50, min_samples_split=150, n_estimators=150; total time=   6.0s\n",
            "[CV] END max_depth=30, min_samples_leaf=50, min_samples_split=150, n_estimators=150; total time=   5.8s\n",
            "[CV] END max_depth=30, min_samples_leaf=50, min_samples_split=150, n_estimators=200; total time=   8.0s\n",
            "[CV] END max_depth=30, min_samples_leaf=50, min_samples_split=150, n_estimators=200; total time=   9.2s\n",
            "[CV] END max_depth=30, min_samples_leaf=50, min_samples_split=150, n_estimators=200; total time=   7.9s\n",
            "[CV] END max_depth=30, min_samples_leaf=50, min_samples_split=150, n_estimators=200; total time=   7.9s\n",
            "[CV] END max_depth=30, min_samples_leaf=50, min_samples_split=150, n_estimators=200; total time=   8.1s\n"
          ]
        },
        {
          "output_type": "execute_result",
          "data": {
            "text/plain": [
              "GridSearchCV(cv=5, estimator=RandomForestClassifier(),\n",
              "             param_grid={'max_depth': [10, 20, 30],\n",
              "                         'min_samples_leaf': [40, 50],\n",
              "                         'min_samples_split': [50, 100, 150],\n",
              "                         'n_estimators': [100, 150, 200]},\n",
              "             scoring='roc_auc', verbose=2)"
            ]
          },
          "metadata": {},
          "execution_count": 123
        }
      ],
      "source": [
        "# Create an instance of the RandomForestClassifier\n",
        "rfc = RandomForestClassifier()\n",
        "\n",
        "# Grid search\n",
        "rfc_grid = GridSearchCV(estimator=rfc,\n",
        "                       param_grid = param_dict,\n",
        "                       cv = 5, verbose=2, scoring='roc_auc')\n",
        "# fitting model\n",
        "rfc_grid.fit(X_train,y_train)"
      ]
    },
    {
      "cell_type": "code",
      "execution_count": 124,
      "metadata": {
        "colab": {
          "base_uri": "https://localhost:8080/"
        },
        "id": "tfcQ7wTpJf1t",
        "outputId": "788d6b0c-0988-47d2-8b3a-5b598085b1e4"
      },
      "outputs": [
        {
          "output_type": "execute_result",
          "data": {
            "text/plain": [
              "RandomForestClassifier(max_depth=30, min_samples_leaf=40, min_samples_split=50,\n",
              "                       n_estimators=200)"
            ]
          },
          "metadata": {},
          "execution_count": 124
        }
      ],
      "source": [
        "rfc_grid.best_estimator_"
      ]
    },
    {
      "cell_type": "code",
      "execution_count": 125,
      "metadata": {
        "colab": {
          "base_uri": "https://localhost:8080/"
        },
        "id": "DYOUV0r_Jlo3",
        "outputId": "14d1a8e5-1229-471c-872a-14ffdff18b69"
      },
      "outputs": [
        {
          "output_type": "execute_result",
          "data": {
            "text/plain": [
              "{'max_depth': 30,\n",
              " 'min_samples_leaf': 40,\n",
              " 'min_samples_split': 50,\n",
              " 'n_estimators': 200}"
            ]
          },
          "metadata": {},
          "execution_count": 125
        }
      ],
      "source": [
        "rfc_grid.best_params_"
      ]
    },
    {
      "cell_type": "code",
      "execution_count": 126,
      "metadata": {
        "id": "fEz3MdncJfyw"
      },
      "outputs": [],
      "source": [
        "rfc_optimal_model = rfc_grid.best_estimator_"
      ]
    },
    {
      "cell_type": "code",
      "execution_count": 127,
      "metadata": {
        "id": "cF2r3W_zJfvr"
      },
      "outputs": [],
      "source": [
        "#class prediction of y on train and test\n",
        "y_pred_rfc_grid=rfc_optimal_model.predict(X_test)\n",
        "y_train_pred_rfc_grid=rfc_optimal_model.predict(X_train)\n",
        "\n",
        "# Get the probabilities on train and test\n",
        "y_pred_prob_rfc_grid = rfc_optimal_model.predict_proba(X_train)[:,1]\n",
        "y_train_pred_prob_rfc_grid = rfc_optimal_model.predict_proba(X_test)[:,1]"
      ]
    },
    {
      "cell_type": "code",
      "execution_count": 128,
      "metadata": {
        "colab": {
          "base_uri": "https://localhost:8080/"
        },
        "id": "pAoDDAhyJfsw",
        "outputId": "578d320f-51e1-42ac-cb21-356b7315192a"
      },
      "outputs": [
        {
          "output_type": "stream",
          "name": "stdout",
          "text": [
            "The accuracy on train data is  0.842\n",
            "The accuracy on test data is  0.833\n",
            "The precision on test data is  0.797\n",
            "The recall on test data is  0.858\n",
            "The f1 on test data is  0.827\n",
            "The auc on test data is  0.834\n"
          ]
        }
      ],
      "source": [
        "#getting all scores for Random Forest Classifier after CV and Hyperparameter Tunning\n",
        "train_accuracy_rfc_grid = round(accuracy_score(y_train_pred_rfc_grid,y_train), 3)\n",
        "accuracy_rfc_grid = round(accuracy_score(y_pred_rfc_grid,y_test), 3)\n",
        "precision_score_rfc_grid = round(precision_score(y_pred_rfc_grid,y_test), 3)\n",
        "recall_score_rfc_grid = round(recall_score(y_pred_rfc_grid,y_test), 3)\n",
        "f1_score_rfc_grid = round(f1_score(y_pred_rfc_grid,y_test), 3)\n",
        "auc_rfc_grid = round(roc_auc_score(y_pred_rfc_grid,y_test), 3)\n",
        "\n",
        "print(\"The accuracy on train data is \", train_accuracy_rfc_grid)\n",
        "print(\"The accuracy on test data is \", accuracy_rfc_grid)\n",
        "print(\"The precision on test data is \", precision_score_rfc_grid)\n",
        "print(\"The recall on test data is \", recall_score_rfc_grid)\n",
        "print(\"The f1 on test data is \", f1_score_rfc_grid)\n",
        "print(\"The auc on test data is \", auc_rfc_grid)"
      ]
    },
    {
      "cell_type": "code",
      "execution_count": 129,
      "metadata": {
        "id": "tlQ3NPZ0Jfpu"
      },
      "outputs": [],
      "source": [
        "# Get the confusion matrices for train and test\n",
        "train_cm_rfc_grid = confusion_matrix(y_train,y_train_pred_rfc_grid)\n",
        "test_cm_rfc_grid = confusion_matrix(y_test,y_pred_rfc_grid )"
      ]
    },
    {
      "cell_type": "code",
      "execution_count": 130,
      "metadata": {
        "colab": {
          "base_uri": "https://localhost:8080/"
        },
        "id": "8j5zEzqb6E0c",
        "outputId": "1edc1073-8a5b-4bad-9b39-d547a2921485"
      },
      "outputs": [
        {
          "output_type": "execute_result",
          "data": {
            "text/plain": [
              "array([[16550,  2141],\n",
              "       [ 3759, 14932]])"
            ]
          },
          "metadata": {},
          "execution_count": 130
        }
      ],
      "source": [
        "train_cm_rfc_grid"
      ]
    },
    {
      "cell_type": "code",
      "execution_count": 131,
      "metadata": {
        "colab": {
          "base_uri": "https://localhost:8080/"
        },
        "id": "WIiDJagg6F7V",
        "outputId": "2b3073be-ae4a-42ea-8d4d-a0121659aa5b"
      },
      "outputs": [
        {
          "output_type": "execute_result",
          "data": {
            "text/plain": [
              "array([[4056,  617],\n",
              "       [ 947, 3726]])"
            ]
          },
          "metadata": {},
          "execution_count": 131
        }
      ],
      "source": [
        "test_cm_rfc_grid"
      ]
    },
    {
      "cell_type": "markdown",
      "metadata": {
        "id": "WYFTO_WbNhKg"
      },
      "source": [
        "## **Gradient Boosting**"
      ]
    },
    {
      "cell_type": "code",
      "execution_count": 132,
      "metadata": {
        "id": "fTt0ddvDeHe2"
      },
      "outputs": [],
      "source": [
        "# to shrinks the contribution of each tree by learning_rate\n",
        "learning_rates = [1, 0.5, 0.25, 0.1, 0.05, 0.01]\n",
        "\n",
        "# Number of trees\n",
        "n_estimators = [100,150,200]\n",
        "\n",
        "# Maximum depth of trees\n",
        "max_depth = [10,20,30]\n",
        "\n",
        "# Minimum number of samples required to split a node\n",
        "min_samples_split = [50,100,150]\n",
        "\n",
        "# Minimum number of samples required at each leaf node\n",
        "min_samples_leaf = [40,50]\n",
        "\n",
        "# Hyperparameter Grid\n",
        "param_dict = {'learning_rate': learning_rates,\n",
        "              'n_estimators' : n_estimators,\n",
        "              'max_depth' : max_depth,\n",
        "              'min_samples_split' : min_samples_split,\n",
        "              'min_samples_leaf' : min_samples_leaf}"
      ]
    },
    {
      "cell_type": "code",
      "execution_count": 133,
      "metadata": {
        "colab": {
          "base_uri": "https://localhost:8080/"
        },
        "id": "U8MSlw_0eHe3",
        "outputId": "45845e92-6ef0-4794-f112-edc839582b54"
      },
      "outputs": [
        {
          "output_type": "stream",
          "name": "stdout",
          "text": [
            "Fitting 2 folds for each of 10 candidates, totalling 20 fits\n",
            "[CV] END learning_rate=0.05, max_depth=10, min_samples_leaf=40, min_samples_split=100, n_estimators=200; total time=  56.6s\n",
            "[CV] END learning_rate=0.05, max_depth=10, min_samples_leaf=40, min_samples_split=100, n_estimators=200; total time=  56.0s\n",
            "[CV] END learning_rate=0.25, max_depth=10, min_samples_leaf=40, min_samples_split=100, n_estimators=200; total time=  59.0s\n",
            "[CV] END learning_rate=0.25, max_depth=10, min_samples_leaf=40, min_samples_split=100, n_estimators=200; total time=  58.0s\n",
            "[CV] END learning_rate=0.1, max_depth=20, min_samples_leaf=40, min_samples_split=50, n_estimators=100; total time=  41.9s\n",
            "[CV] END learning_rate=0.1, max_depth=20, min_samples_leaf=40, min_samples_split=50, n_estimators=100; total time=  42.1s\n",
            "[CV] END learning_rate=0.1, max_depth=20, min_samples_leaf=50, min_samples_split=50, n_estimators=200; total time= 1.4min\n",
            "[CV] END learning_rate=0.1, max_depth=20, min_samples_leaf=50, min_samples_split=50, n_estimators=200; total time= 1.5min\n",
            "[CV] END learning_rate=0.5, max_depth=20, min_samples_leaf=40, min_samples_split=100, n_estimators=100; total time=  46.1s\n",
            "[CV] END learning_rate=0.5, max_depth=20, min_samples_leaf=40, min_samples_split=100, n_estimators=100; total time=  45.0s\n",
            "[CV] END learning_rate=1, max_depth=20, min_samples_leaf=40, min_samples_split=50, n_estimators=100; total time=  47.5s\n",
            "[CV] END learning_rate=1, max_depth=20, min_samples_leaf=40, min_samples_split=50, n_estimators=100; total time=  47.4s\n",
            "[CV] END learning_rate=0.01, max_depth=30, min_samples_leaf=40, min_samples_split=150, n_estimators=100; total time=  31.1s\n",
            "[CV] END learning_rate=0.01, max_depth=30, min_samples_leaf=40, min_samples_split=150, n_estimators=100; total time=  30.3s\n",
            "[CV] END learning_rate=1, max_depth=30, min_samples_leaf=50, min_samples_split=150, n_estimators=200; total time= 2.1min\n",
            "[CV] END learning_rate=1, max_depth=30, min_samples_leaf=50, min_samples_split=150, n_estimators=200; total time= 2.0min\n",
            "[CV] END learning_rate=0.1, max_depth=30, min_samples_leaf=40, min_samples_split=50, n_estimators=100; total time=  47.8s\n",
            "[CV] END learning_rate=0.1, max_depth=30, min_samples_leaf=40, min_samples_split=50, n_estimators=100; total time=  49.1s\n",
            "[CV] END learning_rate=0.25, max_depth=10, min_samples_leaf=50, min_samples_split=150, n_estimators=100; total time=  28.6s\n",
            "[CV] END learning_rate=0.25, max_depth=10, min_samples_leaf=50, min_samples_split=150, n_estimators=100; total time=  28.4s\n"
          ]
        },
        {
          "output_type": "execute_result",
          "data": {
            "text/plain": [
              "RandomizedSearchCV(cv=2, estimator=GradientBoostingClassifier(random_state=42),\n",
              "                   param_distributions={'learning_rate': [1, 0.5, 0.25, 0.1,\n",
              "                                                          0.05, 0.01],\n",
              "                                        'max_depth': [10, 20, 30],\n",
              "                                        'min_samples_leaf': [40, 50],\n",
              "                                        'min_samples_split': [50, 100, 150],\n",
              "                                        'n_estimators': [100, 150, 200]},\n",
              "                   scoring='roc_auc', verbose=2)"
            ]
          },
          "metadata": {},
          "execution_count": 133
        }
      ],
      "source": [
        "# Create an instance of the RandomForestClassifier\n",
        "gbc = GradientBoostingClassifier(random_state=42)\n",
        "\n",
        "# Grid search\n",
        "gbc_grid = RandomizedSearchCV(estimator=gbc,\n",
        "                       param_distributions = param_dict,\n",
        "                       cv = 2, verbose=2, scoring='roc_auc')\n",
        "# fitting model\n",
        "gbc_grid.fit(X_train,y_train)"
      ]
    },
    {
      "cell_type": "code",
      "execution_count": 134,
      "metadata": {
        "colab": {
          "base_uri": "https://localhost:8080/"
        },
        "id": "DVRxGR_-eHe4",
        "outputId": "114b8c09-dfe5-40ca-805f-c7b2f85bf428"
      },
      "outputs": [
        {
          "data": {
            "text/plain": [
              "GradientBoostingClassifier(max_depth=30, min_samples_leaf=40,\n",
              "                           min_samples_split=50, random_state=42)"
            ]
          },
          "execution_count": 134,
          "metadata": {},
          "output_type": "execute_result"
        }
      ],
      "source": [
        "gbc_grid.best_estimator_"
      ]
    },
    {
      "cell_type": "code",
      "execution_count": 135,
      "metadata": {
        "colab": {
          "base_uri": "https://localhost:8080/"
        },
        "id": "JRSOAKnheHe4",
        "outputId": "2c4481b8-78a6-4ecd-e35e-6e02e290d6e3"
      },
      "outputs": [
        {
          "output_type": "execute_result",
          "data": {
            "text/plain": [
              "{'n_estimators': 100,\n",
              " 'min_samples_split': 50,\n",
              " 'min_samples_leaf': 40,\n",
              " 'max_depth': 30,\n",
              " 'learning_rate': 0.1}"
            ]
          },
          "metadata": {},
          "execution_count": 135
        }
      ],
      "source": [
        "gbc_grid.best_params_"
      ]
    },
    {
      "cell_type": "code",
      "execution_count": 136,
      "metadata": {
        "id": "NYUZ8Ot5eHe5"
      },
      "outputs": [],
      "source": [
        "gbc_optimal_model = gbc_grid.best_estimator_"
      ]
    },
    {
      "cell_type": "code",
      "execution_count": 137,
      "metadata": {
        "id": "OQohji0ceHe6"
      },
      "outputs": [],
      "source": [
        "#class prediction of y on train and test\n",
        "y_pred_gbc_grid=gbc_optimal_model.predict(X_test)\n",
        "y_train_pred_gbc_grid=gbc_optimal_model.predict(X_train)\n",
        "\n",
        "# Get the probabilities on train and test\n",
        "y_pred_prob_gbc_grid = gbc_optimal_model.predict_proba(X_train)[:,1]\n",
        "y_train_pred_prob_gbc_grid = gbc_optimal_model.predict_proba(X_test)[:,1]"
      ]
    },
    {
      "cell_type": "code",
      "execution_count": 138,
      "metadata": {
        "colab": {
          "base_uri": "https://localhost:8080/"
        },
        "id": "iWzKxUCJeHe6",
        "outputId": "f3d2ea17-ab25-4fca-bd00-91dfe4f8e0f6"
      },
      "outputs": [
        {
          "output_type": "stream",
          "name": "stdout",
          "text": [
            "The accuracy on train data is  0.995\n",
            "The accuracy on test data is  0.87\n",
            "The precision on test data is  0.835\n",
            "The recall on test data is  0.899\n",
            "The f1 on test data is  0.866\n",
            "The auc on test data is  0.872\n"
          ]
        }
      ],
      "source": [
        "#getting all scores for Gradient Boosting after CV and Hyperparameter Tunning\n",
        "train_accuracy_gbc_grid = round(accuracy_score(y_train_pred_gbc_grid,y_train), 3)\n",
        "accuracy_gbc_grid = round(accuracy_score(y_pred_gbc_grid,y_test), 3)\n",
        "precision_score_gbc_grid = round(precision_score(y_pred_gbc_grid,y_test), 3)\n",
        "recall_score_gbc_grid = round(recall_score(y_pred_gbc_grid,y_test), 3)\n",
        "f1_score_gbc_grid = round(f1_score(y_pred_gbc_grid,y_test), 3)\n",
        "auc_gbc_grid = round(roc_auc_score(y_pred_gbc_grid,y_test), 3)\n",
        "\n",
        "print(\"The accuracy on train data is \", train_accuracy_gbc_grid)\n",
        "print(\"The accuracy on test data is \", accuracy_gbc_grid)\n",
        "print(\"The precision on test data is \", precision_score_gbc_grid)\n",
        "print(\"The recall on test data is \", recall_score_gbc_grid)\n",
        "print(\"The f1 on test data is \", f1_score_gbc_grid)\n",
        "print(\"The auc on test data is \", auc_gbc_grid)"
      ]
    },
    {
      "cell_type": "code",
      "execution_count": 139,
      "metadata": {
        "id": "pjI7KDr-eHe7"
      },
      "outputs": [],
      "source": [
        "# Get the confusion matrices for train and test\n",
        "train_cm_gbc_grid = confusion_matrix(y_train,y_train_pred_gbc_grid)\n",
        "test_cm_gbc_grid = confusion_matrix(y_test,y_pred_gbc_grid )"
      ]
    },
    {
      "cell_type": "code",
      "execution_count": 140,
      "metadata": {
        "colab": {
          "base_uri": "https://localhost:8080/"
        },
        "id": "dOUbawG_6Kzs",
        "outputId": "fcf70946-e665-4183-d15d-e11bc84de936"
      },
      "outputs": [
        {
          "output_type": "execute_result",
          "data": {
            "text/plain": [
              "array([[18632,    59],\n",
              "       [  129, 18562]])"
            ]
          },
          "metadata": {},
          "execution_count": 140
        }
      ],
      "source": [
        "train_cm_gbc_grid"
      ]
    },
    {
      "cell_type": "code",
      "execution_count": 141,
      "metadata": {
        "colab": {
          "base_uri": "https://localhost:8080/"
        },
        "id": "gkdjMqri6KxT",
        "outputId": "8c33dcf6-f778-4675-9ffc-469b109387ea"
      },
      "outputs": [
        {
          "output_type": "execute_result",
          "data": {
            "text/plain": [
              "array([[4233,  440],\n",
              "       [ 772, 3901]])"
            ]
          },
          "metadata": {},
          "execution_count": 141
        }
      ],
      "source": [
        "test_cm_gbc_grid"
      ]
    },
    {
      "cell_type": "markdown",
      "metadata": {
        "id": "HhvEJF0frRc1"
      },
      "source": [
        "## **XG Boosting**"
      ]
    },
    {
      "cell_type": "code",
      "execution_count": 142,
      "metadata": {
        "id": "gB3Bm6eE6UfG"
      },
      "outputs": [],
      "source": [
        "from sklearn.model_selection import RandomizedSearchCV"
      ]
    },
    {
      "cell_type": "code",
      "execution_count": 143,
      "metadata": {
        "id": "3tRn39OpvrgZ"
      },
      "outputs": [],
      "source": [
        "# Hyperparameter Grid\n",
        "param_dict = {'learning_rate': [0.15, 0.1, 0.05],\n",
        "              'n_estimators' : [200, 250],\n",
        "              'max_depth' : [15,20,25],\n",
        "              'min_child_weight' : [1,3],\n",
        "              'gamma': [0.3, 0.2, 0.1],\n",
        "              'min_samples_leaf' : [40, 50]}"
      ]
    },
    {
      "cell_type": "code",
      "execution_count": 144,
      "metadata": {
        "colab": {
          "base_uri": "https://localhost:8080/"
        },
        "id": "-ioVWpsUvrge",
        "outputId": "dcfb851f-95d7-4820-de78-659288ac17d9"
      },
      "outputs": [
        {
          "output_type": "stream",
          "name": "stdout",
          "text": [
            "Fitting 3 folds for each of 5 candidates, totalling 15 fits\n"
          ]
        },
        {
          "output_type": "execute_result",
          "data": {
            "text/plain": [
              "RandomizedSearchCV(cv=3, estimator=XGBClassifier(), n_iter=5, n_jobs=-1,\n",
              "                   param_distributions={'gamma': [0.3, 0.2, 0.1],\n",
              "                                        'learning_rate': [0.15, 0.1, 0.05],\n",
              "                                        'max_depth': [15, 20, 25],\n",
              "                                        'min_child_weight': [1, 3],\n",
              "                                        'min_samples_leaf': [40, 50],\n",
              "                                        'n_estimators': [200, 250]},\n",
              "                   scoring='roc_auc', verbose=2)"
            ]
          },
          "metadata": {},
          "execution_count": 144
        }
      ],
      "source": [
        "# Create an instance of the RandomForestClassifier\n",
        "xgb = XGBClassifier()\n",
        "\n",
        "# Grid search\n",
        "xgb_grid = RandomizedSearchCV(estimator=xgb,\n",
        "                       param_distributions = param_dict,\n",
        "                       n_jobs=-1, n_iter=5, cv = 3,\n",
        "                       verbose=2, scoring='roc_auc')\n",
        "# fitting model\n",
        "xgb_grid.fit(X_train,y_train)"
      ]
    },
    {
      "cell_type": "code",
      "execution_count": null,
      "metadata": {
        "id": "OPUZED9mvrgg"
      },
      "outputs": [],
      "source": [
        "xgb_grid.best_estimator_"
      ]
    },
    {
      "cell_type": "code",
      "execution_count": null,
      "metadata": {
        "id": "-tXJ9Kiovrgh"
      },
      "outputs": [],
      "source": [
        "xgb_grid.best_params_"
      ]
    },
    {
      "cell_type": "code",
      "execution_count": null,
      "metadata": {
        "id": "tyRAYsFcvrgh"
      },
      "outputs": [],
      "source": [
        "xgb_optimal_model = xgb_grid.best_estimator_"
      ]
    },
    {
      "cell_type": "code",
      "execution_count": null,
      "metadata": {
        "id": "dPir_y3Gvrgj"
      },
      "outputs": [],
      "source": [
        "#class prediction of y on train and test\n",
        "y_pred_xgb_grid=xgb_optimal_model.predict(X_test)\n",
        "y_train_pred_xgb_grid=xgb_optimal_model.predict(X_train)\n",
        "\n",
        "# Get the probabilities on train and test\n",
        "y_pred_prob_xgb_grid = xgb_optimal_model.predict_proba(X_train)[:,1]\n",
        "y_train_pred_prob_xgb_grid = xgb_optimal_model.predict_proba(X_test)[:,1]"
      ]
    },
    {
      "cell_type": "code",
      "execution_count": null,
      "metadata": {
        "id": "4fZ6TWT6vrgk"
      },
      "outputs": [],
      "source": [
        "#getting all scores for XG Boosting after CV and Hyperparameter Tunning\n",
        "train_accuracy_xgb_grid = round(accuracy_score(y_train_pred_xgb_grid,y_train), 3)\n",
        "accuracy_xgb_grid = round(accuracy_score(y_pred_xgb_grid,y_test), 3)\n",
        "precision_score_xgb_grid = round(precision_score(y_pred_xgb_grid,y_test), 3)\n",
        "recall_score_xgb_grid = round(recall_score(y_pred_xgb_grid,y_test), 3)\n",
        "f1_score_xgb_grid = round(f1_score(y_pred_xgb_grid,y_test), 3)\n",
        "auc_xgb_grid = round(roc_auc_score(y_pred_xgb_grid,y_test), 3)\n",
        "\n",
        "print(\"The accuracy on train data is \", train_accuracy_xgb_grid)\n",
        "print(\"The accuracy on test data is \", accuracy_xgb_grid)\n",
        "print(\"The precision on test data is \", precision_score_xgb_grid)\n",
        "print(\"The recall on test data is \", recall_score_xgb_grid)\n",
        "print(\"The f1 on test data is \", f1_score_xgb_grid)\n",
        "print(\"The auc on test data is \", auc_xgb_grid)"
      ]
    },
    {
      "cell_type": "code",
      "execution_count": null,
      "metadata": {
        "id": "VFgOyD-jvrgl"
      },
      "outputs": [],
      "source": [
        "# Get the confusion matrices for train and test\n",
        "train_cm_xgb_grid = confusion_matrix(y_train,y_train_pred_xgb_grid)\n",
        "test_cm_xgb_grid = confusion_matrix(y_test,y_pred_xgb_grid )"
      ]
    },
    {
      "cell_type": "markdown",
      "metadata": {
        "id": "9Ou4AtBbb5bi"
      },
      "source": [
        "# **Final Model Comparision**"
      ]
    },
    {
      "cell_type": "code",
      "execution_count": null,
      "metadata": {
        "id": "BrVe-hXPcHzw"
      },
      "outputs": [],
      "source": [
        "grid_classifiers = ['Optimal Logistic Regression', 'Optimal Decision Tree', 'Optimal Random Forest', 'Optimal SVM', 'Optimal Gradient Boosting', 'Optimal XG Boosting']\n",
        "grid_train_accuracy = [train_accuracy_logi_grid, train_accuracy_dtc_grid, train_accuracy_rfc_grid, train_accuracy_svm_grid, train_accuracy_gbc_grid, train_accuracy_xgb_grid]\n",
        "grid_test_accuracy = [accuracy_logi_grid, accuracy_dtc_grid, accuracy_rfc_grid, accuracy_svm_grid, accuracy_gbc_grid, accuracy_xgb_grid]\n",
        "grid_precision_score = [precision_score_logi_grid, precision_score_dtc_grid, precision_score_rfc_grid, precision_score_svm_grid, precision_score_gbc_grid, precision_score_xgb_grid]\n",
        "grid_recall_score = [recall_score_logi_grid, recall_score_dtc_grid, recall_score_rfc_grid, recall_score_svm_grid, recall_score_gbc_grid, recall_score_xgb_grid]\n",
        "grid_f1_score = [f1_score_logi_grid, f1_score_dtc_grid, f1_score_rfc_grid, f1_score_svm_grid, f1_score_gbc_grid, f1_score_xgb_grid]\n",
        "grid_auc_score = [auc_logi_grid, auc_dtc_grid, auc_rfc_grid, auc_svm_grid, auc_gbc_grid, auc_xgb_grid]"
      ]
    },
    {
      "cell_type": "code",
      "execution_count": null,
      "metadata": {
        "id": "w5Fzkxdcd0fj"
      },
      "outputs": [],
      "source": [
        "grid_compare_df = pd.DataFrame({'Classifier':grid_classifiers, 'Train Accuracy': grid_train_accuracy, 'Test Accuracy': grid_test_accuracy, 'Precision': grid_precision_score, 'Recall': grid_recall_score, 'F1 Score': grid_f1_score , 'AUC': grid_auc_score})"
      ]
    },
    {
      "cell_type": "code",
      "execution_count": null,
      "metadata": {
        "id": "QwxMONbgXxEr"
      },
      "outputs": [],
      "source": [
        "all_comparision_df = pd.concat([compare_df, grid_compare_df]).reset_index()"
      ]
    },
    {
      "cell_type": "code",
      "execution_count": null,
      "metadata": {
        "id": "icHcQraXi2Sc"
      },
      "outputs": [],
      "source": [
        "all_comparision_df.drop('index', axis=1, inplace=True)"
      ]
    },
    {
      "cell_type": "code",
      "execution_count": null,
      "metadata": {
        "id": "s97G_a3yjGjn"
      },
      "outputs": [],
      "source": [
        "all_comparision_df.sort_values('AUC', axis=0, ascending=False, inplace=True)"
      ]
    },
    {
      "cell_type": "code",
      "execution_count": 156,
      "metadata": {
        "colab": {
          "base_uri": "https://localhost:8080/",
          "height": 834
        },
        "id": "9UcLWjIHkfvm",
        "outputId": "93e6a036-6ea4-4620-9086-94f9dd9974ff"
      },
      "outputs": [
        {
          "data": {
            "text/html": [
              "\n",
              "  <div id=\"df-21e065dd-39c9-47a7-83d6-2a8e4e0ef5d4\">\n",
              "    <div class=\"colab-df-container\">\n",
              "      <div>\n",
              "<style scoped>\n",
              "    .dataframe tbody tr th:only-of-type {\n",
              "        vertical-align: middle;\n",
              "    }\n",
              "\n",
              "    .dataframe tbody tr th {\n",
              "        vertical-align: top;\n",
              "    }\n",
              "\n",
              "    .dataframe thead th {\n",
              "        text-align: right;\n",
              "    }\n",
              "</style>\n",
              "<table border=\"1\" class=\"dataframe\">\n",
              "  <thead>\n",
              "    <tr style=\"text-align: right;\">\n",
              "      <th></th>\n",
              "      <th>Classifier</th>\n",
              "      <th>Train Accuracy</th>\n",
              "      <th>Test Accuracy</th>\n",
              "      <th>Precision</th>\n",
              "      <th>Recall</th>\n",
              "      <th>F1 Score</th>\n",
              "      <th>AUC</th>\n",
              "    </tr>\n",
              "  </thead>\n",
              "  <tbody>\n",
              "    <tr>\n",
              "      <th>11</th>\n",
              "      <td>Optimal XG Boosting</td>\n",
              "      <td>0.996</td>\n",
              "      <td>0.875</td>\n",
              "      <td>0.835</td>\n",
              "      <td>0.908</td>\n",
              "      <td>0.870</td>\n",
              "      <td>0.878</td>\n",
              "    </tr>\n",
              "    <tr>\n",
              "      <th>10</th>\n",
              "      <td>Optimal Gradient Boosting</td>\n",
              "      <td>0.995</td>\n",
              "      <td>0.870</td>\n",
              "      <td>0.835</td>\n",
              "      <td>0.899</td>\n",
              "      <td>0.866</td>\n",
              "      <td>0.872</td>\n",
              "    </tr>\n",
              "    <tr>\n",
              "      <th>2</th>\n",
              "      <td>Random Forest</td>\n",
              "      <td>0.999</td>\n",
              "      <td>0.870</td>\n",
              "      <td>0.835</td>\n",
              "      <td>0.897</td>\n",
              "      <td>0.865</td>\n",
              "      <td>0.871</td>\n",
              "    </tr>\n",
              "    <tr>\n",
              "      <th>3</th>\n",
              "      <td>SVM</td>\n",
              "      <td>0.846</td>\n",
              "      <td>0.842</td>\n",
              "      <td>0.770</td>\n",
              "      <td>0.900</td>\n",
              "      <td>0.830</td>\n",
              "      <td>0.850</td>\n",
              "    </tr>\n",
              "    <tr>\n",
              "      <th>9</th>\n",
              "      <td>Optimal SVM</td>\n",
              "      <td>0.846</td>\n",
              "      <td>0.842</td>\n",
              "      <td>0.770</td>\n",
              "      <td>0.900</td>\n",
              "      <td>0.830</td>\n",
              "      <td>0.850</td>\n",
              "    </tr>\n",
              "    <tr>\n",
              "      <th>5</th>\n",
              "      <td>XG Boosting</td>\n",
              "      <td>0.847</td>\n",
              "      <td>0.845</td>\n",
              "      <td>0.802</td>\n",
              "      <td>0.879</td>\n",
              "      <td>0.838</td>\n",
              "      <td>0.848</td>\n",
              "    </tr>\n",
              "    <tr>\n",
              "      <th>4</th>\n",
              "      <td>Gradient Boosting</td>\n",
              "      <td>0.846</td>\n",
              "      <td>0.843</td>\n",
              "      <td>0.802</td>\n",
              "      <td>0.873</td>\n",
              "      <td>0.836</td>\n",
              "      <td>0.845</td>\n",
              "    </tr>\n",
              "    <tr>\n",
              "      <th>0</th>\n",
              "      <td>Logistic Regression</td>\n",
              "      <td>0.826</td>\n",
              "      <td>0.832</td>\n",
              "      <td>0.796</td>\n",
              "      <td>0.857</td>\n",
              "      <td>0.826</td>\n",
              "      <td>0.834</td>\n",
              "    </tr>\n",
              "    <tr>\n",
              "      <th>6</th>\n",
              "      <td>Optimal Logistic Regression</td>\n",
              "      <td>0.826</td>\n",
              "      <td>0.833</td>\n",
              "      <td>0.798</td>\n",
              "      <td>0.858</td>\n",
              "      <td>0.826</td>\n",
              "      <td>0.834</td>\n",
              "    </tr>\n",
              "    <tr>\n",
              "      <th>8</th>\n",
              "      <td>Optimal Random Forest</td>\n",
              "      <td>0.842</td>\n",
              "      <td>0.833</td>\n",
              "      <td>0.797</td>\n",
              "      <td>0.858</td>\n",
              "      <td>0.827</td>\n",
              "      <td>0.834</td>\n",
              "    </tr>\n",
              "    <tr>\n",
              "      <th>7</th>\n",
              "      <td>Optimal Decision Tree</td>\n",
              "      <td>0.842</td>\n",
              "      <td>0.821</td>\n",
              "      <td>0.784</td>\n",
              "      <td>0.847</td>\n",
              "      <td>0.814</td>\n",
              "      <td>0.823</td>\n",
              "    </tr>\n",
              "    <tr>\n",
              "      <th>1</th>\n",
              "      <td>Decision Tree</td>\n",
              "      <td>1.000</td>\n",
              "      <td>0.802</td>\n",
              "      <td>0.813</td>\n",
              "      <td>0.795</td>\n",
              "      <td>0.804</td>\n",
              "      <td>0.802</td>\n",
              "    </tr>\n",
              "  </tbody>\n",
              "</table>\n",
              "</div>\n",
              "      <button class=\"colab-df-convert\" onclick=\"convertToInteractive('df-21e065dd-39c9-47a7-83d6-2a8e4e0ef5d4')\"\n",
              "              title=\"Convert this dataframe to an interactive table.\"\n",
              "              style=\"display:none;\">\n",
              "        \n",
              "  <svg xmlns=\"http://www.w3.org/2000/svg\" height=\"24px\"viewBox=\"0 0 24 24\"\n",
              "       width=\"24px\">\n",
              "    <path d=\"M0 0h24v24H0V0z\" fill=\"none\"/>\n",
              "    <path d=\"M18.56 5.44l.94 2.06.94-2.06 2.06-.94-2.06-.94-.94-2.06-.94 2.06-2.06.94zm-11 1L8.5 8.5l.94-2.06 2.06-.94-2.06-.94L8.5 2.5l-.94 2.06-2.06.94zm10 10l.94 2.06.94-2.06 2.06-.94-2.06-.94-.94-2.06-.94 2.06-2.06.94z\"/><path d=\"M17.41 7.96l-1.37-1.37c-.4-.4-.92-.59-1.43-.59-.52 0-1.04.2-1.43.59L10.3 9.45l-7.72 7.72c-.78.78-.78 2.05 0 2.83L4 21.41c.39.39.9.59 1.41.59.51 0 1.02-.2 1.41-.59l7.78-7.78 2.81-2.81c.8-.78.8-2.07 0-2.86zM5.41 20L4 18.59l7.72-7.72 1.47 1.35L5.41 20z\"/>\n",
              "  </svg>\n",
              "      </button>\n",
              "      \n",
              "  <style>\n",
              "    .colab-df-container {\n",
              "      display:flex;\n",
              "      flex-wrap:wrap;\n",
              "      gap: 12px;\n",
              "    }\n",
              "\n",
              "    .colab-df-convert {\n",
              "      background-color: #E8F0FE;\n",
              "      border: none;\n",
              "      border-radius: 50%;\n",
              "      cursor: pointer;\n",
              "      display: none;\n",
              "      fill: #1967D2;\n",
              "      height: 32px;\n",
              "      padding: 0 0 0 0;\n",
              "      width: 32px;\n",
              "    }\n",
              "\n",
              "    .colab-df-convert:hover {\n",
              "      background-color: #E2EBFA;\n",
              "      box-shadow: 0px 1px 2px rgba(60, 64, 67, 0.3), 0px 1px 3px 1px rgba(60, 64, 67, 0.15);\n",
              "      fill: #174EA6;\n",
              "    }\n",
              "\n",
              "    [theme=dark] .colab-df-convert {\n",
              "      background-color: #3B4455;\n",
              "      fill: #D2E3FC;\n",
              "    }\n",
              "\n",
              "    [theme=dark] .colab-df-convert:hover {\n",
              "      background-color: #434B5C;\n",
              "      box-shadow: 0px 1px 3px 1px rgba(0, 0, 0, 0.15);\n",
              "      filter: drop-shadow(0px 1px 2px rgba(0, 0, 0, 0.3));\n",
              "      fill: #FFFFFF;\n",
              "    }\n",
              "  </style>\n",
              "\n",
              "      <script>\n",
              "        const buttonEl =\n",
              "          document.querySelector('#df-21e065dd-39c9-47a7-83d6-2a8e4e0ef5d4 button.colab-df-convert');\n",
              "        buttonEl.style.display =\n",
              "          google.colab.kernel.accessAllowed ? 'block' : 'none';\n",
              "\n",
              "        async function convertToInteractive(key) {\n",
              "          const element = document.querySelector('#df-21e065dd-39c9-47a7-83d6-2a8e4e0ef5d4');\n",
              "          const dataTable =\n",
              "            await google.colab.kernel.invokeFunction('convertToInteractive',\n",
              "                                                     [key], {});\n",
              "          if (!dataTable) return;\n",
              "\n",
              "          const docLinkHtml = 'Like what you see? Visit the ' +\n",
              "            '<a target=\"_blank\" href=https://colab.research.google.com/notebooks/data_table.ipynb>data table notebook</a>'\n",
              "            + ' to learn more about interactive tables.';\n",
              "          element.innerHTML = '';\n",
              "          dataTable['output_type'] = 'display_data';\n",
              "          await google.colab.output.renderOutput(dataTable, element);\n",
              "          const docLink = document.createElement('div');\n",
              "          docLink.innerHTML = docLinkHtml;\n",
              "          element.appendChild(docLink);\n",
              "        }\n",
              "      </script>\n",
              "    </div>\n",
              "  </div>\n",
              "  "
            ],
            "text/plain": [
              "                     Classifier  Train Accuracy  Test Accuracy  Precision  \\\n",
              "11          Optimal XG Boosting           0.996          0.875      0.835   \n",
              "10    Optimal Gradient Boosting           0.995          0.870      0.835   \n",
              "2                 Random Forest           0.999          0.870      0.835   \n",
              "3                           SVM           0.846          0.842      0.770   \n",
              "9                   Optimal SVM           0.846          0.842      0.770   \n",
              "5                   XG Boosting           0.847          0.845      0.802   \n",
              "4             Gradient Boosting           0.846          0.843      0.802   \n",
              "0           Logistic Regression           0.826          0.832      0.796   \n",
              "6   Optimal Logistic Regression           0.826          0.833      0.798   \n",
              "8         Optimal Random Forest           0.842          0.833      0.797   \n",
              "7         Optimal Decision Tree           0.842          0.821      0.784   \n",
              "1                 Decision Tree           1.000          0.802      0.813   \n",
              "\n",
              "    Recall  F1 Score    AUC  \n",
              "11   0.908     0.870  0.878  \n",
              "10   0.899     0.866  0.872  \n",
              "2    0.897     0.865  0.871  \n",
              "3    0.900     0.830  0.850  \n",
              "9    0.900     0.830  0.850  \n",
              "5    0.879     0.838  0.848  \n",
              "4    0.873     0.836  0.845  \n",
              "0    0.857     0.826  0.834  \n",
              "6    0.858     0.826  0.834  \n",
              "8    0.858     0.827  0.834  \n",
              "7    0.847     0.814  0.823  \n",
              "1    0.795     0.804  0.802  "
            ]
          },
          "execution_count": 156,
          "metadata": {},
          "output_type": "execute_result"
        },
        {
          "output_type": "execute_result",
          "data": {
            "text/plain": [
              "                     Classifier  Train Accuracy  Test Accuracy  Precision  \\\n",
              "11          Optimal XG Boosting           0.996          0.875      0.835   \n",
              "10    Optimal Gradient Boosting           0.995          0.870      0.835   \n",
              "2                 Random Forest           0.999          0.870      0.835   \n",
              "3                           SVM           0.846          0.842      0.770   \n",
              "9                   Optimal SVM           0.846          0.842      0.770   \n",
              "5                   XG Boosting           0.847          0.845      0.802   \n",
              "4             Gradient Boosting           0.846          0.843      0.802   \n",
              "0           Logistic Regression           0.826          0.832      0.796   \n",
              "6   Optimal Logistic Regression           0.826          0.833      0.798   \n",
              "8         Optimal Random Forest           0.842          0.833      0.797   \n",
              "7         Optimal Decision Tree           0.842          0.821      0.784   \n",
              "1                 Decision Tree           1.000          0.802      0.813   \n",
              "\n",
              "    Recall  F1 Score    AUC  \n",
              "11   0.908     0.870  0.878  \n",
              "10   0.899     0.866  0.872  \n",
              "2    0.897     0.865  0.871  \n",
              "3    0.900     0.830  0.850  \n",
              "9    0.900     0.830  0.850  \n",
              "5    0.879     0.838  0.848  \n",
              "4    0.873     0.836  0.845  \n",
              "0    0.857     0.826  0.834  \n",
              "6    0.858     0.826  0.834  \n",
              "8    0.858     0.827  0.834  \n",
              "7    0.847     0.814  0.823  \n",
              "1    0.795     0.804  0.802  "
            ],
            "text/html": [
              "\n",
              "  <div id=\"df-21e065dd-39c9-47a7-83d6-2a8e4e0ef5d4\">\n",
              "    <div class=\"colab-df-container\">\n",
              "      <div>\n",
              "<style scoped>\n",
              "    .dataframe tbody tr th:only-of-type {\n",
              "        vertical-align: middle;\n",
              "    }\n",
              "\n",
              "    .dataframe tbody tr th {\n",
              "        vertical-align: top;\n",
              "    }\n",
              "\n",
              "    .dataframe thead th {\n",
              "        text-align: right;\n",
              "    }\n",
              "</style>\n",
              "<table border=\"1\" class=\"dataframe\">\n",
              "  <thead>\n",
              "    <tr style=\"text-align: right;\">\n",
              "      <th></th>\n",
              "      <th>Classifier</th>\n",
              "      <th>Train Accuracy</th>\n",
              "      <th>Test Accuracy</th>\n",
              "      <th>Precision</th>\n",
              "      <th>Recall</th>\n",
              "      <th>F1 Score</th>\n",
              "      <th>AUC</th>\n",
              "    </tr>\n",
              "  </thead>\n",
              "  <tbody>\n",
              "    <tr>\n",
              "      <th>11</th>\n",
              "      <td>Optimal XG Boosting</td>\n",
              "      <td>0.996</td>\n",
              "      <td>0.875</td>\n",
              "      <td>0.835</td>\n",
              "      <td>0.908</td>\n",
              "      <td>0.870</td>\n",
              "      <td>0.878</td>\n",
              "    </tr>\n",
              "    <tr>\n",
              "      <th>10</th>\n",
              "      <td>Optimal Gradient Boosting</td>\n",
              "      <td>0.995</td>\n",
              "      <td>0.870</td>\n",
              "      <td>0.835</td>\n",
              "      <td>0.899</td>\n",
              "      <td>0.866</td>\n",
              "      <td>0.872</td>\n",
              "    </tr>\n",
              "    <tr>\n",
              "      <th>2</th>\n",
              "      <td>Random Forest</td>\n",
              "      <td>0.999</td>\n",
              "      <td>0.870</td>\n",
              "      <td>0.835</td>\n",
              "      <td>0.897</td>\n",
              "      <td>0.865</td>\n",
              "      <td>0.871</td>\n",
              "    </tr>\n",
              "    <tr>\n",
              "      <th>3</th>\n",
              "      <td>SVM</td>\n",
              "      <td>0.846</td>\n",
              "      <td>0.842</td>\n",
              "      <td>0.770</td>\n",
              "      <td>0.900</td>\n",
              "      <td>0.830</td>\n",
              "      <td>0.850</td>\n",
              "    </tr>\n",
              "    <tr>\n",
              "      <th>9</th>\n",
              "      <td>Optimal SVM</td>\n",
              "      <td>0.846</td>\n",
              "      <td>0.842</td>\n",
              "      <td>0.770</td>\n",
              "      <td>0.900</td>\n",
              "      <td>0.830</td>\n",
              "      <td>0.850</td>\n",
              "    </tr>\n",
              "    <tr>\n",
              "      <th>5</th>\n",
              "      <td>XG Boosting</td>\n",
              "      <td>0.847</td>\n",
              "      <td>0.845</td>\n",
              "      <td>0.802</td>\n",
              "      <td>0.879</td>\n",
              "      <td>0.838</td>\n",
              "      <td>0.848</td>\n",
              "    </tr>\n",
              "    <tr>\n",
              "      <th>4</th>\n",
              "      <td>Gradient Boosting</td>\n",
              "      <td>0.846</td>\n",
              "      <td>0.843</td>\n",
              "      <td>0.802</td>\n",
              "      <td>0.873</td>\n",
              "      <td>0.836</td>\n",
              "      <td>0.845</td>\n",
              "    </tr>\n",
              "    <tr>\n",
              "      <th>0</th>\n",
              "      <td>Logistic Regression</td>\n",
              "      <td>0.826</td>\n",
              "      <td>0.832</td>\n",
              "      <td>0.796</td>\n",
              "      <td>0.857</td>\n",
              "      <td>0.826</td>\n",
              "      <td>0.834</td>\n",
              "    </tr>\n",
              "    <tr>\n",
              "      <th>6</th>\n",
              "      <td>Optimal Logistic Regression</td>\n",
              "      <td>0.826</td>\n",
              "      <td>0.833</td>\n",
              "      <td>0.798</td>\n",
              "      <td>0.858</td>\n",
              "      <td>0.826</td>\n",
              "      <td>0.834</td>\n",
              "    </tr>\n",
              "    <tr>\n",
              "      <th>8</th>\n",
              "      <td>Optimal Random Forest</td>\n",
              "      <td>0.842</td>\n",
              "      <td>0.833</td>\n",
              "      <td>0.797</td>\n",
              "      <td>0.858</td>\n",
              "      <td>0.827</td>\n",
              "      <td>0.834</td>\n",
              "    </tr>\n",
              "    <tr>\n",
              "      <th>7</th>\n",
              "      <td>Optimal Decision Tree</td>\n",
              "      <td>0.842</td>\n",
              "      <td>0.821</td>\n",
              "      <td>0.784</td>\n",
              "      <td>0.847</td>\n",
              "      <td>0.814</td>\n",
              "      <td>0.823</td>\n",
              "    </tr>\n",
              "    <tr>\n",
              "      <th>1</th>\n",
              "      <td>Decision Tree</td>\n",
              "      <td>1.000</td>\n",
              "      <td>0.802</td>\n",
              "      <td>0.813</td>\n",
              "      <td>0.795</td>\n",
              "      <td>0.804</td>\n",
              "      <td>0.802</td>\n",
              "    </tr>\n",
              "  </tbody>\n",
              "</table>\n",
              "</div>\n",
              "      <button class=\"colab-df-convert\" onclick=\"convertToInteractive('df-21e065dd-39c9-47a7-83d6-2a8e4e0ef5d4')\"\n",
              "              title=\"Convert this dataframe to an interactive table.\"\n",
              "              style=\"display:none;\">\n",
              "        \n",
              "  <svg xmlns=\"http://www.w3.org/2000/svg\" height=\"24px\"viewBox=\"0 0 24 24\"\n",
              "       width=\"24px\">\n",
              "    <path d=\"M0 0h24v24H0V0z\" fill=\"none\"/>\n",
              "    <path d=\"M18.56 5.44l.94 2.06.94-2.06 2.06-.94-2.06-.94-.94-2.06-.94 2.06-2.06.94zm-11 1L8.5 8.5l.94-2.06 2.06-.94-2.06-.94L8.5 2.5l-.94 2.06-2.06.94zm10 10l.94 2.06.94-2.06 2.06-.94-2.06-.94-.94-2.06-.94 2.06-2.06.94z\"/><path d=\"M17.41 7.96l-1.37-1.37c-.4-.4-.92-.59-1.43-.59-.52 0-1.04.2-1.43.59L10.3 9.45l-7.72 7.72c-.78.78-.78 2.05 0 2.83L4 21.41c.39.39.9.59 1.41.59.51 0 1.02-.2 1.41-.59l7.78-7.78 2.81-2.81c.8-.78.8-2.07 0-2.86zM5.41 20L4 18.59l7.72-7.72 1.47 1.35L5.41 20z\"/>\n",
              "  </svg>\n",
              "      </button>\n",
              "      \n",
              "  <style>\n",
              "    .colab-df-container {\n",
              "      display:flex;\n",
              "      flex-wrap:wrap;\n",
              "      gap: 12px;\n",
              "    }\n",
              "\n",
              "    .colab-df-convert {\n",
              "      background-color: #E8F0FE;\n",
              "      border: none;\n",
              "      border-radius: 50%;\n",
              "      cursor: pointer;\n",
              "      display: none;\n",
              "      fill: #1967D2;\n",
              "      height: 32px;\n",
              "      padding: 0 0 0 0;\n",
              "      width: 32px;\n",
              "    }\n",
              "\n",
              "    .colab-df-convert:hover {\n",
              "      background-color: #E2EBFA;\n",
              "      box-shadow: 0px 1px 2px rgba(60, 64, 67, 0.3), 0px 1px 3px 1px rgba(60, 64, 67, 0.15);\n",
              "      fill: #174EA6;\n",
              "    }\n",
              "\n",
              "    [theme=dark] .colab-df-convert {\n",
              "      background-color: #3B4455;\n",
              "      fill: #D2E3FC;\n",
              "    }\n",
              "\n",
              "    [theme=dark] .colab-df-convert:hover {\n",
              "      background-color: #434B5C;\n",
              "      box-shadow: 0px 1px 3px 1px rgba(0, 0, 0, 0.15);\n",
              "      filter: drop-shadow(0px 1px 2px rgba(0, 0, 0, 0.3));\n",
              "      fill: #FFFFFF;\n",
              "    }\n",
              "  </style>\n",
              "\n",
              "      <script>\n",
              "        const buttonEl =\n",
              "          document.querySelector('#df-21e065dd-39c9-47a7-83d6-2a8e4e0ef5d4 button.colab-df-convert');\n",
              "        buttonEl.style.display =\n",
              "          google.colab.kernel.accessAllowed ? 'block' : 'none';\n",
              "\n",
              "        async function convertToInteractive(key) {\n",
              "          const element = document.querySelector('#df-21e065dd-39c9-47a7-83d6-2a8e4e0ef5d4');\n",
              "          const dataTable =\n",
              "            await google.colab.kernel.invokeFunction('convertToInteractive',\n",
              "                                                     [key], {});\n",
              "          if (!dataTable) return;\n",
              "\n",
              "          const docLinkHtml = 'Like what you see? Visit the ' +\n",
              "            '<a target=\"_blank\" href=https://colab.research.google.com/notebooks/data_table.ipynb>data table notebook</a>'\n",
              "            + ' to learn more about interactive tables.';\n",
              "          element.innerHTML = '';\n",
              "          dataTable['output_type'] = 'display_data';\n",
              "          await google.colab.output.renderOutput(dataTable, element);\n",
              "          const docLink = document.createElement('div');\n",
              "          docLink.innerHTML = docLinkHtml;\n",
              "          element.appendChild(docLink);\n",
              "        }\n",
              "      </script>\n",
              "    </div>\n",
              "  </div>\n",
              "  "
            ]
          },
          "metadata": {},
          "execution_count": 156
        }
      ],
      "source": [
        "all_comparision_df"
      ]
    }
  ],
  "metadata": {
    "colab": {
      "provenance": [],
      "include_colab_link": true
    },
    "kernelspec": {
      "display_name": "Python 3",
      "language": "python",
      "name": "python3"
    },
    "language_info": {
      "codemirror_mode": {
        "name": "ipython",
        "version": 3
      },
      "file_extension": ".py",
      "mimetype": "text/x-python",
      "name": "python",
      "nbconvert_exporter": "python",
      "pygments_lexer": "ipython3",
      "version": "3.6.6"
    }
  },
  "nbformat": 4,
  "nbformat_minor": 0
}