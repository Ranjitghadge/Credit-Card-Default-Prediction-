{
  "cells": [
    {
      "cell_type": "markdown",
      "metadata": {
        "id": "view-in-github",
        "colab_type": "text"
      },
      "source": [
        "<a href=\"https://colab.research.google.com/github/Ranjitghadge/Credit-Card-Default-Prediction-/blob/main/Ranjit_Ghadge_Credit_Card_Default_Prediction_Capstone_Project.ipynb\" target=\"_parent\"><img src=\"https://colab.research.google.com/assets/colab-badge.svg\" alt=\"Open In Colab\"/></a>"
      ]
    },
    {
      "cell_type": "markdown",
      "metadata": {
        "id": "tOGC-qoyhJeX"
      },
      "source": [
        "# <b><u> Project Title : Predicting whether a customer will default on his/her credit card </u></b>"
      ]
    },
    {
      "cell_type": "markdown",
      "metadata": {
        "id": "Y06xIdG26kRF"
      },
      "source": [
        "## <b> Problem Description </b>\n",
        "\n",
        "This project is aimed at predicting the case of customers default payments in Taiwan. From the perspective of risk management, the result of predictive accuracy of the estimated probability of default will be more valuable than the binary result of classification - credible or not credible clients. We can use the [K-S chart](https://www.listendata.com/2019/07/KS-Statistics-Python.html) to evaluate which customers will default on their credit card payments\n"
      ]
    },
    {
      "cell_type": "markdown",
      "metadata": {
        "id": "AlLxAtlziMbP"
      },
      "source": [
        "## <b> Data Description </b>\n",
        "\n",
        "### <b>Attribute Information: </b>\n",
        "\n",
        "### This research employed a binary variable, default payment (Yes = 1, No = 0), as the response variable. This study reviewed the literature and used the following 23 variables as explanatory variables:\n",
        "* ### X1: Amount of the given credit (NT dollar): it includes both the individual consumer credit and his/her family (supplementary) credit.\n",
        "* ### X2: Gender (1 = male; 2 = female).\n",
        "* ### X3: Education (1 = graduate school; 2 = university; 3 = high school; 4 = others).\n",
        "* ### X4: Marital status (1 = married; 2 = single; 3 = others).\n",
        "* ### X5: Age (year).\n",
        "* ### X6 - X11: History of past payment. We tracked the past monthly payment records (from April to September, 2005) as follows: X6 = the repayment status in September, 2005; X7 = the repayment status in August, 2005; . . .;X11 = the repayment status in April, 2005. The measurement scale for the repayment status is: -1 = pay duly; 1 = payment delay for one month; 2 = payment delay for two months; . . .; 8 = payment delay for eight months; 9 = payment delay for nine months and above.\n",
        "* ### X12-X17: Amount of bill statement (NT dollar). X12 = amount of bill statement in September, 2005; X13 = amount of bill statement in August, 2005; . . .; X17 = amount of bill statement in April, 2005.\n",
        "* ### X18-X23: Amount of previous payment (NT dollar). X18 = amount paid in September, 2005; X19 = amount paid in August, 2005; . . .;X23 = amount paid in April, 2005."
      ]
    },
    {
      "cell_type": "markdown",
      "metadata": {
        "id": "kad5N9fE8L9e"
      },
      "source": [
        "## Import Libraries"
      ]
    },
    {
      "cell_type": "code",
      "execution_count": 1,
      "metadata": {
        "id": "dByMsuzT8Tnw"
      },
      "outputs": [],
      "source": [
        "# Import all necessary libraries. \n",
        "import pandas as pd\n",
        "import numpy as np\n",
        "import seaborn as sns\n",
        "from numpy import math\n",
        "import matplotlib.pyplot as plt \n",
        "\n",
        "import warnings\n",
        "warnings.filterwarnings('ignore')"
      ]
    },
    {
      "cell_type": "markdown",
      "metadata": {
        "id": "SbPop0ay8WyC"
      },
      "source": [
        "## Dataset Loading"
      ]
    },
    {
      "cell_type": "code",
      "execution_count": 2,
      "metadata": {
        "colab": {
          "base_uri": "https://localhost:8080/"
        },
        "id": "EoyK3R5rSOi2",
        "outputId": "2ee13ac5-37f8-4f43-f3c7-c6553be01483"
      },
      "outputs": [
        {
          "output_type": "stream",
          "name": "stdout",
          "text": [
            "Mounted at /content/drive\n"
          ]
        }
      ],
      "source": [
        "# Connect Google collab with drive\n",
        "from google.colab import drive\n",
        "df1= drive.mount('/content/drive')"
      ]
    },
    {
      "cell_type": "code",
      "execution_count": 3,
      "metadata": {
        "id": "FdFytIyGSd9E"
      },
      "outputs": [],
      "source": [
        "#Import data frame from drive as Df\n",
        "df=pd.read_csv('/content/drive/MyDrive/Data Science/Almabetter/Colab Notebooks/Projects/Classification Project/default of credit card clients.xls - Data.csv',header=1)"
      ]
    },
    {
      "cell_type": "markdown",
      "metadata": {
        "id": "kMdWZrya8gx9"
      },
      "source": [
        "## Dataset First View"
      ]
    },
    {
      "cell_type": "code",
      "execution_count": 4,
      "metadata": {
        "colab": {
          "base_uri": "https://localhost:8080/",
          "height": 0
        },
        "id": "LOusJcdOSd6C",
        "outputId": "e4d20e9f-7a87-4774-e42c-eb0f3b5c4318"
      },
      "outputs": [
        {
          "output_type": "execute_result",
          "data": {
            "text/plain": [
              "   ID  LIMIT_BAL  SEX  EDUCATION  MARRIAGE  AGE  PAY_0  PAY_2  PAY_3  PAY_4  \\\n",
              "0   1      20000    2          2         1   24      2      2     -1     -1   \n",
              "1   2     120000    2          2         2   26     -1      2      0      0   \n",
              "2   3      90000    2          2         2   34      0      0      0      0   \n",
              "3   4      50000    2          2         1   37      0      0      0      0   \n",
              "4   5      50000    1          2         1   57     -1      0     -1      0   \n",
              "\n",
              "   ...  BILL_AMT4  BILL_AMT5  BILL_AMT6  PAY_AMT1  PAY_AMT2  PAY_AMT3  \\\n",
              "0  ...          0          0          0         0       689         0   \n",
              "1  ...       3272       3455       3261         0      1000      1000   \n",
              "2  ...      14331      14948      15549      1518      1500      1000   \n",
              "3  ...      28314      28959      29547      2000      2019      1200   \n",
              "4  ...      20940      19146      19131      2000     36681     10000   \n",
              "\n",
              "   PAY_AMT4  PAY_AMT5  PAY_AMT6  default payment next month  \n",
              "0         0         0         0                           1  \n",
              "1      1000         0      2000                           1  \n",
              "2      1000      1000      5000                           0  \n",
              "3      1100      1069      1000                           0  \n",
              "4      9000       689       679                           0  \n",
              "\n",
              "[5 rows x 25 columns]"
            ],
            "text/html": [
              "\n",
              "  <div id=\"df-2616a810-55c7-40ba-8e58-0cd9c0f78277\">\n",
              "    <div class=\"colab-df-container\">\n",
              "      <div>\n",
              "<style scoped>\n",
              "    .dataframe tbody tr th:only-of-type {\n",
              "        vertical-align: middle;\n",
              "    }\n",
              "\n",
              "    .dataframe tbody tr th {\n",
              "        vertical-align: top;\n",
              "    }\n",
              "\n",
              "    .dataframe thead th {\n",
              "        text-align: right;\n",
              "    }\n",
              "</style>\n",
              "<table border=\"1\" class=\"dataframe\">\n",
              "  <thead>\n",
              "    <tr style=\"text-align: right;\">\n",
              "      <th></th>\n",
              "      <th>ID</th>\n",
              "      <th>LIMIT_BAL</th>\n",
              "      <th>SEX</th>\n",
              "      <th>EDUCATION</th>\n",
              "      <th>MARRIAGE</th>\n",
              "      <th>AGE</th>\n",
              "      <th>PAY_0</th>\n",
              "      <th>PAY_2</th>\n",
              "      <th>PAY_3</th>\n",
              "      <th>PAY_4</th>\n",
              "      <th>...</th>\n",
              "      <th>BILL_AMT4</th>\n",
              "      <th>BILL_AMT5</th>\n",
              "      <th>BILL_AMT6</th>\n",
              "      <th>PAY_AMT1</th>\n",
              "      <th>PAY_AMT2</th>\n",
              "      <th>PAY_AMT3</th>\n",
              "      <th>PAY_AMT4</th>\n",
              "      <th>PAY_AMT5</th>\n",
              "      <th>PAY_AMT6</th>\n",
              "      <th>default payment next month</th>\n",
              "    </tr>\n",
              "  </thead>\n",
              "  <tbody>\n",
              "    <tr>\n",
              "      <th>0</th>\n",
              "      <td>1</td>\n",
              "      <td>20000</td>\n",
              "      <td>2</td>\n",
              "      <td>2</td>\n",
              "      <td>1</td>\n",
              "      <td>24</td>\n",
              "      <td>2</td>\n",
              "      <td>2</td>\n",
              "      <td>-1</td>\n",
              "      <td>-1</td>\n",
              "      <td>...</td>\n",
              "      <td>0</td>\n",
              "      <td>0</td>\n",
              "      <td>0</td>\n",
              "      <td>0</td>\n",
              "      <td>689</td>\n",
              "      <td>0</td>\n",
              "      <td>0</td>\n",
              "      <td>0</td>\n",
              "      <td>0</td>\n",
              "      <td>1</td>\n",
              "    </tr>\n",
              "    <tr>\n",
              "      <th>1</th>\n",
              "      <td>2</td>\n",
              "      <td>120000</td>\n",
              "      <td>2</td>\n",
              "      <td>2</td>\n",
              "      <td>2</td>\n",
              "      <td>26</td>\n",
              "      <td>-1</td>\n",
              "      <td>2</td>\n",
              "      <td>0</td>\n",
              "      <td>0</td>\n",
              "      <td>...</td>\n",
              "      <td>3272</td>\n",
              "      <td>3455</td>\n",
              "      <td>3261</td>\n",
              "      <td>0</td>\n",
              "      <td>1000</td>\n",
              "      <td>1000</td>\n",
              "      <td>1000</td>\n",
              "      <td>0</td>\n",
              "      <td>2000</td>\n",
              "      <td>1</td>\n",
              "    </tr>\n",
              "    <tr>\n",
              "      <th>2</th>\n",
              "      <td>3</td>\n",
              "      <td>90000</td>\n",
              "      <td>2</td>\n",
              "      <td>2</td>\n",
              "      <td>2</td>\n",
              "      <td>34</td>\n",
              "      <td>0</td>\n",
              "      <td>0</td>\n",
              "      <td>0</td>\n",
              "      <td>0</td>\n",
              "      <td>...</td>\n",
              "      <td>14331</td>\n",
              "      <td>14948</td>\n",
              "      <td>15549</td>\n",
              "      <td>1518</td>\n",
              "      <td>1500</td>\n",
              "      <td>1000</td>\n",
              "      <td>1000</td>\n",
              "      <td>1000</td>\n",
              "      <td>5000</td>\n",
              "      <td>0</td>\n",
              "    </tr>\n",
              "    <tr>\n",
              "      <th>3</th>\n",
              "      <td>4</td>\n",
              "      <td>50000</td>\n",
              "      <td>2</td>\n",
              "      <td>2</td>\n",
              "      <td>1</td>\n",
              "      <td>37</td>\n",
              "      <td>0</td>\n",
              "      <td>0</td>\n",
              "      <td>0</td>\n",
              "      <td>0</td>\n",
              "      <td>...</td>\n",
              "      <td>28314</td>\n",
              "      <td>28959</td>\n",
              "      <td>29547</td>\n",
              "      <td>2000</td>\n",
              "      <td>2019</td>\n",
              "      <td>1200</td>\n",
              "      <td>1100</td>\n",
              "      <td>1069</td>\n",
              "      <td>1000</td>\n",
              "      <td>0</td>\n",
              "    </tr>\n",
              "    <tr>\n",
              "      <th>4</th>\n",
              "      <td>5</td>\n",
              "      <td>50000</td>\n",
              "      <td>1</td>\n",
              "      <td>2</td>\n",
              "      <td>1</td>\n",
              "      <td>57</td>\n",
              "      <td>-1</td>\n",
              "      <td>0</td>\n",
              "      <td>-1</td>\n",
              "      <td>0</td>\n",
              "      <td>...</td>\n",
              "      <td>20940</td>\n",
              "      <td>19146</td>\n",
              "      <td>19131</td>\n",
              "      <td>2000</td>\n",
              "      <td>36681</td>\n",
              "      <td>10000</td>\n",
              "      <td>9000</td>\n",
              "      <td>689</td>\n",
              "      <td>679</td>\n",
              "      <td>0</td>\n",
              "    </tr>\n",
              "  </tbody>\n",
              "</table>\n",
              "<p>5 rows × 25 columns</p>\n",
              "</div>\n",
              "      <button class=\"colab-df-convert\" onclick=\"convertToInteractive('df-2616a810-55c7-40ba-8e58-0cd9c0f78277')\"\n",
              "              title=\"Convert this dataframe to an interactive table.\"\n",
              "              style=\"display:none;\">\n",
              "        \n",
              "  <svg xmlns=\"http://www.w3.org/2000/svg\" height=\"24px\"viewBox=\"0 0 24 24\"\n",
              "       width=\"24px\">\n",
              "    <path d=\"M0 0h24v24H0V0z\" fill=\"none\"/>\n",
              "    <path d=\"M18.56 5.44l.94 2.06.94-2.06 2.06-.94-2.06-.94-.94-2.06-.94 2.06-2.06.94zm-11 1L8.5 8.5l.94-2.06 2.06-.94-2.06-.94L8.5 2.5l-.94 2.06-2.06.94zm10 10l.94 2.06.94-2.06 2.06-.94-2.06-.94-.94-2.06-.94 2.06-2.06.94z\"/><path d=\"M17.41 7.96l-1.37-1.37c-.4-.4-.92-.59-1.43-.59-.52 0-1.04.2-1.43.59L10.3 9.45l-7.72 7.72c-.78.78-.78 2.05 0 2.83L4 21.41c.39.39.9.59 1.41.59.51 0 1.02-.2 1.41-.59l7.78-7.78 2.81-2.81c.8-.78.8-2.07 0-2.86zM5.41 20L4 18.59l7.72-7.72 1.47 1.35L5.41 20z\"/>\n",
              "  </svg>\n",
              "      </button>\n",
              "      \n",
              "  <style>\n",
              "    .colab-df-container {\n",
              "      display:flex;\n",
              "      flex-wrap:wrap;\n",
              "      gap: 12px;\n",
              "    }\n",
              "\n",
              "    .colab-df-convert {\n",
              "      background-color: #E8F0FE;\n",
              "      border: none;\n",
              "      border-radius: 50%;\n",
              "      cursor: pointer;\n",
              "      display: none;\n",
              "      fill: #1967D2;\n",
              "      height: 32px;\n",
              "      padding: 0 0 0 0;\n",
              "      width: 32px;\n",
              "    }\n",
              "\n",
              "    .colab-df-convert:hover {\n",
              "      background-color: #E2EBFA;\n",
              "      box-shadow: 0px 1px 2px rgba(60, 64, 67, 0.3), 0px 1px 3px 1px rgba(60, 64, 67, 0.15);\n",
              "      fill: #174EA6;\n",
              "    }\n",
              "\n",
              "    [theme=dark] .colab-df-convert {\n",
              "      background-color: #3B4455;\n",
              "      fill: #D2E3FC;\n",
              "    }\n",
              "\n",
              "    [theme=dark] .colab-df-convert:hover {\n",
              "      background-color: #434B5C;\n",
              "      box-shadow: 0px 1px 3px 1px rgba(0, 0, 0, 0.15);\n",
              "      filter: drop-shadow(0px 1px 2px rgba(0, 0, 0, 0.3));\n",
              "      fill: #FFFFFF;\n",
              "    }\n",
              "  </style>\n",
              "\n",
              "      <script>\n",
              "        const buttonEl =\n",
              "          document.querySelector('#df-2616a810-55c7-40ba-8e58-0cd9c0f78277 button.colab-df-convert');\n",
              "        buttonEl.style.display =\n",
              "          google.colab.kernel.accessAllowed ? 'block' : 'none';\n",
              "\n",
              "        async function convertToInteractive(key) {\n",
              "          const element = document.querySelector('#df-2616a810-55c7-40ba-8e58-0cd9c0f78277');\n",
              "          const dataTable =\n",
              "            await google.colab.kernel.invokeFunction('convertToInteractive',\n",
              "                                                     [key], {});\n",
              "          if (!dataTable) return;\n",
              "\n",
              "          const docLinkHtml = 'Like what you see? Visit the ' +\n",
              "            '<a target=\"_blank\" href=https://colab.research.google.com/notebooks/data_table.ipynb>data table notebook</a>'\n",
              "            + ' to learn more about interactive tables.';\n",
              "          element.innerHTML = '';\n",
              "          dataTable['output_type'] = 'display_data';\n",
              "          await google.colab.output.renderOutput(dataTable, element);\n",
              "          const docLink = document.createElement('div');\n",
              "          docLink.innerHTML = docLinkHtml;\n",
              "          element.appendChild(docLink);\n",
              "        }\n",
              "      </script>\n",
              "    </div>\n",
              "  </div>\n",
              "  "
            ]
          },
          "metadata": {},
          "execution_count": 4
        }
      ],
      "source": [
        "#viewing dataset\n",
        "df.head()"
      ]
    },
    {
      "cell_type": "markdown",
      "metadata": {
        "id": "tK-HiF2F46H7"
      },
      "source": [
        "## Data Desciption: \n"
      ]
    },
    {
      "cell_type": "markdown",
      "metadata": {
        "id": "uB5gZk4WZVKL"
      },
      "source": [
        "What we know about dataset :\n",
        "\n",
        "We have records of 30000 customers. Below are the description of all features we have.\n",
        "\n",
        "* ID: ID of each client\n",
        "\n",
        "* LIMIT_BAL: Amount of given credit in NT dollars (includes individual and family/supplementary credit)\n",
        "\n",
        "* SEX: Gender (1 = male, 2 = female)\n",
        "\n",
        "* EDUCATION: (1 = graduate school, 2 = university, 3 = high school, 0,4,5,6 = others)\n",
        "\n",
        "* MARRIAGE: Marital status (0 = others, 1 = married, 2 = single, 3 = others)\n",
        "\n",
        "* AGE: Age in years\n",
        "\n",
        "**Scale for PAY_0 to PAY_6** : (-2 = No consumption, -1 = paid in full, 0 = use of revolving credit (paid minimum only), 1 = payment delay for one month, 2 = payment delay for two months, ... 8 = payment delay for eight months, 9 = payment delay for nine months and above)\n",
        "\n",
        "* PAY_0: Repayment status in September, 2005 (scale same as above)\n",
        "\n",
        "* PAY_2: Repayment status in August, 2005 (scale same as above)\n",
        "\n",
        "* PAY_3: Repayment status in July, 2005 (scale same as above)\n",
        "\n",
        "* PAY_4: Repayment status in June, 2005 (scale same as above)\n",
        "\n",
        "* PAY_5: Repayment status in May, 2005 (scale same as above)\n",
        "\n",
        "* PAY_6: Repayment status in April, 2005 (scale same as above)\n",
        "\n",
        "* BILL_AMT1: Amount of bill statement in September, 2005 (NT dollar)\n",
        "\n",
        "* BILL_AMT2: Amount of bill statement in August, 2005 (NT dollar)\n",
        "\n",
        "* BILL_AMT3: Amount of bill statement in July, 2005 (NT dollar)\n",
        "\n",
        "* BILL_AMT4: Amount of bill statement in June, 2005 (NT dollar)\n",
        "\n",
        "* BILL_AMT5: Amount of bill statement in May, 2005 (NT dollar)\n",
        "\n",
        "* BILL_AMT6: Amount of bill statement in April, 2005 (NT dollar)\n",
        "\n",
        "* PAY_AMT1: Amount of previous payment in September, 2005 (NT dollar)\n",
        "\n",
        "* PAY_AMT2: Amount of previous payment in August, 2005 (NT dollar)\n",
        "\n",
        "* PAY_AMT3: Amount of previous payment in July, 2005 (NT dollar)\n",
        "\n",
        "* PAY_AMT4: Amount of previous payment in June, 2005 (NT dollar)\n",
        "\n",
        "* PAY_AMT5: Amount of previous payment in May, 2005 (NT dollar)\n",
        "\n",
        "* PAY_AMT6: Amount of previous payment in April, 2005 (NT dollar)\n",
        "\n",
        "* default.payment.next.month: Default payment (1=yes, 0=no)"
      ]
    },
    {
      "cell_type": "markdown",
      "metadata": {
        "id": "lBE8a-Og8xKJ"
      },
      "source": [
        "## Dataset Rows & Columns Count"
      ]
    },
    {
      "cell_type": "code",
      "execution_count": 5,
      "metadata": {
        "colab": {
          "base_uri": "https://localhost:8080/"
        },
        "id": "iJuFGk6CSd1t",
        "outputId": "6c453c31-abb5-41cd-8899-9f3d565c3554"
      },
      "outputs": [
        {
          "output_type": "execute_result",
          "data": {
            "text/plain": [
              "(30000, 25)"
            ]
          },
          "metadata": {},
          "execution_count": 5
        }
      ],
      "source": [
        "# Check data shape\n",
        "df.shape"
      ]
    },
    {
      "cell_type": "markdown",
      "metadata": {
        "id": "fFn-NeJO85Fx"
      },
      "source": [
        "## Dataset Information"
      ]
    },
    {
      "cell_type": "code",
      "execution_count": 6,
      "metadata": {
        "colab": {
          "base_uri": "https://localhost:8080/"
        },
        "id": "q9TNbROTSdyt",
        "outputId": "a02e155b-d575-4b30-f46e-f0f29ee9dca5"
      },
      "outputs": [
        {
          "output_type": "stream",
          "name": "stdout",
          "text": [
            "<class 'pandas.core.frame.DataFrame'>\n",
            "RangeIndex: 30000 entries, 0 to 29999\n",
            "Data columns (total 25 columns):\n",
            " #   Column                      Non-Null Count  Dtype\n",
            "---  ------                      --------------  -----\n",
            " 0   ID                          30000 non-null  int64\n",
            " 1   LIMIT_BAL                   30000 non-null  int64\n",
            " 2   SEX                         30000 non-null  int64\n",
            " 3   EDUCATION                   30000 non-null  int64\n",
            " 4   MARRIAGE                    30000 non-null  int64\n",
            " 5   AGE                         30000 non-null  int64\n",
            " 6   PAY_0                       30000 non-null  int64\n",
            " 7   PAY_2                       30000 non-null  int64\n",
            " 8   PAY_3                       30000 non-null  int64\n",
            " 9   PAY_4                       30000 non-null  int64\n",
            " 10  PAY_5                       30000 non-null  int64\n",
            " 11  PAY_6                       30000 non-null  int64\n",
            " 12  BILL_AMT1                   30000 non-null  int64\n",
            " 13  BILL_AMT2                   30000 non-null  int64\n",
            " 14  BILL_AMT3                   30000 non-null  int64\n",
            " 15  BILL_AMT4                   30000 non-null  int64\n",
            " 16  BILL_AMT5                   30000 non-null  int64\n",
            " 17  BILL_AMT6                   30000 non-null  int64\n",
            " 18  PAY_AMT1                    30000 non-null  int64\n",
            " 19  PAY_AMT2                    30000 non-null  int64\n",
            " 20  PAY_AMT3                    30000 non-null  int64\n",
            " 21  PAY_AMT4                    30000 non-null  int64\n",
            " 22  PAY_AMT5                    30000 non-null  int64\n",
            " 23  PAY_AMT6                    30000 non-null  int64\n",
            " 24  default payment next month  30000 non-null  int64\n",
            "dtypes: int64(25)\n",
            "memory usage: 5.7 MB\n"
          ]
        }
      ],
      "source": [
        "# Check data info\n",
        "df.info()"
      ]
    },
    {
      "cell_type": "code",
      "execution_count": 7,
      "metadata": {
        "colab": {
          "base_uri": "https://localhost:8080/",
          "height": 833
        },
        "id": "RiPNefeJSdvu",
        "outputId": "9ee84b54-0b58-486d-93d0-7870d22cf64f"
      },
      "outputs": [
        {
          "output_type": "execute_result",
          "data": {
            "text/plain": [
              "                              count           mean            std       min  \\\n",
              "ID                          30000.0   15000.500000    8660.398374       1.0   \n",
              "LIMIT_BAL                   30000.0  167484.322667  129747.661567   10000.0   \n",
              "SEX                         30000.0       1.603733       0.489129       1.0   \n",
              "EDUCATION                   30000.0       1.853133       0.790349       0.0   \n",
              "MARRIAGE                    30000.0       1.551867       0.521970       0.0   \n",
              "AGE                         30000.0      35.485500       9.217904      21.0   \n",
              "PAY_0                       30000.0      -0.016700       1.123802      -2.0   \n",
              "PAY_2                       30000.0      -0.133767       1.197186      -2.0   \n",
              "PAY_3                       30000.0      -0.166200       1.196868      -2.0   \n",
              "PAY_4                       30000.0      -0.220667       1.169139      -2.0   \n",
              "PAY_5                       30000.0      -0.266200       1.133187      -2.0   \n",
              "PAY_6                       30000.0      -0.291100       1.149988      -2.0   \n",
              "BILL_AMT1                   30000.0   51223.330900   73635.860576 -165580.0   \n",
              "BILL_AMT2                   30000.0   49179.075167   71173.768783  -69777.0   \n",
              "BILL_AMT3                   30000.0   47013.154800   69349.387427 -157264.0   \n",
              "BILL_AMT4                   30000.0   43262.948967   64332.856134 -170000.0   \n",
              "BILL_AMT5                   30000.0   40311.400967   60797.155770  -81334.0   \n",
              "BILL_AMT6                   30000.0   38871.760400   59554.107537 -339603.0   \n",
              "PAY_AMT1                    30000.0    5663.580500   16563.280354       0.0   \n",
              "PAY_AMT2                    30000.0    5921.163500   23040.870402       0.0   \n",
              "PAY_AMT3                    30000.0    5225.681500   17606.961470       0.0   \n",
              "PAY_AMT4                    30000.0    4826.076867   15666.159744       0.0   \n",
              "PAY_AMT5                    30000.0    4799.387633   15278.305679       0.0   \n",
              "PAY_AMT6                    30000.0    5215.502567   17777.465775       0.0   \n",
              "default payment next month  30000.0       0.221200       0.415062       0.0   \n",
              "\n",
              "                                 25%       50%        75%        max  \n",
              "ID                           7500.75   15000.5   22500.25    30000.0  \n",
              "LIMIT_BAL                   50000.00  140000.0  240000.00  1000000.0  \n",
              "SEX                             1.00       2.0       2.00        2.0  \n",
              "EDUCATION                       1.00       2.0       2.00        6.0  \n",
              "MARRIAGE                        1.00       2.0       2.00        3.0  \n",
              "AGE                            28.00      34.0      41.00       79.0  \n",
              "PAY_0                          -1.00       0.0       0.00        8.0  \n",
              "PAY_2                          -1.00       0.0       0.00        8.0  \n",
              "PAY_3                          -1.00       0.0       0.00        8.0  \n",
              "PAY_4                          -1.00       0.0       0.00        8.0  \n",
              "PAY_5                          -1.00       0.0       0.00        8.0  \n",
              "PAY_6                          -1.00       0.0       0.00        8.0  \n",
              "BILL_AMT1                    3558.75   22381.5   67091.00   964511.0  \n",
              "BILL_AMT2                    2984.75   21200.0   64006.25   983931.0  \n",
              "BILL_AMT3                    2666.25   20088.5   60164.75  1664089.0  \n",
              "BILL_AMT4                    2326.75   19052.0   54506.00   891586.0  \n",
              "BILL_AMT5                    1763.00   18104.5   50190.50   927171.0  \n",
              "BILL_AMT6                    1256.00   17071.0   49198.25   961664.0  \n",
              "PAY_AMT1                     1000.00    2100.0    5006.00   873552.0  \n",
              "PAY_AMT2                      833.00    2009.0    5000.00  1684259.0  \n",
              "PAY_AMT3                      390.00    1800.0    4505.00   896040.0  \n",
              "PAY_AMT4                      296.00    1500.0    4013.25   621000.0  \n",
              "PAY_AMT5                      252.50    1500.0    4031.50   426529.0  \n",
              "PAY_AMT6                      117.75    1500.0    4000.00   528666.0  \n",
              "default payment next month      0.00       0.0       0.00        1.0  "
            ],
            "text/html": [
              "\n",
              "  <div id=\"df-dd69cf49-22d6-431b-b123-a8b7ebd44c2c\">\n",
              "    <div class=\"colab-df-container\">\n",
              "      <div>\n",
              "<style scoped>\n",
              "    .dataframe tbody tr th:only-of-type {\n",
              "        vertical-align: middle;\n",
              "    }\n",
              "\n",
              "    .dataframe tbody tr th {\n",
              "        vertical-align: top;\n",
              "    }\n",
              "\n",
              "    .dataframe thead th {\n",
              "        text-align: right;\n",
              "    }\n",
              "</style>\n",
              "<table border=\"1\" class=\"dataframe\">\n",
              "  <thead>\n",
              "    <tr style=\"text-align: right;\">\n",
              "      <th></th>\n",
              "      <th>count</th>\n",
              "      <th>mean</th>\n",
              "      <th>std</th>\n",
              "      <th>min</th>\n",
              "      <th>25%</th>\n",
              "      <th>50%</th>\n",
              "      <th>75%</th>\n",
              "      <th>max</th>\n",
              "    </tr>\n",
              "  </thead>\n",
              "  <tbody>\n",
              "    <tr>\n",
              "      <th>ID</th>\n",
              "      <td>30000.0</td>\n",
              "      <td>15000.500000</td>\n",
              "      <td>8660.398374</td>\n",
              "      <td>1.0</td>\n",
              "      <td>7500.75</td>\n",
              "      <td>15000.5</td>\n",
              "      <td>22500.25</td>\n",
              "      <td>30000.0</td>\n",
              "    </tr>\n",
              "    <tr>\n",
              "      <th>LIMIT_BAL</th>\n",
              "      <td>30000.0</td>\n",
              "      <td>167484.322667</td>\n",
              "      <td>129747.661567</td>\n",
              "      <td>10000.0</td>\n",
              "      <td>50000.00</td>\n",
              "      <td>140000.0</td>\n",
              "      <td>240000.00</td>\n",
              "      <td>1000000.0</td>\n",
              "    </tr>\n",
              "    <tr>\n",
              "      <th>SEX</th>\n",
              "      <td>30000.0</td>\n",
              "      <td>1.603733</td>\n",
              "      <td>0.489129</td>\n",
              "      <td>1.0</td>\n",
              "      <td>1.00</td>\n",
              "      <td>2.0</td>\n",
              "      <td>2.00</td>\n",
              "      <td>2.0</td>\n",
              "    </tr>\n",
              "    <tr>\n",
              "      <th>EDUCATION</th>\n",
              "      <td>30000.0</td>\n",
              "      <td>1.853133</td>\n",
              "      <td>0.790349</td>\n",
              "      <td>0.0</td>\n",
              "      <td>1.00</td>\n",
              "      <td>2.0</td>\n",
              "      <td>2.00</td>\n",
              "      <td>6.0</td>\n",
              "    </tr>\n",
              "    <tr>\n",
              "      <th>MARRIAGE</th>\n",
              "      <td>30000.0</td>\n",
              "      <td>1.551867</td>\n",
              "      <td>0.521970</td>\n",
              "      <td>0.0</td>\n",
              "      <td>1.00</td>\n",
              "      <td>2.0</td>\n",
              "      <td>2.00</td>\n",
              "      <td>3.0</td>\n",
              "    </tr>\n",
              "    <tr>\n",
              "      <th>AGE</th>\n",
              "      <td>30000.0</td>\n",
              "      <td>35.485500</td>\n",
              "      <td>9.217904</td>\n",
              "      <td>21.0</td>\n",
              "      <td>28.00</td>\n",
              "      <td>34.0</td>\n",
              "      <td>41.00</td>\n",
              "      <td>79.0</td>\n",
              "    </tr>\n",
              "    <tr>\n",
              "      <th>PAY_0</th>\n",
              "      <td>30000.0</td>\n",
              "      <td>-0.016700</td>\n",
              "      <td>1.123802</td>\n",
              "      <td>-2.0</td>\n",
              "      <td>-1.00</td>\n",
              "      <td>0.0</td>\n",
              "      <td>0.00</td>\n",
              "      <td>8.0</td>\n",
              "    </tr>\n",
              "    <tr>\n",
              "      <th>PAY_2</th>\n",
              "      <td>30000.0</td>\n",
              "      <td>-0.133767</td>\n",
              "      <td>1.197186</td>\n",
              "      <td>-2.0</td>\n",
              "      <td>-1.00</td>\n",
              "      <td>0.0</td>\n",
              "      <td>0.00</td>\n",
              "      <td>8.0</td>\n",
              "    </tr>\n",
              "    <tr>\n",
              "      <th>PAY_3</th>\n",
              "      <td>30000.0</td>\n",
              "      <td>-0.166200</td>\n",
              "      <td>1.196868</td>\n",
              "      <td>-2.0</td>\n",
              "      <td>-1.00</td>\n",
              "      <td>0.0</td>\n",
              "      <td>0.00</td>\n",
              "      <td>8.0</td>\n",
              "    </tr>\n",
              "    <tr>\n",
              "      <th>PAY_4</th>\n",
              "      <td>30000.0</td>\n",
              "      <td>-0.220667</td>\n",
              "      <td>1.169139</td>\n",
              "      <td>-2.0</td>\n",
              "      <td>-1.00</td>\n",
              "      <td>0.0</td>\n",
              "      <td>0.00</td>\n",
              "      <td>8.0</td>\n",
              "    </tr>\n",
              "    <tr>\n",
              "      <th>PAY_5</th>\n",
              "      <td>30000.0</td>\n",
              "      <td>-0.266200</td>\n",
              "      <td>1.133187</td>\n",
              "      <td>-2.0</td>\n",
              "      <td>-1.00</td>\n",
              "      <td>0.0</td>\n",
              "      <td>0.00</td>\n",
              "      <td>8.0</td>\n",
              "    </tr>\n",
              "    <tr>\n",
              "      <th>PAY_6</th>\n",
              "      <td>30000.0</td>\n",
              "      <td>-0.291100</td>\n",
              "      <td>1.149988</td>\n",
              "      <td>-2.0</td>\n",
              "      <td>-1.00</td>\n",
              "      <td>0.0</td>\n",
              "      <td>0.00</td>\n",
              "      <td>8.0</td>\n",
              "    </tr>\n",
              "    <tr>\n",
              "      <th>BILL_AMT1</th>\n",
              "      <td>30000.0</td>\n",
              "      <td>51223.330900</td>\n",
              "      <td>73635.860576</td>\n",
              "      <td>-165580.0</td>\n",
              "      <td>3558.75</td>\n",
              "      <td>22381.5</td>\n",
              "      <td>67091.00</td>\n",
              "      <td>964511.0</td>\n",
              "    </tr>\n",
              "    <tr>\n",
              "      <th>BILL_AMT2</th>\n",
              "      <td>30000.0</td>\n",
              "      <td>49179.075167</td>\n",
              "      <td>71173.768783</td>\n",
              "      <td>-69777.0</td>\n",
              "      <td>2984.75</td>\n",
              "      <td>21200.0</td>\n",
              "      <td>64006.25</td>\n",
              "      <td>983931.0</td>\n",
              "    </tr>\n",
              "    <tr>\n",
              "      <th>BILL_AMT3</th>\n",
              "      <td>30000.0</td>\n",
              "      <td>47013.154800</td>\n",
              "      <td>69349.387427</td>\n",
              "      <td>-157264.0</td>\n",
              "      <td>2666.25</td>\n",
              "      <td>20088.5</td>\n",
              "      <td>60164.75</td>\n",
              "      <td>1664089.0</td>\n",
              "    </tr>\n",
              "    <tr>\n",
              "      <th>BILL_AMT4</th>\n",
              "      <td>30000.0</td>\n",
              "      <td>43262.948967</td>\n",
              "      <td>64332.856134</td>\n",
              "      <td>-170000.0</td>\n",
              "      <td>2326.75</td>\n",
              "      <td>19052.0</td>\n",
              "      <td>54506.00</td>\n",
              "      <td>891586.0</td>\n",
              "    </tr>\n",
              "    <tr>\n",
              "      <th>BILL_AMT5</th>\n",
              "      <td>30000.0</td>\n",
              "      <td>40311.400967</td>\n",
              "      <td>60797.155770</td>\n",
              "      <td>-81334.0</td>\n",
              "      <td>1763.00</td>\n",
              "      <td>18104.5</td>\n",
              "      <td>50190.50</td>\n",
              "      <td>927171.0</td>\n",
              "    </tr>\n",
              "    <tr>\n",
              "      <th>BILL_AMT6</th>\n",
              "      <td>30000.0</td>\n",
              "      <td>38871.760400</td>\n",
              "      <td>59554.107537</td>\n",
              "      <td>-339603.0</td>\n",
              "      <td>1256.00</td>\n",
              "      <td>17071.0</td>\n",
              "      <td>49198.25</td>\n",
              "      <td>961664.0</td>\n",
              "    </tr>\n",
              "    <tr>\n",
              "      <th>PAY_AMT1</th>\n",
              "      <td>30000.0</td>\n",
              "      <td>5663.580500</td>\n",
              "      <td>16563.280354</td>\n",
              "      <td>0.0</td>\n",
              "      <td>1000.00</td>\n",
              "      <td>2100.0</td>\n",
              "      <td>5006.00</td>\n",
              "      <td>873552.0</td>\n",
              "    </tr>\n",
              "    <tr>\n",
              "      <th>PAY_AMT2</th>\n",
              "      <td>30000.0</td>\n",
              "      <td>5921.163500</td>\n",
              "      <td>23040.870402</td>\n",
              "      <td>0.0</td>\n",
              "      <td>833.00</td>\n",
              "      <td>2009.0</td>\n",
              "      <td>5000.00</td>\n",
              "      <td>1684259.0</td>\n",
              "    </tr>\n",
              "    <tr>\n",
              "      <th>PAY_AMT3</th>\n",
              "      <td>30000.0</td>\n",
              "      <td>5225.681500</td>\n",
              "      <td>17606.961470</td>\n",
              "      <td>0.0</td>\n",
              "      <td>390.00</td>\n",
              "      <td>1800.0</td>\n",
              "      <td>4505.00</td>\n",
              "      <td>896040.0</td>\n",
              "    </tr>\n",
              "    <tr>\n",
              "      <th>PAY_AMT4</th>\n",
              "      <td>30000.0</td>\n",
              "      <td>4826.076867</td>\n",
              "      <td>15666.159744</td>\n",
              "      <td>0.0</td>\n",
              "      <td>296.00</td>\n",
              "      <td>1500.0</td>\n",
              "      <td>4013.25</td>\n",
              "      <td>621000.0</td>\n",
              "    </tr>\n",
              "    <tr>\n",
              "      <th>PAY_AMT5</th>\n",
              "      <td>30000.0</td>\n",
              "      <td>4799.387633</td>\n",
              "      <td>15278.305679</td>\n",
              "      <td>0.0</td>\n",
              "      <td>252.50</td>\n",
              "      <td>1500.0</td>\n",
              "      <td>4031.50</td>\n",
              "      <td>426529.0</td>\n",
              "    </tr>\n",
              "    <tr>\n",
              "      <th>PAY_AMT6</th>\n",
              "      <td>30000.0</td>\n",
              "      <td>5215.502567</td>\n",
              "      <td>17777.465775</td>\n",
              "      <td>0.0</td>\n",
              "      <td>117.75</td>\n",
              "      <td>1500.0</td>\n",
              "      <td>4000.00</td>\n",
              "      <td>528666.0</td>\n",
              "    </tr>\n",
              "    <tr>\n",
              "      <th>default payment next month</th>\n",
              "      <td>30000.0</td>\n",
              "      <td>0.221200</td>\n",
              "      <td>0.415062</td>\n",
              "      <td>0.0</td>\n",
              "      <td>0.00</td>\n",
              "      <td>0.0</td>\n",
              "      <td>0.00</td>\n",
              "      <td>1.0</td>\n",
              "    </tr>\n",
              "  </tbody>\n",
              "</table>\n",
              "</div>\n",
              "      <button class=\"colab-df-convert\" onclick=\"convertToInteractive('df-dd69cf49-22d6-431b-b123-a8b7ebd44c2c')\"\n",
              "              title=\"Convert this dataframe to an interactive table.\"\n",
              "              style=\"display:none;\">\n",
              "        \n",
              "  <svg xmlns=\"http://www.w3.org/2000/svg\" height=\"24px\"viewBox=\"0 0 24 24\"\n",
              "       width=\"24px\">\n",
              "    <path d=\"M0 0h24v24H0V0z\" fill=\"none\"/>\n",
              "    <path d=\"M18.56 5.44l.94 2.06.94-2.06 2.06-.94-2.06-.94-.94-2.06-.94 2.06-2.06.94zm-11 1L8.5 8.5l.94-2.06 2.06-.94-2.06-.94L8.5 2.5l-.94 2.06-2.06.94zm10 10l.94 2.06.94-2.06 2.06-.94-2.06-.94-.94-2.06-.94 2.06-2.06.94z\"/><path d=\"M17.41 7.96l-1.37-1.37c-.4-.4-.92-.59-1.43-.59-.52 0-1.04.2-1.43.59L10.3 9.45l-7.72 7.72c-.78.78-.78 2.05 0 2.83L4 21.41c.39.39.9.59 1.41.59.51 0 1.02-.2 1.41-.59l7.78-7.78 2.81-2.81c.8-.78.8-2.07 0-2.86zM5.41 20L4 18.59l7.72-7.72 1.47 1.35L5.41 20z\"/>\n",
              "  </svg>\n",
              "      </button>\n",
              "      \n",
              "  <style>\n",
              "    .colab-df-container {\n",
              "      display:flex;\n",
              "      flex-wrap:wrap;\n",
              "      gap: 12px;\n",
              "    }\n",
              "\n",
              "    .colab-df-convert {\n",
              "      background-color: #E8F0FE;\n",
              "      border: none;\n",
              "      border-radius: 50%;\n",
              "      cursor: pointer;\n",
              "      display: none;\n",
              "      fill: #1967D2;\n",
              "      height: 32px;\n",
              "      padding: 0 0 0 0;\n",
              "      width: 32px;\n",
              "    }\n",
              "\n",
              "    .colab-df-convert:hover {\n",
              "      background-color: #E2EBFA;\n",
              "      box-shadow: 0px 1px 2px rgba(60, 64, 67, 0.3), 0px 1px 3px 1px rgba(60, 64, 67, 0.15);\n",
              "      fill: #174EA6;\n",
              "    }\n",
              "\n",
              "    [theme=dark] .colab-df-convert {\n",
              "      background-color: #3B4455;\n",
              "      fill: #D2E3FC;\n",
              "    }\n",
              "\n",
              "    [theme=dark] .colab-df-convert:hover {\n",
              "      background-color: #434B5C;\n",
              "      box-shadow: 0px 1px 3px 1px rgba(0, 0, 0, 0.15);\n",
              "      filter: drop-shadow(0px 1px 2px rgba(0, 0, 0, 0.3));\n",
              "      fill: #FFFFFF;\n",
              "    }\n",
              "  </style>\n",
              "\n",
              "      <script>\n",
              "        const buttonEl =\n",
              "          document.querySelector('#df-dd69cf49-22d6-431b-b123-a8b7ebd44c2c button.colab-df-convert');\n",
              "        buttonEl.style.display =\n",
              "          google.colab.kernel.accessAllowed ? 'block' : 'none';\n",
              "\n",
              "        async function convertToInteractive(key) {\n",
              "          const element = document.querySelector('#df-dd69cf49-22d6-431b-b123-a8b7ebd44c2c');\n",
              "          const dataTable =\n",
              "            await google.colab.kernel.invokeFunction('convertToInteractive',\n",
              "                                                     [key], {});\n",
              "          if (!dataTable) return;\n",
              "\n",
              "          const docLinkHtml = 'Like what you see? Visit the ' +\n",
              "            '<a target=\"_blank\" href=https://colab.research.google.com/notebooks/data_table.ipynb>data table notebook</a>'\n",
              "            + ' to learn more about interactive tables.';\n",
              "          element.innerHTML = '';\n",
              "          dataTable['output_type'] = 'display_data';\n",
              "          await google.colab.output.renderOutput(dataTable, element);\n",
              "          const docLink = document.createElement('div');\n",
              "          docLink.innerHTML = docLinkHtml;\n",
              "          element.appendChild(docLink);\n",
              "        }\n",
              "      </script>\n",
              "    </div>\n",
              "  </div>\n",
              "  "
            ]
          },
          "metadata": {},
          "execution_count": 7
        }
      ],
      "source": [
        "#Data Description\n",
        "df.describe().T\n"
      ]
    },
    {
      "cell_type": "code",
      "execution_count": 8,
      "metadata": {
        "colab": {
          "base_uri": "https://localhost:8080/"
        },
        "id": "sLceMwJMSdsl",
        "outputId": "b4eab9ff-739a-4f50-f342-9920088ce62f"
      },
      "outputs": [
        {
          "output_type": "execute_result",
          "data": {
            "text/plain": [
              "0"
            ]
          },
          "metadata": {},
          "execution_count": 8
        }
      ],
      "source": [
        "#check for any duplicates\n",
        "len(df[df.duplicated()])"
      ]
    },
    {
      "cell_type": "markdown",
      "metadata": {
        "id": "CZ4zJ6j-58wt"
      },
      "source": [
        "Hence no duplicates are present in the data."
      ]
    },
    {
      "cell_type": "code",
      "execution_count": 9,
      "metadata": {
        "colab": {
          "base_uri": "https://localhost:8080/"
        },
        "id": "2uo1eXCxSdpd",
        "outputId": "5a8813ff-d91d-48b8-9e5e-0ba5865697e6"
      },
      "outputs": [
        {
          "output_type": "execute_result",
          "data": {
            "text/plain": [
              "Index(['ID', 'LIMIT_BAL', 'SEX', 'EDUCATION', 'MARRIAGE', 'AGE', 'PAY_0',\n",
              "       'PAY_2', 'PAY_3', 'PAY_4', 'PAY_5', 'PAY_6', 'BILL_AMT1', 'BILL_AMT2',\n",
              "       'BILL_AMT3', 'BILL_AMT4', 'BILL_AMT5', 'BILL_AMT6', 'PAY_AMT1',\n",
              "       'PAY_AMT2', 'PAY_AMT3', 'PAY_AMT4', 'PAY_AMT5', 'PAY_AMT6',\n",
              "       'default payment next month'],\n",
              "      dtype='object')"
            ]
          },
          "metadata": {},
          "execution_count": 9
        }
      ],
      "source": [
        "#columns of dataset\n",
        "df.columns"
      ]
    },
    {
      "cell_type": "code",
      "execution_count": 10,
      "metadata": {
        "colab": {
          "base_uri": "https://localhost:8080/"
        },
        "id": "vniotlpldkJK",
        "outputId": "4ac355d7-f99e-4ca4-a3b6-e2c19f7a5cc9"
      },
      "outputs": [
        {
          "output_type": "execute_result",
          "data": {
            "text/plain": [
              "ID                            0\n",
              "LIMIT_BAL                     0\n",
              "SEX                           0\n",
              "EDUCATION                     0\n",
              "MARRIAGE                      0\n",
              "AGE                           0\n",
              "PAY_0                         0\n",
              "PAY_2                         0\n",
              "PAY_3                         0\n",
              "PAY_4                         0\n",
              "PAY_5                         0\n",
              "PAY_6                         0\n",
              "BILL_AMT1                     0\n",
              "BILL_AMT2                     0\n",
              "BILL_AMT3                     0\n",
              "BILL_AMT4                     0\n",
              "BILL_AMT5                     0\n",
              "BILL_AMT6                     0\n",
              "PAY_AMT1                      0\n",
              "PAY_AMT2                      0\n",
              "PAY_AMT3                      0\n",
              "PAY_AMT4                      0\n",
              "PAY_AMT5                      0\n",
              "PAY_AMT6                      0\n",
              "default payment next month    0\n",
              "dtype: int64"
            ]
          },
          "metadata": {},
          "execution_count": 10
        }
      ],
      "source": [
        "# Taking the sum of null values in columns from a dataset\n",
        "df.isnull().sum()\n"
      ]
    },
    {
      "cell_type": "code",
      "execution_count": 11,
      "metadata": {
        "colab": {
          "base_uri": "https://localhost:8080/",
          "height": 486
        },
        "id": "9oaZft5-dkGQ",
        "outputId": "cc8275be-5561-48c7-c368-11bf2d130e30"
      },
      "outputs": [
        {
          "output_type": "execute_result",
          "data": {
            "text/plain": [
              "Text(0.5, 1.0, 'Missing Values Percentage')"
            ]
          },
          "metadata": {},
          "execution_count": 11
        },
        {
          "output_type": "display_data",
          "data": {
            "text/plain": [
              "<Figure size 1008x360 with 2 Axes>"
            ],
            "image/png": "[encoded data removed]"
          },
          "metadata": {
            "needs_background": "light"
          }
        }
      ],
      "source": [
        "#Plot to check null values\n",
        "plt.figure(figsize=(14,5))\n",
        "sns.heatmap(df.isnull(), cbar=True, yticklabels=False )\n",
        "plt.title(\"Missing Values Percentage\")"
      ]
    },
    {
      "cell_type": "markdown",
      "metadata": {
        "id": "is0eH5YhoK0M"
      },
      "source": [
        "- Dataset dose not contains any NA values, null values and duplicates."
      ]
    },
    {
      "cell_type": "markdown",
      "metadata": {
        "id": "ijS9V8B1H4EY"
      },
      "source": [
        "## Data Processing"
      ]
    },
    {
      "cell_type": "markdown",
      "metadata": {
        "id": "xBAO0IaWoffU"
      },
      "source": [
        "**Changing name of some columns for simplicity and better understanding**"
      ]
    },
    {
      "cell_type": "code",
      "execution_count": 12,
      "metadata": {
        "id": "Uw0yJhv_dkDk"
      },
      "outputs": [],
      "source": [
        "#renaming of columns\n",
        "df.rename(columns={'default payment next month' : 'IsDefaulter'}, inplace=True)\n",
        "df.rename(columns={'PAY_0':'PAY_SEPT','PAY_2':'PAY_AUG','PAY_3':'PAY_JUL','PAY_4':'PAY_JUN','PAY_5':'PAY_MAY','PAY_6':'PAY_APR'},inplace=True)\n",
        "df.rename(columns={'BILL_AMT1':'BILL_AMT_SEPT','BILL_AMT2':'BILL_AMT_AUG','BILL_AMT3':'BILL_AMT_JUL','BILL_AMT4':'BILL_AMT_JUN','BILL_AMT5':'BILL_AMT_MAY','BILL_AMT6':'BILL_AMT_APR'}, inplace = True)\n",
        "df.rename(columns={'PAY_AMT1':'PAY_AMT_SEPT','PAY_AMT2':'PAY_AMT_AUG','PAY_AMT3':'PAY_AMT_JUL','PAY_AMT4':'PAY_AMT_JUN','PAY_AMT5':'PAY_AMT_MAY','PAY_AMT6':'PAY_AMT_APR'},inplace=True)\n"
      ]
    },
    {
      "cell_type": "code",
      "execution_count": 13,
      "metadata": {
        "colab": {
          "base_uri": "https://localhost:8080/",
          "height": 300
        },
        "id": "99xAOczJJoXd",
        "outputId": "fcfe08c3-4eb1-4e08-ef75-d3baf5e7ebf5"
      },
      "outputs": [
        {
          "output_type": "execute_result",
          "data": {
            "text/plain": [
              "   ID  LIMIT_BAL  SEX  EDUCATION  MARRIAGE  AGE  PAY_SEPT  PAY_AUG  PAY_JUL  \\\n",
              "0   1      20000    2          2         1   24         2        2       -1   \n",
              "1   2     120000    2          2         2   26        -1        2        0   \n",
              "2   3      90000    2          2         2   34         0        0        0   \n",
              "3   4      50000    2          2         1   37         0        0        0   \n",
              "4   5      50000    1          2         1   57        -1        0       -1   \n",
              "\n",
              "   PAY_JUN  ...  BILL_AMT_JUN  BILL_AMT_MAY  BILL_AMT_APR  PAY_AMT_SEPT  \\\n",
              "0       -1  ...             0             0             0             0   \n",
              "1        0  ...          3272          3455          3261             0   \n",
              "2        0  ...         14331         14948         15549          1518   \n",
              "3        0  ...         28314         28959         29547          2000   \n",
              "4        0  ...         20940         19146         19131          2000   \n",
              "\n",
              "   PAY_AMT_AUG  PAY_AMT_JUL  PAY_AMT_JUN  PAY_AMT_MAY  PAY_AMT_APR  \\\n",
              "0          689            0            0            0            0   \n",
              "1         1000         1000         1000            0         2000   \n",
              "2         1500         1000         1000         1000         5000   \n",
              "3         2019         1200         1100         1069         1000   \n",
              "4        36681        10000         9000          689          679   \n",
              "\n",
              "   IsDefaulter  \n",
              "0            1  \n",
              "1            1  \n",
              "2            0  \n",
              "3            0  \n",
              "4            0  \n",
              "\n",
              "[5 rows x 25 columns]"
            ],
            "text/html": [
              "\n",
              "  <div id=\"df-e7ed90ec-0733-4e58-b94b-e3b93f791161\">\n",
              "    <div class=\"colab-df-container\">\n",
              "      <div>\n",
              "<style scoped>\n",
              "    .dataframe tbody tr th:only-of-type {\n",
              "        vertical-align: middle;\n",
              "    }\n",
              "\n",
              "    .dataframe tbody tr th {\n",
              "        vertical-align: top;\n",
              "    }\n",
              "\n",
              "    .dataframe thead th {\n",
              "        text-align: right;\n",
              "    }\n",
              "</style>\n",
              "<table border=\"1\" class=\"dataframe\">\n",
              "  <thead>\n",
              "    <tr style=\"text-align: right;\">\n",
              "      <th></th>\n",
              "      <th>ID</th>\n",
              "      <th>LIMIT_BAL</th>\n",
              "      <th>SEX</th>\n",
              "      <th>EDUCATION</th>\n",
              "      <th>MARRIAGE</th>\n",
              "      <th>AGE</th>\n",
              "      <th>PAY_SEPT</th>\n",
              "      <th>PAY_AUG</th>\n",
              "      <th>PAY_JUL</th>\n",
              "      <th>PAY_JUN</th>\n",
              "      <th>...</th>\n",
              "      <th>BILL_AMT_JUN</th>\n",
              "      <th>BILL_AMT_MAY</th>\n",
              "      <th>BILL_AMT_APR</th>\n",
              "      <th>PAY_AMT_SEPT</th>\n",
              "      <th>PAY_AMT_AUG</th>\n",
              "      <th>PAY_AMT_JUL</th>\n",
              "      <th>PAY_AMT_JUN</th>\n",
              "      <th>PAY_AMT_MAY</th>\n",
              "      <th>PAY_AMT_APR</th>\n",
              "      <th>IsDefaulter</th>\n",
              "    </tr>\n",
              "  </thead>\n",
              "  <tbody>\n",
              "    <tr>\n",
              "      <th>0</th>\n",
              "      <td>1</td>\n",
              "      <td>20000</td>\n",
              "      <td>2</td>\n",
              "      <td>2</td>\n",
              "      <td>1</td>\n",
              "      <td>24</td>\n",
              "      <td>2</td>\n",
              "      <td>2</td>\n",
              "      <td>-1</td>\n",
              "      <td>-1</td>\n",
              "      <td>...</td>\n",
              "      <td>0</td>\n",
              "      <td>0</td>\n",
              "      <td>0</td>\n",
              "      <td>0</td>\n",
              "      <td>689</td>\n",
              "      <td>0</td>\n",
              "      <td>0</td>\n",
              "      <td>0</td>\n",
              "      <td>0</td>\n",
              "      <td>1</td>\n",
              "    </tr>\n",
              "    <tr>\n",
              "      <th>1</th>\n",
              "      <td>2</td>\n",
              "      <td>120000</td>\n",
              "      <td>2</td>\n",
              "      <td>2</td>\n",
              "      <td>2</td>\n",
              "      <td>26</td>\n",
              "      <td>-1</td>\n",
              "      <td>2</td>\n",
              "      <td>0</td>\n",
              "      <td>0</td>\n",
              "      <td>...</td>\n",
              "      <td>3272</td>\n",
              "      <td>3455</td>\n",
              "      <td>3261</td>\n",
              "      <td>0</td>\n",
              "      <td>1000</td>\n",
              "      <td>1000</td>\n",
              "      <td>1000</td>\n",
              "      <td>0</td>\n",
              "      <td>2000</td>\n",
              "      <td>1</td>\n",
              "    </tr>\n",
              "    <tr>\n",
              "      <th>2</th>\n",
              "      <td>3</td>\n",
              "      <td>90000</td>\n",
              "      <td>2</td>\n",
              "      <td>2</td>\n",
              "      <td>2</td>\n",
              "      <td>34</td>\n",
              "      <td>0</td>\n",
              "      <td>0</td>\n",
              "      <td>0</td>\n",
              "      <td>0</td>\n",
              "      <td>...</td>\n",
              "      <td>14331</td>\n",
              "      <td>14948</td>\n",
              "      <td>15549</td>\n",
              "      <td>1518</td>\n",
              "      <td>1500</td>\n",
              "      <td>1000</td>\n",
              "      <td>1000</td>\n",
              "      <td>1000</td>\n",
              "      <td>5000</td>\n",
              "      <td>0</td>\n",
              "    </tr>\n",
              "    <tr>\n",
              "      <th>3</th>\n",
              "      <td>4</td>\n",
              "      <td>50000</td>\n",
              "      <td>2</td>\n",
              "      <td>2</td>\n",
              "      <td>1</td>\n",
              "      <td>37</td>\n",
              "      <td>0</td>\n",
              "      <td>0</td>\n",
              "      <td>0</td>\n",
              "      <td>0</td>\n",
              "      <td>...</td>\n",
              "      <td>28314</td>\n",
              "      <td>28959</td>\n",
              "      <td>29547</td>\n",
              "      <td>2000</td>\n",
              "      <td>2019</td>\n",
              "      <td>1200</td>\n",
              "      <td>1100</td>\n",
              "      <td>1069</td>\n",
              "      <td>1000</td>\n",
              "      <td>0</td>\n",
              "    </tr>\n",
              "    <tr>\n",
              "      <th>4</th>\n",
              "      <td>5</td>\n",
              "      <td>50000</td>\n",
              "      <td>1</td>\n",
              "      <td>2</td>\n",
              "      <td>1</td>\n",
              "      <td>57</td>\n",
              "      <td>-1</td>\n",
              "      <td>0</td>\n",
              "      <td>-1</td>\n",
              "      <td>0</td>\n",
              "      <td>...</td>\n",
              "      <td>20940</td>\n",
              "      <td>19146</td>\n",
              "      <td>19131</td>\n",
              "      <td>2000</td>\n",
              "      <td>36681</td>\n",
              "      <td>10000</td>\n",
              "      <td>9000</td>\n",
              "      <td>689</td>\n",
              "      <td>679</td>\n",
              "      <td>0</td>\n",
              "    </tr>\n",
              "  </tbody>\n",
              "</table>\n",
              "<p>5 rows × 25 columns</p>\n",
              "</div>\n",
              "      <button class=\"colab-df-convert\" onclick=\"convertToInteractive('df-e7ed90ec-0733-4e58-b94b-e3b93f791161')\"\n",
              "              title=\"Convert this dataframe to an interactive table.\"\n",
              "              style=\"display:none;\">\n",
              "        \n",
              "  <svg xmlns=\"http://www.w3.org/2000/svg\" height=\"24px\"viewBox=\"0 0 24 24\"\n",
              "       width=\"24px\">\n",
              "    <path d=\"M0 0h24v24H0V0z\" fill=\"none\"/>\n",
              "    <path d=\"M18.56 5.44l.94 2.06.94-2.06 2.06-.94-2.06-.94-.94-2.06-.94 2.06-2.06.94zm-11 1L8.5 8.5l.94-2.06 2.06-.94-2.06-.94L8.5 2.5l-.94 2.06-2.06.94zm10 10l.94 2.06.94-2.06 2.06-.94-2.06-.94-.94-2.06-.94 2.06-2.06.94z\"/><path d=\"M17.41 7.96l-1.37-1.37c-.4-.4-.92-.59-1.43-.59-.52 0-1.04.2-1.43.59L10.3 9.45l-7.72 7.72c-.78.78-.78 2.05 0 2.83L4 21.41c.39.39.9.59 1.41.59.51 0 1.02-.2 1.41-.59l7.78-7.78 2.81-2.81c.8-.78.8-2.07 0-2.86zM5.41 20L4 18.59l7.72-7.72 1.47 1.35L5.41 20z\"/>\n",
              "  </svg>\n",
              "      </button>\n",
              "      \n",
              "  <style>\n",
              "    .colab-df-container {\n",
              "      display:flex;\n",
              "      flex-wrap:wrap;\n",
              "      gap: 12px;\n",
              "    }\n",
              "\n",
              "    .colab-df-convert {\n",
              "      background-color: #E8F0FE;\n",
              "      border: none;\n",
              "      border-radius: 50%;\n",
              "      cursor: pointer;\n",
              "      display: none;\n",
              "      fill: #1967D2;\n",
              "      height: 32px;\n",
              "      padding: 0 0 0 0;\n",
              "      width: 32px;\n",
              "    }\n",
              "\n",
              "    .colab-df-convert:hover {\n",
              "      background-color: #E2EBFA;\n",
              "      box-shadow: 0px 1px 2px rgba(60, 64, 67, 0.3), 0px 1px 3px 1px rgba(60, 64, 67, 0.15);\n",
              "      fill: #174EA6;\n",
              "    }\n",
              "\n",
              "    [theme=dark] .colab-df-convert {\n",
              "      background-color: #3B4455;\n",
              "      fill: #D2E3FC;\n",
              "    }\n",
              "\n",
              "    [theme=dark] .colab-df-convert:hover {\n",
              "      background-color: #434B5C;\n",
              "      box-shadow: 0px 1px 3px 1px rgba(0, 0, 0, 0.15);\n",
              "      filter: drop-shadow(0px 1px 2px rgba(0, 0, 0, 0.3));\n",
              "      fill: #FFFFFF;\n",
              "    }\n",
              "  </style>\n",
              "\n",
              "      <script>\n",
              "        const buttonEl =\n",
              "          document.querySelector('#df-e7ed90ec-0733-4e58-b94b-e3b93f791161 button.colab-df-convert');\n",
              "        buttonEl.style.display =\n",
              "          google.colab.kernel.accessAllowed ? 'block' : 'none';\n",
              "\n",
              "        async function convertToInteractive(key) {\n",
              "          const element = document.querySelector('#df-e7ed90ec-0733-4e58-b94b-e3b93f791161');\n",
              "          const dataTable =\n",
              "            await google.colab.kernel.invokeFunction('convertToInteractive',\n",
              "                                                     [key], {});\n",
              "          if (!dataTable) return;\n",
              "\n",
              "          const docLinkHtml = 'Like what you see? Visit the ' +\n",
              "            '<a target=\"_blank\" href=https://colab.research.google.com/notebooks/data_table.ipynb>data table notebook</a>'\n",
              "            + ' to learn more about interactive tables.';\n",
              "          element.innerHTML = '';\n",
              "          dataTable['output_type'] = 'display_data';\n",
              "          await google.colab.output.renderOutput(dataTable, element);\n",
              "          const docLink = document.createElement('div');\n",
              "          docLink.innerHTML = docLinkHtml;\n",
              "          element.appendChild(docLink);\n",
              "        }\n",
              "      </script>\n",
              "    </div>\n",
              "  </div>\n",
              "  "
            ]
          },
          "metadata": {},
          "execution_count": 13
        }
      ],
      "source": [
        "#check for rename\n",
        "\n",
        "df.head()"
      ]
    },
    {
      "cell_type": "code",
      "execution_count": 14,
      "metadata": {
        "id": "SLVo2IXgdkAs"
      },
      "outputs": [],
      "source": [
        "#replacing values with labels\n",
        "#replacing values with there labels\n",
        "df.replace({'SEX': {1 : 'Male', 2 : 'Female'}}, inplace=True)\n",
        "df.replace({'EDUCATION' : {1 : 'Graduate School', 2 : 'University', 3 : 'High School', 4 : 'Others'}}, inplace=True)\n",
        "df.replace({'MARRIAGE' : {1 : 'Married', 2 : 'Single', 3 : 'Others'}}, inplace = True)\n",
        "df.replace({'IsDefaulter' : {1 : 'Yes', 0 : 'No'}}, inplace = True)"
      ]
    },
    {
      "cell_type": "code",
      "execution_count": 15,
      "metadata": {
        "colab": {
          "base_uri": "https://localhost:8080/",
          "height": 300
        },
        "id": "YorkEN0cdj9P",
        "outputId": "2f7257d4-a720-479d-ebe9-b93171cf7f83"
      },
      "outputs": [
        {
          "output_type": "execute_result",
          "data": {
            "text/plain": [
              "   ID  LIMIT_BAL     SEX   EDUCATION MARRIAGE  AGE  PAY_SEPT  PAY_AUG  \\\n",
              "0   1      20000  Female  University  Married   24         2        2   \n",
              "1   2     120000  Female  University   Single   26        -1        2   \n",
              "2   3      90000  Female  University   Single   34         0        0   \n",
              "3   4      50000  Female  University  Married   37         0        0   \n",
              "4   5      50000    Male  University  Married   57        -1        0   \n",
              "\n",
              "   PAY_JUL  PAY_JUN  ...  BILL_AMT_JUN  BILL_AMT_MAY  BILL_AMT_APR  \\\n",
              "0       -1       -1  ...             0             0             0   \n",
              "1        0        0  ...          3272          3455          3261   \n",
              "2        0        0  ...         14331         14948         15549   \n",
              "3        0        0  ...         28314         28959         29547   \n",
              "4       -1        0  ...         20940         19146         19131   \n",
              "\n",
              "   PAY_AMT_SEPT  PAY_AMT_AUG  PAY_AMT_JUL  PAY_AMT_JUN  PAY_AMT_MAY  \\\n",
              "0             0          689            0            0            0   \n",
              "1             0         1000         1000         1000            0   \n",
              "2          1518         1500         1000         1000         1000   \n",
              "3          2000         2019         1200         1100         1069   \n",
              "4          2000        36681        10000         9000          689   \n",
              "\n",
              "   PAY_AMT_APR  IsDefaulter  \n",
              "0            0          Yes  \n",
              "1         2000          Yes  \n",
              "2         5000           No  \n",
              "3         1000           No  \n",
              "4          679           No  \n",
              "\n",
              "[5 rows x 25 columns]"
            ],
            "text/html": [
              "\n",
              "  <div id=\"df-fa1a72a4-40b8-4d0b-b99f-90d03b331543\">\n",
              "    <div class=\"colab-df-container\">\n",
              "      <div>\n",
              "<style scoped>\n",
              "    .dataframe tbody tr th:only-of-type {\n",
              "        vertical-align: middle;\n",
              "    }\n",
              "\n",
              "    .dataframe tbody tr th {\n",
              "        vertical-align: top;\n",
              "    }\n",
              "\n",
              "    .dataframe thead th {\n",
              "        text-align: right;\n",
              "    }\n",
              "</style>\n",
              "<table border=\"1\" class=\"dataframe\">\n",
              "  <thead>\n",
              "    <tr style=\"text-align: right;\">\n",
              "      <th></th>\n",
              "      <th>ID</th>\n",
              "      <th>LIMIT_BAL</th>\n",
              "      <th>SEX</th>\n",
              "      <th>EDUCATION</th>\n",
              "      <th>MARRIAGE</th>\n",
              "      <th>AGE</th>\n",
              "      <th>PAY_SEPT</th>\n",
              "      <th>PAY_AUG</th>\n",
              "      <th>PAY_JUL</th>\n",
              "      <th>PAY_JUN</th>\n",
              "      <th>...</th>\n",
              "      <th>BILL_AMT_JUN</th>\n",
              "      <th>BILL_AMT_MAY</th>\n",
              "      <th>BILL_AMT_APR</th>\n",
              "      <th>PAY_AMT_SEPT</th>\n",
              "      <th>PAY_AMT_AUG</th>\n",
              "      <th>PAY_AMT_JUL</th>\n",
              "      <th>PAY_AMT_JUN</th>\n",
              "      <th>PAY_AMT_MAY</th>\n",
              "      <th>PAY_AMT_APR</th>\n",
              "      <th>IsDefaulter</th>\n",
              "    </tr>\n",
              "  </thead>\n",
              "  <tbody>\n",
              "    <tr>\n",
              "      <th>0</th>\n",
              "      <td>1</td>\n",
              "      <td>20000</td>\n",
              "      <td>Female</td>\n",
              "      <td>University</td>\n",
              "      <td>Married</td>\n",
              "      <td>24</td>\n",
              "      <td>2</td>\n",
              "      <td>2</td>\n",
              "      <td>-1</td>\n",
              "      <td>-1</td>\n",
              "      <td>...</td>\n",
              "      <td>0</td>\n",
              "      <td>0</td>\n",
              "      <td>0</td>\n",
              "      <td>0</td>\n",
              "      <td>689</td>\n",
              "      <td>0</td>\n",
              "      <td>0</td>\n",
              "      <td>0</td>\n",
              "      <td>0</td>\n",
              "      <td>Yes</td>\n",
              "    </tr>\n",
              "    <tr>\n",
              "      <th>1</th>\n",
              "      <td>2</td>\n",
              "      <td>120000</td>\n",
              "      <td>Female</td>\n",
              "      <td>University</td>\n",
              "      <td>Single</td>\n",
              "      <td>26</td>\n",
              "      <td>-1</td>\n",
              "      <td>2</td>\n",
              "      <td>0</td>\n",
              "      <td>0</td>\n",
              "      <td>...</td>\n",
              "      <td>3272</td>\n",
              "      <td>3455</td>\n",
              "      <td>3261</td>\n",
              "      <td>0</td>\n",
              "      <td>1000</td>\n",
              "      <td>1000</td>\n",
              "      <td>1000</td>\n",
              "      <td>0</td>\n",
              "      <td>2000</td>\n",
              "      <td>Yes</td>\n",
              "    </tr>\n",
              "    <tr>\n",
              "      <th>2</th>\n",
              "      <td>3</td>\n",
              "      <td>90000</td>\n",
              "      <td>Female</td>\n",
              "      <td>University</td>\n",
              "      <td>Single</td>\n",
              "      <td>34</td>\n",
              "      <td>0</td>\n",
              "      <td>0</td>\n",
              "      <td>0</td>\n",
              "      <td>0</td>\n",
              "      <td>...</td>\n",
              "      <td>14331</td>\n",
              "      <td>14948</td>\n",
              "      <td>15549</td>\n",
              "      <td>1518</td>\n",
              "      <td>1500</td>\n",
              "      <td>1000</td>\n",
              "      <td>1000</td>\n",
              "      <td>1000</td>\n",
              "      <td>5000</td>\n",
              "      <td>No</td>\n",
              "    </tr>\n",
              "    <tr>\n",
              "      <th>3</th>\n",
              "      <td>4</td>\n",
              "      <td>50000</td>\n",
              "      <td>Female</td>\n",
              "      <td>University</td>\n",
              "      <td>Married</td>\n",
              "      <td>37</td>\n",
              "      <td>0</td>\n",
              "      <td>0</td>\n",
              "      <td>0</td>\n",
              "      <td>0</td>\n",
              "      <td>...</td>\n",
              "      <td>28314</td>\n",
              "      <td>28959</td>\n",
              "      <td>29547</td>\n",
              "      <td>2000</td>\n",
              "      <td>2019</td>\n",
              "      <td>1200</td>\n",
              "      <td>1100</td>\n",
              "      <td>1069</td>\n",
              "      <td>1000</td>\n",
              "      <td>No</td>\n",
              "    </tr>\n",
              "    <tr>\n",
              "      <th>4</th>\n",
              "      <td>5</td>\n",
              "      <td>50000</td>\n",
              "      <td>Male</td>\n",
              "      <td>University</td>\n",
              "      <td>Married</td>\n",
              "      <td>57</td>\n",
              "      <td>-1</td>\n",
              "      <td>0</td>\n",
              "      <td>-1</td>\n",
              "      <td>0</td>\n",
              "      <td>...</td>\n",
              "      <td>20940</td>\n",
              "      <td>19146</td>\n",
              "      <td>19131</td>\n",
              "      <td>2000</td>\n",
              "      <td>36681</td>\n",
              "      <td>10000</td>\n",
              "      <td>9000</td>\n",
              "      <td>689</td>\n",
              "      <td>679</td>\n",
              "      <td>No</td>\n",
              "    </tr>\n",
              "  </tbody>\n",
              "</table>\n",
              "<p>5 rows × 25 columns</p>\n",
              "</div>\n",
              "      <button class=\"colab-df-convert\" onclick=\"convertToInteractive('df-fa1a72a4-40b8-4d0b-b99f-90d03b331543')\"\n",
              "              title=\"Convert this dataframe to an interactive table.\"\n",
              "              style=\"display:none;\">\n",
              "        \n",
              "  <svg xmlns=\"http://www.w3.org/2000/svg\" height=\"24px\"viewBox=\"0 0 24 24\"\n",
              "       width=\"24px\">\n",
              "    <path d=\"M0 0h24v24H0V0z\" fill=\"none\"/>\n",
              "    <path d=\"M18.56 5.44l.94 2.06.94-2.06 2.06-.94-2.06-.94-.94-2.06-.94 2.06-2.06.94zm-11 1L8.5 8.5l.94-2.06 2.06-.94-2.06-.94L8.5 2.5l-.94 2.06-2.06.94zm10 10l.94 2.06.94-2.06 2.06-.94-2.06-.94-.94-2.06-.94 2.06-2.06.94z\"/><path d=\"M17.41 7.96l-1.37-1.37c-.4-.4-.92-.59-1.43-.59-.52 0-1.04.2-1.43.59L10.3 9.45l-7.72 7.72c-.78.78-.78 2.05 0 2.83L4 21.41c.39.39.9.59 1.41.59.51 0 1.02-.2 1.41-.59l7.78-7.78 2.81-2.81c.8-.78.8-2.07 0-2.86zM5.41 20L4 18.59l7.72-7.72 1.47 1.35L5.41 20z\"/>\n",
              "  </svg>\n",
              "      </button>\n",
              "      \n",
              "  <style>\n",
              "    .colab-df-container {\n",
              "      display:flex;\n",
              "      flex-wrap:wrap;\n",
              "      gap: 12px;\n",
              "    }\n",
              "\n",
              "    .colab-df-convert {\n",
              "      background-color: #E8F0FE;\n",
              "      border: none;\n",
              "      border-radius: 50%;\n",
              "      cursor: pointer;\n",
              "      display: none;\n",
              "      fill: #1967D2;\n",
              "      height: 32px;\n",
              "      padding: 0 0 0 0;\n",
              "      width: 32px;\n",
              "    }\n",
              "\n",
              "    .colab-df-convert:hover {\n",
              "      background-color: #E2EBFA;\n",
              "      box-shadow: 0px 1px 2px rgba(60, 64, 67, 0.3), 0px 1px 3px 1px rgba(60, 64, 67, 0.15);\n",
              "      fill: #174EA6;\n",
              "    }\n",
              "\n",
              "    [theme=dark] .colab-df-convert {\n",
              "      background-color: #3B4455;\n",
              "      fill: #D2E3FC;\n",
              "    }\n",
              "\n",
              "    [theme=dark] .colab-df-convert:hover {\n",
              "      background-color: #434B5C;\n",
              "      box-shadow: 0px 1px 3px 1px rgba(0, 0, 0, 0.15);\n",
              "      filter: drop-shadow(0px 1px 2px rgba(0, 0, 0, 0.3));\n",
              "      fill: #FFFFFF;\n",
              "    }\n",
              "  </style>\n",
              "\n",
              "      <script>\n",
              "        const buttonEl =\n",
              "          document.querySelector('#df-fa1a72a4-40b8-4d0b-b99f-90d03b331543 button.colab-df-convert');\n",
              "        buttonEl.style.display =\n",
              "          google.colab.kernel.accessAllowed ? 'block' : 'none';\n",
              "\n",
              "        async function convertToInteractive(key) {\n",
              "          const element = document.querySelector('#df-fa1a72a4-40b8-4d0b-b99f-90d03b331543');\n",
              "          const dataTable =\n",
              "            await google.colab.kernel.invokeFunction('convertToInteractive',\n",
              "                                                     [key], {});\n",
              "          if (!dataTable) return;\n",
              "\n",
              "          const docLinkHtml = 'Like what you see? Visit the ' +\n",
              "            '<a target=\"_blank\" href=https://colab.research.google.com/notebooks/data_table.ipynb>data table notebook</a>'\n",
              "            + ' to learn more about interactive tables.';\n",
              "          element.innerHTML = '';\n",
              "          dataTable['output_type'] = 'display_data';\n",
              "          await google.colab.output.renderOutput(dataTable, element);\n",
              "          const docLink = document.createElement('div');\n",
              "          docLink.innerHTML = docLinkHtml;\n",
              "          element.appendChild(docLink);\n",
              "        }\n",
              "      </script>\n",
              "    </div>\n",
              "  </div>\n",
              "  "
            ]
          },
          "metadata": {},
          "execution_count": 15
        }
      ],
      "source": [
        "#checking for replaced labels\n",
        "df.head()"
      ]
    },
    {
      "cell_type": "markdown",
      "metadata": {
        "id": "UHjSs2UZbHXS"
      },
      "source": [
        "# **EDA (Exploratory Data Analysis)**"
      ]
    },
    {
      "cell_type": "markdown",
      "metadata": {
        "id": "FgQqTHJGJLfJ"
      },
      "source": [
        "## **Dependent Variable:**"
      ]
    },
    {
      "cell_type": "markdown",
      "metadata": {
        "id": "9lkC4tkKAXs0"
      },
      "source": [
        "## Is Defaulter"
      ]
    },
    {
      "cell_type": "code",
      "execution_count": 16,
      "metadata": {
        "colab": {
          "base_uri": "https://localhost:8080/"
        },
        "id": "l5jZo72dbr6H",
        "outputId": "5b2120d3-b4be-4183-83e2-85a8e6179144"
      },
      "outputs": [
        {
          "output_type": "execute_result",
          "data": {
            "text/plain": [
              "No     23364\n",
              "Yes     6636\n",
              "Name: IsDefaulter, dtype: int64"
            ]
          },
          "metadata": {},
          "execution_count": 16
        }
      ],
      "source": [
        "#Value counts of Isdefaulter\n",
        "df['IsDefaulter'].value_counts()"
      ]
    },
    {
      "cell_type": "code",
      "execution_count": 17,
      "metadata": {
        "colab": {
          "base_uri": "https://localhost:8080/",
          "height": 351
        },
        "id": "FWB6ykB6HkHT",
        "outputId": "85e4fdcf-11eb-4443-f150-0973285d999f"
      },
      "outputs": [
        {
          "output_type": "execute_result",
          "data": {
            "text/plain": [
              "<matplotlib.axes._subplots.AxesSubplot at 0x7f1272e61bb0>"
            ]
          },
          "metadata": {},
          "execution_count": 17
        },
        {
          "output_type": "display_data",
          "data": {
            "text/plain": [
              "<Figure size 432x360 with 1 Axes>"
            ],
            "image/png": "[encoded data removed]"
          },
          "metadata": {
            "needs_background": "light"
          }
        }
      ],
      "source": [
        "#value count plot for IsDefaulter\n",
        "plt.figure(figsize=(6,5))\n",
        "sns.countplot(x = 'IsDefaulter', data = df)"
      ]
    },
    {
      "cell_type": "markdown",
      "metadata": {
        "id": "O3bGS9g3cHu5"
      },
      "source": [
        "Here we can see defaulters are less as compare to Non defaulter in the given dataset, So we can say that we have imbalanced dataset"
      ]
    },
    {
      "cell_type": "markdown",
      "metadata": {
        "id": "zM572apUQpst"
      },
      "source": [
        "##Independent Variable"
      ]
    },
    {
      "cell_type": "markdown",
      "metadata": {
        "id": "LDHUcIGjQ9NA"
      },
      "source": [
        "## Categorical Features"
      ]
    },
    {
      "cell_type": "markdown",
      "metadata": {
        "id": "gY-dc-qWp4wb"
      },
      "source": [
        "We have few categorical features in our dataset. Let'Check how they are related with out target class."
      ]
    },
    {
      "cell_type": "markdown",
      "metadata": {
        "id": "5LdXOQXwRUaF"
      },
      "source": [
        "###**Sex**"
      ]
    },
    {
      "cell_type": "code",
      "execution_count": 18,
      "metadata": {
        "colab": {
          "base_uri": "https://localhost:8080/"
        },
        "id": "oRfYKckwHkDf",
        "outputId": "590ad8f4-04ef-44fd-8c40-51b192d0b140"
      },
      "outputs": [
        {
          "output_type": "execute_result",
          "data": {
            "text/plain": [
              "Female    18112\n",
              "Male      11888\n",
              "Name: SEX, dtype: int64"
            ]
          },
          "metadata": {},
          "execution_count": 18
        }
      ],
      "source": [
        "#Value counts for sex category\n",
        "df['SEX'].value_counts()"
      ]
    },
    {
      "cell_type": "code",
      "execution_count": 19,
      "metadata": {
        "colab": {
          "base_uri": "https://localhost:8080/",
          "height": 351
        },
        "id": "SDk8F6QrAz_S",
        "outputId": "bb8cbcf1-2505-43ea-c96f-f59edb6a2b07"
      },
      "outputs": [
        {
          "output_type": "execute_result",
          "data": {
            "text/plain": [
              "<matplotlib.axes._subplots.AxesSubplot at 0x7f12700aa2b0>"
            ]
          },
          "metadata": {},
          "execution_count": 19
        },
        {
          "output_type": "display_data",
          "data": {
            "text/plain": [
              "<Figure size 720x360 with 2 Axes>"
            ],
            "image/png": "[encoded data removed]"
          },
          "metadata": {
            "needs_background": "light"
          }
        }
      ],
      "source": [
        "#count plot for Sex and with respect to IsDefaulter\n",
        "fig, axes = plt.subplots(ncols=2,figsize=(10,5))\n",
        "sns.countplot(x = 'SEX', ax = axes[0], data = df)\n",
        "sns.countplot(x = 'SEX', hue = 'IsDefaulter',ax = axes[1], data = df)"
      ]
    },
    {
      "cell_type": "markdown",
      "metadata": {
        "id": "pce7H_DTRQ0w"
      },
      "source": [
        "###**Education**"
      ]
    },
    {
      "cell_type": "markdown",
      "metadata": {
        "id": "u--3_5MWS9wt"
      },
      "source": [
        "As we can see in dataset we have values like 5,6,0 as well for which we are not having description so we can add up them in 4, which is Others."
      ]
    },
    {
      "cell_type": "code",
      "execution_count": 20,
      "metadata": {
        "id": "w6-PM-Ago3Gr"
      },
      "outputs": [],
      "source": [
        "fil = (df['EDUCATION'] == 0) | (df['EDUCATION'] == 5) | (df['EDUCATION'] == 6) | (df['EDUCATION'] == 4)\n",
        "df.loc[fil, 'EDUCATION'] = 'Others'"
      ]
    },
    {
      "cell_type": "code",
      "execution_count": 21,
      "metadata": {
        "colab": {
          "base_uri": "https://localhost:8080/"
        },
        "id": "2wXnOxDicd1l",
        "outputId": "317cb259-2054-4cce-96c6-470c9e7f2cf8"
      },
      "outputs": [
        {
          "output_type": "execute_result",
          "data": {
            "text/plain": [
              "University         14030\n",
              "Graduate School    10585\n",
              "High School         4917\n",
              "Others               468\n",
              "Name: EDUCATION, dtype: int64"
            ]
          },
          "metadata": {},
          "execution_count": 21
        }
      ],
      "source": [
        "#Value counts for education category\n",
        "df['EDUCATION'].value_counts()"
      ]
    },
    {
      "cell_type": "code",
      "execution_count": 22,
      "metadata": {
        "colab": {
          "base_uri": "https://localhost:8080/",
          "height": 351
        },
        "id": "OC-PkRyESEKD",
        "outputId": "a959569f-8b5b-4965-a1f7-6f6afe3a2e0a"
      },
      "outputs": [
        {
          "output_type": "execute_result",
          "data": {
            "text/plain": [
              "<matplotlib.axes._subplots.AxesSubplot at 0x7f1272f18340>"
            ]
          },
          "metadata": {},
          "execution_count": 22
        },
        {
          "output_type": "display_data",
          "data": {
            "text/plain": [
              "<Figure size 1296x360 with 2 Axes>"
            ],
            "image/png": "[encoded data removed]"
          },
          "metadata": {
            "needs_background": "light"
          }
        }
      ],
      "source": [
        "#count plot for EDUCATION and with respect to IsDefaulter\n",
        "fig, axes = plt.subplots(ncols=2,figsize=(18,5))\n",
        "sns.countplot(x = 'EDUCATION', ax = axes[0], data = df)\n",
        "sns.countplot(x = 'EDUCATION', hue = 'IsDefaulter',ax = axes[1], data = df)"
      ]
    },
    {
      "cell_type": "markdown",
      "metadata": {
        "id": "oScNhZZ4TDH_"
      },
      "source": [
        "###**Marriage**"
      ]
    },
    {
      "cell_type": "code",
      "execution_count": 23,
      "metadata": {
        "colab": {
          "base_uri": "https://localhost:8080/"
        },
        "id": "fcK6MHwHomEg",
        "outputId": "f8625b29-bff7-4cda-df50-0cfde4e40fd4"
      },
      "outputs": [
        {
          "output_type": "execute_result",
          "data": {
            "text/plain": [
              "Single     15964\n",
              "Married    13659\n",
              "Others       377\n",
              "Name: MARRIAGE, dtype: int64"
            ]
          },
          "metadata": {},
          "execution_count": 23
        }
      ],
      "source": [
        "#Value counts for marriage category\n",
        "fil = df['MARRIAGE']==0\n",
        "df.loc[fil,'MARRIAGE'] = 'Others'\n",
        "df['MARRIAGE'].value_counts()\n"
      ]
    },
    {
      "cell_type": "code",
      "execution_count": 24,
      "metadata": {
        "colab": {
          "base_uri": "https://localhost:8080/",
          "height": 351
        },
        "id": "ydK3vt_DBISM",
        "outputId": "fa065a8c-f06e-4398-9a2b-3a6f08266363"
      },
      "outputs": [
        {
          "output_type": "execute_result",
          "data": {
            "text/plain": [
              "<matplotlib.axes._subplots.AxesSubplot at 0x7f126ff8eb20>"
            ]
          },
          "metadata": {},
          "execution_count": 24
        },
        {
          "output_type": "display_data",
          "data": {
            "text/plain": [
              "<Figure size 720x360 with 2 Axes>"
            ],
            "image/png": "[encoded data removed]"
          },
          "metadata": {
            "needs_background": "light"
          }
        }
      ],
      "source": [
        "#count plot for MARRIAGE and with respect to IsDefaulter\n",
        "fig, axes = plt.subplots(ncols=2,figsize=(10,5))\n",
        "sns.countplot(x = 'MARRIAGE', ax = axes[0], data = df)\n",
        "sns.countplot(x = 'MARRIAGE', hue = 'IsDefaulter',ax = axes[1], data = df)"
      ]
    },
    {
      "cell_type": "markdown",
      "metadata": {
        "id": "cWXWx4x5BbHm"
      },
      "source": [
        "###**Age**"
      ]
    },
    {
      "cell_type": "markdown",
      "metadata": {
        "id": "Fg52z4_sqYLo"
      },
      "source": [
        "Plotting graph of number of ages of all people with credit card irrespective of gender."
      ]
    },
    {
      "cell_type": "code",
      "execution_count": 25,
      "metadata": {
        "colab": {
          "base_uri": "https://localhost:8080/"
        },
        "id": "dPYXimNuBhF2",
        "outputId": "7fdcf47b-024e-4121-b6d4-4b92e7421df9"
      },
      "outputs": [
        {
          "output_type": "execute_result",
          "data": {
            "text/plain": [
              "29    1605\n",
              "27    1477\n",
              "28    1409\n",
              "30    1395\n",
              "26    1256\n",
              "31    1217\n",
              "25    1186\n",
              "34    1162\n",
              "32    1158\n",
              "33    1146\n",
              "24    1127\n",
              "35    1113\n",
              "36    1108\n",
              "37    1041\n",
              "39     954\n",
              "38     944\n",
              "23     931\n",
              "40     870\n",
              "41     824\n",
              "42     794\n",
              "44     700\n",
              "43     670\n",
              "45     617\n",
              "46     570\n",
              "22     560\n",
              "47     501\n",
              "48     466\n",
              "49     452\n",
              "50     411\n",
              "51     340\n",
              "53     325\n",
              "52     304\n",
              "54     247\n",
              "55     209\n",
              "56     178\n",
              "58     122\n",
              "57     122\n",
              "59      83\n",
              "60      67\n",
              "21      67\n",
              "61      56\n",
              "62      44\n",
              "63      31\n",
              "64      31\n",
              "66      25\n",
              "65      24\n",
              "67      16\n",
              "69      15\n",
              "70      10\n",
              "68       5\n",
              "73       4\n",
              "72       3\n",
              "75       3\n",
              "71       3\n",
              "79       1\n",
              "74       1\n",
              "Name: AGE, dtype: int64"
            ]
          },
          "metadata": {},
          "execution_count": 25
        }
      ],
      "source": [
        "#age wise values of credit card holder\n",
        "df['AGE'].value_counts()"
      ]
    },
    {
      "cell_type": "code",
      "execution_count": 26,
      "metadata": {
        "colab": {
          "base_uri": "https://localhost:8080/",
          "height": 514
        },
        "id": "eN7lx-veBjK9",
        "outputId": "cda15514-782d-4d7d-c54d-0cdc059bcd73"
      },
      "outputs": [
        {
          "output_type": "execute_result",
          "data": {
            "text/plain": [
              "<matplotlib.axes._subplots.AxesSubplot at 0x7f126ff04400>"
            ]
          },
          "metadata": {},
          "execution_count": 26
        },
        {
          "output_type": "display_data",
          "data": {
            "text/plain": [
              "<Figure size 1440x576 with 1 Axes>"
            ],
            "image/png": "[encoded data removed]"
          },
          "metadata": {
            "needs_background": "light"
          }
        }
      ],
      "source": [
        "#values count for AGE \n",
        "plt.figure(figsize=(20,8))\n",
        "sns.countplot(x = 'AGE', data = df)"
      ]
    },
    {
      "cell_type": "code",
      "execution_count": 27,
      "metadata": {
        "colab": {
          "base_uri": "https://localhost:8080/",
          "height": 514
        },
        "id": "5hwg43G5Bojc",
        "outputId": "a039c523-23e3-481a-d4c6-28275eb33eff"
      },
      "outputs": [
        {
          "output_type": "execute_result",
          "data": {
            "text/plain": [
              "<matplotlib.axes._subplots.AxesSubplot at 0x7f126fd47d30>"
            ]
          },
          "metadata": {},
          "execution_count": 27
        },
        {
          "output_type": "display_data",
          "data": {
            "text/plain": [
              "<Figure size 1440x576 with 1 Axes>"
            ],
            "image/png": "[encoded data removed]"
          },
          "metadata": {
            "needs_background": "light"
          }
        }
      ],
      "source": [
        "#values count for Age with respect to IsDefaulter\n",
        "plt.figure(figsize=(20,8))\n",
        "sns.countplot(x = 'AGE', hue = 'IsDefaulter', data = df)"
      ]
    },
    {
      "cell_type": "markdown",
      "metadata": {
        "id": "nuzpQUf8qFve"
      },
      "source": [
        "Below are few observations for categorical features:\n",
        "\n",
        "\n",
        "\n",
        "\n",
        "*   There are more females credit card holder,so no. of defaulter have high proportion of females.\n",
        "*   No. of defaulters have a higher proportion of educated people  (graduate school and university)\n",
        "*  No. of defaulters have a higher proportion of Singles.\n",
        "\n",
        "\n",
        "\n",
        "\n"
      ]
    },
    {
      "cell_type": "markdown",
      "metadata": {
        "id": "G9HNqmMPHDVz"
      },
      "source": [
        "## Checking Correlation"
      ]
    },
    {
      "cell_type": "code",
      "execution_count": 28,
      "metadata": {
        "colab": {
          "base_uri": "https://localhost:8080/",
          "height": 1000
        },
        "id": "4kQbpxmwGy7G",
        "outputId": "78146300-eabc-4163-da05-4d0868447c63"
      },
      "outputs": [
        {
          "output_type": "display_data",
          "data": {
            "text/plain": [
              "<Figure size 1440x1296 with 2 Axes>"
            ],
            "image/png": "[encoded data removed]"
          },
          "metadata": {
            "needs_background": "light"
          }
        }
      ],
      "source": [
        "plt.figure(figsize=(20,18))\n",
        "sns.heatmap(df.corr(),annot=True,cmap=\"coolwarm\")\n",
        "plt.show()"
      ]
    },
    {
      "cell_type": "code",
      "execution_count": 29,
      "metadata": {
        "colab": {
          "base_uri": "https://localhost:8080/"
        },
        "id": "3uygNRS-mSDo",
        "outputId": "1c2b3111-5e6d-43ca-da9c-f1fda572d292"
      },
      "outputs": [
        {
          "output_type": "execute_result",
          "data": {
            "text/plain": [
              "(30000, 25)"
            ]
          },
          "metadata": {},
          "execution_count": 29
        }
      ],
      "source": [
        "df.shape"
      ]
    },
    {
      "cell_type": "markdown",
      "metadata": {
        "id": "nWQ09VcwHCZ3"
      },
      "source": [
        "## One Hot Encoding"
      ]
    },
    {
      "cell_type": "code",
      "execution_count": 30,
      "metadata": {
        "id": "eEuSIC0MHCID"
      },
      "outputs": [],
      "source": [
        "#Label encoding \n",
        "encode_num = {\"SEX\":{\"Female\":0,\"Male\":1}, \"IsDefaulter\":{\"Yes\":1,\"No\":0}}\n",
        "df=df.replace(encode_num)"
      ]
    },
    {
      "cell_type": "code",
      "execution_count": 31,
      "metadata": {
        "colab": {
          "base_uri": "https://localhost:8080/",
          "height": 300
        },
        "id": "eGjO4kYiHCFG",
        "outputId": "9b2164cb-6096-40be-8327-377b4b7f975b"
      },
      "outputs": [
        {
          "output_type": "execute_result",
          "data": {
            "text/plain": [
              "   ID  LIMIT_BAL  SEX   EDUCATION MARRIAGE  AGE  PAY_SEPT  PAY_AUG  PAY_JUL  \\\n",
              "0   1      20000    0  University  Married   24         2        2       -1   \n",
              "1   2     120000    0  University   Single   26        -1        2        0   \n",
              "2   3      90000    0  University   Single   34         0        0        0   \n",
              "3   4      50000    0  University  Married   37         0        0        0   \n",
              "4   5      50000    1  University  Married   57        -1        0       -1   \n",
              "\n",
              "   PAY_JUN  ...  BILL_AMT_JUN  BILL_AMT_MAY  BILL_AMT_APR  PAY_AMT_SEPT  \\\n",
              "0       -1  ...             0             0             0             0   \n",
              "1        0  ...          3272          3455          3261             0   \n",
              "2        0  ...         14331         14948         15549          1518   \n",
              "3        0  ...         28314         28959         29547          2000   \n",
              "4        0  ...         20940         19146         19131          2000   \n",
              "\n",
              "   PAY_AMT_AUG  PAY_AMT_JUL  PAY_AMT_JUN  PAY_AMT_MAY  PAY_AMT_APR  \\\n",
              "0          689            0            0            0            0   \n",
              "1         1000         1000         1000            0         2000   \n",
              "2         1500         1000         1000         1000         5000   \n",
              "3         2019         1200         1100         1069         1000   \n",
              "4        36681        10000         9000          689          679   \n",
              "\n",
              "   IsDefaulter  \n",
              "0            1  \n",
              "1            1  \n",
              "2            0  \n",
              "3            0  \n",
              "4            0  \n",
              "\n",
              "[5 rows x 25 columns]"
            ],
            "text/html": [
              "\n",
              "  <div id=\"df-ab10eb86-ad53-4f8f-b4eb-6102896e6aac\">\n",
              "    <div class=\"colab-df-container\">\n",
              "      <div>\n",
              "<style scoped>\n",
              "    .dataframe tbody tr th:only-of-type {\n",
              "        vertical-align: middle;\n",
              "    }\n",
              "\n",
              "    .dataframe tbody tr th {\n",
              "        vertical-align: top;\n",
              "    }\n",
              "\n",
              "    .dataframe thead th {\n",
              "        text-align: right;\n",
              "    }\n",
              "</style>\n",
              "<table border=\"1\" class=\"dataframe\">\n",
              "  <thead>\n",
              "    <tr style=\"text-align: right;\">\n",
              "      <th></th>\n",
              "      <th>ID</th>\n",
              "      <th>LIMIT_BAL</th>\n",
              "      <th>SEX</th>\n",
              "      <th>EDUCATION</th>\n",
              "      <th>MARRIAGE</th>\n",
              "      <th>AGE</th>\n",
              "      <th>PAY_SEPT</th>\n",
              "      <th>PAY_AUG</th>\n",
              "      <th>PAY_JUL</th>\n",
              "      <th>PAY_JUN</th>\n",
              "      <th>...</th>\n",
              "      <th>BILL_AMT_JUN</th>\n",
              "      <th>BILL_AMT_MAY</th>\n",
              "      <th>BILL_AMT_APR</th>\n",
              "      <th>PAY_AMT_SEPT</th>\n",
              "      <th>PAY_AMT_AUG</th>\n",
              "      <th>PAY_AMT_JUL</th>\n",
              "      <th>PAY_AMT_JUN</th>\n",
              "      <th>PAY_AMT_MAY</th>\n",
              "      <th>PAY_AMT_APR</th>\n",
              "      <th>IsDefaulter</th>\n",
              "    </tr>\n",
              "  </thead>\n",
              "  <tbody>\n",
              "    <tr>\n",
              "      <th>0</th>\n",
              "      <td>1</td>\n",
              "      <td>20000</td>\n",
              "      <td>0</td>\n",
              "      <td>University</td>\n",
              "      <td>Married</td>\n",
              "      <td>24</td>\n",
              "      <td>2</td>\n",
              "      <td>2</td>\n",
              "      <td>-1</td>\n",
              "      <td>-1</td>\n",
              "      <td>...</td>\n",
              "      <td>0</td>\n",
              "      <td>0</td>\n",
              "      <td>0</td>\n",
              "      <td>0</td>\n",
              "      <td>689</td>\n",
              "      <td>0</td>\n",
              "      <td>0</td>\n",
              "      <td>0</td>\n",
              "      <td>0</td>\n",
              "      <td>1</td>\n",
              "    </tr>\n",
              "    <tr>\n",
              "      <th>1</th>\n",
              "      <td>2</td>\n",
              "      <td>120000</td>\n",
              "      <td>0</td>\n",
              "      <td>University</td>\n",
              "      <td>Single</td>\n",
              "      <td>26</td>\n",
              "      <td>-1</td>\n",
              "      <td>2</td>\n",
              "      <td>0</td>\n",
              "      <td>0</td>\n",
              "      <td>...</td>\n",
              "      <td>3272</td>\n",
              "      <td>3455</td>\n",
              "      <td>3261</td>\n",
              "      <td>0</td>\n",
              "      <td>1000</td>\n",
              "      <td>1000</td>\n",
              "      <td>1000</td>\n",
              "      <td>0</td>\n",
              "      <td>2000</td>\n",
              "      <td>1</td>\n",
              "    </tr>\n",
              "    <tr>\n",
              "      <th>2</th>\n",
              "      <td>3</td>\n",
              "      <td>90000</td>\n",
              "      <td>0</td>\n",
              "      <td>University</td>\n",
              "      <td>Single</td>\n",
              "      <td>34</td>\n",
              "      <td>0</td>\n",
              "      <td>0</td>\n",
              "      <td>0</td>\n",
              "      <td>0</td>\n",
              "      <td>...</td>\n",
              "      <td>14331</td>\n",
              "      <td>14948</td>\n",
              "      <td>15549</td>\n",
              "      <td>1518</td>\n",
              "      <td>1500</td>\n",
              "      <td>1000</td>\n",
              "      <td>1000</td>\n",
              "      <td>1000</td>\n",
              "      <td>5000</td>\n",
              "      <td>0</td>\n",
              "    </tr>\n",
              "    <tr>\n",
              "      <th>3</th>\n",
              "      <td>4</td>\n",
              "      <td>50000</td>\n",
              "      <td>0</td>\n",
              "      <td>University</td>\n",
              "      <td>Married</td>\n",
              "      <td>37</td>\n",
              "      <td>0</td>\n",
              "      <td>0</td>\n",
              "      <td>0</td>\n",
              "      <td>0</td>\n",
              "      <td>...</td>\n",
              "      <td>28314</td>\n",
              "      <td>28959</td>\n",
              "      <td>29547</td>\n",
              "      <td>2000</td>\n",
              "      <td>2019</td>\n",
              "      <td>1200</td>\n",
              "      <td>1100</td>\n",
              "      <td>1069</td>\n",
              "      <td>1000</td>\n",
              "      <td>0</td>\n",
              "    </tr>\n",
              "    <tr>\n",
              "      <th>4</th>\n",
              "      <td>5</td>\n",
              "      <td>50000</td>\n",
              "      <td>1</td>\n",
              "      <td>University</td>\n",
              "      <td>Married</td>\n",
              "      <td>57</td>\n",
              "      <td>-1</td>\n",
              "      <td>0</td>\n",
              "      <td>-1</td>\n",
              "      <td>0</td>\n",
              "      <td>...</td>\n",
              "      <td>20940</td>\n",
              "      <td>19146</td>\n",
              "      <td>19131</td>\n",
              "      <td>2000</td>\n",
              "      <td>36681</td>\n",
              "      <td>10000</td>\n",
              "      <td>9000</td>\n",
              "      <td>689</td>\n",
              "      <td>679</td>\n",
              "      <td>0</td>\n",
              "    </tr>\n",
              "  </tbody>\n",
              "</table>\n",
              "<p>5 rows × 25 columns</p>\n",
              "</div>\n",
              "      <button class=\"colab-df-convert\" onclick=\"convertToInteractive('df-ab10eb86-ad53-4f8f-b4eb-6102896e6aac')\"\n",
              "              title=\"Convert this dataframe to an interactive table.\"\n",
              "              style=\"display:none;\">\n",
              "        \n",
              "  <svg xmlns=\"http://www.w3.org/2000/svg\" height=\"24px\"viewBox=\"0 0 24 24\"\n",
              "       width=\"24px\">\n",
              "    <path d=\"M0 0h24v24H0V0z\" fill=\"none\"/>\n",
              "    <path d=\"M18.56 5.44l.94 2.06.94-2.06 2.06-.94-2.06-.94-.94-2.06-.94 2.06-2.06.94zm-11 1L8.5 8.5l.94-2.06 2.06-.94-2.06-.94L8.5 2.5l-.94 2.06-2.06.94zm10 10l.94 2.06.94-2.06 2.06-.94-2.06-.94-.94-2.06-.94 2.06-2.06.94z\"/><path d=\"M17.41 7.96l-1.37-1.37c-.4-.4-.92-.59-1.43-.59-.52 0-1.04.2-1.43.59L10.3 9.45l-7.72 7.72c-.78.78-.78 2.05 0 2.83L4 21.41c.39.39.9.59 1.41.59.51 0 1.02-.2 1.41-.59l7.78-7.78 2.81-2.81c.8-.78.8-2.07 0-2.86zM5.41 20L4 18.59l7.72-7.72 1.47 1.35L5.41 20z\"/>\n",
              "  </svg>\n",
              "      </button>\n",
              "      \n",
              "  <style>\n",
              "    .colab-df-container {\n",
              "      display:flex;\n",
              "      flex-wrap:wrap;\n",
              "      gap: 12px;\n",
              "    }\n",
              "\n",
              "    .colab-df-convert {\n",
              "      background-color: #E8F0FE;\n",
              "      border: none;\n",
              "      border-radius: 50%;\n",
              "      cursor: pointer;\n",
              "      display: none;\n",
              "      fill: #1967D2;\n",
              "      height: 32px;\n",
              "      padding: 0 0 0 0;\n",
              "      width: 32px;\n",
              "    }\n",
              "\n",
              "    .colab-df-convert:hover {\n",
              "      background-color: #E2EBFA;\n",
              "      box-shadow: 0px 1px 2px rgba(60, 64, 67, 0.3), 0px 1px 3px 1px rgba(60, 64, 67, 0.15);\n",
              "      fill: #174EA6;\n",
              "    }\n",
              "\n",
              "    [theme=dark] .colab-df-convert {\n",
              "      background-color: #3B4455;\n",
              "      fill: #D2E3FC;\n",
              "    }\n",
              "\n",
              "    [theme=dark] .colab-df-convert:hover {\n",
              "      background-color: #434B5C;\n",
              "      box-shadow: 0px 1px 3px 1px rgba(0, 0, 0, 0.15);\n",
              "      filter: drop-shadow(0px 1px 2px rgba(0, 0, 0, 0.3));\n",
              "      fill: #FFFFFF;\n",
              "    }\n",
              "  </style>\n",
              "\n",
              "      <script>\n",
              "        const buttonEl =\n",
              "          document.querySelector('#df-ab10eb86-ad53-4f8f-b4eb-6102896e6aac button.colab-df-convert');\n",
              "        buttonEl.style.display =\n",
              "          google.colab.kernel.accessAllowed ? 'block' : 'none';\n",
              "\n",
              "        async function convertToInteractive(key) {\n",
              "          const element = document.querySelector('#df-ab10eb86-ad53-4f8f-b4eb-6102896e6aac');\n",
              "          const dataTable =\n",
              "            await google.colab.kernel.invokeFunction('convertToInteractive',\n",
              "                                                     [key], {});\n",
              "          if (!dataTable) return;\n",
              "\n",
              "          const docLinkHtml = 'Like what you see? Visit the ' +\n",
              "            '<a target=\"_blank\" href=https://colab.research.google.com/notebooks/data_table.ipynb>data table notebook</a>'\n",
              "            + ' to learn more about interactive tables.';\n",
              "          element.innerHTML = '';\n",
              "          dataTable['output_type'] = 'display_data';\n",
              "          await google.colab.output.renderOutput(dataTable, element);\n",
              "          const docLink = document.createElement('div');\n",
              "          docLink.innerHTML = docLinkHtml;\n",
              "          element.appendChild(docLink);\n",
              "        }\n",
              "      </script>\n",
              "    </div>\n",
              "  </div>\n",
              "  "
            ]
          },
          "metadata": {},
          "execution_count": 31
        }
      ],
      "source": [
        "#check for changed labels\n",
        "df.head()"
      ]
    },
    {
      "cell_type": "code",
      "execution_count": 32,
      "metadata": {
        "colab": {
          "base_uri": "https://localhost:8080/"
        },
        "id": "QmaDrXaZaEUl",
        "outputId": "e6ce8092-0637-49d8-fa20-974988d29bdb"
      },
      "outputs": [
        {
          "output_type": "execute_result",
          "data": {
            "text/plain": [
              "(30000, 25)"
            ]
          },
          "metadata": {},
          "execution_count": 32
        }
      ],
      "source": [
        "df.shape"
      ]
    },
    {
      "cell_type": "code",
      "execution_count": 33,
      "metadata": {
        "id": "C5-h_o4OX3AG"
      },
      "outputs": [],
      "source": [
        "#creating dummy variables\n",
        "df = pd.get_dummies(df, columns=['EDUCATION','MARRIAGE']) "
      ]
    },
    {
      "cell_type": "code",
      "execution_count": 34,
      "metadata": {
        "colab": {
          "base_uri": "https://localhost:8080/"
        },
        "id": "VBMP0N05lHig",
        "outputId": "ab2e8127-4ea8-4d90-e73f-2c5ddcba6795"
      },
      "outputs": [
        {
          "output_type": "execute_result",
          "data": {
            "text/plain": [
              "(30000, 30)"
            ]
          },
          "metadata": {},
          "execution_count": 34
        }
      ],
      "source": [
        "df.shape"
      ]
    },
    {
      "cell_type": "code",
      "execution_count": 35,
      "metadata": {
        "id": "UqBbaYvckidw"
      },
      "outputs": [],
      "source": [
        "df.drop(['EDUCATION_Others', 'MARRIAGE_Others'], axis=1, inplace=True)"
      ]
    },
    {
      "cell_type": "code",
      "execution_count": 36,
      "metadata": {
        "colab": {
          "base_uri": "https://localhost:8080/"
        },
        "id": "LZdp3kMHHB_F",
        "outputId": "befc268c-3220-40a1-c523-9a773aa07290"
      },
      "outputs": [
        {
          "output_type": "execute_result",
          "data": {
            "text/plain": [
              "(30000, 28)"
            ]
          },
          "metadata": {},
          "execution_count": 36
        }
      ],
      "source": [
        "df.shape "
      ]
    },
    {
      "cell_type": "code",
      "execution_count": 37,
      "metadata": {
        "id": "74K6pSTAq4lm"
      },
      "outputs": [],
      "source": [
        "#creating dummy variables by droping first variable\n",
        "df = pd.get_dummies(df, columns=['PAY_SEPT', 'PAY_AUG', 'PAY_JUL', 'PAY_JUN', 'PAY_MAY', 'PAY_APR'], drop_first = True )"
      ]
    },
    {
      "cell_type": "code",
      "execution_count": 38,
      "metadata": {
        "colab": {
          "base_uri": "https://localhost:8080/"
        },
        "id": "kiHyV0g7rHak",
        "outputId": "fc010136-8949-4a98-babd-dded709ca555"
      },
      "outputs": [
        {
          "output_type": "execute_result",
          "data": {
            "text/plain": [
              "(30000, 80)"
            ]
          },
          "metadata": {},
          "execution_count": 38
        }
      ],
      "source": [
        "df.shape"
      ]
    },
    {
      "cell_type": "code",
      "execution_count": 39,
      "metadata": {
        "colab": {
          "base_uri": "https://localhost:8080/",
          "height": 300
        },
        "id": "VCltj1pXHB3f",
        "outputId": "c7f3a0f8-75b7-4250-f8e2-46cb4b044252"
      },
      "outputs": [
        {
          "output_type": "execute_result",
          "data": {
            "text/plain": [
              "   ID  LIMIT_BAL  SEX  AGE  BILL_AMT_SEPT  BILL_AMT_AUG  BILL_AMT_JUL  \\\n",
              "0   1      20000    0   24           3913          3102           689   \n",
              "1   2     120000    0   26           2682          1725          2682   \n",
              "2   3      90000    0   34          29239         14027         13559   \n",
              "3   4      50000    0   37          46990         48233         49291   \n",
              "4   5      50000    1   57           8617          5670         35835   \n",
              "\n",
              "   BILL_AMT_JUN  BILL_AMT_MAY  BILL_AMT_APR  ...  PAY_MAY_8  PAY_APR_-1  \\\n",
              "0             0             0             0  ...          0           0   \n",
              "1          3272          3455          3261  ...          0           0   \n",
              "2         14331         14948         15549  ...          0           0   \n",
              "3         28314         28959         29547  ...          0           0   \n",
              "4         20940         19146         19131  ...          0           0   \n",
              "\n",
              "   PAY_APR_0  PAY_APR_2  PAY_APR_3  PAY_APR_4  PAY_APR_5  PAY_APR_6  \\\n",
              "0          0          0          0          0          0          0   \n",
              "1          0          1          0          0          0          0   \n",
              "2          1          0          0          0          0          0   \n",
              "3          1          0          0          0          0          0   \n",
              "4          1          0          0          0          0          0   \n",
              "\n",
              "   PAY_APR_7  PAY_APR_8  \n",
              "0          0          0  \n",
              "1          0          0  \n",
              "2          0          0  \n",
              "3          0          0  \n",
              "4          0          0  \n",
              "\n",
              "[5 rows x 80 columns]"
            ],
            "text/html": [
              "\n",
              "  <div id=\"df-4ee9a24f-2435-4f95-9faa-9e4ee2ac1f24\">\n",
              "    <div class=\"colab-df-container\">\n",
              "      <div>\n",
              "<style scoped>\n",
              "    .dataframe tbody tr th:only-of-type {\n",
              "        vertical-align: middle;\n",
              "    }\n",
              "\n",
              "    .dataframe tbody tr th {\n",
              "        vertical-align: top;\n",
              "    }\n",
              "\n",
              "    .dataframe thead th {\n",
              "        text-align: right;\n",
              "    }\n",
              "</style>\n",
              "<table border=\"1\" class=\"dataframe\">\n",
              "  <thead>\n",
              "    <tr style=\"text-align: right;\">\n",
              "      <th></th>\n",
              "      <th>ID</th>\n",
              "      <th>LIMIT_BAL</th>\n",
              "      <th>SEX</th>\n",
              "      <th>AGE</th>\n",
              "      <th>BILL_AMT_SEPT</th>\n",
              "      <th>BILL_AMT_AUG</th>\n",
              "      <th>BILL_AMT_JUL</th>\n",
              "      <th>BILL_AMT_JUN</th>\n",
              "      <th>BILL_AMT_MAY</th>\n",
              "      <th>BILL_AMT_APR</th>\n",
              "      <th>...</th>\n",
              "      <th>PAY_MAY_8</th>\n",
              "      <th>PAY_APR_-1</th>\n",
              "      <th>PAY_APR_0</th>\n",
              "      <th>PAY_APR_2</th>\n",
              "      <th>PAY_APR_3</th>\n",
              "      <th>PAY_APR_4</th>\n",
              "      <th>PAY_APR_5</th>\n",
              "      <th>PAY_APR_6</th>\n",
              "      <th>PAY_APR_7</th>\n",
              "      <th>PAY_APR_8</th>\n",
              "    </tr>\n",
              "  </thead>\n",
              "  <tbody>\n",
              "    <tr>\n",
              "      <th>0</th>\n",
              "      <td>1</td>\n",
              "      <td>20000</td>\n",
              "      <td>0</td>\n",
              "      <td>24</td>\n",
              "      <td>3913</td>\n",
              "      <td>3102</td>\n",
              "      <td>689</td>\n",
              "      <td>0</td>\n",
              "      <td>0</td>\n",
              "      <td>0</td>\n",
              "      <td>...</td>\n",
              "      <td>0</td>\n",
              "      <td>0</td>\n",
              "      <td>0</td>\n",
              "      <td>0</td>\n",
              "      <td>0</td>\n",
              "      <td>0</td>\n",
              "      <td>0</td>\n",
              "      <td>0</td>\n",
              "      <td>0</td>\n",
              "      <td>0</td>\n",
              "    </tr>\n",
              "    <tr>\n",
              "      <th>1</th>\n",
              "      <td>2</td>\n",
              "      <td>120000</td>\n",
              "      <td>0</td>\n",
              "      <td>26</td>\n",
              "      <td>2682</td>\n",
              "      <td>1725</td>\n",
              "      <td>2682</td>\n",
              "      <td>3272</td>\n",
              "      <td>3455</td>\n",
              "      <td>3261</td>\n",
              "      <td>...</td>\n",
              "      <td>0</td>\n",
              "      <td>0</td>\n",
              "      <td>0</td>\n",
              "      <td>1</td>\n",
              "      <td>0</td>\n",
              "      <td>0</td>\n",
              "      <td>0</td>\n",
              "      <td>0</td>\n",
              "      <td>0</td>\n",
              "      <td>0</td>\n",
              "    </tr>\n",
              "    <tr>\n",
              "      <th>2</th>\n",
              "      <td>3</td>\n",
              "      <td>90000</td>\n",
              "      <td>0</td>\n",
              "      <td>34</td>\n",
              "      <td>29239</td>\n",
              "      <td>14027</td>\n",
              "      <td>13559</td>\n",
              "      <td>14331</td>\n",
              "      <td>14948</td>\n",
              "      <td>15549</td>\n",
              "      <td>...</td>\n",
              "      <td>0</td>\n",
              "      <td>0</td>\n",
              "      <td>1</td>\n",
              "      <td>0</td>\n",
              "      <td>0</td>\n",
              "      <td>0</td>\n",
              "      <td>0</td>\n",
              "      <td>0</td>\n",
              "      <td>0</td>\n",
              "      <td>0</td>\n",
              "    </tr>\n",
              "    <tr>\n",
              "      <th>3</th>\n",
              "      <td>4</td>\n",
              "      <td>50000</td>\n",
              "      <td>0</td>\n",
              "      <td>37</td>\n",
              "      <td>46990</td>\n",
              "      <td>48233</td>\n",
              "      <td>49291</td>\n",
              "      <td>28314</td>\n",
              "      <td>28959</td>\n",
              "      <td>29547</td>\n",
              "      <td>...</td>\n",
              "      <td>0</td>\n",
              "      <td>0</td>\n",
              "      <td>1</td>\n",
              "      <td>0</td>\n",
              "      <td>0</td>\n",
              "      <td>0</td>\n",
              "      <td>0</td>\n",
              "      <td>0</td>\n",
              "      <td>0</td>\n",
              "      <td>0</td>\n",
              "    </tr>\n",
              "    <tr>\n",
              "      <th>4</th>\n",
              "      <td>5</td>\n",
              "      <td>50000</td>\n",
              "      <td>1</td>\n",
              "      <td>57</td>\n",
              "      <td>8617</td>\n",
              "      <td>5670</td>\n",
              "      <td>35835</td>\n",
              "      <td>20940</td>\n",
              "      <td>19146</td>\n",
              "      <td>19131</td>\n",
              "      <td>...</td>\n",
              "      <td>0</td>\n",
              "      <td>0</td>\n",
              "      <td>1</td>\n",
              "      <td>0</td>\n",
              "      <td>0</td>\n",
              "      <td>0</td>\n",
              "      <td>0</td>\n",
              "      <td>0</td>\n",
              "      <td>0</td>\n",
              "      <td>0</td>\n",
              "    </tr>\n",
              "  </tbody>\n",
              "</table>\n",
              "<p>5 rows × 80 columns</p>\n",
              "</div>\n",
              "      <button class=\"colab-df-convert\" onclick=\"convertToInteractive('df-4ee9a24f-2435-4f95-9faa-9e4ee2ac1f24')\"\n",
              "              title=\"Convert this dataframe to an interactive table.\"\n",
              "              style=\"display:none;\">\n",
              "        \n",
              "  <svg xmlns=\"http://www.w3.org/2000/svg\" height=\"24px\"viewBox=\"0 0 24 24\"\n",
              "       width=\"24px\">\n",
              "    <path d=\"M0 0h24v24H0V0z\" fill=\"none\"/>\n",
              "    <path d=\"M18.56 5.44l.94 2.06.94-2.06 2.06-.94-2.06-.94-.94-2.06-.94 2.06-2.06.94zm-11 1L8.5 8.5l.94-2.06 2.06-.94-2.06-.94L8.5 2.5l-.94 2.06-2.06.94zm10 10l.94 2.06.94-2.06 2.06-.94-2.06-.94-.94-2.06-.94 2.06-2.06.94z\"/><path d=\"M17.41 7.96l-1.37-1.37c-.4-.4-.92-.59-1.43-.59-.52 0-1.04.2-1.43.59L10.3 9.45l-7.72 7.72c-.78.78-.78 2.05 0 2.83L4 21.41c.39.39.9.59 1.41.59.51 0 1.02-.2 1.41-.59l7.78-7.78 2.81-2.81c.8-.78.8-2.07 0-2.86zM5.41 20L4 18.59l7.72-7.72 1.47 1.35L5.41 20z\"/>\n",
              "  </svg>\n",
              "      </button>\n",
              "      \n",
              "  <style>\n",
              "    .colab-df-container {\n",
              "      display:flex;\n",
              "      flex-wrap:wrap;\n",
              "      gap: 12px;\n",
              "    }\n",
              "\n",
              "    .colab-df-convert {\n",
              "      background-color: #E8F0FE;\n",
              "      border: none;\n",
              "      border-radius: 50%;\n",
              "      cursor: pointer;\n",
              "      display: none;\n",
              "      fill: #1967D2;\n",
              "      height: 32px;\n",
              "      padding: 0 0 0 0;\n",
              "      width: 32px;\n",
              "    }\n",
              "\n",
              "    .colab-df-convert:hover {\n",
              "      background-color: #E2EBFA;\n",
              "      box-shadow: 0px 1px 2px rgba(60, 64, 67, 0.3), 0px 1px 3px 1px rgba(60, 64, 67, 0.15);\n",
              "      fill: #174EA6;\n",
              "    }\n",
              "\n",
              "    [theme=dark] .colab-df-convert {\n",
              "      background-color: #3B4455;\n",
              "      fill: #D2E3FC;\n",
              "    }\n",
              "\n",
              "    [theme=dark] .colab-df-convert:hover {\n",
              "      background-color: #434B5C;\n",
              "      box-shadow: 0px 1px 3px 1px rgba(0, 0, 0, 0.15);\n",
              "      filter: drop-shadow(0px 1px 2px rgba(0, 0, 0, 0.3));\n",
              "      fill: #FFFFFF;\n",
              "    }\n",
              "  </style>\n",
              "\n",
              "      <script>\n",
              "        const buttonEl =\n",
              "          document.querySelector('#df-4ee9a24f-2435-4f95-9faa-9e4ee2ac1f24 button.colab-df-convert');\n",
              "        buttonEl.style.display =\n",
              "          google.colab.kernel.accessAllowed ? 'block' : 'none';\n",
              "\n",
              "        async function convertToInteractive(key) {\n",
              "          const element = document.querySelector('#df-4ee9a24f-2435-4f95-9faa-9e4ee2ac1f24');\n",
              "          const dataTable =\n",
              "            await google.colab.kernel.invokeFunction('convertToInteractive',\n",
              "                                                     [key], {});\n",
              "          if (!dataTable) return;\n",
              "\n",
              "          const docLinkHtml = 'Like what you see? Visit the ' +\n",
              "            '<a target=\"_blank\" href=https://colab.research.google.com/notebooks/data_table.ipynb>data table notebook</a>'\n",
              "            + ' to learn more about interactive tables.';\n",
              "          element.innerHTML = '';\n",
              "          dataTable['output_type'] = 'display_data';\n",
              "          await google.colab.output.renderOutput(dataTable, element);\n",
              "          const docLink = document.createElement('div');\n",
              "          docLink.innerHTML = docLinkHtml;\n",
              "          element.appendChild(docLink);\n",
              "        }\n",
              "      </script>\n",
              "    </div>\n",
              "  </div>\n",
              "  "
            ]
          },
          "metadata": {},
          "execution_count": 39
        }
      ],
      "source": [
        "#checking all variables\n",
        "df.head()"
      ]
    },
    {
      "cell_type": "code",
      "execution_count": 40,
      "metadata": {
        "colab": {
          "base_uri": "https://localhost:8080/"
        },
        "id": "BZE9zSnfCM4b",
        "outputId": "b1087684-9f75-4df3-930c-88f65f79fec5"
      },
      "outputs": [
        {
          "output_type": "execute_result",
          "data": {
            "text/plain": [
              "(30000, 80)"
            ]
          },
          "metadata": {},
          "execution_count": 40
        }
      ],
      "source": [
        "#shape of dataset after creating dummy variables\n",
        "df.shape"
      ]
    },
    {
      "cell_type": "markdown",
      "metadata": {
        "id": "I64ROmrIj9zS"
      },
      "source": [
        "## Handling Class Imbalance"
      ]
    },
    {
      "cell_type": "markdown",
      "metadata": {
        "id": "U8Ky-XeMqtzF"
      },
      "source": [
        "As we have seen earlier that we have imbalanced dataset. So to remediate Imbalance we are using SMOTE(Synthetic Minority Oversampling Technique)"
      ]
    },
    {
      "cell_type": "markdown",
      "metadata": {
        "id": "F_-dAM4Hj0mj"
      },
      "source": [
        "### **SMOTE** ***- Synthetic Minority Oversampling Technique***"
      ]
    },
    {
      "cell_type": "code",
      "execution_count": 41,
      "metadata": {
        "colab": {
          "base_uri": "https://localhost:8080/"
        },
        "id": "DzvMKVZnHB2P",
        "outputId": "0e475dc6-1df3-4c8e-d313-b6b4f91706de"
      },
      "outputs": [
        {
          "output_type": "stream",
          "name": "stdout",
          "text": [
            "Original unbalanced dataset shape 30000\n",
            "Resampled balanced dataset shape 46728\n"
          ]
        }
      ],
      "source": [
        "#importing SMOTE to handle class imbalance\n",
        "from imblearn.over_sampling import SMOTE\n",
        "\n",
        "smote = SMOTE()\n",
        "\n",
        "# fit predictor and target variable\n",
        "x_smote, y_smote = smote.fit_resample(df[(i for i in list(df.describe(include='all').columns) if i != 'IsDefaulter')], df['IsDefaulter'])\n",
        "\n",
        "print('Original unbalanced dataset shape', len(df))\n",
        "print('Resampled balanced dataset shape', len(y_smote))"
      ]
    },
    {
      "cell_type": "code",
      "execution_count": 42,
      "metadata": {
        "id": "vmXziCqfHBx3"
      },
      "outputs": [],
      "source": [
        "#creating new dataframe from balanced dataset after SMOTE\n",
        "balanced_df = pd.DataFrame(x_smote, columns=list(i for i in list(df.describe(include='all').columns) if i != 'IsDefaulter'))"
      ]
    },
    {
      "cell_type": "code",
      "execution_count": 43,
      "metadata": {
        "id": "fc2q3bAggNYZ"
      },
      "outputs": [],
      "source": [
        "#adding target variable to new created dataframe\n",
        "balanced_df['IsDefaulter'] = y_smote"
      ]
    },
    {
      "cell_type": "code",
      "execution_count": 44,
      "metadata": {
        "colab": {
          "base_uri": "https://localhost:8080/",
          "height": 351
        },
        "id": "8aLkaEJFgNGE",
        "outputId": "440bfad0-35ea-4f8a-cad2-81e6156736fd"
      },
      "outputs": [
        {
          "output_type": "execute_result",
          "data": {
            "text/plain": [
              "<matplotlib.axes._subplots.AxesSubplot at 0x7f126ccf47f0>"
            ]
          },
          "metadata": {},
          "execution_count": 44
        },
        {
          "output_type": "display_data",
          "data": {
            "text/plain": [
              "<Figure size 360x360 with 1 Axes>"
            ],
            "image/png": "[encoded data removed]"
          },
          "metadata": {
            "needs_background": "light"
          }
        }
      ],
      "source": [
        "#checking for class imbalance\n",
        "plt.figure(figsize=(5,5))\n",
        "sns.countplot('IsDefaulter', data = balanced_df, palette = \"Set1\" )"
      ]
    },
    {
      "cell_type": "code",
      "execution_count": 45,
      "metadata": {
        "colab": {
          "base_uri": "https://localhost:8080/"
        },
        "id": "LQyp_c67HkAM",
        "outputId": "91adbeaf-e7f1-4d03-d4a8-6ba6b48c4a90"
      },
      "outputs": [
        {
          "output_type": "execute_result",
          "data": {
            "text/plain": [
              "(46728, 80)"
            ]
          },
          "metadata": {},
          "execution_count": 45
        }
      ],
      "source": [
        "#shape of balanced dataframe\n",
        "balanced_df.shape"
      ]
    },
    {
      "cell_type": "code",
      "execution_count": 46,
      "metadata": {
        "id": "u2Z8pU1mHj8f"
      },
      "outputs": [],
      "source": [
        "#removing feature ID from dataset\n",
        "balanced_df.drop('ID',axis = 1, inplace = True)"
      ]
    },
    {
      "cell_type": "code",
      "execution_count": 47,
      "metadata": {
        "colab": {
          "base_uri": "https://localhost:8080/",
          "height": 300
        },
        "id": "4Wdfzm3HHj5N",
        "outputId": "6ba5b222-0631-4a32-e97d-5fb3b9a2d440"
      },
      "outputs": [
        {
          "output_type": "execute_result",
          "data": {
            "text/plain": [
              "   LIMIT_BAL  SEX  AGE  BILL_AMT_SEPT  BILL_AMT_AUG  BILL_AMT_JUL  \\\n",
              "0      20000    0   24           3913          3102           689   \n",
              "1     120000    0   26           2682          1725          2682   \n",
              "2      90000    0   34          29239         14027         13559   \n",
              "3      50000    0   37          46990         48233         49291   \n",
              "4      50000    1   57           8617          5670         35835   \n",
              "\n",
              "   BILL_AMT_JUN  BILL_AMT_MAY  BILL_AMT_APR  PAY_AMT_SEPT  ...  PAY_APR_-1  \\\n",
              "0             0             0             0             0  ...           0   \n",
              "1          3272          3455          3261             0  ...           0   \n",
              "2         14331         14948         15549          1518  ...           0   \n",
              "3         28314         28959         29547          2000  ...           0   \n",
              "4         20940         19146         19131          2000  ...           0   \n",
              "\n",
              "   PAY_APR_0  PAY_APR_2  PAY_APR_3  PAY_APR_4  PAY_APR_5  PAY_APR_6  \\\n",
              "0          0          0          0          0          0          0   \n",
              "1          0          1          0          0          0          0   \n",
              "2          1          0          0          0          0          0   \n",
              "3          1          0          0          0          0          0   \n",
              "4          1          0          0          0          0          0   \n",
              "\n",
              "   PAY_APR_7  PAY_APR_8  IsDefaulter  \n",
              "0          0          0            1  \n",
              "1          0          0            1  \n",
              "2          0          0            0  \n",
              "3          0          0            0  \n",
              "4          0          0            0  \n",
              "\n",
              "[5 rows x 79 columns]"
            ],
            "text/html": [
              "\n",
              "  <div id=\"df-efd2c1f4-b083-4c6d-9d2f-ada69edbb264\">\n",
              "    <div class=\"colab-df-container\">\n",
              "      <div>\n",
              "<style scoped>\n",
              "    .dataframe tbody tr th:only-of-type {\n",
              "        vertical-align: middle;\n",
              "    }\n",
              "\n",
              "    .dataframe tbody tr th {\n",
              "        vertical-align: top;\n",
              "    }\n",
              "\n",
              "    .dataframe thead th {\n",
              "        text-align: right;\n",
              "    }\n",
              "</style>\n",
              "<table border=\"1\" class=\"dataframe\">\n",
              "  <thead>\n",
              "    <tr style=\"text-align: right;\">\n",
              "      <th></th>\n",
              "      <th>LIMIT_BAL</th>\n",
              "      <th>SEX</th>\n",
              "      <th>AGE</th>\n",
              "      <th>BILL_AMT_SEPT</th>\n",
              "      <th>BILL_AMT_AUG</th>\n",
              "      <th>BILL_AMT_JUL</th>\n",
              "      <th>BILL_AMT_JUN</th>\n",
              "      <th>BILL_AMT_MAY</th>\n",
              "      <th>BILL_AMT_APR</th>\n",
              "      <th>PAY_AMT_SEPT</th>\n",
              "      <th>...</th>\n",
              "      <th>PAY_APR_-1</th>\n",
              "      <th>PAY_APR_0</th>\n",
              "      <th>PAY_APR_2</th>\n",
              "      <th>PAY_APR_3</th>\n",
              "      <th>PAY_APR_4</th>\n",
              "      <th>PAY_APR_5</th>\n",
              "      <th>PAY_APR_6</th>\n",
              "      <th>PAY_APR_7</th>\n",
              "      <th>PAY_APR_8</th>\n",
              "      <th>IsDefaulter</th>\n",
              "    </tr>\n",
              "  </thead>\n",
              "  <tbody>\n",
              "    <tr>\n",
              "      <th>0</th>\n",
              "      <td>20000</td>\n",
              "      <td>0</td>\n",
              "      <td>24</td>\n",
              "      <td>3913</td>\n",
              "      <td>3102</td>\n",
              "      <td>689</td>\n",
              "      <td>0</td>\n",
              "      <td>0</td>\n",
              "      <td>0</td>\n",
              "      <td>0</td>\n",
              "      <td>...</td>\n",
              "      <td>0</td>\n",
              "      <td>0</td>\n",
              "      <td>0</td>\n",
              "      <td>0</td>\n",
              "      <td>0</td>\n",
              "      <td>0</td>\n",
              "      <td>0</td>\n",
              "      <td>0</td>\n",
              "      <td>0</td>\n",
              "      <td>1</td>\n",
              "    </tr>\n",
              "    <tr>\n",
              "      <th>1</th>\n",
              "      <td>120000</td>\n",
              "      <td>0</td>\n",
              "      <td>26</td>\n",
              "      <td>2682</td>\n",
              "      <td>1725</td>\n",
              "      <td>2682</td>\n",
              "      <td>3272</td>\n",
              "      <td>3455</td>\n",
              "      <td>3261</td>\n",
              "      <td>0</td>\n",
              "      <td>...</td>\n",
              "      <td>0</td>\n",
              "      <td>0</td>\n",
              "      <td>1</td>\n",
              "      <td>0</td>\n",
              "      <td>0</td>\n",
              "      <td>0</td>\n",
              "      <td>0</td>\n",
              "      <td>0</td>\n",
              "      <td>0</td>\n",
              "      <td>1</td>\n",
              "    </tr>\n",
              "    <tr>\n",
              "      <th>2</th>\n",
              "      <td>90000</td>\n",
              "      <td>0</td>\n",
              "      <td>34</td>\n",
              "      <td>29239</td>\n",
              "      <td>14027</td>\n",
              "      <td>13559</td>\n",
              "      <td>14331</td>\n",
              "      <td>14948</td>\n",
              "      <td>15549</td>\n",
              "      <td>1518</td>\n",
              "      <td>...</td>\n",
              "      <td>0</td>\n",
              "      <td>1</td>\n",
              "      <td>0</td>\n",
              "      <td>0</td>\n",
              "      <td>0</td>\n",
              "      <td>0</td>\n",
              "      <td>0</td>\n",
              "      <td>0</td>\n",
              "      <td>0</td>\n",
              "      <td>0</td>\n",
              "    </tr>\n",
              "    <tr>\n",
              "      <th>3</th>\n",
              "      <td>50000</td>\n",
              "      <td>0</td>\n",
              "      <td>37</td>\n",
              "      <td>46990</td>\n",
              "      <td>48233</td>\n",
              "      <td>49291</td>\n",
              "      <td>28314</td>\n",
              "      <td>28959</td>\n",
              "      <td>29547</td>\n",
              "      <td>2000</td>\n",
              "      <td>...</td>\n",
              "      <td>0</td>\n",
              "      <td>1</td>\n",
              "      <td>0</td>\n",
              "      <td>0</td>\n",
              "      <td>0</td>\n",
              "      <td>0</td>\n",
              "      <td>0</td>\n",
              "      <td>0</td>\n",
              "      <td>0</td>\n",
              "      <td>0</td>\n",
              "    </tr>\n",
              "    <tr>\n",
              "      <th>4</th>\n",
              "      <td>50000</td>\n",
              "      <td>1</td>\n",
              "      <td>57</td>\n",
              "      <td>8617</td>\n",
              "      <td>5670</td>\n",
              "      <td>35835</td>\n",
              "      <td>20940</td>\n",
              "      <td>19146</td>\n",
              "      <td>19131</td>\n",
              "      <td>2000</td>\n",
              "      <td>...</td>\n",
              "      <td>0</td>\n",
              "      <td>1</td>\n",
              "      <td>0</td>\n",
              "      <td>0</td>\n",
              "      <td>0</td>\n",
              "      <td>0</td>\n",
              "      <td>0</td>\n",
              "      <td>0</td>\n",
              "      <td>0</td>\n",
              "      <td>0</td>\n",
              "    </tr>\n",
              "  </tbody>\n",
              "</table>\n",
              "<p>5 rows × 79 columns</p>\n",
              "</div>\n",
              "      <button class=\"colab-df-convert\" onclick=\"convertToInteractive('df-efd2c1f4-b083-4c6d-9d2f-ada69edbb264')\"\n",
              "              title=\"Convert this dataframe to an interactive table.\"\n",
              "              style=\"display:none;\">\n",
              "        \n",
              "  <svg xmlns=\"http://www.w3.org/2000/svg\" height=\"24px\"viewBox=\"0 0 24 24\"\n",
              "       width=\"24px\">\n",
              "    <path d=\"M0 0h24v24H0V0z\" fill=\"none\"/>\n",
              "    <path d=\"M18.56 5.44l.94 2.06.94-2.06 2.06-.94-2.06-.94-.94-2.06-.94 2.06-2.06.94zm-11 1L8.5 8.5l.94-2.06 2.06-.94-2.06-.94L8.5 2.5l-.94 2.06-2.06.94zm10 10l.94 2.06.94-2.06 2.06-.94-2.06-.94-.94-2.06-.94 2.06-2.06.94z\"/><path d=\"M17.41 7.96l-1.37-1.37c-.4-.4-.92-.59-1.43-.59-.52 0-1.04.2-1.43.59L10.3 9.45l-7.72 7.72c-.78.78-.78 2.05 0 2.83L4 21.41c.39.39.9.59 1.41.59.51 0 1.02-.2 1.41-.59l7.78-7.78 2.81-2.81c.8-.78.8-2.07 0-2.86zM5.41 20L4 18.59l7.72-7.72 1.47 1.35L5.41 20z\"/>\n",
              "  </svg>\n",
              "      </button>\n",
              "      \n",
              "  <style>\n",
              "    .colab-df-container {\n",
              "      display:flex;\n",
              "      flex-wrap:wrap;\n",
              "      gap: 12px;\n",
              "    }\n",
              "\n",
              "    .colab-df-convert {\n",
              "      background-color: #E8F0FE;\n",
              "      border: none;\n",
              "      border-radius: 50%;\n",
              "      cursor: pointer;\n",
              "      display: none;\n",
              "      fill: #1967D2;\n",
              "      height: 32px;\n",
              "      padding: 0 0 0 0;\n",
              "      width: 32px;\n",
              "    }\n",
              "\n",
              "    .colab-df-convert:hover {\n",
              "      background-color: #E2EBFA;\n",
              "      box-shadow: 0px 1px 2px rgba(60, 64, 67, 0.3), 0px 1px 3px 1px rgba(60, 64, 67, 0.15);\n",
              "      fill: #174EA6;\n",
              "    }\n",
              "\n",
              "    [theme=dark] .colab-df-convert {\n",
              "      background-color: #3B4455;\n",
              "      fill: #D2E3FC;\n",
              "    }\n",
              "\n",
              "    [theme=dark] .colab-df-convert:hover {\n",
              "      background-color: #434B5C;\n",
              "      box-shadow: 0px 1px 3px 1px rgba(0, 0, 0, 0.15);\n",
              "      filter: drop-shadow(0px 1px 2px rgba(0, 0, 0, 0.3));\n",
              "      fill: #FFFFFF;\n",
              "    }\n",
              "  </style>\n",
              "\n",
              "      <script>\n",
              "        const buttonEl =\n",
              "          document.querySelector('#df-efd2c1f4-b083-4c6d-9d2f-ada69edbb264 button.colab-df-convert');\n",
              "        buttonEl.style.display =\n",
              "          google.colab.kernel.accessAllowed ? 'block' : 'none';\n",
              "\n",
              "        async function convertToInteractive(key) {\n",
              "          const element = document.querySelector('#df-efd2c1f4-b083-4c6d-9d2f-ada69edbb264');\n",
              "          const dataTable =\n",
              "            await google.colab.kernel.invokeFunction('convertToInteractive',\n",
              "                                                     [key], {});\n",
              "          if (!dataTable) return;\n",
              "\n",
              "          const docLinkHtml = 'Like what you see? Visit the ' +\n",
              "            '<a target=\"_blank\" href=https://colab.research.google.com/notebooks/data_table.ipynb>data table notebook</a>'\n",
              "            + ' to learn more about interactive tables.';\n",
              "          element.innerHTML = '';\n",
              "          dataTable['output_type'] = 'display_data';\n",
              "          await google.colab.output.renderOutput(dataTable, element);\n",
              "          const docLink = document.createElement('div');\n",
              "          docLink.innerHTML = docLinkHtml;\n",
              "          element.appendChild(docLink);\n",
              "        }\n",
              "      </script>\n",
              "    </div>\n",
              "  </div>\n",
              "  "
            ]
          },
          "metadata": {},
          "execution_count": 47
        }
      ],
      "source": [
        "#final dataset\n",
        "balanced_df.head()"
      ]
    },
    {
      "cell_type": "code",
      "execution_count": 48,
      "metadata": {
        "id": "wi-NVFcPHj25"
      },
      "outputs": [],
      "source": [
        "#seperating dependant and independant variabales\n",
        "X = balanced_df[(list(i for i in list(balanced_df.describe(include='all').columns) if i != 'IsDefaulter'))]\n",
        "y = balanced_df['IsDefaulter']"
      ]
    },
    {
      "cell_type": "code",
      "execution_count": 49,
      "metadata": {
        "colab": {
          "base_uri": "https://localhost:8080/"
        },
        "id": "zJL98l5sHjxR",
        "outputId": "a639d349-27c1-44a0-a866-f5d5deacf210"
      },
      "outputs": [
        {
          "output_type": "execute_result",
          "data": {
            "text/plain": [
              "(46728, 78)"
            ]
          },
          "metadata": {},
          "execution_count": 49
        }
      ],
      "source": [
        "X.shape"
      ]
    },
    {
      "cell_type": "code",
      "execution_count": 50,
      "metadata": {
        "colab": {
          "base_uri": "https://localhost:8080/"
        },
        "id": "x_-SPZR7HjtS",
        "outputId": "4ef7e23f-06ed-41e1-8747-1540d0a680d6"
      },
      "outputs": [
        {
          "output_type": "execute_result",
          "data": {
            "text/plain": [
              "(46728,)"
            ]
          },
          "metadata": {},
          "execution_count": 50
        }
      ],
      "source": [
        "y.shape"
      ]
    },
    {
      "cell_type": "markdown",
      "metadata": {
        "id": "uIgCZzACRcu0"
      },
      "source": [
        "## Data Transformation"
      ]
    },
    {
      "cell_type": "code",
      "execution_count": 51,
      "metadata": {
        "id": "kVd2a4dRRfZq"
      },
      "outputs": [],
      "source": [
        "#importing libraries for data transformation\n",
        "from sklearn.preprocessing import StandardScaler\n",
        "scaler = StandardScaler()\n",
        "X = scaler.fit_transform(X)"
      ]
    },
    {
      "cell_type": "markdown",
      "metadata": {
        "id": "1KpfgKTCRooE"
      },
      "source": [
        "## Train Test Splitting"
      ]
    },
    {
      "cell_type": "code",
      "execution_count": 52,
      "metadata": {
        "id": "O6bRbVZlRrHW"
      },
      "outputs": [],
      "source": [
        "#importing libraries for splitting data into training and testing dataset\n",
        "from sklearn.model_selection import train_test_split\n",
        "X_train, X_test, y_train, y_test = train_test_split(X, y, test_size=0.2,random_state=42, stratify=y)"
      ]
    },
    {
      "cell_type": "code",
      "execution_count": 53,
      "metadata": {
        "colab": {
          "base_uri": "https://localhost:8080/"
        },
        "id": "nuWqNQ1PRzsz",
        "outputId": "d31b8405-3dc5-4b7d-a1c0-a8c34025d2da"
      },
      "outputs": [
        {
          "output_type": "execute_result",
          "data": {
            "text/plain": [
              "(37382, 78)"
            ]
          },
          "metadata": {},
          "execution_count": 53
        }
      ],
      "source": [
        "X_train.shape"
      ]
    },
    {
      "cell_type": "code",
      "execution_count": 54,
      "metadata": {
        "colab": {
          "base_uri": "https://localhost:8080/"
        },
        "id": "xs2Pq9uER3L8",
        "outputId": "4be3121d-7483-4fef-d34d-b334c08fa896"
      },
      "outputs": [
        {
          "output_type": "execute_result",
          "data": {
            "text/plain": [
              "(9346, 78)"
            ]
          },
          "metadata": {},
          "execution_count": 54
        }
      ],
      "source": [
        "X_test.shape"
      ]
    },
    {
      "cell_type": "markdown",
      "metadata": {
        "id": "V6IJlknDHVJF"
      },
      "source": [
        "\n",
        "# **Model Implementation**"
      ]
    },
    {
      "cell_type": "markdown",
      "metadata": {
        "id": "Tm47hBpLP6ls"
      },
      "source": [
        "## Logistic regression model\n"
      ]
    },
    {
      "cell_type": "code",
      "execution_count": 55,
      "metadata": {
        "id": "qZpgkmuMHjp6"
      },
      "outputs": [],
      "source": [
        "#importing logistic regression and evaluation metrics\n",
        "from sklearn.linear_model import LogisticRegression\n",
        "from sklearn.metrics import accuracy_score, recall_score, precision_score, f1_score, roc_auc_score, confusion_matrix, roc_curve, auc"
      ]
    },
    {
      "cell_type": "code",
      "execution_count": 56,
      "metadata": {
        "colab": {
          "base_uri": "https://localhost:8080/"
        },
        "id": "hDGKOoDPHjmW",
        "outputId": "1e4f4001-fcd8-44ed-ac29-a252532a81d0"
      },
      "outputs": [
        {
          "output_type": "execute_result",
          "data": {
            "text/plain": [
              "LogisticRegression(max_iter=10000)"
            ]
          },
          "metadata": {},
          "execution_count": 56
        }
      ],
      "source": [
        "#fitting data into Logistic Regression\n",
        "logi = LogisticRegression(fit_intercept=True, max_iter=10000)\n",
        "logi.fit(X_train, y_train)"
      ]
    },
    {
      "cell_type": "code",
      "execution_count": 57,
      "metadata": {
        "id": "oVrSDzNYHjiz"
      },
      "outputs": [],
      "source": [
        "#class prediction of y\n",
        "y_pred_logi = logi.predict(X_test)\n",
        "y_train_pred_logi=logi.predict(X_train)"
      ]
    },
    {
      "cell_type": "code",
      "execution_count": 58,
      "metadata": {
        "colab": {
          "base_uri": "https://localhost:8080/"
        },
        "id": "WQZPtKneHjfe",
        "outputId": "63f51781-fd75-4bc1-a0a2-f4fa71f48997"
      },
      "outputs": [
        {
          "output_type": "stream",
          "name": "stdout",
          "text": [
            "The accuracy on train data is  0.825\n",
            "The accuracy on test data is  0.831\n",
            "The precision on test data is  0.797\n",
            "The recall on test data is  0.855\n",
            "The f1 on test data is  0.825\n",
            "The roc_score on test data is  0.833\n"
          ]
        }
      ],
      "source": [
        "#getting all score for logistic regression\n",
        "train_accuracy_logi = round(accuracy_score(y_train_pred_logi,y_train), 3)\n",
        "accuracy_logi = round(accuracy_score(y_pred_logi,y_test), 3)\n",
        "precision_score_logi = round(precision_score(y_pred_logi,y_test), 3)\n",
        "recall_score_logi = round(recall_score(y_pred_logi,y_test), 3)\n",
        "f1_score_logi = round(f1_score(y_pred_logi,y_test), 3)\n",
        "roc_score_logi = round(roc_auc_score(y_pred_logi,y_test), 3)\n",
        "\n",
        "print(\"The accuracy on train data is \", train_accuracy_logi)\n",
        "print(\"The accuracy on test data is \", accuracy_logi)\n",
        "print(\"The precision on test data is \", precision_score_logi)\n",
        "print(\"The recall on test data is \", recall_score_logi)\n",
        "print(\"The f1 on test data is \", f1_score_logi)\n",
        "print(\"The roc_score on test data is \", roc_score_logi)"
      ]
    },
    {
      "cell_type": "code",
      "execution_count": 59,
      "metadata": {
        "colab": {
          "base_uri": "https://localhost:8080/",
          "height": 0
        },
        "id": "TdE5S1bmHjcL",
        "outputId": "77db0acf-aafb-41ee-8172-17dc483facbe"
      },
      "outputs": [
        {
          "output_type": "stream",
          "name": "stdout",
          "text": [
            "[[4044  629]\n",
            " [ 950 3723]]\n"
          ]
        },
        {
          "output_type": "execute_result",
          "data": {
            "text/plain": [
              "[Text(0, 0.5, 'Not Defaulter'), Text(0, 1.5, 'Defaulter')]"
            ]
          },
          "metadata": {},
          "execution_count": 59
        },
        {
          "output_type": "display_data",
          "data": {
            "text/plain": [
              "<Figure size 432x288 with 2 Axes>"
            ],
            "image/png": "[encoded data removed]"
          },
          "metadata": {
            "needs_background": "light"
          }
        }
      ],
      "source": [
        "#Confusion matrix\n",
        "labels = ['Not Defaulter', 'Defaulter']\n",
        "cm_logi = confusion_matrix(y_test, y_pred_logi )\n",
        "print(cm_logi)\n",
        "\n",
        "#plot confusion matrix\n",
        "ax= plt.subplot()\n",
        "sns.heatmap(cm_logi, annot=True, ax = ax)\n",
        "\n",
        "# labels, title and ticks\n",
        "ax.set_xlabel('Predicted labels')\n",
        "ax.set_ylabel('True labels')\n",
        "ax.set_title('Confusion Matrix - Logistic Regression')\n",
        "ax.xaxis.set_ticklabels(labels)\n",
        "ax.yaxis.set_ticklabels(labels)"
      ]
    },
    {
      "cell_type": "markdown",
      "metadata": {
        "id": "09NocwvfTCeq"
      },
      "source": [
        "## Decision tree classification"
      ]
    },
    {
      "cell_type": "code",
      "execution_count": 60,
      "metadata": {
        "id": "johaG-LQHjYz"
      },
      "outputs": [],
      "source": [
        "#importing Decision Tree Classifier\n",
        "from sklearn.tree import DecisionTreeClassifier"
      ]
    },
    {
      "cell_type": "code",
      "execution_count": 61,
      "metadata": {
        "colab": {
          "base_uri": "https://localhost:8080/"
        },
        "id": "GmW2i4KGHjVY",
        "outputId": "3904db67-a9de-4814-8c4c-61f491dd6b3d"
      },
      "outputs": [
        {
          "output_type": "execute_result",
          "data": {
            "text/plain": [
              "DecisionTreeClassifier()"
            ]
          },
          "metadata": {},
          "execution_count": 61
        }
      ],
      "source": [
        "#fitting data into Decision Tree Classifier\n",
        "dtc = DecisionTreeClassifier()\n",
        "dtc.fit(X_train, y_train)"
      ]
    },
    {
      "cell_type": "code",
      "execution_count": 62,
      "metadata": {
        "id": "xJmxejolHjSB"
      },
      "outputs": [],
      "source": [
        "#class prediction of y\n",
        "y_pred_dtc = dtc.predict(X_test)\n",
        "y_train_pred_dtc=dtc.predict(X_train)"
      ]
    },
    {
      "cell_type": "code",
      "execution_count": 63,
      "metadata": {
        "colab": {
          "base_uri": "https://localhost:8080/"
        },
        "id": "Itjb1sqiHjO1",
        "outputId": "68d85b1a-3d22-4873-af44-0d817cf65be3"
      },
      "outputs": [
        {
          "output_type": "stream",
          "name": "stdout",
          "text": [
            "The accuracy on train data is  0.999\n",
            "The accuracy on test data is  0.792\n",
            "The precision on test data is  0.81\n",
            "The recall on test data is  0.782\n",
            "The f1 on test data is  0.796\n",
            "The roc_score on test data is  0.792\n"
          ]
        }
      ],
      "source": [
        "#getting all scores for Decision Tree Classifier\n",
        "train_accuracy_dtc = round(accuracy_score(y_train_pred_dtc,y_train), 3)\n",
        "accuracy_dtc = round(accuracy_score(y_pred_dtc,y_test), 3)\n",
        "precision_score_dtc = round(precision_score(y_pred_dtc,y_test), 3)\n",
        "recall_score_dtc = round(recall_score(y_pred_dtc,y_test), 3)\n",
        "f1_score_dtc = round(f1_score(y_pred_dtc,y_test), 3)\n",
        "roc_score_dtc = round(roc_auc_score(y_pred_dtc,y_test), 3)\n",
        "\n",
        "print(\"The accuracy on train data is \", train_accuracy_dtc)\n",
        "print(\"The accuracy on test data is \", accuracy_dtc)\n",
        "print(\"The precision on test data is \", precision_score_dtc)\n",
        "print(\"The recall on test data is \", recall_score_dtc)\n",
        "print(\"The f1 on test data is \", f1_score_dtc)\n",
        "print(\"The roc_score on test data is \", roc_score_dtc)"
      ]
    },
    {
      "cell_type": "code",
      "execution_count": 64,
      "metadata": {
        "colab": {
          "base_uri": "https://localhost:8080/",
          "height": 0
        },
        "id": "Wl-54Z7oHjLq",
        "outputId": "2e69e298-c166-4755-c98e-968cff936caf"
      },
      "outputs": [
        {
          "output_type": "stream",
          "name": "stdout",
          "text": [
            "[[3616 1057]\n",
            " [ 888 3785]]\n"
          ]
        },
        {
          "output_type": "execute_result",
          "data": {
            "text/plain": [
              "[Text(0, 0.5, 'Not Defaulter'), Text(0, 1.5, 'Defaulter')]"
            ]
          },
          "metadata": {},
          "execution_count": 64
        },
        {
          "output_type": "display_data",
          "data": {
            "text/plain": [
              "<Figure size 432x288 with 2 Axes>"
            ],
            "image/png": "[encoded data removed]"
          },
          "metadata": {
            "needs_background": "light"
          }
        }
      ],
      "source": [
        "# Get the confusion matrix for desicion tree\n",
        "labels = ['Not Defaulter', 'Defaulter']\n",
        "cm_dt = confusion_matrix(y_test, y_pred_dtc )\n",
        "print(cm_dt)\n",
        "\n",
        "#plot confusion matrix\n",
        "ax= plt.subplot()\n",
        "sns.heatmap(cm_dt, annot=True, ax = ax)\n",
        "\n",
        "# labels, title and ticks\n",
        "ax.set_xlabel('Predicted labels')\n",
        "ax.set_ylabel('True labels')\n",
        "ax.set_title('Confusion Matrix - Decision Tree')\n",
        "ax.xaxis.set_ticklabels(labels)\n",
        "ax.yaxis.set_ticklabels(labels)"
      ]
    },
    {
      "cell_type": "markdown",
      "metadata": {
        "id": "iiybEynlT6Le"
      },
      "source": [
        "## Random Forest Classification"
      ]
    },
    {
      "cell_type": "code",
      "execution_count": 65,
      "metadata": {
        "id": "hIEwl7dFHjIY"
      },
      "outputs": [],
      "source": [
        "#importing Random Forest Classifier\n",
        "from sklearn.ensemble import RandomForestClassifier"
      ]
    },
    {
      "cell_type": "code",
      "execution_count": 66,
      "metadata": {
        "colab": {
          "base_uri": "https://localhost:8080/"
        },
        "id": "CZt_PHShHjE5",
        "outputId": "3c4503e8-6cf3-46bf-e0eb-d2d149a8d903"
      },
      "outputs": [
        {
          "output_type": "execute_result",
          "data": {
            "text/plain": [
              "RandomForestClassifier(n_estimators=50)"
            ]
          },
          "metadata": {},
          "execution_count": 66
        }
      ],
      "source": [
        "#fitting data into Random Forest Classifier\n",
        "rfc=RandomForestClassifier(n_estimators=50)\n",
        "rfc.fit(X_train, y_train)"
      ]
    },
    {
      "cell_type": "code",
      "execution_count": 67,
      "metadata": {
        "id": "ZjUHDUGOHjBj"
      },
      "outputs": [],
      "source": [
        "#class prediction of y\n",
        "y_pred_rfc=rfc.predict(X_test)\n",
        "y_train_pred_rfc=rfc.predict(X_train)"
      ]
    },
    {
      "cell_type": "code",
      "execution_count": 68,
      "metadata": {
        "colab": {
          "base_uri": "https://localhost:8080/"
        },
        "id": "hsj6rVvUHi-B",
        "outputId": "e08734a3-ded8-4376-f207-60ad55399e2e"
      },
      "outputs": [
        {
          "output_type": "stream",
          "name": "stdout",
          "text": [
            "The accuracy on train data is  0.999\n",
            "The accuracy on test data is  0.869\n",
            "The precision on test data is  0.832\n",
            "The recall on test data is  0.899\n",
            "The f1 on test data is  0.864\n",
            "The roc_score on test data is  0.871\n"
          ]
        }
      ],
      "source": [
        "#getting all scores for Random Forest Classifier\n",
        "train_accuracy_rfc = round(accuracy_score(y_train_pred_rfc,y_train), 3)\n",
        "accuracy_rfc = round(accuracy_score(y_pred_rfc,y_test), 3)\n",
        "precision_score_rfc = round(precision_score(y_pred_rfc,y_test), 3)\n",
        "recall_score_rfc = round(recall_score(y_pred_rfc,y_test), 3)\n",
        "f1_score_rfc = round(f1_score(y_pred_rfc,y_test), 3)\n",
        "roc_score_rfc = round(roc_auc_score(y_pred_rfc,y_test), 3)\n",
        "\n",
        "print(\"The accuracy on train data is \", train_accuracy_rfc)\n",
        "print(\"The accuracy on test data is \", accuracy_rfc)\n",
        "print(\"The precision on test data is \", precision_score_rfc)\n",
        "print(\"The recall on test data is \", recall_score_rfc)\n",
        "print(\"The f1 on test data is \", f1_score_rfc)\n",
        "print(\"The roc_score on test data is \", roc_score_rfc)"
      ]
    },
    {
      "cell_type": "code",
      "execution_count": 69,
      "metadata": {
        "colab": {
          "base_uri": "https://localhost:8080/",
          "height": 0
        },
        "id": "zBpluEdWHi6k",
        "outputId": "7e50bddc-ac98-4c0b-c68e-a0ec133b447d"
      },
      "outputs": [
        {
          "output_type": "stream",
          "name": "stdout",
          "text": [
            "[[4235  438]\n",
            " [ 785 3888]]\n"
          ]
        },
        {
          "output_type": "execute_result",
          "data": {
            "text/plain": [
              "[Text(0, 0.5, 'Not Defaulter'), Text(0, 1.5, 'Defaulter')]"
            ]
          },
          "metadata": {},
          "execution_count": 69
        },
        {
          "output_type": "display_data",
          "data": {
            "text/plain": [
              "<Figure size 432x288 with 2 Axes>"
            ],
            "image/png": "[encoded data removed]"
          },
          "metadata": {
            "needs_background": "light"
          }
        }
      ],
      "source": [
        "# Get the confusion matrix for Random Forest Classifier\n",
        "labels = ['Not Defaulter', 'Defaulter']\n",
        "cm_rfc = confusion_matrix(y_test, y_pred_rfc )\n",
        "print(cm_rfc)\n",
        "\n",
        "#plot confusion matrix\n",
        "ax= plt.subplot()\n",
        "sns.heatmap(cm_rfc, annot=True, ax = ax)\n",
        "\n",
        "# labels, title and ticks\n",
        "ax.set_xlabel('Predicted labels')\n",
        "ax.set_ylabel('True labels')\n",
        "ax.set_title('Confusion Matrix - Random Forest Classifier')\n",
        "ax.xaxis.set_ticklabels(labels)\n",
        "ax.yaxis.set_ticklabels(labels)"
      ]
    },
    {
      "cell_type": "code",
      "execution_count": 70,
      "metadata": {
        "id": "tVo9ty3Z3JmE"
      },
      "outputs": [],
      "source": [
        "#importing Gradient Boosting Classifier\n",
        "from sklearn.ensemble import GradientBoostingClassifier"
      ]
    },
    {
      "cell_type": "code",
      "execution_count": 71,
      "metadata": {
        "colab": {
          "base_uri": "https://localhost:8080/"
        },
        "id": "Ut6-p05v3Jje",
        "outputId": "85cbdf82-97ae-483d-ea23-9e5a7d8bffb7"
      },
      "outputs": [
        {
          "output_type": "execute_result",
          "data": {
            "text/plain": [
              "GradientBoostingClassifier(random_state=42)"
            ]
          },
          "metadata": {},
          "execution_count": 71
        }
      ],
      "source": [
        "#fitting data into Gradient Boosting Classifier\n",
        "gbc = GradientBoostingClassifier(random_state=42)\n",
        "gbc.fit(X_train, y_train)"
      ]
    },
    {
      "cell_type": "code",
      "execution_count": 72,
      "metadata": {
        "id": "1Xkaok0b3Jge"
      },
      "outputs": [],
      "source": [
        "#class prediction of y\n",
        "y_pred_gbc=gbc.predict(X_test)\n",
        "y_train_pred_gbc=gbc.predict(X_train)"
      ]
    },
    {
      "cell_type": "code",
      "execution_count": 73,
      "metadata": {
        "colab": {
          "base_uri": "https://localhost:8080/"
        },
        "id": "g9vGklUI3Jds",
        "outputId": "0f297adc-c258-43cc-ea91-ddf257d20aae"
      },
      "outputs": [
        {
          "output_type": "stream",
          "name": "stdout",
          "text": [
            "The accuracy on train data is  0.846\n",
            "The accuracy on test data is  0.844\n",
            "The precision on test data is  0.801\n",
            "The recall on test data is  0.876\n",
            "The f1 on test data is  0.837\n",
            "The roc_score on test data is  0.846\n"
          ]
        }
      ],
      "source": [
        "#getting all scores for Gradient Boosting Classifier\n",
        "train_accuracy_gbc = round(accuracy_score(y_train_pred_gbc,y_train), 3)\n",
        "accuracy_gbc = round(accuracy_score(y_pred_gbc,y_test), 3)\n",
        "precision_score_gbc = round(precision_score(y_pred_gbc,y_test), 3)\n",
        "recall_score_gbc = round(recall_score(y_pred_gbc,y_test), 3)\n",
        "f1_score_gbc = round(f1_score(y_pred_gbc,y_test), 3)\n",
        "roc_score_gbc = round(roc_auc_score(y_pred_gbc,y_test), 3)\n",
        "\n",
        "print(\"The accuracy on train data is \", train_accuracy_gbc)\n",
        "print(\"The accuracy on test data is \", accuracy_gbc)\n",
        "print(\"The precision on test data is \", precision_score_gbc)\n",
        "print(\"The recall on test data is \", recall_score_gbc)\n",
        "print(\"The f1 on test data is \", f1_score_gbc)\n",
        "print(\"The roc_score on test data is \", roc_score_gbc)"
      ]
    },
    {
      "cell_type": "code",
      "execution_count": 74,
      "metadata": {
        "colab": {
          "base_uri": "https://localhost:8080/",
          "height": 0
        },
        "id": "JkK6SoEe3Jak",
        "outputId": "d78956c0-8638-43e2-937f-d36f0c5661da"
      },
      "outputs": [
        {
          "output_type": "stream",
          "name": "stdout",
          "text": [
            "[[4143  530]\n",
            " [ 932 3741]]\n"
          ]
        },
        {
          "output_type": "execute_result",
          "data": {
            "text/plain": [
              "[Text(0, 0.5, 'Not Defaulter'), Text(0, 1.5, 'Defaulter')]"
            ]
          },
          "metadata": {},
          "execution_count": 74
        },
        {
          "output_type": "display_data",
          "data": {
            "text/plain": [
              "<Figure size 432x288 with 2 Axes>"
            ],
            "image/png": "[encoded data removed]"
          },
          "metadata": {
            "needs_background": "light"
          }
        }
      ],
      "source": [
        "# Get the confusion matrix for Gradient Boosting Classifier\n",
        "labels = ['Not Defaulter', 'Defaulter']\n",
        "cm_gbc = confusion_matrix(y_test, y_pred_gbc )\n",
        "print(cm_gbc)\n",
        "\n",
        "#plot confusion matrix\n",
        "ax= plt.subplot()\n",
        "sns.heatmap(cm_gbc, annot=True, ax = ax)\n",
        "\n",
        "# labels, title and ticks\n",
        "ax.set_xlabel('Predicted labels')\n",
        "ax.set_ylabel('True labels')\n",
        "ax.set_title('Confusion Matrix - Gradient Boosting Classifier')\n",
        "ax.xaxis.set_ticklabels(labels)\n",
        "ax.yaxis.set_ticklabels(labels)"
      ]
    },
    {
      "cell_type": "markdown",
      "metadata": {
        "id": "jRG68EPa0a9U"
      },
      "source": [
        "## Support Vector Machine"
      ]
    },
    {
      "cell_type": "code",
      "execution_count": 75,
      "metadata": {
        "id": "xXHHUvlyzY0P"
      },
      "outputs": [],
      "source": [
        "#importing Support Vector Classifier\n",
        "from sklearn.svm import SVC"
      ]
    },
    {
      "cell_type": "code",
      "execution_count": 76,
      "metadata": {
        "colab": {
          "base_uri": "https://localhost:8080/"
        },
        "id": "acrpJp6u027l",
        "outputId": "7ea6ef34-b76c-4de7-f349-8e80bfd77884"
      },
      "outputs": [
        {
          "output_type": "execute_result",
          "data": {
            "text/plain": [
              "SVC(probability=True)"
            ]
          },
          "metadata": {},
          "execution_count": 76
        }
      ],
      "source": [
        "#fitting data into Support Vector Classifier\n",
        "svm=SVC(probability=True)\n",
        "svm.fit(X_train,y_train)"
      ]
    },
    {
      "cell_type": "code",
      "execution_count": 77,
      "metadata": {
        "id": "U3xcR9H81I5D"
      },
      "outputs": [],
      "source": [
        "#class prediction of y\n",
        "y_pred_svm=svm.predict(X_test)\n",
        "y_train_pred_svm=svm.predict(X_train)"
      ]
    },
    {
      "cell_type": "code",
      "execution_count": 78,
      "metadata": {
        "colab": {
          "base_uri": "https://localhost:8080/"
        },
        "id": "nIdXZpyZ0214",
        "outputId": "6ee1c722-6a67-422a-97bc-399697ce7c11"
      },
      "outputs": [
        {
          "output_type": "stream",
          "name": "stdout",
          "text": [
            "The accuracy on train data is  0.844\n",
            "The accuracy on test data is  0.843\n",
            "The precision on test data is  0.772\n",
            "The recall on test data is  0.901\n",
            "The f1 on test data is  0.831\n",
            "The roc_score on test data is  0.85\n"
          ]
        }
      ],
      "source": [
        "#getting all scores for Support Vector Classifier\n",
        "train_accuracy_svm = round(accuracy_score(y_train_pred_svm,y_train), 3)\n",
        "accuracy_svm = round(accuracy_score(y_pred_svm,y_test), 3)\n",
        "precision_score_svm = round(precision_score(y_pred_svm,y_test), 3)\n",
        "recall_score_svm = round(recall_score(y_pred_svm,y_test), 3)\n",
        "f1_score_svm = round(f1_score(y_pred_svm,y_test), 3)\n",
        "roc_score_svm = round(roc_auc_score(y_pred_svm,y_test), 3)\n",
        "\n",
        "print(\"The accuracy on train data is \", train_accuracy_svm)\n",
        "print(\"The accuracy on test data is \", accuracy_svm)\n",
        "print(\"The precision on test data is \", precision_score_svm)\n",
        "print(\"The recall on test data is \", recall_score_svm)\n",
        "print(\"The f1 on test data is \", f1_score_svm)\n",
        "print(\"The roc_score on test data is \", roc_score_svm)"
      ]
    },
    {
      "cell_type": "code",
      "execution_count": 79,
      "metadata": {
        "colab": {
          "base_uri": "https://localhost:8080/",
          "height": 0
        },
        "id": "h4HkyW6202zK",
        "outputId": "e3c8016f-2255-42bc-e69b-dca303fc2b80"
      },
      "outputs": [
        {
          "output_type": "stream",
          "name": "stdout",
          "text": [
            "[[4275  398]\n",
            " [1067 3606]]\n"
          ]
        },
        {
          "output_type": "execute_result",
          "data": {
            "text/plain": [
              "[Text(0, 0.5, 'Not Defaulter'), Text(0, 1.5, 'Defaulter')]"
            ]
          },
          "metadata": {},
          "execution_count": 79
        },
        {
          "output_type": "display_data",
          "data": {
            "text/plain": [
              "<Figure size 432x288 with 2 Axes>"
            ],
            "image/png": "[encoded data removed]"
          },
          "metadata": {
            "needs_background": "light"
          }
        }
      ],
      "source": [
        "# Get the confusion matrix for Support Vector Classifier\n",
        "labels = ['Not Defaulter', 'Defaulter']\n",
        "cm_svm = confusion_matrix(y_test, y_pred_svm )\n",
        "print(cm_svm)\n",
        "\n",
        "#plot confusion matrix\n",
        "ax= plt.subplot()\n",
        "sns.heatmap(cm_svm, annot=True, ax = ax)\n",
        "\n",
        "# labels, title and ticks\n",
        "ax.set_xlabel('Predicted labels')\n",
        "ax.set_ylabel('True labels')\n",
        "ax.set_title('Confusion Matrix - SVM')\n",
        "ax.xaxis.set_ticklabels(labels)\n",
        "ax.yaxis.set_ticklabels(labels)"
      ]
    },
    {
      "cell_type": "code",
      "execution_count": 79,
      "metadata": {
        "id": "HZUJo4b7GjiW"
      },
      "outputs": [],
      "source": []
    },
    {
      "cell_type": "markdown",
      "metadata": {
        "id": "57AxmmouKOHA"
      },
      "source": [
        "## Gradient Boosting"
      ]
    },
    {
      "cell_type": "code",
      "execution_count": 80,
      "metadata": {
        "id": "JCD5qhh1KOHB"
      },
      "outputs": [],
      "source": [
        "#importing Gradient Boosting Classifier\n",
        "from sklearn.ensemble import GradientBoostingClassifier"
      ]
    },
    {
      "cell_type": "code",
      "execution_count": 81,
      "metadata": {
        "colab": {
          "base_uri": "https://localhost:8080/"
        },
        "id": "F9pYxgu4KOHC",
        "outputId": "1d21030c-84f2-48e5-b243-8ca0c75bbb4d"
      },
      "outputs": [
        {
          "output_type": "execute_result",
          "data": {
            "text/plain": [
              "GradientBoostingClassifier(random_state=42)"
            ]
          },
          "metadata": {},
          "execution_count": 81
        }
      ],
      "source": [
        "#fitting data into Gradient Boosting Classifier\n",
        "gbc = GradientBoostingClassifier(random_state=42)\n",
        "gbc.fit(X_train, y_train)"
      ]
    },
    {
      "cell_type": "code",
      "execution_count": 82,
      "metadata": {
        "id": "hNTq_k1GKOHD"
      },
      "outputs": [],
      "source": [
        "#class prediction of y\n",
        "y_pred_gbc=gbc.predict(X_test)\n",
        "y_train_pred_gbc=gbc.predict(X_train)"
      ]
    },
    {
      "cell_type": "code",
      "execution_count": 83,
      "metadata": {
        "colab": {
          "base_uri": "https://localhost:8080/"
        },
        "id": "ZEna4IeNKOHE",
        "outputId": "df688215-8114-4579-e692-135f32e26590"
      },
      "outputs": [
        {
          "output_type": "stream",
          "name": "stdout",
          "text": [
            "The accuracy on train data is  0.846\n",
            "The accuracy on test data is  0.844\n",
            "The precision on test data is  0.801\n",
            "The recall on test data is  0.876\n",
            "The f1 on test data is  0.837\n",
            "The roc_score on test data is  0.846\n"
          ]
        }
      ],
      "source": [
        "#getting all scores for Gradient Boosting Classifier\n",
        "train_accuracy_gbc = round(accuracy_score(y_train_pred_gbc,y_train), 3)\n",
        "accuracy_gbc = round(accuracy_score(y_pred_gbc,y_test), 3)\n",
        "precision_score_gbc = round(precision_score(y_pred_gbc,y_test), 3)\n",
        "recall_score_gbc = round(recall_score(y_pred_gbc,y_test), 3)\n",
        "f1_score_gbc = round(f1_score(y_pred_gbc,y_test), 3)\n",
        "roc_score_gbc = round(roc_auc_score(y_pred_gbc,y_test), 3)\n",
        "\n",
        "print(\"The accuracy on train data is \", train_accuracy_gbc)\n",
        "print(\"The accuracy on test data is \", accuracy_gbc)\n",
        "print(\"The precision on test data is \", precision_score_gbc)\n",
        "print(\"The recall on test data is \", recall_score_gbc)\n",
        "print(\"The f1 on test data is \", f1_score_gbc)\n",
        "print(\"The roc_score on test data is \", roc_score_gbc)"
      ]
    },
    {
      "cell_type": "code",
      "execution_count": 84,
      "metadata": {
        "colab": {
          "base_uri": "https://localhost:8080/",
          "height": 0
        },
        "id": "fbwG8P-VKOHE",
        "outputId": "bdf1bbf6-9073-4470-9fc2-35ac8059d474"
      },
      "outputs": [
        {
          "output_type": "stream",
          "name": "stdout",
          "text": [
            "[[4143  530]\n",
            " [ 932 3741]]\n"
          ]
        },
        {
          "output_type": "execute_result",
          "data": {
            "text/plain": [
              "[Text(0, 0.5, 'Not Defaulter'), Text(0, 1.5, 'Defaulter')]"
            ]
          },
          "metadata": {},
          "execution_count": 84
        },
        {
          "output_type": "display_data",
          "data": {
            "text/plain": [
              "<Figure size 432x288 with 2 Axes>"
            ],
            "image/png": "[encoded data removed]"
          },
          "metadata": {
            "needs_background": "light"
          }
        }
      ],
      "source": [
        "# Get the confusion matrix for Gradient Boosting Classifier\n",
        "labels = ['Not Defaulter', 'Defaulter']\n",
        "cm_gbc = confusion_matrix(y_test, y_pred_gbc )\n",
        "print(cm_gbc)\n",
        "\n",
        "#plot confusion matrix\n",
        "ax= plt.subplot()\n",
        "sns.heatmap(cm_gbc, annot=True, ax = ax)\n",
        "\n",
        "# labels, title and ticks\n",
        "ax.set_xlabel('Predicted labels')\n",
        "ax.set_ylabel('True labels')\n",
        "ax.set_title('Confusion Matrix - Gradient Boosting Classifier')\n",
        "ax.xaxis.set_ticklabels(labels)\n",
        "ax.yaxis.set_ticklabels(labels)"
      ]
    },
    {
      "cell_type": "code",
      "execution_count": 84,
      "metadata": {
        "id": "-S7gcKVbKhvU"
      },
      "outputs": [],
      "source": []
    },
    {
      "cell_type": "markdown",
      "metadata": {
        "id": "PVtuI5Ep5rD2"
      },
      "source": [
        "## XG Boosting"
      ]
    },
    {
      "cell_type": "code",
      "execution_count": 85,
      "metadata": {
        "id": "L6ThqbQz5VXz"
      },
      "outputs": [],
      "source": [
        "#importing XG Boosting Classifier\n",
        "from xgboost import XGBClassifier"
      ]
    },
    {
      "cell_type": "code",
      "execution_count": 86,
      "metadata": {
        "colab": {
          "base_uri": "https://localhost:8080/"
        },
        "id": "5MR0R5br5VVC",
        "outputId": "35378b6e-05b3-4be0-b017-47766f3ef994"
      },
      "outputs": [
        {
          "output_type": "execute_result",
          "data": {
            "text/plain": [
              "XGBClassifier()"
            ]
          },
          "metadata": {},
          "execution_count": 86
        }
      ],
      "source": [
        "#fitting data into XG Boosting Classifier\n",
        "xgb = XGBClassifier()\n",
        "xgb.fit(X_train,y_train)"
      ]
    },
    {
      "cell_type": "code",
      "execution_count": 87,
      "metadata": {
        "id": "T_Tqstco5VSO"
      },
      "outputs": [],
      "source": [
        "#class prediction of y\n",
        "y_pred_xgb=xgb.predict(X_test)\n",
        "y_train_pred_xgb=xgb.predict(X_train)"
      ]
    },
    {
      "cell_type": "code",
      "execution_count": 88,
      "metadata": {
        "colab": {
          "base_uri": "https://localhost:8080/"
        },
        "id": "Sib751ga5VPH",
        "outputId": "a91fe121-4501-4df0-b4d1-8223d273b7a6"
      },
      "outputs": [
        {
          "output_type": "stream",
          "name": "stdout",
          "text": [
            "The accuracy on train data is  0.844\n",
            "The accuracy on test data is  0.842\n",
            "The precision on test data is  0.8\n",
            "The recall on test data is  0.873\n",
            "The f1 on test data is  0.835\n",
            "The roc_score on test data is  0.844\n"
          ]
        }
      ],
      "source": [
        "#getting all scores for XG Boosting Classifier\n",
        "train_accuracy_xgb = round(accuracy_score(y_train_pred_xgb,y_train), 3)\n",
        "accuracy_xgb = round(accuracy_score(y_pred_xgb,y_test), 3)\n",
        "precision_score_xgb = round(precision_score(y_pred_xgb,y_test), 3)\n",
        "recall_score_xgb = round(recall_score(y_pred_xgb,y_test), 3)\n",
        "f1_score_xgb = round(f1_score(y_pred_xgb,y_test), 3)\n",
        "roc_score_xgb = round(roc_auc_score(y_pred_xgb,y_test), 3)\n",
        "\n",
        "print(\"The accuracy on train data is \", train_accuracy_xgb)\n",
        "print(\"The accuracy on test data is \", accuracy_xgb)\n",
        "print(\"The precision on test data is \", precision_score_xgb)\n",
        "print(\"The recall on test data is \", recall_score_xgb)\n",
        "print(\"The f1 on test data is \", f1_score_xgb)\n",
        "print(\"The roc_score on test data is \", roc_score_xgb)"
      ]
    },
    {
      "cell_type": "code",
      "execution_count": 89,
      "metadata": {
        "colab": {
          "base_uri": "https://localhost:8080/",
          "height": 0
        },
        "id": "RH4z7G4S5VMI",
        "outputId": "18f36aec-a6c0-4b22-fd72-815c76dca7f2"
      },
      "outputs": [
        {
          "output_type": "stream",
          "name": "stdout",
          "text": [
            "[[4128  545]\n",
            " [ 936 3737]]\n"
          ]
        },
        {
          "output_type": "execute_result",
          "data": {
            "text/plain": [
              "[Text(0, 0.5, 'Not Defaulter'), Text(0, 1.5, 'Defaulter')]"
            ]
          },
          "metadata": {},
          "execution_count": 89
        },
        {
          "output_type": "display_data",
          "data": {
            "text/plain": [
              "<Figure size 432x288 with 2 Axes>"
            ],
            "image/png": "[encoded data removed]"
          },
          "metadata": {
            "needs_background": "light"
          }
        }
      ],
      "source": [
        "# Get the confusion matrix for XG Boosting Classifier\n",
        "labels = ['Not Defaulter', 'Defaulter']\n",
        "cm_xgb = confusion_matrix(y_test, y_pred_xgb )\n",
        "print(cm_xgb)\n",
        "\n",
        "#plot confusion matrix\n",
        "ax= plt.subplot()\n",
        "sns.heatmap(cm_xgb, annot=True, ax = ax)\n",
        "\n",
        "# labels, title and ticks\n",
        "ax.set_xlabel('Predicted labels')\n",
        "ax.set_ylabel('True labels')\n",
        "ax.set_title('Confusion Matrix - XG Boosting Classifier')\n",
        "ax.xaxis.set_ticklabels(labels)\n",
        "ax.yaxis.set_ticklabels(labels)"
      ]
    },
    {
      "cell_type": "markdown",
      "metadata": {
        "id": "QjzgCVofJAw2"
      },
      "source": [
        "## Baseline Model Comparision"
      ]
    },
    {
      "cell_type": "code",
      "execution_count": 90,
      "metadata": {
        "id": "hE3oJdoHI_FC"
      },
      "outputs": [],
      "source": [
        "all_lassifiers = ['Logistic Regression', 'Decision Tree', 'Random Forest', 'SVM', 'Gradient Boosting', 'XG Boosting']\n",
        "all_train_accuracy = [train_accuracy_logi, train_accuracy_dtc, train_accuracy_rfc, train_accuracy_svm, train_accuracy_gbc, train_accuracy_xgb]\n",
        "all_test_accuracy = [accuracy_logi, accuracy_dtc, accuracy_rfc, accuracy_svm, accuracy_gbc, accuracy_xgb]\n",
        "all_precision_score = [precision_score_logi, precision_score_dtc, precision_score_rfc, precision_score_svm, precision_score_gbc, precision_score_xgb]\n",
        "all_recall_score = [recall_score_logi, recall_score_dtc, recall_score_rfc, recall_score_svm, recall_score_gbc, recall_score_xgb]\n",
        "all_f1_score = [f1_score_logi, f1_score_dtc, f1_score_rfc, f1_score_svm, f1_score_gbc, f1_score_xgb]\n",
        "all_auc_score = [roc_score_logi, roc_score_dtc, roc_score_rfc, roc_score_svm, roc_score_gbc, roc_score_xgb]"
      ]
    },
    {
      "cell_type": "code",
      "execution_count": 91,
      "metadata": {
        "id": "Mg2R56a-JVUY"
      },
      "outputs": [],
      "source": [
        "compare_df = pd.DataFrame({'Classifier':all_lassifiers, 'Train Accuracy': all_train_accuracy, 'Test Accuracy': all_test_accuracy, 'Precision': all_precision_score, 'Recall': all_recall_score, 'F1 Score': all_f1_score , 'AUC': all_auc_score})"
      ]
    },
    {
      "cell_type": "code",
      "execution_count": 92,
      "metadata": {
        "colab": {
          "base_uri": "https://localhost:8080/",
          "height": 0
        },
        "id": "DbAsFErHKAB9",
        "outputId": "d94f2aee-566c-4d39-cc48-92f7bf51633f"
      },
      "outputs": [
        {
          "output_type": "execute_result",
          "data": {
            "text/plain": [
              "            Classifier  Train Accuracy  Test Accuracy  Precision  Recall  \\\n",
              "0  Logistic Regression           0.825          0.831      0.797   0.855   \n",
              "1        Decision Tree           0.999          0.792      0.810   0.782   \n",
              "2        Random Forest           0.999          0.869      0.832   0.899   \n",
              "3                  SVM           0.844          0.843      0.772   0.901   \n",
              "4    Gradient Boosting           0.846          0.844      0.801   0.876   \n",
              "5          XG Boosting           0.844          0.842      0.800   0.873   \n",
              "\n",
              "   F1 Score    AUC  \n",
              "0     0.825  0.833  \n",
              "1     0.796  0.792  \n",
              "2     0.864  0.871  \n",
              "3     0.831  0.850  \n",
              "4     0.837  0.846  \n",
              "5     0.835  0.844  "
            ],
            "text/html": [
              "\n",
              "  <div id=\"df-90990740-2929-4ae9-8b60-e2a2913989dc\">\n",
              "    <div class=\"colab-df-container\">\n",
              "      <div>\n",
              "<style scoped>\n",
              "    .dataframe tbody tr th:only-of-type {\n",
              "        vertical-align: middle;\n",
              "    }\n",
              "\n",
              "    .dataframe tbody tr th {\n",
              "        vertical-align: top;\n",
              "    }\n",
              "\n",
              "    .dataframe thead th {\n",
              "        text-align: right;\n",
              "    }\n",
              "</style>\n",
              "<table border=\"1\" class=\"dataframe\">\n",
              "  <thead>\n",
              "    <tr style=\"text-align: right;\">\n",
              "      <th></th>\n",
              "      <th>Classifier</th>\n",
              "      <th>Train Accuracy</th>\n",
              "      <th>Test Accuracy</th>\n",
              "      <th>Precision</th>\n",
              "      <th>Recall</th>\n",
              "      <th>F1 Score</th>\n",
              "      <th>AUC</th>\n",
              "    </tr>\n",
              "  </thead>\n",
              "  <tbody>\n",
              "    <tr>\n",
              "      <th>0</th>\n",
              "      <td>Logistic Regression</td>\n",
              "      <td>0.825</td>\n",
              "      <td>0.831</td>\n",
              "      <td>0.797</td>\n",
              "      <td>0.855</td>\n",
              "      <td>0.825</td>\n",
              "      <td>0.833</td>\n",
              "    </tr>\n",
              "    <tr>\n",
              "      <th>1</th>\n",
              "      <td>Decision Tree</td>\n",
              "      <td>0.999</td>\n",
              "      <td>0.792</td>\n",
              "      <td>0.810</td>\n",
              "      <td>0.782</td>\n",
              "      <td>0.796</td>\n",
              "      <td>0.792</td>\n",
              "    </tr>\n",
              "    <tr>\n",
              "      <th>2</th>\n",
              "      <td>Random Forest</td>\n",
              "      <td>0.999</td>\n",
              "      <td>0.869</td>\n",
              "      <td>0.832</td>\n",
              "      <td>0.899</td>\n",
              "      <td>0.864</td>\n",
              "      <td>0.871</td>\n",
              "    </tr>\n",
              "    <tr>\n",
              "      <th>3</th>\n",
              "      <td>SVM</td>\n",
              "      <td>0.844</td>\n",
              "      <td>0.843</td>\n",
              "      <td>0.772</td>\n",
              "      <td>0.901</td>\n",
              "      <td>0.831</td>\n",
              "      <td>0.850</td>\n",
              "    </tr>\n",
              "    <tr>\n",
              "      <th>4</th>\n",
              "      <td>Gradient Boosting</td>\n",
              "      <td>0.846</td>\n",
              "      <td>0.844</td>\n",
              "      <td>0.801</td>\n",
              "      <td>0.876</td>\n",
              "      <td>0.837</td>\n",
              "      <td>0.846</td>\n",
              "    </tr>\n",
              "    <tr>\n",
              "      <th>5</th>\n",
              "      <td>XG Boosting</td>\n",
              "      <td>0.844</td>\n",
              "      <td>0.842</td>\n",
              "      <td>0.800</td>\n",
              "      <td>0.873</td>\n",
              "      <td>0.835</td>\n",
              "      <td>0.844</td>\n",
              "    </tr>\n",
              "  </tbody>\n",
              "</table>\n",
              "</div>\n",
              "      <button class=\"colab-df-convert\" onclick=\"convertToInteractive('df-90990740-2929-4ae9-8b60-e2a2913989dc')\"\n",
              "              title=\"Convert this dataframe to an interactive table.\"\n",
              "              style=\"display:none;\">\n",
              "        \n",
              "  <svg xmlns=\"http://www.w3.org/2000/svg\" height=\"24px\"viewBox=\"0 0 24 24\"\n",
              "       width=\"24px\">\n",
              "    <path d=\"M0 0h24v24H0V0z\" fill=\"none\"/>\n",
              "    <path d=\"M18.56 5.44l.94 2.06.94-2.06 2.06-.94-2.06-.94-.94-2.06-.94 2.06-2.06.94zm-11 1L8.5 8.5l.94-2.06 2.06-.94-2.06-.94L8.5 2.5l-.94 2.06-2.06.94zm10 10l.94 2.06.94-2.06 2.06-.94-2.06-.94-.94-2.06-.94 2.06-2.06.94z\"/><path d=\"M17.41 7.96l-1.37-1.37c-.4-.4-.92-.59-1.43-.59-.52 0-1.04.2-1.43.59L10.3 9.45l-7.72 7.72c-.78.78-.78 2.05 0 2.83L4 21.41c.39.39.9.59 1.41.59.51 0 1.02-.2 1.41-.59l7.78-7.78 2.81-2.81c.8-.78.8-2.07 0-2.86zM5.41 20L4 18.59l7.72-7.72 1.47 1.35L5.41 20z\"/>\n",
              "  </svg>\n",
              "      </button>\n",
              "      \n",
              "  <style>\n",
              "    .colab-df-container {\n",
              "      display:flex;\n",
              "      flex-wrap:wrap;\n",
              "      gap: 12px;\n",
              "    }\n",
              "\n",
              "    .colab-df-convert {\n",
              "      background-color: #E8F0FE;\n",
              "      border: none;\n",
              "      border-radius: 50%;\n",
              "      cursor: pointer;\n",
              "      display: none;\n",
              "      fill: #1967D2;\n",
              "      height: 32px;\n",
              "      padding: 0 0 0 0;\n",
              "      width: 32px;\n",
              "    }\n",
              "\n",
              "    .colab-df-convert:hover {\n",
              "      background-color: #E2EBFA;\n",
              "      box-shadow: 0px 1px 2px rgba(60, 64, 67, 0.3), 0px 1px 3px 1px rgba(60, 64, 67, 0.15);\n",
              "      fill: #174EA6;\n",
              "    }\n",
              "\n",
              "    [theme=dark] .colab-df-convert {\n",
              "      background-color: #3B4455;\n",
              "      fill: #D2E3FC;\n",
              "    }\n",
              "\n",
              "    [theme=dark] .colab-df-convert:hover {\n",
              "      background-color: #434B5C;\n",
              "      box-shadow: 0px 1px 3px 1px rgba(0, 0, 0, 0.15);\n",
              "      filter: drop-shadow(0px 1px 2px rgba(0, 0, 0, 0.3));\n",
              "      fill: #FFFFFF;\n",
              "    }\n",
              "  </style>\n",
              "\n",
              "      <script>\n",
              "        const buttonEl =\n",
              "          document.querySelector('#df-90990740-2929-4ae9-8b60-e2a2913989dc button.colab-df-convert');\n",
              "        buttonEl.style.display =\n",
              "          google.colab.kernel.accessAllowed ? 'block' : 'none';\n",
              "\n",
              "        async function convertToInteractive(key) {\n",
              "          const element = document.querySelector('#df-90990740-2929-4ae9-8b60-e2a2913989dc');\n",
              "          const dataTable =\n",
              "            await google.colab.kernel.invokeFunction('convertToInteractive',\n",
              "                                                     [key], {});\n",
              "          if (!dataTable) return;\n",
              "\n",
              "          const docLinkHtml = 'Like what you see? Visit the ' +\n",
              "            '<a target=\"_blank\" href=https://colab.research.google.com/notebooks/data_table.ipynb>data table notebook</a>'\n",
              "            + ' to learn more about interactive tables.';\n",
              "          element.innerHTML = '';\n",
              "          dataTable['output_type'] = 'display_data';\n",
              "          await google.colab.output.renderOutput(dataTable, element);\n",
              "          const docLink = document.createElement('div');\n",
              "          docLink.innerHTML = docLinkHtml;\n",
              "          element.appendChild(docLink);\n",
              "        }\n",
              "      </script>\n",
              "    </div>\n",
              "  </div>\n",
              "  "
            ]
          },
          "metadata": {},
          "execution_count": 92
        }
      ],
      "source": [
        "compare_df"
      ]
    },
    {
      "cell_type": "code",
      "execution_count": 93,
      "metadata": {
        "colab": {
          "base_uri": "https://localhost:8080/",
          "height": 0
        },
        "id": "3UHuA0DtKBpk",
        "outputId": "d2fabf8a-b807-4513-8e75-07e9f95b279a"
      },
      "outputs": [
        {
          "output_type": "execute_result",
          "data": {
            "text/plain": [
              "            Classifier  Train Accuracy  Test Accuracy  Precision  Recall  \\\n",
              "2        Random Forest           0.999          0.869      0.832   0.899   \n",
              "4    Gradient Boosting           0.846          0.844      0.801   0.876   \n",
              "3                  SVM           0.844          0.843      0.772   0.901   \n",
              "5          XG Boosting           0.844          0.842      0.800   0.873   \n",
              "0  Logistic Regression           0.825          0.831      0.797   0.855   \n",
              "1        Decision Tree           0.999          0.792      0.810   0.782   \n",
              "\n",
              "   F1 Score    AUC  \n",
              "2     0.864  0.871  \n",
              "4     0.837  0.846  \n",
              "3     0.831  0.850  \n",
              "5     0.835  0.844  \n",
              "0     0.825  0.833  \n",
              "1     0.796  0.792  "
            ],
            "text/html": [
              "\n",
              "  <div id=\"df-62d905bc-6288-4847-81b6-b3a88687fa83\">\n",
              "    <div class=\"colab-df-container\">\n",
              "      <div>\n",
              "<style scoped>\n",
              "    .dataframe tbody tr th:only-of-type {\n",
              "        vertical-align: middle;\n",
              "    }\n",
              "\n",
              "    .dataframe tbody tr th {\n",
              "        vertical-align: top;\n",
              "    }\n",
              "\n",
              "    .dataframe thead th {\n",
              "        text-align: right;\n",
              "    }\n",
              "</style>\n",
              "<table border=\"1\" class=\"dataframe\">\n",
              "  <thead>\n",
              "    <tr style=\"text-align: right;\">\n",
              "      <th></th>\n",
              "      <th>Classifier</th>\n",
              "      <th>Train Accuracy</th>\n",
              "      <th>Test Accuracy</th>\n",
              "      <th>Precision</th>\n",
              "      <th>Recall</th>\n",
              "      <th>F1 Score</th>\n",
              "      <th>AUC</th>\n",
              "    </tr>\n",
              "  </thead>\n",
              "  <tbody>\n",
              "    <tr>\n",
              "      <th>2</th>\n",
              "      <td>Random Forest</td>\n",
              "      <td>0.999</td>\n",
              "      <td>0.869</td>\n",
              "      <td>0.832</td>\n",
              "      <td>0.899</td>\n",
              "      <td>0.864</td>\n",
              "      <td>0.871</td>\n",
              "    </tr>\n",
              "    <tr>\n",
              "      <th>4</th>\n",
              "      <td>Gradient Boosting</td>\n",
              "      <td>0.846</td>\n",
              "      <td>0.844</td>\n",
              "      <td>0.801</td>\n",
              "      <td>0.876</td>\n",
              "      <td>0.837</td>\n",
              "      <td>0.846</td>\n",
              "    </tr>\n",
              "    <tr>\n",
              "      <th>3</th>\n",
              "      <td>SVM</td>\n",
              "      <td>0.844</td>\n",
              "      <td>0.843</td>\n",
              "      <td>0.772</td>\n",
              "      <td>0.901</td>\n",
              "      <td>0.831</td>\n",
              "      <td>0.850</td>\n",
              "    </tr>\n",
              "    <tr>\n",
              "      <th>5</th>\n",
              "      <td>XG Boosting</td>\n",
              "      <td>0.844</td>\n",
              "      <td>0.842</td>\n",
              "      <td>0.800</td>\n",
              "      <td>0.873</td>\n",
              "      <td>0.835</td>\n",
              "      <td>0.844</td>\n",
              "    </tr>\n",
              "    <tr>\n",
              "      <th>0</th>\n",
              "      <td>Logistic Regression</td>\n",
              "      <td>0.825</td>\n",
              "      <td>0.831</td>\n",
              "      <td>0.797</td>\n",
              "      <td>0.855</td>\n",
              "      <td>0.825</td>\n",
              "      <td>0.833</td>\n",
              "    </tr>\n",
              "    <tr>\n",
              "      <th>1</th>\n",
              "      <td>Decision Tree</td>\n",
              "      <td>0.999</td>\n",
              "      <td>0.792</td>\n",
              "      <td>0.810</td>\n",
              "      <td>0.782</td>\n",
              "      <td>0.796</td>\n",
              "      <td>0.792</td>\n",
              "    </tr>\n",
              "  </tbody>\n",
              "</table>\n",
              "</div>\n",
              "      <button class=\"colab-df-convert\" onclick=\"convertToInteractive('df-62d905bc-6288-4847-81b6-b3a88687fa83')\"\n",
              "              title=\"Convert this dataframe to an interactive table.\"\n",
              "              style=\"display:none;\">\n",
              "        \n",
              "  <svg xmlns=\"http://www.w3.org/2000/svg\" height=\"24px\"viewBox=\"0 0 24 24\"\n",
              "       width=\"24px\">\n",
              "    <path d=\"M0 0h24v24H0V0z\" fill=\"none\"/>\n",
              "    <path d=\"M18.56 5.44l.94 2.06.94-2.06 2.06-.94-2.06-.94-.94-2.06-.94 2.06-2.06.94zm-11 1L8.5 8.5l.94-2.06 2.06-.94-2.06-.94L8.5 2.5l-.94 2.06-2.06.94zm10 10l.94 2.06.94-2.06 2.06-.94-2.06-.94-.94-2.06-.94 2.06-2.06.94z\"/><path d=\"M17.41 7.96l-1.37-1.37c-.4-.4-.92-.59-1.43-.59-.52 0-1.04.2-1.43.59L10.3 9.45l-7.72 7.72c-.78.78-.78 2.05 0 2.83L4 21.41c.39.39.9.59 1.41.59.51 0 1.02-.2 1.41-.59l7.78-7.78 2.81-2.81c.8-.78.8-2.07 0-2.86zM5.41 20L4 18.59l7.72-7.72 1.47 1.35L5.41 20z\"/>\n",
              "  </svg>\n",
              "      </button>\n",
              "      \n",
              "  <style>\n",
              "    .colab-df-container {\n",
              "      display:flex;\n",
              "      flex-wrap:wrap;\n",
              "      gap: 12px;\n",
              "    }\n",
              "\n",
              "    .colab-df-convert {\n",
              "      background-color: #E8F0FE;\n",
              "      border: none;\n",
              "      border-radius: 50%;\n",
              "      cursor: pointer;\n",
              "      display: none;\n",
              "      fill: #1967D2;\n",
              "      height: 32px;\n",
              "      padding: 0 0 0 0;\n",
              "      width: 32px;\n",
              "    }\n",
              "\n",
              "    .colab-df-convert:hover {\n",
              "      background-color: #E2EBFA;\n",
              "      box-shadow: 0px 1px 2px rgba(60, 64, 67, 0.3), 0px 1px 3px 1px rgba(60, 64, 67, 0.15);\n",
              "      fill: #174EA6;\n",
              "    }\n",
              "\n",
              "    [theme=dark] .colab-df-convert {\n",
              "      background-color: #3B4455;\n",
              "      fill: #D2E3FC;\n",
              "    }\n",
              "\n",
              "    [theme=dark] .colab-df-convert:hover {\n",
              "      background-color: #434B5C;\n",
              "      box-shadow: 0px 1px 3px 1px rgba(0, 0, 0, 0.15);\n",
              "      filter: drop-shadow(0px 1px 2px rgba(0, 0, 0, 0.3));\n",
              "      fill: #FFFFFF;\n",
              "    }\n",
              "  </style>\n",
              "\n",
              "      <script>\n",
              "        const buttonEl =\n",
              "          document.querySelector('#df-62d905bc-6288-4847-81b6-b3a88687fa83 button.colab-df-convert');\n",
              "        buttonEl.style.display =\n",
              "          google.colab.kernel.accessAllowed ? 'block' : 'none';\n",
              "\n",
              "        async function convertToInteractive(key) {\n",
              "          const element = document.querySelector('#df-62d905bc-6288-4847-81b6-b3a88687fa83');\n",
              "          const dataTable =\n",
              "            await google.colab.kernel.invokeFunction('convertToInteractive',\n",
              "                                                     [key], {});\n",
              "          if (!dataTable) return;\n",
              "\n",
              "          const docLinkHtml = 'Like what you see? Visit the ' +\n",
              "            '<a target=\"_blank\" href=https://colab.research.google.com/notebooks/data_table.ipynb>data table notebook</a>'\n",
              "            + ' to learn more about interactive tables.';\n",
              "          element.innerHTML = '';\n",
              "          dataTable['output_type'] = 'display_data';\n",
              "          await google.colab.output.renderOutput(dataTable, element);\n",
              "          const docLink = document.createElement('div');\n",
              "          docLink.innerHTML = docLinkHtml;\n",
              "          element.appendChild(docLink);\n",
              "        }\n",
              "      </script>\n",
              "    </div>\n",
              "  </div>\n",
              "  "
            ]
          },
          "metadata": {},
          "execution_count": 93
        }
      ],
      "source": [
        "compare_df.sort_values(by=['Test Accuracy'], ascending=False)"
      ]
    },
    {
      "cell_type": "markdown",
      "metadata": {
        "id": "e4BExQkXlH9G"
      },
      "source": [
        "- Random forest classifier shows highest test accuracy and F1 score."
      ]
    },
    {
      "cell_type": "markdown",
      "metadata": {
        "id": "M5YPn4MVU6-O"
      },
      "source": [
        "## Combined ROC curve for all the models"
      ]
    },
    {
      "cell_type": "code",
      "execution_count": 94,
      "metadata": {
        "id": "O1xc41yWNfId"
      },
      "outputs": [],
      "source": [
        "#importing roc curve\n",
        "from sklearn.metrics import roc_curve"
      ]
    },
    {
      "cell_type": "code",
      "execution_count": 95,
      "metadata": {
        "id": "pqatm1nVQGQD"
      },
      "outputs": [],
      "source": [
        "#probabilty prediction of y for all model\n",
        "y_pred_proba_logi = logi.predict_proba(X_test)[:,1]\n",
        "y_pred_proba_dtc = dtc.predict_proba(X_test)[:,1]\n",
        "y_pred_proba_rfc = rfc.predict_proba(X_test)[:,1]\n",
        "y_pred_proba_svm = svm.predict_proba(X_test)[:,1]\n",
        "y_pred_proba_gbc = gbc.predict_proba(X_test)[:,1]\n",
        "y_pred_proba_xgb = xgb.predict_proba(X_test)[:,1]\n"
      ]
    },
    {
      "cell_type": "code",
      "execution_count": 96,
      "metadata": {
        "colab": {
          "base_uri": "https://localhost:8080/",
          "height": 0
        },
        "id": "bmlus2UjRuXj",
        "outputId": "4868aa47-6747-4c84-f6ee-1cbf4ae3bfcd"
      },
      "outputs": [
        {
          "output_type": "execute_result",
          "data": {
            "text/plain": [
              "<matplotlib.legend.Legend at 0x7f126398a910>"
            ]
          },
          "metadata": {},
          "execution_count": 96
        },
        {
          "output_type": "display_data",
          "data": {
            "text/plain": [
              "<Figure size 720x576 with 1 Axes>"
            ],
            "image/png": "[encoded data removed]"
          },
          "metadata": {
            "needs_background": "light"
          }
        }
      ],
      "source": [
        "fig = plt.figure(figsize=(10,8)) \n",
        "\n",
        "fpr_logi, tpr_logi, _logi = roc_curve(y_test,  y_pred_proba_logi)\n",
        "fpr_dtc, tpr_dtc, _dtc = roc_curve(y_test,  y_pred_proba_dtc)\n",
        "fpr_rfc, tpr_rfc, _rfc = roc_curve(y_test,  y_pred_proba_rfc)\n",
        "fpr_svm, tpr_svm, _svm = roc_curve(y_test,  y_pred_proba_svm)\n",
        "fpr_gbc, tpr_gbc, _gbc = roc_curve(y_test,  y_pred_proba_gbc)\n",
        "fpr_xgb, tpr_xgb, _xgb = roc_curve(y_test,  y_pred_proba_xgb)\n",
        "\n",
        "plt.plot(fpr_logi, tpr_logi)\n",
        "plt.plot(fpr_dtc, tpr_dtc)\n",
        "plt.plot(fpr_rfc, tpr_rfc)\n",
        "plt.plot(fpr_svm, tpr_svm)\n",
        "plt.plot(fpr_gbc, tpr_gbc)\n",
        "plt.plot(fpr_xgb, tpr_xgb)\n",
        "\n",
        "plt.plot([0,1], [0,1], color='black', linestyle='--')\n",
        "\n",
        "plt.xlabel(\"Flase Positive Rate\", fontsize=12)\n",
        "plt.ylabel(\"True Positive Rate\", fontsize=12)\n",
        "plt.title('Combined ROC Curve', fontsize=15)\n",
        "\n",
        "plt.legend([\"Logistic\", \"Decision Tree\", \"Random Forest\", \"SVM\", \"GB Boost\" \"XG Boost\"], prop={'size':13}, loc='lower right' )"
      ]
    },
    {
      "cell_type": "markdown",
      "metadata": {
        "id": "rMLdil3KjMDk"
      },
      "source": [
        "# Feature Importance On Random Forest Model"
      ]
    },
    {
      "cell_type": "code",
      "execution_count": 97,
      "metadata": {
        "id": "sfIlVxGXbRgh"
      },
      "outputs": [],
      "source": [
        "features = list(i for i in list(balanced_df.describe(include='all').columns) if i != 'IsDefaulter')"
      ]
    },
    {
      "cell_type": "code",
      "execution_count": 98,
      "metadata": {
        "id": "D-E3c7ZJYD9-"
      },
      "outputs": [],
      "source": [
        "feature_importances_rfc = rfc.feature_importances_"
      ]
    },
    {
      "cell_type": "code",
      "execution_count": 99,
      "metadata": {
        "id": "ag4etQf-cnoC"
      },
      "outputs": [],
      "source": [
        "feature_importances_rfc_df = pd.Series(feature_importances_rfc, index=features)"
      ]
    },
    {
      "cell_type": "code",
      "execution_count": 100,
      "metadata": {
        "colab": {
          "base_uri": "https://localhost:8080/"
        },
        "id": "dkCNXDZLcR0T",
        "outputId": "9da77d20-db4f-4e7c-8e2a-27385115808d"
      },
      "outputs": [
        {
          "output_type": "execute_result",
          "data": {
            "text/plain": [
              "PAY_SEPT_0       0.071837\n",
              "LIMIT_BAL        0.056252\n",
              "BILL_AMT_SEPT    0.048759\n",
              "BILL_AMT_AUG     0.043794\n",
              "PAY_AMT_SEPT     0.042836\n",
              "AGE              0.042154\n",
              "BILL_AMT_JUL     0.041754\n",
              "BILL_AMT_APR     0.041139\n",
              "PAY_AMT_AUG      0.041029\n",
              "BILL_AMT_JUN     0.039790\n",
              "PAY_AUG_0        0.039616\n",
              "BILL_AMT_MAY     0.038239\n",
              "PAY_AMT_JUL      0.035684\n",
              "PAY_AMT_APR      0.035416\n",
              "PAY_AMT_JUN      0.033796\n",
              "dtype: float64"
            ]
          },
          "metadata": {},
          "execution_count": 100
        }
      ],
      "source": [
        "feature_importances_rfc_df.sort_values(ascending=False)[0:15]"
      ]
    },
    {
      "cell_type": "code",
      "execution_count": 101,
      "metadata": {
        "colab": {
          "base_uri": "https://localhost:8080/",
          "height": 0
        },
        "id": "sfhXH_4Gg-ln",
        "outputId": "01e572c9-e907-448a-a33f-b37babc08de4"
      },
      "outputs": [
        {
          "output_type": "display_data",
          "data": {
            "text/plain": [
              "<Figure size 864x504 with 1 Axes>"
            ],
            "image/png": "[encoded data removed]"
          },
          "metadata": {
            "needs_background": "light"
          }
        }
      ],
      "source": [
        "fig = plt.figure(figsize=(12,7)) \n",
        "feature_importances_rfc_df.nlargest(15).plot(kind='bar')\n",
        "plt.xlabel(\"Features\", fontsize=12)\n",
        "plt.ylabel(\"Coefficient\", fontsize=12)\n",
        "plt.title('Feature Importance', fontsize=15)\n",
        "plt.show()"
      ]
    },
    {
      "cell_type": "markdown",
      "metadata": {
        "id": "H2j8avr6lbJ-"
      },
      "source": [
        "- Above 15 features are the most important features of random forest classifier."
      ]
    },
    {
      "cell_type": "markdown",
      "metadata": {
        "id": "F9zjdtGdHnND"
      },
      "source": [
        "# Cross Validation & Hyperparameter Tuning"
      ]
    },
    {
      "cell_type": "code",
      "execution_count": 102,
      "metadata": {
        "id": "CgdNOkfNX2wC"
      },
      "outputs": [],
      "source": [
        "from sklearn.model_selection import GridSearchCV"
      ]
    },
    {
      "cell_type": "markdown",
      "metadata": {
        "id": "93y49U1mNisy"
      },
      "source": [
        "## **Logistic Regression Model**"
      ]
    },
    {
      "cell_type": "code",
      "execution_count": 103,
      "metadata": {
        "id": "zP2dZF0ONqAs"
      },
      "outputs": [],
      "source": [
        "# penalty in Logistic Regression Classifier\n",
        "penalties = ['l1','l2', 'elasticnet', 'none']\n",
        "\n",
        "# hyperparameter C\n",
        "C= [0.0001, 0.001, 0.1, 0.5, 0.75, 1, 1.25, 1.5, 5, 10]\n",
        "\n",
        "# Hyperparameter Grid\n",
        "param_dict = {'penalty':penalties,\n",
        "              'max_iter' : [100, 1000,2500, 5000],\n",
        "              'C' : C }"
      ]
    },
    {
      "cell_type": "code",
      "execution_count": 104,
      "metadata": {
        "colab": {
          "base_uri": "https://localhost:8080/"
        },
        "id": "6doUX0kVNrSy",
        "outputId": "a1bab399-89dc-4bb0-f08b-0bad6eebc6aa"
      },
      "outputs": [
        {
          "output_type": "stream",
          "name": "stdout",
          "text": [
            "Fitting 5 folds for each of 160 candidates, totalling 800 fits\n"
          ]
        },
        {
          "output_type": "execute_result",
          "data": {
            "text/plain": [
              "GridSearchCV(cv=5, estimator=LogisticRegression(), n_jobs=-1,\n",
              "             param_grid={'C': [0.0001, 0.001, 0.1, 0.5, 0.75, 1, 1.25, 1.5, 5,\n",
              "                               10],\n",
              "                         'max_iter': [100, 1000, 2500, 5000],\n",
              "                         'penalty': ['l1', 'l2', 'elasticnet', 'none']},\n",
              "             scoring='roc_auc', verbose=3)"
            ]
          },
          "metadata": {},
          "execution_count": 104
        }
      ],
      "source": [
        "# Create an instance of the Logistic Regression\n",
        "logi = LogisticRegression()\n",
        "\n",
        "# Grid search\n",
        "logi_grid = GridSearchCV(estimator=logi,\n",
        "                       param_grid = param_dict,\n",
        "                       cv = 5, verbose=3, n_jobs = -1, scoring='roc_auc')\n",
        "# fitting model\n",
        "logi_grid.fit(X_train,y_train)"
      ]
    },
    {
      "cell_type": "code",
      "execution_count": 105,
      "metadata": {
        "colab": {
          "base_uri": "https://localhost:8080/"
        },
        "id": "Gc0cG4phRLlj",
        "outputId": "4ec8290d-72d7-4463-8fe0-40ee7914f1bd"
      },
      "outputs": [
        {
          "output_type": "execute_result",
          "data": {
            "text/plain": [
              "LogisticRegression(C=0.1)"
            ]
          },
          "metadata": {},
          "execution_count": 105
        }
      ],
      "source": [
        "logi_grid.best_estimator_"
      ]
    },
    {
      "cell_type": "code",
      "execution_count": 106,
      "metadata": {
        "colab": {
          "base_uri": "https://localhost:8080/"
        },
        "id": "mTrUOdImRLlq",
        "outputId": "f603a48f-0b33-4bd0-f1f9-2c37f256401e"
      },
      "outputs": [
        {
          "output_type": "execute_result",
          "data": {
            "text/plain": [
              "{'C': 0.1, 'max_iter': 100, 'penalty': 'l2'}"
            ]
          },
          "metadata": {},
          "execution_count": 106
        }
      ],
      "source": [
        "logi_grid.best_params_"
      ]
    },
    {
      "cell_type": "code",
      "execution_count": 107,
      "metadata": {
        "id": "rwTQrv9qRLlq"
      },
      "outputs": [],
      "source": [
        "logi_optimal_model = logi_grid.best_estimator_"
      ]
    },
    {
      "cell_type": "code",
      "execution_count": 108,
      "metadata": {
        "id": "gw1z__KlRLlr"
      },
      "outputs": [],
      "source": [
        "#class prediction of y on train and test\n",
        "y_pred_logi_grid = logi_optimal_model.predict(X_test)\n",
        "y_train_pred_logi_grid = logi_optimal_model.predict(X_train)\n",
        "\n",
        "# Get the probabilities on train and test\n",
        "y_pred_prob_logi_grid = logi_optimal_model.predict_proba(X_train)[:,1]\n",
        "y_train_pred_prob_logi_grid = logi_optimal_model.predict_proba(X_test)[:,1]"
      ]
    },
    {
      "cell_type": "code",
      "execution_count": 109,
      "metadata": {
        "colab": {
          "base_uri": "https://localhost:8080/"
        },
        "id": "Zk_nJEJkRLlr",
        "outputId": "74cef24e-7bbf-4154-8e1d-5c13fb5e13d6"
      },
      "outputs": [
        {
          "output_type": "stream",
          "name": "stdout",
          "text": [
            "The accuracy on train data is  0.825\n",
            "The accuracy on test data is  0.831\n",
            "The precision on test data is  0.797\n",
            "The recall on test data is  0.855\n",
            "The f1 on test data is  0.825\n",
            "The auc on test data is  0.833\n"
          ]
        }
      ],
      "source": [
        "#getting all scores for Logistic Regression after CV and Hyperparameter Tunning\n",
        "train_accuracy_logi_grid = round(accuracy_score(y_train_pred_logi_grid,y_train), 3)\n",
        "accuracy_logi_grid = round(accuracy_score(y_pred_logi_grid,y_test), 3)\n",
        "precision_score_logi_grid = round(precision_score(y_pred_logi_grid, y_test), 3)\n",
        "recall_score_logi_grid = round(recall_score(y_pred_logi_grid,y_test), 3)\n",
        "f1_score_logi_grid = round(f1_score(y_pred_logi_grid,y_test), 3)\n",
        "auc_logi_grid = round(roc_auc_score(y_pred_logi_grid,y_test), 3)\n",
        "\n",
        "print(\"The accuracy on train data is \", train_accuracy_logi_grid)\n",
        "print(\"The accuracy on test data is \", accuracy_logi_grid)\n",
        "print(\"The precision on test data is \", precision_score_logi_grid)\n",
        "print(\"The recall on test data is \", recall_score_logi_grid)\n",
        "print(\"The f1 on test data is \", f1_score_logi_grid)\n",
        "print(\"The auc on test data is \", auc_logi_grid)"
      ]
    },
    {
      "cell_type": "code",
      "execution_count": 110,
      "metadata": {
        "id": "aK8SpyreNrMc"
      },
      "outputs": [],
      "source": [
        "# Get the confusion matrices for train and test\n",
        "train_cm_logi_grid = confusion_matrix(y_train,y_train_pred_logi_grid)\n",
        "test_cm_logi_grid = confusion_matrix(y_test,y_pred_logi_grid )"
      ]
    },
    {
      "cell_type": "code",
      "execution_count": 111,
      "metadata": {
        "colab": {
          "base_uri": "https://localhost:8080/"
        },
        "id": "dSkMmBj9oH83",
        "outputId": "0d9d501f-dedf-4c72-a7ec-c1c0b75f84e6"
      },
      "outputs": [
        {
          "output_type": "execute_result",
          "data": {
            "text/plain": [
              "array([[16181,  2510],\n",
              "       [ 4036, 14655]])"
            ]
          },
          "metadata": {},
          "execution_count": 111
        }
      ],
      "source": [
        "train_cm_logi_grid"
      ]
    },
    {
      "cell_type": "code",
      "execution_count": 112,
      "metadata": {
        "colab": {
          "base_uri": "https://localhost:8080/"
        },
        "id": "ycJ9Q_bqoKuk",
        "outputId": "da9d44f3-9834-4abf-c968-21bd1c51a277"
      },
      "outputs": [
        {
          "output_type": "execute_result",
          "data": {
            "text/plain": [
              "array([[4043,  630],\n",
              "       [ 947, 3726]])"
            ]
          },
          "metadata": {},
          "execution_count": 112
        }
      ],
      "source": [
        "test_cm_logi_grid"
      ]
    },
    {
      "cell_type": "markdown",
      "metadata": {
        "id": "ThQkAOeZTfNL"
      },
      "source": [
        "## **Decision Tree Classification**"
      ]
    },
    {
      "cell_type": "code",
      "execution_count": 113,
      "metadata": {
        "id": "usq4TOmoT534"
      },
      "outputs": [],
      "source": [
        "# The maximum depth of the tree\n",
        "depth_of_tree = [20,25,30,35]\n",
        "\n",
        "# The minimum number of samples required to split an internal node\n",
        "min_samples_split = [0.001,0.01,0.05]\n",
        "\n",
        "# Minimum number of samples required at each leaf node\n",
        "min_samples_leaf = [40,50,60]\n",
        "\n",
        "# Hyperparameter Grid\n",
        "param_dict = {'max_depth': depth_of_tree,\n",
        "              'min_samples_split':min_samples_split,\n",
        "              'min_samples_leaf': min_samples_leaf}"
      ]
    },
    {
      "cell_type": "code",
      "execution_count": 114,
      "metadata": {
        "colab": {
          "base_uri": "https://localhost:8080/"
        },
        "id": "Di1axB0nT538",
        "outputId": "3df627ac-9f86-429b-d2d1-cb6ccbf76b23"
      },
      "outputs": [
        {
          "output_type": "stream",
          "name": "stdout",
          "text": [
            "Fitting 5 folds for each of 36 candidates, totalling 180 fits\n"
          ]
        },
        {
          "output_type": "execute_result",
          "data": {
            "text/plain": [
              "GridSearchCV(cv=5, estimator=DecisionTreeClassifier(), n_jobs=-1,\n",
              "             param_grid={'max_depth': [20, 25, 30, 35],\n",
              "                         'min_samples_leaf': [40, 50, 60],\n",
              "                         'min_samples_split': [0.001, 0.01, 0.05]},\n",
              "             scoring='roc_auc', verbose=3)"
            ]
          },
          "metadata": {},
          "execution_count": 114
        }
      ],
      "source": [
        "# Create an instance of the decision tree\n",
        "dtc = DecisionTreeClassifier()\n",
        "\n",
        "# Grid search\n",
        "dtc_grid = GridSearchCV(estimator=dtc,\n",
        "                       param_grid = param_dict,\n",
        "                       cv = 5, verbose=3, n_jobs = -1, scoring='roc_auc')\n",
        "# fitting model\n",
        "dtc_grid.fit(X_train, y_train)"
      ]
    },
    {
      "cell_type": "code",
      "execution_count": 115,
      "metadata": {
        "colab": {
          "base_uri": "https://localhost:8080/"
        },
        "id": "E7_AeaxtT539",
        "outputId": "c9852e31-6faa-471c-96bb-582f8c973763"
      },
      "outputs": [
        {
          "output_type": "execute_result",
          "data": {
            "text/plain": [
              "DecisionTreeClassifier(max_depth=30, min_samples_leaf=60,\n",
              "                       min_samples_split=0.001)"
            ]
          },
          "metadata": {},
          "execution_count": 115
        }
      ],
      "source": [
        "dtc_grid.best_estimator_"
      ]
    },
    {
      "cell_type": "code",
      "execution_count": 116,
      "metadata": {
        "colab": {
          "base_uri": "https://localhost:8080/"
        },
        "id": "u1alKarGT539",
        "outputId": "08f04c84-5c4c-4244-ea0b-3e9eb9366ef6"
      },
      "outputs": [
        {
          "output_type": "execute_result",
          "data": {
            "text/plain": [
              "{'max_depth': 30, 'min_samples_leaf': 60, 'min_samples_split': 0.001}"
            ]
          },
          "metadata": {},
          "execution_count": 116
        }
      ],
      "source": [
        "dtc_grid.best_params_"
      ]
    },
    {
      "cell_type": "code",
      "execution_count": 117,
      "metadata": {
        "id": "ZcjDMtTMT539"
      },
      "outputs": [],
      "source": [
        "dtc_optimal_model = dtc_grid.best_estimator_"
      ]
    },
    {
      "cell_type": "code",
      "execution_count": 118,
      "metadata": {
        "id": "hkREOs4-T539"
      },
      "outputs": [],
      "source": [
        "#class prediction of y on train and test\n",
        "y_pred_dtc_grid=dtc_optimal_model.predict(X_test)\n",
        "y_train_pred_dtc_grid=dtc_optimal_model.predict(X_train)\n",
        "\n",
        "# Get the probabilities on train and test\n",
        "y_pred_prob_dtc_grid = dtc_optimal_model.predict_proba(X_train)[:,1]\n",
        "y_train_pred_prob_dtc_grid = dtc_optimal_model.predict_proba(X_test)[:,1]"
      ]
    },
    {
      "cell_type": "code",
      "execution_count": 119,
      "metadata": {
        "colab": {
          "base_uri": "https://localhost:8080/"
        },
        "id": "Cr2rxcIFT539",
        "outputId": "0272562c-9cc0-42aa-c5f8-dac6398660f2"
      },
      "outputs": [
        {
          "output_type": "stream",
          "name": "stdout",
          "text": [
            "The accuracy on train data is  0.837\n",
            "The accuracy on test data is  0.822\n",
            "The precision on test data is  0.763\n",
            "The recall on test data is  0.865\n",
            "The f1 on test data is  0.811\n",
            "The auc on test data is  0.827\n"
          ]
        }
      ],
      "source": [
        "#getting all scores for decision tree after CV and Hyperparameter Tunning\n",
        "train_accuracy_dtc_grid = round(accuracy_score(y_train_pred_dtc_grid,y_train), 3)\n",
        "accuracy_dtc_grid = round(accuracy_score(y_pred_dtc_grid,y_test), 3)\n",
        "precision_score_dtc_grid = round(precision_score(y_pred_dtc_grid,y_test), 3)\n",
        "recall_score_dtc_grid = round(recall_score(y_pred_dtc_grid,y_test), 3)\n",
        "f1_score_dtc_grid = round(f1_score(y_pred_dtc_grid,y_test), 3)\n",
        "auc_dtc_grid = round(roc_auc_score(y_pred_dtc_grid,y_test), 3)\n",
        "\n",
        "print(\"The accuracy on train data is \", train_accuracy_dtc_grid)\n",
        "print(\"The accuracy on test data is \", accuracy_dtc_grid)\n",
        "print(\"The precision on test data is \", precision_score_dtc_grid)\n",
        "print(\"The recall on test data is \", recall_score_dtc_grid)\n",
        "print(\"The f1 on test data is \", f1_score_dtc_grid)\n",
        "print(\"The auc on test data is \", auc_dtc_grid)"
      ]
    },
    {
      "cell_type": "code",
      "execution_count": 120,
      "metadata": {
        "id": "hlOmd91jT53-"
      },
      "outputs": [],
      "source": [
        "# Get the confusion matrices for train and test\n",
        "train_cm_dtc_grid = confusion_matrix(y_train,y_train_pred_dtc_grid)\n",
        "test_cm_dtc_grid = confusion_matrix(y_test,y_pred_dtc_grid )"
      ]
    },
    {
      "cell_type": "code",
      "execution_count": 121,
      "metadata": {
        "colab": {
          "base_uri": "https://localhost:8080/"
        },
        "id": "C_X0gBgoofNj",
        "outputId": "d9468950-20eb-43e2-8acd-cfdebcc495a7"
      },
      "outputs": [
        {
          "output_type": "execute_result",
          "data": {
            "text/plain": [
              "array([[16763,  1928],\n",
              "       [ 4170, 14521]])"
            ]
          },
          "metadata": {},
          "execution_count": 121
        }
      ],
      "source": [
        "train_cm_dtc_grid"
      ]
    },
    {
      "cell_type": "code",
      "execution_count": 122,
      "metadata": {
        "colab": {
          "base_uri": "https://localhost:8080/"
        },
        "id": "vbCgSb8nofKy",
        "outputId": "1a041bad-99de-4fca-aa10-de2b6ff7651b"
      },
      "outputs": [
        {
          "output_type": "execute_result",
          "data": {
            "text/plain": [
              "array([[4118,  555],\n",
              "       [1107, 3566]])"
            ]
          },
          "metadata": {},
          "execution_count": 122
        }
      ],
      "source": [
        "test_cm_dtc_grid"
      ]
    },
    {
      "cell_type": "markdown",
      "metadata": {
        "id": "5nI6dccfZB2p"
      },
      "source": [
        "## **Support Vector Machine**"
      ]
    },
    {
      "cell_type": "code",
      "execution_count": 123,
      "metadata": {
        "id": "6xpR1UZm-TWc"
      },
      "outputs": [],
      "source": [
        "from sklearn.model_selection import RandomizedSearchCV"
      ]
    },
    {
      "cell_type": "code",
      "execution_count": 124,
      "metadata": {
        "id": "NdYV19QiZT5h"
      },
      "outputs": [],
      "source": [
        "# Hyperparameter Grid\n",
        "param_dict = {'C':[1, 10] ,\n",
        "              'kernel': ['rbf']}"
      ]
    },
    {
      "cell_type": "code",
      "execution_count": 125,
      "metadata": {
        "colab": {
          "base_uri": "https://localhost:8080/"
        },
        "id": "vLGZl6aTZT5m",
        "outputId": "2b2d191a-bb43-4bc0-d252-10bb4427c21d"
      },
      "outputs": [
        {
          "output_type": "stream",
          "name": "stdout",
          "text": [
            "Fitting 2 folds for each of 2 candidates, totalling 4 fits\n"
          ]
        },
        {
          "output_type": "execute_result",
          "data": {
            "text/plain": [
              "RandomizedSearchCV(cv=2, estimator=SVC(probability=True), n_jobs=-1,\n",
              "                   param_distributions={'C': [1, 10], 'kernel': ['rbf']},\n",
              "                   scoring='roc_auc', verbose=2)"
            ]
          },
          "metadata": {},
          "execution_count": 125
        }
      ],
      "source": [
        "# Create an instance of the support vector classifier\n",
        "svm=SVC(probability=True)\n",
        "\n",
        "# Grid search\n",
        "svm_grid = RandomizedSearchCV(estimator = svm, param_distributions = param_dict,\n",
        "                       cv = 2, verbose=2, n_jobs = -1, scoring= 'roc_auc')\n",
        "# fitting model\n",
        "svm_grid.fit(X_train, y_train)"
      ]
    },
    {
      "cell_type": "code",
      "execution_count": 126,
      "metadata": {
        "colab": {
          "base_uri": "https://localhost:8080/"
        },
        "id": "4fXzE1jqZT5n",
        "outputId": "ce67cd30-796e-4dfe-fe9b-4f600874a0ab"
      },
      "outputs": [
        {
          "output_type": "execute_result",
          "data": {
            "text/plain": [
              "SVC(C=1, probability=True)"
            ]
          },
          "metadata": {},
          "execution_count": 126
        }
      ],
      "source": [
        "svm_grid.best_estimator_"
      ]
    },
    {
      "cell_type": "code",
      "execution_count": 127,
      "metadata": {
        "colab": {
          "base_uri": "https://localhost:8080/"
        },
        "id": "xN3lCCyYZT5n",
        "outputId": "c5218e67-af96-4c3e-c681-22572783900d"
      },
      "outputs": [
        {
          "output_type": "execute_result",
          "data": {
            "text/plain": [
              "{'kernel': 'rbf', 'C': 1}"
            ]
          },
          "metadata": {},
          "execution_count": 127
        }
      ],
      "source": [
        "svm_grid.best_params_"
      ]
    },
    {
      "cell_type": "code",
      "execution_count": 128,
      "metadata": {
        "id": "Bs0xWqoLZT5n"
      },
      "outputs": [],
      "source": [
        "svm_optimal_model = svm_grid.best_estimator_"
      ]
    },
    {
      "cell_type": "code",
      "execution_count": 129,
      "metadata": {
        "id": "7BAu0wsWZT5n"
      },
      "outputs": [],
      "source": [
        "#class prediction of y on train and test\n",
        "y_pred_svm_grid=svm_optimal_model.predict(X_test)\n",
        "y_train_pred_svm_grid=svm_optimal_model.predict(X_train)\n",
        "\n",
        "# Get the probabilities on train and test\n",
        "y_pred_prob_svm_grid = svm_optimal_model.predict_proba(X_train)[:,1]\n",
        "y_train_pred_prob_svm_grid = svm_optimal_model.predict_proba(X_test)[:,1]"
      ]
    },
    {
      "cell_type": "code",
      "execution_count": 130,
      "metadata": {
        "colab": {
          "base_uri": "https://localhost:8080/"
        },
        "id": "UKTY5DGoZT5o",
        "outputId": "4d8e316a-feb8-4bcd-df1f-ee74011c7980"
      },
      "outputs": [
        {
          "output_type": "stream",
          "name": "stdout",
          "text": [
            "The accuracy on train data is  0.844\n",
            "The accuracy on test data is  0.843\n",
            "The precision on test data is  0.772\n",
            "The recall on test data is  0.901\n",
            "The f1 on test data is  0.831\n",
            "The auc on test data is  0.85\n"
          ]
        }
      ],
      "source": [
        "#getting all scores for Support Vector Classifier after CV and Hyperparameter Tunning\n",
        "train_accuracy_svm_grid = round(accuracy_score(y_train_pred_svm_grid,y_train), 3)\n",
        "accuracy_svm_grid = round(accuracy_score(y_pred_svm_grid,y_test), 3)\n",
        "precision_score_svm_grid = round(precision_score(y_pred_svm_grid,y_test), 3)\n",
        "recall_score_svm_grid = round(recall_score(y_pred_svm_grid,y_test), 3)\n",
        "f1_score_svm_grid = round(f1_score(y_pred_svm_grid,y_test), 3)\n",
        "auc_svm_grid = round(roc_auc_score(y_pred_svm_grid,y_test), 3)\n",
        "\n",
        "print(\"The accuracy on train data is \", train_accuracy_svm_grid)\n",
        "print(\"The accuracy on test data is \", accuracy_svm_grid)\n",
        "print(\"The precision on test data is \", precision_score_svm_grid)\n",
        "print(\"The recall on test data is \", recall_score_svm_grid)\n",
        "print(\"The f1 on test data is \", f1_score_svm_grid)\n",
        "print(\"The auc on test data is \", auc_svm_grid)"
      ]
    },
    {
      "cell_type": "code",
      "execution_count": 131,
      "metadata": {
        "id": "WXjPUQAdZT5o"
      },
      "outputs": [],
      "source": [
        "# Get the confusion matrices for train and test\n",
        "train_cm_svm_grid = confusion_matrix(y_train,y_train_pred_svm_grid)\n",
        "test_cm_svm_grid = confusion_matrix(y_test,y_pred_svm_grid )"
      ]
    },
    {
      "cell_type": "code",
      "execution_count": 132,
      "metadata": {
        "colab": {
          "base_uri": "https://localhost:8080/"
        },
        "id": "mHDxrX5fTm0n",
        "outputId": "c1104be7-802e-46d5-8045-e03e2593891f"
      },
      "outputs": [
        {
          "output_type": "execute_result",
          "data": {
            "text/plain": [
              "array([[17338,  1353],\n",
              "       [ 4462, 14229]])"
            ]
          },
          "metadata": {},
          "execution_count": 132
        }
      ],
      "source": [
        "train_cm_svm_grid"
      ]
    },
    {
      "cell_type": "code",
      "execution_count": 133,
      "metadata": {
        "colab": {
          "base_uri": "https://localhost:8080/"
        },
        "id": "1TJDWyJgTmx5",
        "outputId": "fa2a3c4c-9623-4482-8c2f-dab9b10361c1"
      },
      "outputs": [
        {
          "output_type": "execute_result",
          "data": {
            "text/plain": [
              "array([[4275,  398],\n",
              "       [1067, 3606]])"
            ]
          },
          "metadata": {},
          "execution_count": 133
        }
      ],
      "source": [
        "test_cm_svm_grid"
      ]
    },
    {
      "cell_type": "markdown",
      "metadata": {
        "id": "TGJ-gRiYVMCx"
      },
      "source": [
        "## **Random Forest Classifer**"
      ]
    },
    {
      "cell_type": "code",
      "execution_count": 134,
      "metadata": {
        "id": "R-vfSURrIqpl"
      },
      "outputs": [],
      "source": [
        "# Number of trees\n",
        "n_estimators = [100,150,200]\n",
        "\n",
        "# Maximum depth of trees\n",
        "max_depth = [10,20,30]\n",
        "\n",
        "# Minimum number of samples required to split a node\n",
        "min_samples_split = [50,100,150]\n",
        "\n",
        "# Minimum number of samples required at each leaf node\n",
        "min_samples_leaf = [40,50]\n",
        "\n",
        "# Hyperparameter Grid\n",
        "param_dict = {'n_estimators' : n_estimators,\n",
        "              'max_depth' : max_depth,\n",
        "              'min_samples_split' : min_samples_split,\n",
        "              'min_samples_leaf' : min_samples_leaf}"
      ]
    },
    {
      "cell_type": "code",
      "execution_count": 135,
      "metadata": {
        "colab": {
          "base_uri": "https://localhost:8080/"
        },
        "id": "-Bg4U0X3Iz9O",
        "outputId": "7c90b663-a355-48a3-98db-bb01f1fcd866"
      },
      "outputs": [
        {
          "output_type": "stream",
          "name": "stdout",
          "text": [
            "Fitting 5 folds for each of 54 candidates, totalling 270 fits\n",
            "[CV] END max_depth=10, min_samples_leaf=40, min_samples_split=50, n_estimators=100; total time=   4.1s\n",
            "[CV] END max_depth=10, min_samples_leaf=40, min_samples_split=50, n_estimators=100; total time=   4.2s\n",
            "[CV] END max_depth=10, min_samples_leaf=40, min_samples_split=50, n_estimators=100; total time=   4.3s\n",
            "[CV] END max_depth=10, min_samples_leaf=40, min_samples_split=50, n_estimators=100; total time=   4.2s\n",
            "[CV] END max_depth=10, min_samples_leaf=40, min_samples_split=50, n_estimators=100; total time=   4.1s\n",
            "[CV] END max_depth=10, min_samples_leaf=40, min_samples_split=50, n_estimators=150; total time=   6.2s\n",
            "[CV] END max_depth=10, min_samples_leaf=40, min_samples_split=50, n_estimators=150; total time=   6.1s\n",
            "[CV] END max_depth=10, min_samples_leaf=40, min_samples_split=50, n_estimators=150; total time=   6.1s\n",
            "[CV] END max_depth=10, min_samples_leaf=40, min_samples_split=50, n_estimators=150; total time=   6.2s\n",
            "[CV] END max_depth=10, min_samples_leaf=40, min_samples_split=50, n_estimators=150; total time=   6.2s\n",
            "[CV] END max_depth=10, min_samples_leaf=40, min_samples_split=50, n_estimators=200; total time=   8.3s\n",
            "[CV] END max_depth=10, min_samples_leaf=40, min_samples_split=50, n_estimators=200; total time=   9.7s\n",
            "[CV] END max_depth=10, min_samples_leaf=40, min_samples_split=50, n_estimators=200; total time=   8.2s\n",
            "[CV] END max_depth=10, min_samples_leaf=40, min_samples_split=50, n_estimators=200; total time=   8.2s\n",
            "[CV] END max_depth=10, min_samples_leaf=40, min_samples_split=50, n_estimators=200; total time=   8.2s\n",
            "[CV] END max_depth=10, min_samples_leaf=40, min_samples_split=100, n_estimators=100; total time=   4.2s\n",
            "[CV] END max_depth=10, min_samples_leaf=40, min_samples_split=100, n_estimators=100; total time=   4.1s\n",
            "[CV] END max_depth=10, min_samples_leaf=40, min_samples_split=100, n_estimators=100; total time=   4.1s\n",
            "[CV] END max_depth=10, min_samples_leaf=40, min_samples_split=100, n_estimators=100; total time=   4.1s\n",
            "[CV] END max_depth=10, min_samples_leaf=40, min_samples_split=100, n_estimators=100; total time=   4.2s\n",
            "[CV] END max_depth=10, min_samples_leaf=40, min_samples_split=100, n_estimators=150; total time=   6.1s\n",
            "[CV] END max_depth=10, min_samples_leaf=40, min_samples_split=100, n_estimators=150; total time=   6.2s\n",
            "[CV] END max_depth=10, min_samples_leaf=40, min_samples_split=100, n_estimators=150; total time=   6.1s\n",
            "[CV] END max_depth=10, min_samples_leaf=40, min_samples_split=100, n_estimators=150; total time=   6.2s\n",
            "[CV] END max_depth=10, min_samples_leaf=40, min_samples_split=100, n_estimators=150; total time=   6.2s\n",
            "[CV] END max_depth=10, min_samples_leaf=40, min_samples_split=100, n_estimators=200; total time=   8.3s\n",
            "[CV] END max_depth=10, min_samples_leaf=40, min_samples_split=100, n_estimators=200; total time=   8.2s\n",
            "[CV] END max_depth=10, min_samples_leaf=40, min_samples_split=100, n_estimators=200; total time=   8.2s\n",
            "[CV] END max_depth=10, min_samples_leaf=40, min_samples_split=100, n_estimators=200; total time=   8.1s\n",
            "[CV] END max_depth=10, min_samples_leaf=40, min_samples_split=100, n_estimators=200; total time=   9.4s\n",
            "[CV] END max_depth=10, min_samples_leaf=40, min_samples_split=150, n_estimators=100; total time=   4.0s\n",
            "[CV] END max_depth=10, min_samples_leaf=40, min_samples_split=150, n_estimators=100; total time=   4.1s\n",
            "[CV] END max_depth=10, min_samples_leaf=40, min_samples_split=150, n_estimators=100; total time=   4.0s\n",
            "[CV] END max_depth=10, min_samples_leaf=40, min_samples_split=150, n_estimators=100; total time=   4.1s\n",
            "[CV] END max_depth=10, min_samples_leaf=40, min_samples_split=150, n_estimators=100; total time=   4.1s\n",
            "[CV] END max_depth=10, min_samples_leaf=40, min_samples_split=150, n_estimators=150; total time=   6.0s\n",
            "[CV] END max_depth=10, min_samples_leaf=40, min_samples_split=150, n_estimators=150; total time=   6.1s\n",
            "[CV] END max_depth=10, min_samples_leaf=40, min_samples_split=150, n_estimators=150; total time=   6.3s\n",
            "[CV] END max_depth=10, min_samples_leaf=40, min_samples_split=150, n_estimators=150; total time=   6.0s\n",
            "[CV] END max_depth=10, min_samples_leaf=40, min_samples_split=150, n_estimators=150; total time=   6.0s\n",
            "[CV] END max_depth=10, min_samples_leaf=40, min_samples_split=150, n_estimators=200; total time=   8.0s\n",
            "[CV] END max_depth=10, min_samples_leaf=40, min_samples_split=150, n_estimators=200; total time=   8.1s\n",
            "[CV] END max_depth=10, min_samples_leaf=40, min_samples_split=150, n_estimators=200; total time=   8.0s\n",
            "[CV] END max_depth=10, min_samples_leaf=40, min_samples_split=150, n_estimators=200; total time=   8.0s\n",
            "[CV] END max_depth=10, min_samples_leaf=40, min_samples_split=150, n_estimators=200; total time=   8.2s\n",
            "[CV] END max_depth=10, min_samples_leaf=50, min_samples_split=50, n_estimators=100; total time=   4.0s\n",
            "[CV] END max_depth=10, min_samples_leaf=50, min_samples_split=50, n_estimators=100; total time=   4.1s\n",
            "[CV] END max_depth=10, min_samples_leaf=50, min_samples_split=50, n_estimators=100; total time=   4.0s\n",
            "[CV] END max_depth=10, min_samples_leaf=50, min_samples_split=50, n_estimators=100; total time=   4.1s\n",
            "[CV] END max_depth=10, min_samples_leaf=50, min_samples_split=50, n_estimators=100; total time=   4.2s\n",
            "[CV] END max_depth=10, min_samples_leaf=50, min_samples_split=50, n_estimators=150; total time=   7.1s\n",
            "[CV] END max_depth=10, min_samples_leaf=50, min_samples_split=50, n_estimators=150; total time=   6.3s\n",
            "[CV] END max_depth=10, min_samples_leaf=50, min_samples_split=50, n_estimators=150; total time=   6.1s\n",
            "[CV] END max_depth=10, min_samples_leaf=50, min_samples_split=50, n_estimators=150; total time=   6.1s\n",
            "[CV] END max_depth=10, min_samples_leaf=50, min_samples_split=50, n_estimators=150; total time=   6.1s\n",
            "[CV] END max_depth=10, min_samples_leaf=50, min_samples_split=50, n_estimators=200; total time=   8.0s\n",
            "[CV] END max_depth=10, min_samples_leaf=50, min_samples_split=50, n_estimators=200; total time=   8.0s\n",
            "[CV] END max_depth=10, min_samples_leaf=50, min_samples_split=50, n_estimators=200; total time=   8.0s\n",
            "[CV] END max_depth=10, min_samples_leaf=50, min_samples_split=50, n_estimators=200; total time=   8.0s\n",
            "[CV] END max_depth=10, min_samples_leaf=50, min_samples_split=50, n_estimators=200; total time=   8.0s\n",
            "[CV] END max_depth=10, min_samples_leaf=50, min_samples_split=100, n_estimators=100; total time=   4.1s\n",
            "[CV] END max_depth=10, min_samples_leaf=50, min_samples_split=100, n_estimators=100; total time=   4.0s\n",
            "[CV] END max_depth=10, min_samples_leaf=50, min_samples_split=100, n_estimators=100; total time=   4.0s\n",
            "[CV] END max_depth=10, min_samples_leaf=50, min_samples_split=100, n_estimators=100; total time=   4.0s\n",
            "[CV] END max_depth=10, min_samples_leaf=50, min_samples_split=100, n_estimators=100; total time=   4.0s\n",
            "[CV] END max_depth=10, min_samples_leaf=50, min_samples_split=100, n_estimators=150; total time=   6.1s\n",
            "[CV] END max_depth=10, min_samples_leaf=50, min_samples_split=100, n_estimators=150; total time=   6.1s\n",
            "[CV] END max_depth=10, min_samples_leaf=50, min_samples_split=100, n_estimators=150; total time=   6.1s\n",
            "[CV] END max_depth=10, min_samples_leaf=50, min_samples_split=100, n_estimators=150; total time=   6.0s\n",
            "[CV] END max_depth=10, min_samples_leaf=50, min_samples_split=100, n_estimators=150; total time=   6.1s\n",
            "[CV] END max_depth=10, min_samples_leaf=50, min_samples_split=100, n_estimators=200; total time=   9.3s\n",
            "[CV] END max_depth=10, min_samples_leaf=50, min_samples_split=100, n_estimators=200; total time=   8.0s\n",
            "[CV] END max_depth=10, min_samples_leaf=50, min_samples_split=100, n_estimators=200; total time=   8.0s\n",
            "[CV] END max_depth=10, min_samples_leaf=50, min_samples_split=100, n_estimators=200; total time=   7.8s\n",
            "[CV] END max_depth=10, min_samples_leaf=50, min_samples_split=100, n_estimators=200; total time=   7.8s\n",
            "[CV] END max_depth=10, min_samples_leaf=50, min_samples_split=150, n_estimators=100; total time=   3.8s\n",
            "[CV] END max_depth=10, min_samples_leaf=50, min_samples_split=150, n_estimators=100; total time=   3.8s\n",
            "[CV] END max_depth=10, min_samples_leaf=50, min_samples_split=150, n_estimators=100; total time=   3.8s\n",
            "[CV] END max_depth=10, min_samples_leaf=50, min_samples_split=150, n_estimators=100; total time=   3.8s\n",
            "[CV] END max_depth=10, min_samples_leaf=50, min_samples_split=150, n_estimators=100; total time=   3.8s\n",
            "[CV] END max_depth=10, min_samples_leaf=50, min_samples_split=150, n_estimators=150; total time=   5.8s\n",
            "[CV] END max_depth=10, min_samples_leaf=50, min_samples_split=150, n_estimators=150; total time=   5.7s\n",
            "[CV] END max_depth=10, min_samples_leaf=50, min_samples_split=150, n_estimators=150; total time=   5.6s\n",
            "[CV] END max_depth=10, min_samples_leaf=50, min_samples_split=150, n_estimators=150; total time=   5.7s\n",
            "[CV] END max_depth=10, min_samples_leaf=50, min_samples_split=150, n_estimators=150; total time=   5.8s\n",
            "[CV] END max_depth=10, min_samples_leaf=50, min_samples_split=150, n_estimators=200; total time=   7.6s\n",
            "[CV] END max_depth=10, min_samples_leaf=50, min_samples_split=150, n_estimators=200; total time=   7.7s\n",
            "[CV] END max_depth=10, min_samples_leaf=50, min_samples_split=150, n_estimators=200; total time=   7.6s\n",
            "[CV] END max_depth=10, min_samples_leaf=50, min_samples_split=150, n_estimators=200; total time=   7.5s\n",
            "[CV] END max_depth=10, min_samples_leaf=50, min_samples_split=150, n_estimators=200; total time=   8.9s\n",
            "[CV] END max_depth=20, min_samples_leaf=40, min_samples_split=50, n_estimators=100; total time=   4.4s\n",
            "[CV] END max_depth=20, min_samples_leaf=40, min_samples_split=50, n_estimators=100; total time=   4.4s\n",
            "[CV] END max_depth=20, min_samples_leaf=40, min_samples_split=50, n_estimators=100; total time=   4.3s\n",
            "[CV] END max_depth=20, min_samples_leaf=40, min_samples_split=50, n_estimators=100; total time=   4.2s\n",
            "[CV] END max_depth=20, min_samples_leaf=40, min_samples_split=50, n_estimators=100; total time=   4.4s\n",
            "[CV] END max_depth=20, min_samples_leaf=40, min_samples_split=50, n_estimators=150; total time=   6.4s\n",
            "[CV] END max_depth=20, min_samples_leaf=40, min_samples_split=50, n_estimators=150; total time=   6.5s\n",
            "[CV] END max_depth=20, min_samples_leaf=40, min_samples_split=50, n_estimators=150; total time=   6.5s\n",
            "[CV] END max_depth=20, min_samples_leaf=40, min_samples_split=50, n_estimators=150; total time=   6.5s\n",
            "[CV] END max_depth=20, min_samples_leaf=40, min_samples_split=50, n_estimators=150; total time=   6.5s\n",
            "[CV] END max_depth=20, min_samples_leaf=40, min_samples_split=50, n_estimators=200; total time=   8.9s\n",
            "[CV] END max_depth=20, min_samples_leaf=40, min_samples_split=50, n_estimators=200; total time=   8.6s\n",
            "[CV] END max_depth=20, min_samples_leaf=40, min_samples_split=50, n_estimators=200; total time=   8.7s\n",
            "[CV] END max_depth=20, min_samples_leaf=40, min_samples_split=50, n_estimators=200; total time=   8.6s\n",
            "[CV] END max_depth=20, min_samples_leaf=40, min_samples_split=50, n_estimators=200; total time=   8.8s\n",
            "[CV] END max_depth=20, min_samples_leaf=40, min_samples_split=100, n_estimators=100; total time=   4.4s\n",
            "[CV] END max_depth=20, min_samples_leaf=40, min_samples_split=100, n_estimators=100; total time=   4.3s\n",
            "[CV] END max_depth=20, min_samples_leaf=40, min_samples_split=100, n_estimators=100; total time=   4.2s\n",
            "[CV] END max_depth=20, min_samples_leaf=40, min_samples_split=100, n_estimators=100; total time=   4.7s\n",
            "[CV] END max_depth=20, min_samples_leaf=40, min_samples_split=100, n_estimators=100; total time=   5.2s\n",
            "[CV] END max_depth=20, min_samples_leaf=40, min_samples_split=100, n_estimators=150; total time=   6.4s\n",
            "[CV] END max_depth=20, min_samples_leaf=40, min_samples_split=100, n_estimators=150; total time=   6.4s\n",
            "[CV] END max_depth=20, min_samples_leaf=40, min_samples_split=100, n_estimators=150; total time=   6.4s\n",
            "[CV] END max_depth=20, min_samples_leaf=40, min_samples_split=100, n_estimators=150; total time=   6.3s\n",
            "[CV] END max_depth=20, min_samples_leaf=40, min_samples_split=100, n_estimators=150; total time=   6.4s\n",
            "[CV] END max_depth=20, min_samples_leaf=40, min_samples_split=100, n_estimators=200; total time=   8.7s\n",
            "[CV] END max_depth=20, min_samples_leaf=40, min_samples_split=100, n_estimators=200; total time=   8.5s\n",
            "[CV] END max_depth=20, min_samples_leaf=40, min_samples_split=100, n_estimators=200; total time=   8.8s\n",
            "[CV] END max_depth=20, min_samples_leaf=40, min_samples_split=100, n_estimators=200; total time=   8.5s\n",
            "[CV] END max_depth=20, min_samples_leaf=40, min_samples_split=100, n_estimators=200; total time=   8.6s\n",
            "[CV] END max_depth=20, min_samples_leaf=40, min_samples_split=150, n_estimators=100; total time=   4.1s\n",
            "[CV] END max_depth=20, min_samples_leaf=40, min_samples_split=150, n_estimators=100; total time=   4.2s\n",
            "[CV] END max_depth=20, min_samples_leaf=40, min_samples_split=150, n_estimators=100; total time=   4.2s\n",
            "[CV] END max_depth=20, min_samples_leaf=40, min_samples_split=150, n_estimators=100; total time=   4.2s\n",
            "[CV] END max_depth=20, min_samples_leaf=40, min_samples_split=150, n_estimators=100; total time=   4.2s\n",
            "[CV] END max_depth=20, min_samples_leaf=40, min_samples_split=150, n_estimators=150; total time=   6.1s\n",
            "[CV] END max_depth=20, min_samples_leaf=40, min_samples_split=150, n_estimators=150; total time=   6.2s\n",
            "[CV] END max_depth=20, min_samples_leaf=40, min_samples_split=150, n_estimators=150; total time=   6.6s\n",
            "[CV] END max_depth=20, min_samples_leaf=40, min_samples_split=150, n_estimators=150; total time=   7.2s\n",
            "[CV] END max_depth=20, min_samples_leaf=40, min_samples_split=150, n_estimators=150; total time=   6.3s\n",
            "[CV] END max_depth=20, min_samples_leaf=40, min_samples_split=150, n_estimators=200; total time=   8.4s\n",
            "[CV] END max_depth=20, min_samples_leaf=40, min_samples_split=150, n_estimators=200; total time=   8.3s\n",
            "[CV] END max_depth=20, min_samples_leaf=40, min_samples_split=150, n_estimators=200; total time=   8.4s\n",
            "[CV] END max_depth=20, min_samples_leaf=40, min_samples_split=150, n_estimators=200; total time=   8.4s\n",
            "[CV] END max_depth=20, min_samples_leaf=40, min_samples_split=150, n_estimators=200; total time=   8.3s\n",
            "[CV] END max_depth=20, min_samples_leaf=50, min_samples_split=50, n_estimators=100; total time=   4.2s\n",
            "[CV] END max_depth=20, min_samples_leaf=50, min_samples_split=50, n_estimators=100; total time=   4.3s\n",
            "[CV] END max_depth=20, min_samples_leaf=50, min_samples_split=50, n_estimators=100; total time=   4.2s\n",
            "[CV] END max_depth=20, min_samples_leaf=50, min_samples_split=50, n_estimators=100; total time=   4.2s\n",
            "[CV] END max_depth=20, min_samples_leaf=50, min_samples_split=50, n_estimators=100; total time=   4.2s\n",
            "[CV] END max_depth=20, min_samples_leaf=50, min_samples_split=50, n_estimators=150; total time=   6.3s\n",
            "[CV] END max_depth=20, min_samples_leaf=50, min_samples_split=50, n_estimators=150; total time=   6.3s\n",
            "[CV] END max_depth=20, min_samples_leaf=50, min_samples_split=50, n_estimators=150; total time=   6.3s\n",
            "[CV] END max_depth=20, min_samples_leaf=50, min_samples_split=50, n_estimators=150; total time=   6.3s\n",
            "[CV] END max_depth=20, min_samples_leaf=50, min_samples_split=50, n_estimators=150; total time=   6.2s\n",
            "[CV] END max_depth=20, min_samples_leaf=50, min_samples_split=50, n_estimators=200; total time=   8.4s\n",
            "[CV] END max_depth=20, min_samples_leaf=50, min_samples_split=50, n_estimators=200; total time=   9.6s\n",
            "[CV] END max_depth=20, min_samples_leaf=50, min_samples_split=50, n_estimators=200; total time=   8.4s\n",
            "[CV] END max_depth=20, min_samples_leaf=50, min_samples_split=50, n_estimators=200; total time=   8.4s\n",
            "[CV] END max_depth=20, min_samples_leaf=50, min_samples_split=50, n_estimators=200; total time=   8.4s\n",
            "[CV] END max_depth=20, min_samples_leaf=50, min_samples_split=100, n_estimators=100; total time=   4.2s\n",
            "[CV] END max_depth=20, min_samples_leaf=50, min_samples_split=100, n_estimators=100; total time=   4.2s\n",
            "[CV] END max_depth=20, min_samples_leaf=50, min_samples_split=100, n_estimators=100; total time=   4.2s\n",
            "[CV] END max_depth=20, min_samples_leaf=50, min_samples_split=100, n_estimators=100; total time=   4.2s\n",
            "[CV] END max_depth=20, min_samples_leaf=50, min_samples_split=100, n_estimators=100; total time=   4.3s\n",
            "[CV] END max_depth=20, min_samples_leaf=50, min_samples_split=100, n_estimators=150; total time=   6.4s\n",
            "[CV] END max_depth=20, min_samples_leaf=50, min_samples_split=100, n_estimators=150; total time=   6.4s\n",
            "[CV] END max_depth=20, min_samples_leaf=50, min_samples_split=100, n_estimators=150; total time=   6.4s\n",
            "[CV] END max_depth=20, min_samples_leaf=50, min_samples_split=100, n_estimators=150; total time=   6.3s\n",
            "[CV] END max_depth=20, min_samples_leaf=50, min_samples_split=100, n_estimators=150; total time=   6.3s\n",
            "[CV] END max_depth=20, min_samples_leaf=50, min_samples_split=100, n_estimators=200; total time=   8.4s\n",
            "[CV] END max_depth=20, min_samples_leaf=50, min_samples_split=100, n_estimators=200; total time=   8.4s\n",
            "[CV] END max_depth=20, min_samples_leaf=50, min_samples_split=100, n_estimators=200; total time=   8.3s\n",
            "[CV] END max_depth=20, min_samples_leaf=50, min_samples_split=100, n_estimators=200; total time=   8.5s\n",
            "[CV] END max_depth=20, min_samples_leaf=50, min_samples_split=100, n_estimators=200; total time=   9.8s\n",
            "[CV] END max_depth=20, min_samples_leaf=50, min_samples_split=150, n_estimators=100; total time=   4.3s\n",
            "[CV] END max_depth=20, min_samples_leaf=50, min_samples_split=150, n_estimators=100; total time=   6.8s\n",
            "[CV] END max_depth=20, min_samples_leaf=50, min_samples_split=150, n_estimators=100; total time=   8.2s\n",
            "[CV] END max_depth=20, min_samples_leaf=50, min_samples_split=150, n_estimators=100; total time=   6.6s\n",
            "[CV] END max_depth=20, min_samples_leaf=50, min_samples_split=150, n_estimators=100; total time=   4.2s\n",
            "[CV] END max_depth=20, min_samples_leaf=50, min_samples_split=150, n_estimators=150; total time=   6.1s\n",
            "[CV] END max_depth=20, min_samples_leaf=50, min_samples_split=150, n_estimators=150; total time=   6.2s\n",
            "[CV] END max_depth=20, min_samples_leaf=50, min_samples_split=150, n_estimators=150; total time=   6.2s\n",
            "[CV] END max_depth=20, min_samples_leaf=50, min_samples_split=150, n_estimators=150; total time=   6.1s\n",
            "[CV] END max_depth=20, min_samples_leaf=50, min_samples_split=150, n_estimators=150; total time=   6.1s\n",
            "[CV] END max_depth=20, min_samples_leaf=50, min_samples_split=150, n_estimators=200; total time=   8.3s\n",
            "[CV] END max_depth=20, min_samples_leaf=50, min_samples_split=150, n_estimators=200; total time=   8.3s\n",
            "[CV] END max_depth=20, min_samples_leaf=50, min_samples_split=150, n_estimators=200; total time=   8.2s\n",
            "[CV] END max_depth=20, min_samples_leaf=50, min_samples_split=150, n_estimators=200; total time=   8.4s\n",
            "[CV] END max_depth=20, min_samples_leaf=50, min_samples_split=150, n_estimators=200; total time=   8.3s\n",
            "[CV] END max_depth=30, min_samples_leaf=40, min_samples_split=50, n_estimators=100; total time=   4.3s\n",
            "[CV] END max_depth=30, min_samples_leaf=40, min_samples_split=50, n_estimators=100; total time=   4.3s\n",
            "[CV] END max_depth=30, min_samples_leaf=40, min_samples_split=50, n_estimators=100; total time=   6.9s\n",
            "[CV] END max_depth=30, min_samples_leaf=40, min_samples_split=50, n_estimators=100; total time=   4.7s\n",
            "[CV] END max_depth=30, min_samples_leaf=40, min_samples_split=50, n_estimators=100; total time=   4.5s\n",
            "[CV] END max_depth=30, min_samples_leaf=40, min_samples_split=50, n_estimators=150; total time=   6.5s\n",
            "[CV] END max_depth=30, min_samples_leaf=40, min_samples_split=50, n_estimators=150; total time=   6.5s\n",
            "[CV] END max_depth=30, min_samples_leaf=40, min_samples_split=50, n_estimators=150; total time=   6.5s\n",
            "[CV] END max_depth=30, min_samples_leaf=40, min_samples_split=50, n_estimators=150; total time=   6.6s\n",
            "[CV] END max_depth=30, min_samples_leaf=40, min_samples_split=50, n_estimators=150; total time=   6.5s\n",
            "[CV] END max_depth=30, min_samples_leaf=40, min_samples_split=50, n_estimators=200; total time=   8.7s\n",
            "[CV] END max_depth=30, min_samples_leaf=40, min_samples_split=50, n_estimators=200; total time=   8.7s\n",
            "[CV] END max_depth=30, min_samples_leaf=40, min_samples_split=50, n_estimators=200; total time=   8.7s\n",
            "[CV] END max_depth=30, min_samples_leaf=40, min_samples_split=50, n_estimators=200; total time=   8.8s\n",
            "[CV] END max_depth=30, min_samples_leaf=40, min_samples_split=50, n_estimators=200; total time=   8.7s\n",
            "[CV] END max_depth=30, min_samples_leaf=40, min_samples_split=100, n_estimators=100; total time=   4.4s\n",
            "[CV] END max_depth=30, min_samples_leaf=40, min_samples_split=100, n_estimators=100; total time=   4.3s\n",
            "[CV] END max_depth=30, min_samples_leaf=40, min_samples_split=100, n_estimators=100; total time=   4.4s\n",
            "[CV] END max_depth=30, min_samples_leaf=40, min_samples_split=100, n_estimators=100; total time=   4.3s\n",
            "[CV] END max_depth=30, min_samples_leaf=40, min_samples_split=100, n_estimators=100; total time=   4.3s\n",
            "[CV] END max_depth=30, min_samples_leaf=40, min_samples_split=100, n_estimators=150; total time=   6.4s\n",
            "[CV] END max_depth=30, min_samples_leaf=40, min_samples_split=100, n_estimators=150; total time=   7.1s\n",
            "[CV] END max_depth=30, min_samples_leaf=40, min_samples_split=100, n_estimators=150; total time=   7.3s\n",
            "[CV] END max_depth=30, min_samples_leaf=40, min_samples_split=100, n_estimators=150; total time=   6.5s\n",
            "[CV] END max_depth=30, min_samples_leaf=40, min_samples_split=100, n_estimators=150; total time=   6.6s\n",
            "[CV] END max_depth=30, min_samples_leaf=40, min_samples_split=100, n_estimators=200; total time=   8.6s\n",
            "[CV] END max_depth=30, min_samples_leaf=40, min_samples_split=100, n_estimators=200; total time=   8.7s\n",
            "[CV] END max_depth=30, min_samples_leaf=40, min_samples_split=100, n_estimators=200; total time=   8.6s\n",
            "[CV] END max_depth=30, min_samples_leaf=40, min_samples_split=100, n_estimators=200; total time=   8.5s\n",
            "[CV] END max_depth=30, min_samples_leaf=40, min_samples_split=100, n_estimators=200; total time=   8.4s\n",
            "[CV] END max_depth=30, min_samples_leaf=40, min_samples_split=150, n_estimators=100; total time=   4.2s\n",
            "[CV] END max_depth=30, min_samples_leaf=40, min_samples_split=150, n_estimators=100; total time=   4.2s\n",
            "[CV] END max_depth=30, min_samples_leaf=40, min_samples_split=150, n_estimators=100; total time=   4.2s\n",
            "[CV] END max_depth=30, min_samples_leaf=40, min_samples_split=150, n_estimators=100; total time=   4.3s\n",
            "[CV] END max_depth=30, min_samples_leaf=40, min_samples_split=150, n_estimators=100; total time=   4.2s\n",
            "[CV] END max_depth=30, min_samples_leaf=40, min_samples_split=150, n_estimators=150; total time=   6.3s\n",
            "[CV] END max_depth=30, min_samples_leaf=40, min_samples_split=150, n_estimators=150; total time=   6.3s\n",
            "[CV] END max_depth=30, min_samples_leaf=40, min_samples_split=150, n_estimators=150; total time=   6.3s\n",
            "[CV] END max_depth=30, min_samples_leaf=40, min_samples_split=150, n_estimators=150; total time=   6.3s\n",
            "[CV] END max_depth=30, min_samples_leaf=40, min_samples_split=150, n_estimators=150; total time=   6.4s\n",
            "[CV] END max_depth=30, min_samples_leaf=40, min_samples_split=150, n_estimators=200; total time=   9.8s\n",
            "[CV] END max_depth=30, min_samples_leaf=40, min_samples_split=150, n_estimators=200; total time=   8.3s\n",
            "[CV] END max_depth=30, min_samples_leaf=40, min_samples_split=150, n_estimators=200; total time=   8.3s\n",
            "[CV] END max_depth=30, min_samples_leaf=40, min_samples_split=150, n_estimators=200; total time=   8.2s\n",
            "[CV] END max_depth=30, min_samples_leaf=40, min_samples_split=150, n_estimators=200; total time=   8.3s\n",
            "[CV] END max_depth=30, min_samples_leaf=50, min_samples_split=50, n_estimators=100; total time=   4.1s\n",
            "[CV] END max_depth=30, min_samples_leaf=50, min_samples_split=50, n_estimators=100; total time=   4.2s\n",
            "[CV] END max_depth=30, min_samples_leaf=50, min_samples_split=50, n_estimators=100; total time=   4.2s\n",
            "[CV] END max_depth=30, min_samples_leaf=50, min_samples_split=50, n_estimators=100; total time=   4.1s\n",
            "[CV] END max_depth=30, min_samples_leaf=50, min_samples_split=50, n_estimators=100; total time=   4.2s\n",
            "[CV] END max_depth=30, min_samples_leaf=50, min_samples_split=50, n_estimators=150; total time=   6.2s\n",
            "[CV] END max_depth=30, min_samples_leaf=50, min_samples_split=50, n_estimators=150; total time=   6.2s\n",
            "[CV] END max_depth=30, min_samples_leaf=50, min_samples_split=50, n_estimators=150; total time=   6.3s\n",
            "[CV] END max_depth=30, min_samples_leaf=50, min_samples_split=50, n_estimators=150; total time=   6.3s\n",
            "[CV] END max_depth=30, min_samples_leaf=50, min_samples_split=50, n_estimators=150; total time=   6.4s\n",
            "[CV] END max_depth=30, min_samples_leaf=50, min_samples_split=50, n_estimators=200; total time=   8.4s\n",
            "[CV] END max_depth=30, min_samples_leaf=50, min_samples_split=50, n_estimators=200; total time=   8.3s\n",
            "[CV] END max_depth=30, min_samples_leaf=50, min_samples_split=50, n_estimators=200; total time=   8.5s\n",
            "[CV] END max_depth=30, min_samples_leaf=50, min_samples_split=50, n_estimators=200; total time=   9.7s\n",
            "[CV] END max_depth=30, min_samples_leaf=50, min_samples_split=50, n_estimators=200; total time=   8.4s\n",
            "[CV] END max_depth=30, min_samples_leaf=50, min_samples_split=100, n_estimators=100; total time=   4.3s\n",
            "[CV] END max_depth=30, min_samples_leaf=50, min_samples_split=100, n_estimators=100; total time=   4.2s\n",
            "[CV] END max_depth=30, min_samples_leaf=50, min_samples_split=100, n_estimators=100; total time=   4.2s\n",
            "[CV] END max_depth=30, min_samples_leaf=50, min_samples_split=100, n_estimators=100; total time=   4.3s\n",
            "[CV] END max_depth=30, min_samples_leaf=50, min_samples_split=100, n_estimators=100; total time=   4.2s\n",
            "[CV] END max_depth=30, min_samples_leaf=50, min_samples_split=100, n_estimators=150; total time=   6.4s\n",
            "[CV] END max_depth=30, min_samples_leaf=50, min_samples_split=100, n_estimators=150; total time=   6.4s\n",
            "[CV] END max_depth=30, min_samples_leaf=50, min_samples_split=100, n_estimators=150; total time=   6.4s\n",
            "[CV] END max_depth=30, min_samples_leaf=50, min_samples_split=100, n_estimators=150; total time=   6.3s\n",
            "[CV] END max_depth=30, min_samples_leaf=50, min_samples_split=100, n_estimators=150; total time=   6.3s\n",
            "[CV] END max_depth=30, min_samples_leaf=50, min_samples_split=100, n_estimators=200; total time=   8.5s\n",
            "[CV] END max_depth=30, min_samples_leaf=50, min_samples_split=100, n_estimators=200; total time=   8.5s\n",
            "[CV] END max_depth=30, min_samples_leaf=50, min_samples_split=100, n_estimators=200; total time=   8.4s\n",
            "[CV] END max_depth=30, min_samples_leaf=50, min_samples_split=100, n_estimators=200; total time=   8.4s\n",
            "[CV] END max_depth=30, min_samples_leaf=50, min_samples_split=100, n_estimators=200; total time=   8.4s\n",
            "[CV] END max_depth=30, min_samples_leaf=50, min_samples_split=150, n_estimators=100; total time=   4.2s\n",
            "[CV] END max_depth=30, min_samples_leaf=50, min_samples_split=150, n_estimators=100; total time=   4.3s\n",
            "[CV] END max_depth=30, min_samples_leaf=50, min_samples_split=150, n_estimators=100; total time=   8.1s\n",
            "[CV] END max_depth=30, min_samples_leaf=50, min_samples_split=150, n_estimators=100; total time=   5.3s\n",
            "[CV] END max_depth=30, min_samples_leaf=50, min_samples_split=150, n_estimators=100; total time=   4.1s\n",
            "[CV] END max_depth=30, min_samples_leaf=50, min_samples_split=150, n_estimators=150; total time=   6.1s\n",
            "[CV] END max_depth=30, min_samples_leaf=50, min_samples_split=150, n_estimators=150; total time=   6.1s\n",
            "[CV] END max_depth=30, min_samples_leaf=50, min_samples_split=150, n_estimators=150; total time=   6.2s\n",
            "[CV] END max_depth=30, min_samples_leaf=50, min_samples_split=150, n_estimators=150; total time=   6.1s\n",
            "[CV] END max_depth=30, min_samples_leaf=50, min_samples_split=150, n_estimators=150; total time=   6.2s\n",
            "[CV] END max_depth=30, min_samples_leaf=50, min_samples_split=150, n_estimators=200; total time=   8.1s\n",
            "[CV] END max_depth=30, min_samples_leaf=50, min_samples_split=150, n_estimators=200; total time=   8.3s\n",
            "[CV] END max_depth=30, min_samples_leaf=50, min_samples_split=150, n_estimators=200; total time=   8.3s\n",
            "[CV] END max_depth=30, min_samples_leaf=50, min_samples_split=150, n_estimators=200; total time=   9.8s\n",
            "[CV] END max_depth=30, min_samples_leaf=50, min_samples_split=150, n_estimators=200; total time=   8.4s\n"
          ]
        },
        {
          "output_type": "execute_result",
          "data": {
            "text/plain": [
              "GridSearchCV(cv=5, estimator=RandomForestClassifier(),\n",
              "             param_grid={'max_depth': [10, 20, 30],\n",
              "                         'min_samples_leaf': [40, 50],\n",
              "                         'min_samples_split': [50, 100, 150],\n",
              "                         'n_estimators': [100, 150, 200]},\n",
              "             scoring='roc_auc', verbose=2)"
            ]
          },
          "metadata": {},
          "execution_count": 135
        }
      ],
      "source": [
        "# Create an instance of the RandomForestClassifier\n",
        "rfc = RandomForestClassifier()\n",
        "\n",
        "# Grid search\n",
        "rfc_grid = GridSearchCV(estimator=rfc,\n",
        "                       param_grid = param_dict,\n",
        "                       cv = 5, verbose=2, scoring='roc_auc')\n",
        "# fitting model\n",
        "rfc_grid.fit(X_train,y_train)"
      ]
    },
    {
      "cell_type": "code",
      "execution_count": 136,
      "metadata": {
        "colab": {
          "base_uri": "https://localhost:8080/"
        },
        "id": "tfcQ7wTpJf1t",
        "outputId": "2b28a2e7-b2a3-4fd1-a61d-b72c1f9891ae"
      },
      "outputs": [
        {
          "output_type": "execute_result",
          "data": {
            "text/plain": [
              "RandomForestClassifier(max_depth=30, min_samples_leaf=40, min_samples_split=50,\n",
              "                       n_estimators=200)"
            ]
          },
          "metadata": {},
          "execution_count": 136
        }
      ],
      "source": [
        "rfc_grid.best_estimator_"
      ]
    },
    {
      "cell_type": "code",
      "execution_count": 137,
      "metadata": {
        "colab": {
          "base_uri": "https://localhost:8080/"
        },
        "id": "DYOUV0r_Jlo3",
        "outputId": "9294dccf-161f-40f9-96fe-959483525bc2"
      },
      "outputs": [
        {
          "output_type": "execute_result",
          "data": {
            "text/plain": [
              "{'max_depth': 30,\n",
              " 'min_samples_leaf': 40,\n",
              " 'min_samples_split': 50,\n",
              " 'n_estimators': 200}"
            ]
          },
          "metadata": {},
          "execution_count": 137
        }
      ],
      "source": [
        "rfc_grid.best_params_"
      ]
    },
    {
      "cell_type": "code",
      "execution_count": 138,
      "metadata": {
        "id": "fEz3MdncJfyw"
      },
      "outputs": [],
      "source": [
        "rfc_optimal_model = rfc_grid.best_estimator_"
      ]
    },
    {
      "cell_type": "code",
      "execution_count": 139,
      "metadata": {
        "id": "cF2r3W_zJfvr"
      },
      "outputs": [],
      "source": [
        "#class prediction of y on train and test\n",
        "y_pred_rfc_grid=rfc_optimal_model.predict(X_test)\n",
        "y_train_pred_rfc_grid=rfc_optimal_model.predict(X_train)\n",
        "\n",
        "# Get the probabilities on train and test\n",
        "y_pred_prob_rfc_grid = rfc_optimal_model.predict_proba(X_train)[:,1]\n",
        "y_train_pred_prob_rfc_grid = rfc_optimal_model.predict_proba(X_test)[:,1]"
      ]
    },
    {
      "cell_type": "code",
      "execution_count": 140,
      "metadata": {
        "colab": {
          "base_uri": "https://localhost:8080/"
        },
        "id": "pAoDDAhyJfsw",
        "outputId": "93d331fe-6b85-4fb9-bc11-fb08d9e23270"
      },
      "outputs": [
        {
          "output_type": "stream",
          "name": "stdout",
          "text": [
            "The accuracy on train data is  0.844\n",
            "The accuracy on test data is  0.834\n",
            "The precision on test data is  0.795\n",
            "The recall on test data is  0.863\n",
            "The f1 on test data is  0.827\n",
            "The auc on test data is  0.836\n"
          ]
        }
      ],
      "source": [
        "#getting all scores for Random Forest Classifier after CV and Hyperparameter Tunning\n",
        "train_accuracy_rfc_grid = round(accuracy_score(y_train_pred_rfc_grid,y_train), 3)\n",
        "accuracy_rfc_grid = round(accuracy_score(y_pred_rfc_grid,y_test), 3)\n",
        "precision_score_rfc_grid = round(precision_score(y_pred_rfc_grid,y_test), 3)\n",
        "recall_score_rfc_grid = round(recall_score(y_pred_rfc_grid,y_test), 3)\n",
        "f1_score_rfc_grid = round(f1_score(y_pred_rfc_grid,y_test), 3)\n",
        "auc_rfc_grid = round(roc_auc_score(y_pred_rfc_grid,y_test), 3)\n",
        "\n",
        "print(\"The accuracy on train data is \", train_accuracy_rfc_grid)\n",
        "print(\"The accuracy on test data is \", accuracy_rfc_grid)\n",
        "print(\"The precision on test data is \", precision_score_rfc_grid)\n",
        "print(\"The recall on test data is \", recall_score_rfc_grid)\n",
        "print(\"The f1 on test data is \", f1_score_rfc_grid)\n",
        "print(\"The auc on test data is \", auc_rfc_grid)"
      ]
    },
    {
      "cell_type": "code",
      "execution_count": 141,
      "metadata": {
        "id": "tlQ3NPZ0Jfpu"
      },
      "outputs": [],
      "source": [
        "# Get the confusion matrices for train and test\n",
        "train_cm_rfc_grid = confusion_matrix(y_train,y_train_pred_rfc_grid)\n",
        "test_cm_rfc_grid = confusion_matrix(y_test,y_pred_rfc_grid )"
      ]
    },
    {
      "cell_type": "code",
      "execution_count": 142,
      "metadata": {
        "colab": {
          "base_uri": "https://localhost:8080/"
        },
        "id": "8j5zEzqb6E0c",
        "outputId": "4b820e26-2e46-4f6e-c1ea-9108d37b91a3"
      },
      "outputs": [
        {
          "output_type": "execute_result",
          "data": {
            "text/plain": [
              "array([[16609,  2082],\n",
              "       [ 3749, 14942]])"
            ]
          },
          "metadata": {},
          "execution_count": 142
        }
      ],
      "source": [
        "train_cm_rfc_grid"
      ]
    },
    {
      "cell_type": "code",
      "execution_count": 143,
      "metadata": {
        "colab": {
          "base_uri": "https://localhost:8080/"
        },
        "id": "WIiDJagg6F7V",
        "outputId": "a653dabe-0156-4ea6-f5a5-4a45d6943971"
      },
      "outputs": [
        {
          "output_type": "execute_result",
          "data": {
            "text/plain": [
              "array([[4084,  589],\n",
              "       [ 960, 3713]])"
            ]
          },
          "metadata": {},
          "execution_count": 143
        }
      ],
      "source": [
        "test_cm_rfc_grid"
      ]
    },
    {
      "cell_type": "markdown",
      "metadata": {
        "id": "WYFTO_WbNhKg"
      },
      "source": [
        "## **Gradient Boosting**"
      ]
    },
    {
      "cell_type": "code",
      "execution_count": 144,
      "metadata": {
        "id": "fTt0ddvDeHe2"
      },
      "outputs": [],
      "source": [
        "# to shrinks the contribution of each tree by learning_rate\n",
        "learning_rates = [1, 0.5, 0.25, 0.1, 0.05, 0.01]\n",
        "\n",
        "# Number of trees\n",
        "n_estimators = [100,150,200]\n",
        "\n",
        "# Maximum depth of trees\n",
        "max_depth = [10,20,30]\n",
        "\n",
        "# Minimum number of samples required to split a node\n",
        "min_samples_split = [50,100,150]\n",
        "\n",
        "# Minimum number of samples required at each leaf node\n",
        "min_samples_leaf = [40,50]\n",
        "\n",
        "# Hyperparameter Grid\n",
        "param_dict = {'learning_rate': learning_rates,\n",
        "              'n_estimators' : n_estimators,\n",
        "              'max_depth' : max_depth,\n",
        "              'min_samples_split' : min_samples_split,\n",
        "              'min_samples_leaf' : min_samples_leaf}"
      ]
    },
    {
      "cell_type": "code",
      "execution_count": 145,
      "metadata": {
        "colab": {
          "base_uri": "https://localhost:8080/"
        },
        "id": "U8MSlw_0eHe3",
        "outputId": "4dcbc936-fff8-4336-e024-2748e47a5734"
      },
      "outputs": [
        {
          "output_type": "stream",
          "name": "stdout",
          "text": [
            "Fitting 2 folds for each of 10 candidates, totalling 20 fits\n",
            "[CV] END learning_rate=0.25, max_depth=30, min_samples_leaf=50, min_samples_split=150, n_estimators=200; total time= 2.1min\n",
            "[CV] END learning_rate=0.25, max_depth=30, min_samples_leaf=50, min_samples_split=150, n_estimators=200; total time= 2.0min\n",
            "[CV] END learning_rate=0.5, max_depth=20, min_samples_leaf=50, min_samples_split=50, n_estimators=150; total time= 1.2min\n",
            "[CV] END learning_rate=0.5, max_depth=20, min_samples_leaf=50, min_samples_split=50, n_estimators=150; total time= 1.2min\n",
            "[CV] END learning_rate=0.25, max_depth=20, min_samples_leaf=40, min_samples_split=50, n_estimators=150; total time= 1.2min\n",
            "[CV] END learning_rate=0.25, max_depth=20, min_samples_leaf=40, min_samples_split=50, n_estimators=150; total time= 1.2min\n",
            "[CV] END learning_rate=0.1, max_depth=20, min_samples_leaf=50, min_samples_split=150, n_estimators=200; total time= 1.5min\n",
            "[CV] END learning_rate=0.1, max_depth=20, min_samples_leaf=50, min_samples_split=150, n_estimators=200; total time= 1.5min\n",
            "[CV] END learning_rate=0.1, max_depth=30, min_samples_leaf=50, min_samples_split=50, n_estimators=150; total time= 1.3min\n",
            "[CV] END learning_rate=0.1, max_depth=30, min_samples_leaf=50, min_samples_split=50, n_estimators=150; total time= 1.3min\n",
            "[CV] END learning_rate=0.5, max_depth=30, min_samples_leaf=40, min_samples_split=100, n_estimators=150; total time= 1.6min\n",
            "[CV] END learning_rate=0.5, max_depth=30, min_samples_leaf=40, min_samples_split=100, n_estimators=150; total time= 1.5min\n",
            "[CV] END learning_rate=0.25, max_depth=10, min_samples_leaf=40, min_samples_split=150, n_estimators=150; total time=  44.2s\n",
            "[CV] END learning_rate=0.25, max_depth=10, min_samples_leaf=40, min_samples_split=150, n_estimators=150; total time=  43.7s\n",
            "[CV] END learning_rate=0.01, max_depth=20, min_samples_leaf=40, min_samples_split=100, n_estimators=200; total time= 1.1min\n",
            "[CV] END learning_rate=0.01, max_depth=20, min_samples_leaf=40, min_samples_split=100, n_estimators=200; total time= 1.1min\n",
            "[CV] END learning_rate=0.1, max_depth=20, min_samples_leaf=50, min_samples_split=100, n_estimators=150; total time= 1.1min\n",
            "[CV] END learning_rate=0.1, max_depth=20, min_samples_leaf=50, min_samples_split=100, n_estimators=150; total time= 1.1min\n",
            "[CV] END learning_rate=0.01, max_depth=30, min_samples_leaf=50, min_samples_split=150, n_estimators=150; total time=  45.9s\n",
            "[CV] END learning_rate=0.01, max_depth=30, min_samples_leaf=50, min_samples_split=150, n_estimators=150; total time=  45.3s\n"
          ]
        },
        {
          "output_type": "execute_result",
          "data": {
            "text/plain": [
              "RandomizedSearchCV(cv=2, estimator=GradientBoostingClassifier(random_state=42),\n",
              "                   param_distributions={'learning_rate': [1, 0.5, 0.25, 0.1,\n",
              "                                                          0.05, 0.01],\n",
              "                                        'max_depth': [10, 20, 30],\n",
              "                                        'min_samples_leaf': [40, 50],\n",
              "                                        'min_samples_split': [50, 100, 150],\n",
              "                                        'n_estimators': [100, 150, 200]},\n",
              "                   scoring='roc_auc', verbose=2)"
            ]
          },
          "metadata": {},
          "execution_count": 145
        }
      ],
      "source": [
        "# Create an instance of the RandomForestClassifier\n",
        "gbc = GradientBoostingClassifier(random_state=42)\n",
        "\n",
        "# Grid search\n",
        "gbc_grid = RandomizedSearchCV(estimator=gbc,\n",
        "                       param_distributions = param_dict,\n",
        "                       cv = 2, verbose=2, scoring='roc_auc')\n",
        "# fitting model\n",
        "gbc_grid.fit(X_train,y_train)"
      ]
    },
    {
      "cell_type": "code",
      "execution_count": 146,
      "metadata": {
        "colab": {
          "base_uri": "https://localhost:8080/"
        },
        "id": "DVRxGR_-eHe4",
        "outputId": "f899d0cd-ede8-4385-e48b-4ae3cdb2142f"
      },
      "outputs": [
        {
          "output_type": "execute_result",
          "data": {
            "text/plain": [
              "GradientBoostingClassifier(max_depth=30, min_samples_leaf=50,\n",
              "                           min_samples_split=50, n_estimators=150,\n",
              "                           random_state=42)"
            ]
          },
          "metadata": {},
          "execution_count": 146
        }
      ],
      "source": [
        "gbc_grid.best_estimator_"
      ]
    },
    {
      "cell_type": "code",
      "execution_count": 147,
      "metadata": {
        "colab": {
          "base_uri": "https://localhost:8080/"
        },
        "id": "JRSOAKnheHe4",
        "outputId": "115ab119-a267-4be1-c636-5bdd1022e703"
      },
      "outputs": [
        {
          "output_type": "execute_result",
          "data": {
            "text/plain": [
              "{'n_estimators': 150,\n",
              " 'min_samples_split': 50,\n",
              " 'min_samples_leaf': 50,\n",
              " 'max_depth': 30,\n",
              " 'learning_rate': 0.1}"
            ]
          },
          "metadata": {},
          "execution_count": 147
        }
      ],
      "source": [
        "gbc_grid.best_params_"
      ]
    },
    {
      "cell_type": "code",
      "execution_count": 148,
      "metadata": {
        "id": "NYUZ8Ot5eHe5"
      },
      "outputs": [],
      "source": [
        "gbc_optimal_model = gbc_grid.best_estimator_"
      ]
    },
    {
      "cell_type": "code",
      "execution_count": 149,
      "metadata": {
        "id": "OQohji0ceHe6"
      },
      "outputs": [],
      "source": [
        "#class prediction of y on train and test\n",
        "y_pred_gbc_grid=gbc_optimal_model.predict(X_test)\n",
        "y_train_pred_gbc_grid=gbc_optimal_model.predict(X_train)\n",
        "\n",
        "# Get the probabilities on train and test\n",
        "y_pred_prob_gbc_grid = gbc_optimal_model.predict_proba(X_train)[:,1]\n",
        "y_train_pred_prob_gbc_grid = gbc_optimal_model.predict_proba(X_test)[:,1]"
      ]
    },
    {
      "cell_type": "code",
      "execution_count": 150,
      "metadata": {
        "colab": {
          "base_uri": "https://localhost:8080/"
        },
        "id": "iWzKxUCJeHe6",
        "outputId": "0114f15d-8e60-4630-ebd1-d9634d25389d"
      },
      "outputs": [
        {
          "output_type": "stream",
          "name": "stdout",
          "text": [
            "The accuracy on train data is  0.997\n",
            "The accuracy on test data is  0.868\n",
            "The precision on test data is  0.831\n",
            "The recall on test data is  0.897\n",
            "The f1 on test data is  0.863\n",
            "The auc on test data is  0.87\n"
          ]
        }
      ],
      "source": [
        "#getting all scores for Gradient Boosting after CV and Hyperparameter Tunning\n",
        "train_accuracy_gbc_grid = round(accuracy_score(y_train_pred_gbc_grid,y_train), 3)\n",
        "accuracy_gbc_grid = round(accuracy_score(y_pred_gbc_grid,y_test), 3)\n",
        "precision_score_gbc_grid = round(precision_score(y_pred_gbc_grid,y_test), 3)\n",
        "recall_score_gbc_grid = round(recall_score(y_pred_gbc_grid,y_test), 3)\n",
        "f1_score_gbc_grid = round(f1_score(y_pred_gbc_grid,y_test), 3)\n",
        "auc_gbc_grid = round(roc_auc_score(y_pred_gbc_grid,y_test), 3)\n",
        "\n",
        "print(\"The accuracy on train data is \", train_accuracy_gbc_grid)\n",
        "print(\"The accuracy on test data is \", accuracy_gbc_grid)\n",
        "print(\"The precision on test data is \", precision_score_gbc_grid)\n",
        "print(\"The recall on test data is \", recall_score_gbc_grid)\n",
        "print(\"The f1 on test data is \", f1_score_gbc_grid)\n",
        "print(\"The auc on test data is \", auc_gbc_grid)"
      ]
    },
    {
      "cell_type": "code",
      "execution_count": 151,
      "metadata": {
        "id": "pjI7KDr-eHe7"
      },
      "outputs": [],
      "source": [
        "# Get the confusion matrices for train and test\n",
        "train_cm_gbc_grid = confusion_matrix(y_train,y_train_pred_gbc_grid)\n",
        "test_cm_gbc_grid = confusion_matrix(y_test,y_pred_gbc_grid )"
      ]
    },
    {
      "cell_type": "code",
      "execution_count": 152,
      "metadata": {
        "colab": {
          "base_uri": "https://localhost:8080/"
        },
        "id": "dOUbawG_6Kzs",
        "outputId": "6620ee20-fda1-4305-8dd7-1104c49fa9ad"
      },
      "outputs": [
        {
          "output_type": "execute_result",
          "data": {
            "text/plain": [
              "array([[18651,    40],\n",
              "       [   86, 18605]])"
            ]
          },
          "metadata": {},
          "execution_count": 152
        }
      ],
      "source": [
        "train_cm_gbc_grid"
      ]
    },
    {
      "cell_type": "code",
      "execution_count": 153,
      "metadata": {
        "colab": {
          "base_uri": "https://localhost:8080/"
        },
        "id": "gkdjMqri6KxT",
        "outputId": "c7a59cc5-b477-40f1-bbf8-77211bf259a2"
      },
      "outputs": [
        {
          "output_type": "execute_result",
          "data": {
            "text/plain": [
              "array([[4228,  445],\n",
              "       [ 791, 3882]])"
            ]
          },
          "metadata": {},
          "execution_count": 153
        }
      ],
      "source": [
        "test_cm_gbc_grid"
      ]
    },
    {
      "cell_type": "markdown",
      "metadata": {
        "id": "HhvEJF0frRc1"
      },
      "source": [
        "## **XG Boosting**"
      ]
    },
    {
      "cell_type": "code",
      "execution_count": 154,
      "metadata": {
        "id": "gB3Bm6eE6UfG"
      },
      "outputs": [],
      "source": [
        "from sklearn.model_selection import RandomizedSearchCV"
      ]
    },
    {
      "cell_type": "code",
      "execution_count": 155,
      "metadata": {
        "id": "3tRn39OpvrgZ"
      },
      "outputs": [],
      "source": [
        "# Hyperparameter Grid\n",
        "param_dict = {'learning_rate': [0.15, 0.1, 0.05],\n",
        "              'n_estimators' : [200, 250],\n",
        "              'max_depth' : [15,20,25],\n",
        "              'min_child_weight' : [1,3],\n",
        "              'gamma': [0.3, 0.2, 0.1],\n",
        "              'min_samples_leaf' : [40, 50]}"
      ]
    },
    {
      "cell_type": "code",
      "execution_count": 156,
      "metadata": {
        "colab": {
          "base_uri": "https://localhost:8080/"
        },
        "id": "-ioVWpsUvrge",
        "outputId": "4f45535f-df4e-4f93-d043-5be4823278cd"
      },
      "outputs": [
        {
          "output_type": "stream",
          "name": "stdout",
          "text": [
            "Fitting 3 folds for each of 5 candidates, totalling 15 fits\n"
          ]
        },
        {
          "output_type": "execute_result",
          "data": {
            "text/plain": [
              "RandomizedSearchCV(cv=3, estimator=XGBClassifier(), n_iter=5, n_jobs=-1,\n",
              "                   param_distributions={'gamma': [0.3, 0.2, 0.1],\n",
              "                                        'learning_rate': [0.15, 0.1, 0.05],\n",
              "                                        'max_depth': [15, 20, 25],\n",
              "                                        'min_child_weight': [1, 3],\n",
              "                                        'min_samples_leaf': [40, 50],\n",
              "                                        'n_estimators': [200, 250]},\n",
              "                   scoring='roc_auc', verbose=2)"
            ]
          },
          "metadata": {},
          "execution_count": 156
        }
      ],
      "source": [
        "# Create an instance of the RandomForestClassifier\n",
        "xgb = XGBClassifier()\n",
        "\n",
        "# Grid search\n",
        "xgb_grid = RandomizedSearchCV(estimator=xgb,\n",
        "                       param_distributions = param_dict,\n",
        "                       n_jobs=-1, n_iter=5, cv = 3,\n",
        "                       verbose=2, scoring='roc_auc')\n",
        "# fitting model\n",
        "xgb_grid.fit(X_train,y_train)"
      ]
    },
    {
      "cell_type": "code",
      "execution_count": 157,
      "metadata": {
        "colab": {
          "base_uri": "https://localhost:8080/"
        },
        "id": "OPUZED9mvrgg",
        "outputId": "b1f23e7a-8cc1-4710-fbaa-f87db2e2bbcf"
      },
      "outputs": [
        {
          "output_type": "execute_result",
          "data": {
            "text/plain": [
              "XGBClassifier(gamma=0.1, learning_rate=0.05, max_depth=15, min_samples_leaf=50,\n",
              "              n_estimators=250)"
            ]
          },
          "metadata": {},
          "execution_count": 157
        }
      ],
      "source": [
        "xgb_grid.best_estimator_"
      ]
    },
    {
      "cell_type": "code",
      "execution_count": 158,
      "metadata": {
        "colab": {
          "base_uri": "https://localhost:8080/"
        },
        "id": "-tXJ9Kiovrgh",
        "outputId": "bcb16311-9485-4a7a-b743-a087c90df9a5"
      },
      "outputs": [
        {
          "output_type": "execute_result",
          "data": {
            "text/plain": [
              "{'n_estimators': 250,\n",
              " 'min_samples_leaf': 50,\n",
              " 'min_child_weight': 1,\n",
              " 'max_depth': 15,\n",
              " 'learning_rate': 0.05,\n",
              " 'gamma': 0.1}"
            ]
          },
          "metadata": {},
          "execution_count": 158
        }
      ],
      "source": [
        "xgb_grid.best_params_"
      ]
    },
    {
      "cell_type": "code",
      "execution_count": 159,
      "metadata": {
        "id": "tyRAYsFcvrgh"
      },
      "outputs": [],
      "source": [
        "xgb_optimal_model = xgb_grid.best_estimator_"
      ]
    },
    {
      "cell_type": "code",
      "execution_count": 160,
      "metadata": {
        "id": "dPir_y3Gvrgj"
      },
      "outputs": [],
      "source": [
        "#class prediction of y on train and test\n",
        "y_pred_xgb_grid=xgb_optimal_model.predict(X_test)\n",
        "y_train_pred_xgb_grid=xgb_optimal_model.predict(X_train)\n",
        "\n",
        "# Get the probabilities on train and test\n",
        "y_pred_prob_xgb_grid = xgb_optimal_model.predict_proba(X_train)[:,1]\n",
        "y_train_pred_prob_xgb_grid = xgb_optimal_model.predict_proba(X_test)[:,1]"
      ]
    },
    {
      "cell_type": "code",
      "execution_count": 161,
      "metadata": {
        "colab": {
          "base_uri": "https://localhost:8080/"
        },
        "id": "4fZ6TWT6vrgk",
        "outputId": "acccf444-3a50-4c00-9294-017840376b1f"
      },
      "outputs": [
        {
          "output_type": "stream",
          "name": "stdout",
          "text": [
            "The accuracy on train data is  0.997\n",
            "The accuracy on test data is  0.871\n",
            "The precision on test data is  0.832\n",
            "The recall on test data is  0.903\n",
            "The f1 on test data is  0.866\n",
            "The auc on test data is  0.873\n"
          ]
        }
      ],
      "source": [
        "#getting all scores for XG Boosting after CV and Hyperparameter Tunning\n",
        "train_accuracy_xgb_grid = round(accuracy_score(y_train_pred_xgb_grid,y_train), 3)\n",
        "accuracy_xgb_grid = round(accuracy_score(y_pred_xgb_grid,y_test), 3)\n",
        "precision_score_xgb_grid = round(precision_score(y_pred_xgb_grid,y_test), 3)\n",
        "recall_score_xgb_grid = round(recall_score(y_pred_xgb_grid,y_test), 3)\n",
        "f1_score_xgb_grid = round(f1_score(y_pred_xgb_grid,y_test), 3)\n",
        "auc_xgb_grid = round(roc_auc_score(y_pred_xgb_grid,y_test), 3)\n",
        "\n",
        "print(\"The accuracy on train data is \", train_accuracy_xgb_grid)\n",
        "print(\"The accuracy on test data is \", accuracy_xgb_grid)\n",
        "print(\"The precision on test data is \", precision_score_xgb_grid)\n",
        "print(\"The recall on test data is \", recall_score_xgb_grid)\n",
        "print(\"The f1 on test data is \", f1_score_xgb_grid)\n",
        "print(\"The auc on test data is \", auc_xgb_grid)"
      ]
    },
    {
      "cell_type": "code",
      "execution_count": 162,
      "metadata": {
        "id": "VFgOyD-jvrgl"
      },
      "outputs": [],
      "source": [
        "# Get the confusion matrices for train and test\n",
        "train_cm_xgb_grid = confusion_matrix(y_train,y_train_pred_xgb_grid)\n",
        "test_cm_xgb_grid = confusion_matrix(y_test,y_pred_xgb_grid )"
      ]
    },
    {
      "cell_type": "markdown",
      "metadata": {
        "id": "9Ou4AtBbb5bi"
      },
      "source": [
        "# Final Model Comparision"
      ]
    },
    {
      "cell_type": "code",
      "execution_count": 163,
      "metadata": {
        "id": "BrVe-hXPcHzw"
      },
      "outputs": [],
      "source": [
        "grid_classifiers = ['Optimal Logistic Regression', 'Optimal Decision Tree', 'Optimal Random Forest', 'Optimal SVM', 'Optimal Gradient Boosting', 'Optimal XG Boosting']\n",
        "grid_train_accuracy = [train_accuracy_logi_grid, train_accuracy_dtc_grid, train_accuracy_rfc_grid, train_accuracy_svm_grid, train_accuracy_gbc_grid, train_accuracy_xgb_grid]\n",
        "grid_test_accuracy = [accuracy_logi_grid, accuracy_dtc_grid, accuracy_rfc_grid, accuracy_svm_grid, accuracy_gbc_grid, accuracy_xgb_grid]\n",
        "grid_precision_score = [precision_score_logi_grid, precision_score_dtc_grid, precision_score_rfc_grid, precision_score_svm_grid, precision_score_gbc_grid, precision_score_xgb_grid]\n",
        "grid_recall_score = [recall_score_logi_grid, recall_score_dtc_grid, recall_score_rfc_grid, recall_score_svm_grid, recall_score_gbc_grid, recall_score_xgb_grid]\n",
        "grid_f1_score = [f1_score_logi_grid, f1_score_dtc_grid, f1_score_rfc_grid, f1_score_svm_grid, f1_score_gbc_grid, f1_score_xgb_grid]\n",
        "grid_auc_score = [auc_logi_grid, auc_dtc_grid, auc_rfc_grid, auc_svm_grid, auc_gbc_grid, auc_xgb_grid]"
      ]
    },
    {
      "cell_type": "code",
      "execution_count": 164,
      "metadata": {
        "id": "w5Fzkxdcd0fj"
      },
      "outputs": [],
      "source": [
        "grid_compare_df = pd.DataFrame({'Classifier':grid_classifiers, 'Train Accuracy': grid_train_accuracy, 'Test Accuracy': grid_test_accuracy, 'Precision': grid_precision_score, 'Recall': grid_recall_score, 'F1 Score': grid_f1_score , 'AUC': grid_auc_score})"
      ]
    },
    {
      "cell_type": "code",
      "execution_count": 165,
      "metadata": {
        "id": "QwxMONbgXxEr"
      },
      "outputs": [],
      "source": [
        "all_comparision_df = pd.concat([compare_df, grid_compare_df]).reset_index()"
      ]
    },
    {
      "cell_type": "code",
      "execution_count": 166,
      "metadata": {
        "id": "icHcQraXi2Sc"
      },
      "outputs": [],
      "source": [
        "all_comparision_df.drop('index', axis=1, inplace=True)"
      ]
    },
    {
      "cell_type": "code",
      "execution_count": 167,
      "metadata": {
        "id": "s97G_a3yjGjn"
      },
      "outputs": [],
      "source": [
        "all_comparision_df.sort_values('AUC', axis=0, ascending=False, inplace=True)"
      ]
    },
    {
      "cell_type": "code",
      "execution_count": 168,
      "metadata": {
        "colab": {
          "base_uri": "https://localhost:8080/",
          "height": 426
        },
        "id": "9UcLWjIHkfvm",
        "outputId": "208c1d26-d86d-4604-d957-f217a483cde8"
      },
      "outputs": [
        {
          "output_type": "execute_result",
          "data": {
            "text/plain": [
              "                     Classifier  Train Accuracy  Test Accuracy  Precision  \\\n",
              "11          Optimal XG Boosting           0.997          0.871      0.832   \n",
              "2                 Random Forest           0.999          0.869      0.832   \n",
              "10    Optimal Gradient Boosting           0.997          0.868      0.831   \n",
              "3                           SVM           0.844          0.843      0.772   \n",
              "9                   Optimal SVM           0.844          0.843      0.772   \n",
              "4             Gradient Boosting           0.846          0.844      0.801   \n",
              "5                   XG Boosting           0.844          0.842      0.800   \n",
              "8         Optimal Random Forest           0.844          0.834      0.795   \n",
              "0           Logistic Regression           0.825          0.831      0.797   \n",
              "6   Optimal Logistic Regression           0.825          0.831      0.797   \n",
              "7         Optimal Decision Tree           0.837          0.822      0.763   \n",
              "1                 Decision Tree           0.999          0.792      0.810   \n",
              "\n",
              "    Recall  F1 Score    AUC  \n",
              "11   0.903     0.866  0.873  \n",
              "2    0.899     0.864  0.871  \n",
              "10   0.897     0.863  0.870  \n",
              "3    0.901     0.831  0.850  \n",
              "9    0.901     0.831  0.850  \n",
              "4    0.876     0.837  0.846  \n",
              "5    0.873     0.835  0.844  \n",
              "8    0.863     0.827  0.836  \n",
              "0    0.855     0.825  0.833  \n",
              "6    0.855     0.825  0.833  \n",
              "7    0.865     0.811  0.827  \n",
              "1    0.782     0.796  0.792  "
            ],
            "text/html": [
              "\n",
              "  <div id=\"df-a5c25e5d-5494-49a4-bebc-b9cf672998dd\">\n",
              "    <div class=\"colab-df-container\">\n",
              "      <div>\n",
              "<style scoped>\n",
              "    .dataframe tbody tr th:only-of-type {\n",
              "        vertical-align: middle;\n",
              "    }\n",
              "\n",
              "    .dataframe tbody tr th {\n",
              "        vertical-align: top;\n",
              "    }\n",
              "\n",
              "    .dataframe thead th {\n",
              "        text-align: right;\n",
              "    }\n",
              "</style>\n",
              "<table border=\"1\" class=\"dataframe\">\n",
              "  <thead>\n",
              "    <tr style=\"text-align: right;\">\n",
              "      <th></th>\n",
              "      <th>Classifier</th>\n",
              "      <th>Train Accuracy</th>\n",
              "      <th>Test Accuracy</th>\n",
              "      <th>Precision</th>\n",
              "      <th>Recall</th>\n",
              "      <th>F1 Score</th>\n",
              "      <th>AUC</th>\n",
              "    </tr>\n",
              "  </thead>\n",
              "  <tbody>\n",
              "    <tr>\n",
              "      <th>11</th>\n",
              "      <td>Optimal XG Boosting</td>\n",
              "      <td>0.997</td>\n",
              "      <td>0.871</td>\n",
              "      <td>0.832</td>\n",
              "      <td>0.903</td>\n",
              "      <td>0.866</td>\n",
              "      <td>0.873</td>\n",
              "    </tr>\n",
              "    <tr>\n",
              "      <th>2</th>\n",
              "      <td>Random Forest</td>\n",
              "      <td>0.999</td>\n",
              "      <td>0.869</td>\n",
              "      <td>0.832</td>\n",
              "      <td>0.899</td>\n",
              "      <td>0.864</td>\n",
              "      <td>0.871</td>\n",
              "    </tr>\n",
              "    <tr>\n",
              "      <th>10</th>\n",
              "      <td>Optimal Gradient Boosting</td>\n",
              "      <td>0.997</td>\n",
              "      <td>0.868</td>\n",
              "      <td>0.831</td>\n",
              "      <td>0.897</td>\n",
              "      <td>0.863</td>\n",
              "      <td>0.870</td>\n",
              "    </tr>\n",
              "    <tr>\n",
              "      <th>3</th>\n",
              "      <td>SVM</td>\n",
              "      <td>0.844</td>\n",
              "      <td>0.843</td>\n",
              "      <td>0.772</td>\n",
              "      <td>0.901</td>\n",
              "      <td>0.831</td>\n",
              "      <td>0.850</td>\n",
              "    </tr>\n",
              "    <tr>\n",
              "      <th>9</th>\n",
              "      <td>Optimal SVM</td>\n",
              "      <td>0.844</td>\n",
              "      <td>0.843</td>\n",
              "      <td>0.772</td>\n",
              "      <td>0.901</td>\n",
              "      <td>0.831</td>\n",
              "      <td>0.850</td>\n",
              "    </tr>\n",
              "    <tr>\n",
              "      <th>4</th>\n",
              "      <td>Gradient Boosting</td>\n",
              "      <td>0.846</td>\n",
              "      <td>0.844</td>\n",
              "      <td>0.801</td>\n",
              "      <td>0.876</td>\n",
              "      <td>0.837</td>\n",
              "      <td>0.846</td>\n",
              "    </tr>\n",
              "    <tr>\n",
              "      <th>5</th>\n",
              "      <td>XG Boosting</td>\n",
              "      <td>0.844</td>\n",
              "      <td>0.842</td>\n",
              "      <td>0.800</td>\n",
              "      <td>0.873</td>\n",
              "      <td>0.835</td>\n",
              "      <td>0.844</td>\n",
              "    </tr>\n",
              "    <tr>\n",
              "      <th>8</th>\n",
              "      <td>Optimal Random Forest</td>\n",
              "      <td>0.844</td>\n",
              "      <td>0.834</td>\n",
              "      <td>0.795</td>\n",
              "      <td>0.863</td>\n",
              "      <td>0.827</td>\n",
              "      <td>0.836</td>\n",
              "    </tr>\n",
              "    <tr>\n",
              "      <th>0</th>\n",
              "      <td>Logistic Regression</td>\n",
              "      <td>0.825</td>\n",
              "      <td>0.831</td>\n",
              "      <td>0.797</td>\n",
              "      <td>0.855</td>\n",
              "      <td>0.825</td>\n",
              "      <td>0.833</td>\n",
              "    </tr>\n",
              "    <tr>\n",
              "      <th>6</th>\n",
              "      <td>Optimal Logistic Regression</td>\n",
              "      <td>0.825</td>\n",
              "      <td>0.831</td>\n",
              "      <td>0.797</td>\n",
              "      <td>0.855</td>\n",
              "      <td>0.825</td>\n",
              "      <td>0.833</td>\n",
              "    </tr>\n",
              "    <tr>\n",
              "      <th>7</th>\n",
              "      <td>Optimal Decision Tree</td>\n",
              "      <td>0.837</td>\n",
              "      <td>0.822</td>\n",
              "      <td>0.763</td>\n",
              "      <td>0.865</td>\n",
              "      <td>0.811</td>\n",
              "      <td>0.827</td>\n",
              "    </tr>\n",
              "    <tr>\n",
              "      <th>1</th>\n",
              "      <td>Decision Tree</td>\n",
              "      <td>0.999</td>\n",
              "      <td>0.792</td>\n",
              "      <td>0.810</td>\n",
              "      <td>0.782</td>\n",
              "      <td>0.796</td>\n",
              "      <td>0.792</td>\n",
              "    </tr>\n",
              "  </tbody>\n",
              "</table>\n",
              "</div>\n",
              "      <button class=\"colab-df-convert\" onclick=\"convertToInteractive('df-a5c25e5d-5494-49a4-bebc-b9cf672998dd')\"\n",
              "              title=\"Convert this dataframe to an interactive table.\"\n",
              "              style=\"display:none;\">\n",
              "        \n",
              "  <svg xmlns=\"http://www.w3.org/2000/svg\" height=\"24px\"viewBox=\"0 0 24 24\"\n",
              "       width=\"24px\">\n",
              "    <path d=\"M0 0h24v24H0V0z\" fill=\"none\"/>\n",
              "    <path d=\"M18.56 5.44l.94 2.06.94-2.06 2.06-.94-2.06-.94-.94-2.06-.94 2.06-2.06.94zm-11 1L8.5 8.5l.94-2.06 2.06-.94-2.06-.94L8.5 2.5l-.94 2.06-2.06.94zm10 10l.94 2.06.94-2.06 2.06-.94-2.06-.94-.94-2.06-.94 2.06-2.06.94z\"/><path d=\"M17.41 7.96l-1.37-1.37c-.4-.4-.92-.59-1.43-.59-.52 0-1.04.2-1.43.59L10.3 9.45l-7.72 7.72c-.78.78-.78 2.05 0 2.83L4 21.41c.39.39.9.59 1.41.59.51 0 1.02-.2 1.41-.59l7.78-7.78 2.81-2.81c.8-.78.8-2.07 0-2.86zM5.41 20L4 18.59l7.72-7.72 1.47 1.35L5.41 20z\"/>\n",
              "  </svg>\n",
              "      </button>\n",
              "      \n",
              "  <style>\n",
              "    .colab-df-container {\n",
              "      display:flex;\n",
              "      flex-wrap:wrap;\n",
              "      gap: 12px;\n",
              "    }\n",
              "\n",
              "    .colab-df-convert {\n",
              "      background-color: #E8F0FE;\n",
              "      border: none;\n",
              "      border-radius: 50%;\n",
              "      cursor: pointer;\n",
              "      display: none;\n",
              "      fill: #1967D2;\n",
              "      height: 32px;\n",
              "      padding: 0 0 0 0;\n",
              "      width: 32px;\n",
              "    }\n",
              "\n",
              "    .colab-df-convert:hover {\n",
              "      background-color: #E2EBFA;\n",
              "      box-shadow: 0px 1px 2px rgba(60, 64, 67, 0.3), 0px 1px 3px 1px rgba(60, 64, 67, 0.15);\n",
              "      fill: #174EA6;\n",
              "    }\n",
              "\n",
              "    [theme=dark] .colab-df-convert {\n",
              "      background-color: #3B4455;\n",
              "      fill: #D2E3FC;\n",
              "    }\n",
              "\n",
              "    [theme=dark] .colab-df-convert:hover {\n",
              "      background-color: #434B5C;\n",
              "      box-shadow: 0px 1px 3px 1px rgba(0, 0, 0, 0.15);\n",
              "      filter: drop-shadow(0px 1px 2px rgba(0, 0, 0, 0.3));\n",
              "      fill: #FFFFFF;\n",
              "    }\n",
              "  </style>\n",
              "\n",
              "      <script>\n",
              "        const buttonEl =\n",
              "          document.querySelector('#df-a5c25e5d-5494-49a4-bebc-b9cf672998dd button.colab-df-convert');\n",
              "        buttonEl.style.display =\n",
              "          google.colab.kernel.accessAllowed ? 'block' : 'none';\n",
              "\n",
              "        async function convertToInteractive(key) {\n",
              "          const element = document.querySelector('#df-a5c25e5d-5494-49a4-bebc-b9cf672998dd');\n",
              "          const dataTable =\n",
              "            await google.colab.kernel.invokeFunction('convertToInteractive',\n",
              "                                                     [key], {});\n",
              "          if (!dataTable) return;\n",
              "\n",
              "          const docLinkHtml = 'Like what you see? Visit the ' +\n",
              "            '<a target=\"_blank\" href=https://colab.research.google.com/notebooks/data_table.ipynb>data table notebook</a>'\n",
              "            + ' to learn more about interactive tables.';\n",
              "          element.innerHTML = '';\n",
              "          dataTable['output_type'] = 'display_data';\n",
              "          await google.colab.output.renderOutput(dataTable, element);\n",
              "          const docLink = document.createElement('div');\n",
              "          docLink.innerHTML = docLinkHtml;\n",
              "          element.appendChild(docLink);\n",
              "        }\n",
              "      </script>\n",
              "    </div>\n",
              "  </div>\n",
              "  "
            ]
          },
          "metadata": {},
          "execution_count": 168
        }
      ],
      "source": [
        "all_comparision_df"
      ]
    },
    {
      "cell_type": "markdown",
      "metadata": {
        "id": "FlrzETAepQnd"
      },
      "source": [
        "# Conclusion"
      ]
    },
    {
      "cell_type": "markdown",
      "metadata": {
        "id": "6dKRwJyKl3VR"
      },
      "source": [
        "- From all baseline model, Random forest classifier shows highest test accuracy and F1 score and AUC."
      ]
    },
    {
      "cell_type": "markdown",
      "metadata": {
        "id": "qnswzvQ7mabW"
      },
      "source": [
        "- Baseline model of Random forest and decision tree shows huge difference in train and test accuracy which shows overfitting."
      ]
    },
    {
      "cell_type": "markdown",
      "metadata": {
        "id": "saquzzRClrzl"
      },
      "source": [
        "* After cross validation and hyperparameter tunning, XG Boost shows highest test accuracy score of 87.10% and AUC is 0.874."
      ]
    },
    {
      "cell_type": "markdown",
      "metadata": {
        "id": "0UeyuzKxlrp8"
      },
      "source": [
        "* Cross validation and hyperparameter tunning certainly reduces chances of overfitting and also increases performance of model."
      ]
    }
  ],
  "metadata": {
    "colab": {
      "collapsed_sections": [
        "kad5N9fE8L9e",
        "SbPop0ay8WyC",
        "kMdWZrya8gx9",
        "zM572apUQpst",
        "uIgCZzACRcu0",
        "1KpfgKTCRooE",
        "Tm47hBpLP6ls",
        "09NocwvfTCeq",
        "iiybEynlT6Le",
        "jRG68EPa0a9U",
        "57AxmmouKOHA",
        "PVtuI5Ep5rD2",
        "QjzgCVofJAw2",
        "M5YPn4MVU6-O",
        "rMLdil3KjMDk",
        "ThQkAOeZTfNL",
        "HhvEJF0frRc1"
      ],
      "provenance": [],
      "include_colab_link": true
    },
    "kernelspec": {
      "display_name": "Python 3",
      "language": "python",
      "name": "python3"
    },
    "language_info": {
      "codemirror_mode": {
        "name": "ipython",
        "version": 3
      },
      "file_extension": ".py",
      "mimetype": "text/x-python",
      "name": "python",
      "nbconvert_exporter": "python",
      "pygments_lexer": "ipython3",
      "version": "3.6.6"
    }
  },
  "nbformat": 4,
  "nbformat_minor": 0
}